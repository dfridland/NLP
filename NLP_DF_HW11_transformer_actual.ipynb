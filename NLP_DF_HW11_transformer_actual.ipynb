{
  "cells": [
    {
      "cell_type": "markdown",
      "metadata": {
        "id": "view-in-github",
        "colab_type": "text"
      },
      "source": [
        "<a href=\"https://colab.research.google.com/github/dfridland/NLP/blob/HW11/NLP_DF_HW11_transformer_actual.ipynb\" target=\"_parent\"><img src=\"https://colab.research.google.com/assets/colab-badge.svg\" alt=\"Open In Colab\"/></a>"
      ]
    },
    {
      "cell_type": "markdown",
      "metadata": {
        "id": "J0Qjg6vuaHNt"
      },
      "source": [
        "# Transformer model for language understanding"
      ]
    },
    {
      "cell_type": "markdown",
      "metadata": {
        "id": "M-f8TnGpE_ex"
      },
      "source": [
        "Основная идея, лежащая в основе модели Transformer, - это самовнимание - способность отслеживать различные позиции входной последовательности для вычисления представления этой последовательности. Transformer создает стопки слоев самовнимания, что объясняется ниже в разделах « Масштабируемое скалярное произведение» и « Многоголовое внимание» .\n",
        "\n",
        "Модель преобразователя обрабатывает входные данные переменного размера, используя стопки слоев самовнимания вместо RNN или CNN . Эта общая архитектура имеет ряд преимуществ:\n",
        "\n",
        "* Он не делает никаких предположений о временных / пространственных отношениях между данными. Это идеально подходит для обработки набора объектов.\n",
        "* Выходы уровня можно вычислять параллельно, а не последовательно, как RNN.\n",
        "* Отдаленные элементы могут влиять на вывод друг друга, не проходя через множество RNN-шагов или слоев свертки (например, см. Преобразователь памяти сцены ).\n",
        "* Он может изучать дальнодействующие зависимости. Это проблема для многих задач последовательности.\n",
        "\n",
        "Минусы этой архитектуры:\n",
        "\n",
        "* Для временного ряда выход для временного шага рассчитывается из всей истории, а не только из входных данных и текущего скрытого состояния. Это может быть менее эффективно.\n",
        "* Если вход действительно имеет временное / пространственное соотношение, как текст, должно быть добавлено некоторое позиционное кодирование или модель будет эффективно увидеть мешок слов.\n",
        "\n",
        "После обучения модели вы сможете ввести предложение на русском и вернуть перевод на английском.\n",
        "\n",
        "\n",
        "<img src=\"https://www.tensorflow.org/images/tutorials/transformer/attention_map_portuguese.png\" width=\"800\" alt=\"Attention heatmap\">"
      ]
    },
    {
      "cell_type": "code",
      "execution_count": 1,
      "metadata": {
        "colab": {
          "base_uri": "https://localhost:8080/",
          "height": 930
        },
        "id": "XFG0NDRu5mYQ",
        "outputId": "fe33ba1f-e44e-4ecf-a6f2-d99579b232c1"
      },
      "outputs": [
        {
          "output_type": "stream",
          "name": "stdout",
          "text": [
            "\u001b[?25l     \u001b[90m━━━━━━━━━━━━━━━━━━━━━━━━━━━━━━━━━━━━━━━━\u001b[0m \u001b[32m0.0/5.4 MB\u001b[0m \u001b[31m?\u001b[0m eta \u001b[36m-:--:--\u001b[0m\r\u001b[2K     \u001b[91m━━━━━━━━━━━━━━━━━━━━━━━━━━━━━━\u001b[0m\u001b[91m╸\u001b[0m\u001b[90m━━━━━━━━━\u001b[0m \u001b[32m4.2/5.4 MB\u001b[0m \u001b[31m125.8 MB/s\u001b[0m eta \u001b[36m0:00:01\u001b[0m\r\u001b[2K     \u001b[91m━━━━━━━━━━━━━━━━━━━━━━━━━━━━━━━━━━━━━━━\u001b[0m\u001b[91m╸\u001b[0m \u001b[32m5.4/5.4 MB\u001b[0m \u001b[31m126.6 MB/s\u001b[0m eta \u001b[36m0:00:01\u001b[0m\r\u001b[2K     \u001b[90m━━━━━━━━━━━━━━━━━━━━━━━━━━━━━━━━━━━━━━━━\u001b[0m \u001b[32m5.4/5.4 MB\u001b[0m \u001b[31m72.0 MB/s\u001b[0m eta \u001b[36m0:00:00\u001b[0m\n",
            "\u001b[?25hLooking in indexes: https://pypi.org/simple, https://us-python.pkg.dev/colab-wheels/public/simple/\n",
            "Collecting matplotlib==3.2.2\n",
            "  Downloading matplotlib-3.2.2.tar.gz (40.3 MB)\n",
            "\u001b[2K     \u001b[90m━━━━━━━━━━━━━━━━━━━━━━━━━━━━━━━━━━━━━━━━\u001b[0m \u001b[32m40.3/40.3 MB\u001b[0m \u001b[31m31.0 MB/s\u001b[0m eta \u001b[36m0:00:00\u001b[0m\n",
            "\u001b[?25h  Preparing metadata (setup.py) ... \u001b[?25l\u001b[?25hdone\n",
            "Requirement already satisfied: cycler>=0.10 in /usr/local/lib/python3.10/dist-packages (from matplotlib==3.2.2) (0.11.0)\n",
            "Requirement already satisfied: kiwisolver>=1.0.1 in /usr/local/lib/python3.10/dist-packages (from matplotlib==3.2.2) (1.4.4)\n",
            "Requirement already satisfied: numpy>=1.11 in /usr/local/lib/python3.10/dist-packages (from matplotlib==3.2.2) (1.22.4)\n",
            "Requirement already satisfied: pyparsing!=2.0.4,!=2.1.2,!=2.1.6,>=2.0.1 in /usr/local/lib/python3.10/dist-packages (from matplotlib==3.2.2) (3.0.9)\n",
            "Requirement already satisfied: python-dateutil>=2.1 in /usr/local/lib/python3.10/dist-packages (from matplotlib==3.2.2) (2.8.2)\n",
            "Requirement already satisfied: six>=1.5 in /usr/local/lib/python3.10/dist-packages (from python-dateutil>=2.1->matplotlib==3.2.2) (1.16.0)\n",
            "Building wheels for collected packages: matplotlib\n",
            "  Building wheel for matplotlib (setup.py) ... \u001b[?25l\u001b[?25hdone\n",
            "  Created wheel for matplotlib: filename=matplotlib-3.2.2-cp310-cp310-linux_x86_64.whl size=12292142 sha256=41747323935b3a272284e4e9ce8ba84cf9ff3542e61ce1a4a112cc341163444f\n",
            "  Stored in directory: /root/.cache/pip/wheels/bb/81/f3/48b8bd245846ae69fcb2281c84e848bfea1f5260a870c148ae\n",
            "Successfully built matplotlib\n",
            "Installing collected packages: matplotlib\n",
            "  Attempting uninstall: matplotlib\n",
            "    Found existing installation: matplotlib 3.7.1\n",
            "    Uninstalling matplotlib-3.7.1:\n",
            "      Successfully uninstalled matplotlib-3.7.1\n",
            "\u001b[31mERROR: pip's dependency resolver does not currently take into account all the packages that are installed. This behaviour is the source of the following dependency conflicts.\n",
            "mizani 0.8.1 requires matplotlib>=3.5.0, but you have matplotlib 3.2.2 which is incompatible.\n",
            "plotnine 0.10.1 requires matplotlib>=3.5.0, but you have matplotlib 3.2.2 which is incompatible.\u001b[0m\u001b[31m\n",
            "\u001b[0mSuccessfully installed matplotlib-3.2.2\n"
          ]
        },
        {
          "output_type": "display_data",
          "data": {
            "application/vnd.colab-display-data+json": {
              "pip_warning": {
                "packages": [
                  "matplotlib",
                  "mpl_toolkits"
                ]
              }
            }
          },
          "metadata": {}
        }
      ],
      "source": [
        "#!pip install -q tfds-nightly\n",
        "#\n",
        "# Pin matplotlib version to 3.2.2 since in the latest version\n",
        "# transformer.ipynb fails with the following error:\n",
        "# https://stackoverflow.com/questions/62953704/valueerror-the-number-of-fixedlocator-locations-5-usually-from-a-call-to-set\n",
        "!pip install matplotlib==3.2.2"
      ]
    },
    {
      "cell_type": "code",
      "execution_count": 2,
      "metadata": {
        "id": "UvmxWj_yOOhT"
      },
      "outputs": [],
      "source": [
        "#!pip install notebook"
      ]
    },
    {
      "cell_type": "code",
      "execution_count": 1,
      "metadata": {
        "id": "dm6O-hyvOOhT"
      },
      "outputs": [],
      "source": [
        "import tensorflow_datasets as tfds\n",
        "import tensorflow as tf\n",
        "\n",
        "import time\n",
        "import numpy as np\n",
        "import matplotlib.pyplot as plt\n",
        "import tqdm as notebook_tqdm"
      ]
    },
    {
      "cell_type": "code",
      "execution_count": 2,
      "metadata": {
        "colab": {
          "base_uri": "https://localhost:8080/"
        },
        "id": "Xlk0EoL-OOhU",
        "outputId": "60595652-e493-4017-f4a1-2b0b77f8ff12"
      },
      "outputs": [
        {
          "output_type": "stream",
          "name": "stderr",
          "text": [
            "WARNING:tensorflow:From <ipython-input-2-628a32c4b606>:1: is_gpu_available (from tensorflow.python.framework.test_util) is deprecated and will be removed in a future version.\n",
            "Instructions for updating:\n",
            "Use `tf.config.list_physical_devices('GPU')` instead.\n"
          ]
        },
        {
          "output_type": "execute_result",
          "data": {
            "text/plain": [
              "True"
            ]
          },
          "metadata": {},
          "execution_count": 2
        }
      ],
      "source": [
        "is_cuda_gpu_available = tf.test.is_gpu_available(cuda_only=True)\n",
        "is_cuda_gpu_available"
      ]
    },
    {
      "cell_type": "markdown",
      "metadata": {
        "id": "fd1NWMxjfsDd"
      },
      "source": [
        "## Setup input pipeline"
      ]
    },
    {
      "cell_type": "markdown",
      "metadata": {
        "id": "t4_Qt8W1hJE_"
      },
      "source": [
        "Use [TFDS](https://www.tensorflow.org/datasets) to load the Ru-English translation dataset from the [TED Talks Open Translation Project](https://www.ted.com/participate/translate)."
      ]
    },
    {
      "cell_type": "code",
      "execution_count": 3,
      "metadata": {
        "id": "NC79q68oOOhU"
      },
      "outputs": [],
      "source": [
        "examples, metadata = tfds.load('ted_hrlr_translate/ru_to_en', with_info=True,\n",
        "                               as_supervised=True)\n",
        "train_examples, val_examples = examples['train'], examples['validation']"
      ]
    },
    {
      "cell_type": "code",
      "execution_count": 5,
      "metadata": {
        "id": "SSHIXaLAOOhU"
      },
      "outputs": [],
      "source": []
    },
    {
      "cell_type": "code",
      "execution_count": 4,
      "metadata": {
        "id": "KVBg5Q8tBk5z"
      },
      "outputs": [],
      "source": [
        "tokenizer_en = tfds.deprecated.text.SubwordTextEncoder.build_from_corpus(\n",
        "    (en.numpy() for pt, en in train_examples), target_vocab_size=2**13)\n",
        "\n",
        "tokenizer_pt = tfds.deprecated.text.SubwordTextEncoder.build_from_corpus(\n",
        "    (pt.numpy() for pt, en in train_examples), target_vocab_size=2**13)"
      ]
    },
    {
      "cell_type": "code",
      "execution_count": 5,
      "metadata": {
        "id": "4DYWukNFkGQN",
        "colab": {
          "base_uri": "https://localhost:8080/"
        },
        "outputId": "73a58d4f-4c47-4bd2-8a12-d12be9b96696"
      },
      "outputs": [
        {
          "output_type": "stream",
          "name": "stdout",
          "text": [
            "Tokenized string is [8073, 1034, 8104, 5774, 13, 3531, 8035]\n",
            "The original string: Transformer is awesome.\n"
          ]
        }
      ],
      "source": [
        "sample_string = 'Transformer is awesome.'\n",
        "\n",
        "tokenized_string = tokenizer_en.encode(sample_string)\n",
        "print ('Tokenized string is {}'.format(tokenized_string))\n",
        "\n",
        "original_string = tokenizer_en.decode(tokenized_string)\n",
        "print ('The original string: {}'.format(original_string))\n",
        "\n",
        "assert original_string == sample_string"
      ]
    },
    {
      "cell_type": "markdown",
      "metadata": {
        "id": "o9KJWJjrsZ4Y"
      },
      "source": [
        "Токенизатор кодирует строку, разбивая ее на подслова, если слово отсутствует в его словаре.\n",
        "\n"
      ]
    },
    {
      "cell_type": "code",
      "execution_count": 6,
      "metadata": {
        "id": "bf2ntBxjkqK6",
        "colab": {
          "base_uri": "https://localhost:8080/"
        },
        "outputId": "2c5ef05f-c4a4-4804-c473-dbef16ff6850"
      },
      "outputs": [
        {
          "output_type": "stream",
          "name": "stdout",
          "text": [
            "8073 ----> T\n",
            "1034 ----> ran\n",
            "8104 ----> s\n",
            "5774 ----> former \n",
            "13 ----> is \n",
            "3531 ----> awesome\n",
            "8035 ----> .\n"
          ]
        }
      ],
      "source": [
        "for ts in tokenized_string:\n",
        "  print ('{} ----> {}'.format(ts, tokenizer_en.decode([ts])))"
      ]
    },
    {
      "cell_type": "code",
      "execution_count": 7,
      "metadata": {
        "id": "bcRp7VcQ5m6g"
      },
      "outputs": [],
      "source": [
        "BUFFER_SIZE = 20000\n",
        "BATCH_SIZE = 64"
      ]
    },
    {
      "cell_type": "markdown",
      "metadata": {
        "id": "kGi4PoVakxdc"
      },
      "source": [
        "Добавьте начальный и конечный токены к входу и цели.\n",
        "\n"
      ]
    },
    {
      "cell_type": "markdown",
      "metadata": {
        "id": "cFrcjGryOOhW"
      },
      "source": [
        "The `encode` function takes two language sentences, `lang1` and `lang2`, and encodes them using the respective tokenizers (`tokenizer_pt` for the Portuguese language and `tokenizer_en` for the English language). It performs the following steps:\n",
        "\n",
        "1. It converts the `lang1` sentence to a numpy array using the `.numpy()` method.\n",
        "2. It adds the start and end tokens to the `lang1` sentence by appending the vocabulary size and vocabulary size plus one tokens from the Portuguese tokenizer.\n",
        "3. It performs the same steps for the `lang2` sentence, using the English tokenizer.\n",
        "\n",
        "Finally, it returns the encoded `lang1` and `lang2` sentences as lists.\n",
        "\n",
        "Note: The use of `.numpy()` suggests that `lang1` and `lang2` are TensorFlow tensors, and the conversion to numpy arrays is necessary to work with the tokenizers."
      ]
    },
    {
      "cell_type": "code",
      "execution_count": 8,
      "metadata": {
        "id": "UZwnPr4R055s"
      },
      "outputs": [],
      "source": [
        "def encode(lang1, lang2):\n",
        "  lang1 = [tokenizer_pt.vocab_size] + tokenizer_pt.encode(\n",
        "      lang1.numpy()) + [tokenizer_pt.vocab_size+1]\n",
        "\n",
        "  lang2 = [tokenizer_en.vocab_size] + tokenizer_en.encode(\n",
        "      lang2.numpy()) + [tokenizer_en.vocab_size+1]\n",
        "  \n",
        "  return lang1, lang2"
      ]
    },
    {
      "cell_type": "markdown",
      "metadata": {
        "id": "Tx1sFbR-9fRs"
      },
      "source": [
        "Вы хотите использовать Dataset.map чтобы применить эту функцию к каждому элементу набора данных. Dataset.map работает в графическом режиме.\n",
        "\n",
        "Тензоры графов не имеют значения.\n",
        "В графическом режиме вы можете использовать только операции и функции TensorFlow.\n",
        "Таким образом, вы не можете напрямую .map эту функцию: вам нужно обернуть ее в tf.py_function . tf.py_function будет передавать обычные тензоры (со значением и .numpy() для доступа к нему) в .numpy() функцию python.\n",
        "\n"
      ]
    },
    {
      "cell_type": "markdown",
      "metadata": {
        "id": "M1A0Klb4OOhX"
      },
      "source": [
        "The tf_encode function is a TensorFlow function that applies the encode function to pairs of sentences in parallel. It takes two arguments, pt and en, which represent batches of sentences in the Portuguese and English languages, respectively. The function performs the following steps:\n",
        "\n",
        "It uses tf.py_function to wrap the encode function, allowing it to be used within TensorFlow computational graphs.\n",
        "It passes the pt and en tensors to the encode function as arguments.\n",
        "It specifies the output types of the resulting tensors as tf.int64 using the result_pt and result_en tensors.\n",
        "It sets the shapes of the output tensors using set_shape([None]), indicating that the shape of the tensors can vary along the first dimension (batch size).\n",
        "The function then returns the encoded tensors result_pt and result_en.\n",
        "\n",
        "This function can be used as a preprocessing step when preparing data for training a sequence-to-sequence model. It allows encoding of batches of sentences in parallel using TensorFlow operations."
      ]
    },
    {
      "cell_type": "code",
      "execution_count": 9,
      "metadata": {
        "id": "Mah1cS-P70Iz"
      },
      "outputs": [],
      "source": [
        "def tf_encode(pt, en):\n",
        "  result_pt, result_en = tf.py_function(encode, [pt, en], [tf.int64, tf.int64])\n",
        "  result_pt.set_shape([None])\n",
        "  result_en.set_shape([None])\n",
        "\n",
        "  return result_pt, result_en"
      ]
    },
    {
      "cell_type": "code",
      "execution_count": 10,
      "metadata": {
        "id": "2QEgbjntk6Yf"
      },
      "outputs": [],
      "source": [
        "MAX_LENGTH = 40"
      ]
    },
    {
      "cell_type": "markdown",
      "metadata": {
        "id": "IBIxFxhcOOhX"
      },
      "source": [
        "The `filter_max_length` function is a filtering function that takes in two sequences, `x` and `y`, and a maximum length limit `max_length`. It returns a boolean value indicating whether the lengths of both sequences are less than or equal to the specified maximum length.\n",
        "\n",
        "The function uses TensorFlow operations to compute the size of the sequences (`tf.size(x)` and `tf.size(y)`) and then applies a logical AND operation (`tf.logical_and`) to check if both sizes are within the maximum length limit.\n",
        "\n",
        "This function can be used to filter out sequences that exceed a certain length during data preprocessing or when creating a dataset. It ensures that sequences are truncated or omitted if they are too long, which can be useful for managing computational resources or ensuring compatibility with models that have fixed input length requirements."
      ]
    },
    {
      "cell_type": "code",
      "execution_count": 11,
      "metadata": {
        "id": "c081xPGv1CPI"
      },
      "outputs": [],
      "source": [
        "def filter_max_length(x, y, max_length=MAX_LENGTH):\n",
        "  return tf.logical_and(tf.size(x) <= max_length,\n",
        "                        tf.size(y) <= max_length)"
      ]
    },
    {
      "cell_type": "markdown",
      "metadata": {
        "id": "HfDe2UomOOhY"
      },
      "source": [
        "The code snippet provided demonstrates the processing steps for creating the training and validation datasets:\n",
        "\n",
        "1. `train_examples` and `val_examples` are assumed to be the input examples for the training and validation sets, respectively.\n",
        "2. The `tf_encode` function is applied to each example in `train_examples` and `val_examples` using the `map` function. This function converts the input sentences from the source language (e.g., Portuguese) and target language (e.g., English) into tokenized sequences represented as integer tensors.\n",
        "3. The `filter_max_length` function is then applied to both `train_dataset` and `val_dataset` to filter out sequences that exceed the maximum length specified by `MAX_LENGTH`.\n",
        "4. The `train_dataset` is cached in memory using the `cache` method. Caching the dataset helps to speed up the data reading process.\n",
        "5. The `train_dataset` is shuffled with a buffer size specified by `BUFFER_SIZE` and then batched into batches of size `BATCH_SIZE` using the `shuffle` and `padded_batch` methods, respectively. Shuffling the dataset ensures randomness during training, and padding the batches ensures that all sequences within a batch have the same length.\n",
        "6. The `val_dataset` is also processed similarly, but without shuffling. It is only padded into batches using the `padded_batch` method.\n",
        "\n",
        "Finally, the datasets are ready for training and validation, with the training dataset benefiting from caching, shuffling, and batching operations, and the validation dataset being batched for evaluation."
      ]
    },
    {
      "cell_type": "code",
      "execution_count": 12,
      "metadata": {
        "id": "9mk9AZdZ5bcS"
      },
      "outputs": [],
      "source": [
        "train_dataset = train_examples.map(tf_encode)\n",
        "train_dataset = train_dataset.filter(filter_max_length)\n",
        "# cache the dataset to memory to get a speedup while reading from it.\n",
        "\n",
        "train_dataset = train_dataset.cache()\n",
        "train_dataset = train_dataset.shuffle(BUFFER_SIZE).padded_batch(BATCH_SIZE)\n",
        "train_dataset = train_dataset.prefetch(tf.data.experimental.AUTOTUNE)\n",
        "\n",
        "\n",
        "val_dataset = val_examples.map(tf_encode)\n",
        "val_dataset = val_dataset.filter(filter_max_length).padded_batch(BATCH_SIZE)"
      ]
    },
    {
      "cell_type": "code",
      "execution_count": 13,
      "metadata": {
        "id": "_fXvfYVfQr2n",
        "colab": {
          "base_uri": "https://localhost:8080/"
        },
        "outputId": "3c96bb90-ac13-4c06-e2cb-a9a1f31dadc5"
      },
      "outputs": [
        {
          "output_type": "execute_result",
          "data": {
            "text/plain": [
              "(<tf.Tensor: shape=(64, 38), dtype=int64, numpy=\n",
              " array([[8179,   57,   86, ...,    0,    0,    0],\n",
              "        [8179,    3,   38, ...,    0,    0,    0],\n",
              "        [8179,   57,  135, ...,    0,    0,    0],\n",
              "        ...,\n",
              "        [8179,    3,    7, ...,    0,    0,    0],\n",
              "        [8179,  138,  250, ...,    0,    0,    0],\n",
              "        [8179,   19,    7, ...,    0,    0,    0]])>,\n",
              " <tf.Tensor: shape=(64, 40), dtype=int64, numpy=\n",
              " array([[8245,   90,  101, ...,    0,    0,    0],\n",
              "        [8245,   70,   25, ...,    0,    0,    0],\n",
              "        [8245,   90,  153, ...,    0,    0,    0],\n",
              "        ...,\n",
              "        [8245,    4,   18, ...,    0,    0,    0],\n",
              "        [8245,   19,   59, ...,    0,    0,    0],\n",
              "        [8245,   24,   18, ...,    0,    0,    0]])>)"
            ]
          },
          "metadata": {},
          "execution_count": 13
        }
      ],
      "source": [
        "pt_batch, en_batch = next(iter(val_dataset))\n",
        "pt_batch, en_batch"
      ]
    },
    {
      "cell_type": "markdown",
      "metadata": {
        "id": "nBQuibYA4n0n"
      },
      "source": [
        "## Positional encoding\n",
        "\n",
        "Поскольку эта модель не содержит повторений или сверток, добавляется позиционное кодирование, чтобы дать модели некоторую информацию об относительном положении слов в предложении.\n",
        "\n",
        "Вектор позиционного кодирования добавляется к вектору внедрения. Вложения представляют собой токен в d-мерном пространстве, где токены с одинаковым значением будут ближе друг к другу. Но вложения не кодируют относительное положение слов в предложении. Таким образом, после добавления позиционной кодировки слова будут ближе друг к другу на основе сходства их значения и их положения в предложении в d-мерном пространстве.\n",
        "\n",
        "Формула для расчета позиционного кодирования выглядит следующим образом:\n",
        "\n",
        "\n",
        "\n",
        "$$\\Large{PE_{(pos, 2i)} = sin(pos / 10000^{2i / d_{model}})} $$\n",
        "$$\\Large{PE_{(pos, 2i+1)} = cos(pos / 10000^{2i / d_{model}})} $$"
      ]
    },
    {
      "cell_type": "markdown",
      "metadata": {
        "id": "CDruNHicOOhY"
      },
      "source": [
        "The `get_angles` function calculates the angle rates for positional encoding in a Transformer model. It takes three arguments:\n",
        "\n",
        "1. `pos`: A tensor representing the positions of the elements in a sequence. It has shape `(length,)`, where `length` is the length of the sequence.\n",
        "2. `i`: An integer representing the dimension index.\n",
        "3. `d_model`: An integer representing the dimensionality of the model.\n",
        "\n",
        "The function calculates the angle rates using the formula `1 / np.power(10000, (2 * (i//2)) / np.float32(d_model))`. This formula introduces a scaling factor based on the position and the dimension index to determine the frequency of the sine and cosine functions used for positional encoding.\n",
        "\n",
        "The `pos` tensor is multiplied element-wise with the angle rates to obtain the final angles. The resulting tensor has the same shape as the `pos` tensor.\n",
        "\n",
        "The purpose of calculating these angles is to provide a unique positional encoding for each element in the sequence, allowing the Transformer model to capture positional information."
      ]
    },
    {
      "cell_type": "code",
      "execution_count": 14,
      "metadata": {
        "id": "WhIOZjMNKujn"
      },
      "outputs": [],
      "source": [
        "def get_angles(pos, i, d_model):\n",
        "  angle_rates = 1 / np.power(10000, (2 * (i//2)) / np.float32(d_model))\n",
        "  return pos * angle_rates"
      ]
    },
    {
      "cell_type": "markdown",
      "metadata": {
        "id": "Lp3RPbjeOOhZ"
      },
      "source": [
        "The `positional_encoding` function generates positional encodings for a given sequence length (`position`) and model dimensionality (`d_model`). It uses the `get_angles` function to calculate the angles based on the position and dimension.\n",
        "\n",
        "Here's how the function works:\n",
        "\n",
        "1. It first calls `get_angles` with the range of positions (`np.arange(position)[:, np.newaxis]`) and the range of dimensions (`np.arange(d_model)[np.newaxis, :]`), resulting in an `angle_rads` tensor of shape `(position, d_model)`.\n",
        "\n",
        "2. The `angle_rads` tensor is then modified by applying the `np.sin` function to even indices (`angle_rads[:, 0::2]`) and the `np.cos` function to odd indices (`angle_rads[:, 1::2]`). This ensures that even dimensions capture sine-based positional information, while odd dimensions capture cosine-based positional information.\n",
        "\n",
        "3. Finally, the `pos_encoding` tensor is created by adding an extra dimension to the modified `angle_rads` tensor (`angle_rads[np.newaxis, ...]`). This extra dimension represents the batch dimension and allows the positional encoding to be broadcasted across multiple sequences.\n",
        "\n",
        "4. The resulting `pos_encoding` tensor is cast to `tf.float32` data type and returned.\n",
        "\n",
        "The purpose of positional encoding is to provide the Transformer model with information about the relative positions of elements in the input sequence. It helps the model differentiate between different positions and encode sequential dependencies."
      ]
    },
    {
      "cell_type": "code",
      "execution_count": 15,
      "metadata": {
        "id": "1Rz82wEs5biZ"
      },
      "outputs": [],
      "source": [
        "def positional_encoding(position, d_model):\n",
        "  angle_rads = get_angles(np.arange(position)[:, np.newaxis],\n",
        "                          np.arange(d_model)[np.newaxis, :],\n",
        "                          d_model)\n",
        "  \n",
        "  # apply sin to even indices in the array; 2i\n",
        "  angle_rads[:, 0::2] = np.sin(angle_rads[:, 0::2])\n",
        "  \n",
        "  # apply cos to odd indices in the array; 2i+1\n",
        "  angle_rads[:, 1::2] = np.cos(angle_rads[:, 1::2])\n",
        "    \n",
        "  pos_encoding = angle_rads[np.newaxis, ...]\n",
        "    \n",
        "  return tf.cast(pos_encoding, dtype=tf.float32)"
      ]
    },
    {
      "cell_type": "markdown",
      "metadata": {
        "id": "zlkMduY8OOhZ"
      },
      "source": [
        "The code snippet you provided generates a positional encoding matrix (`pos_encoding`) for a sequence length of 50 and a model dimensionality of 512. The `pos_encoding` matrix has a shape of `(1, 50, 512)`.\n",
        "\n",
        "The code then visualizes the positional encoding matrix using a color mesh plot. The x-axis represents the depth or dimension of the model, ranging from 0 to 512. The y-axis represents the position in the sequence, ranging from 0 to 49 (since Python indexing starts from 0).\n",
        "\n",
        "Each cell in the plot corresponds to the value of the positional encoding at a specific position and dimension. The color intensity represents the magnitude of the value, with a color map ranging from red to blue.\n",
        "\n",
        "The resulting plot provides a visual representation of how the positional encoding varies across different positions and dimensions. It shows how the encoding values change sinusoidally, alternating between sine and cosine patterns along the depth dimension.\n",
        "\n",
        "Here's the updated code with the visualization:\n",
        "\n",
        "```python\n",
        "pos_encoding = positional_encoding(50, 512)\n",
        "print(pos_encoding.shape)\n",
        "\n",
        "plt.pcolormesh(pos_encoding[0], cmap='RdBu')\n",
        "plt.xlabel('Depth')\n",
        "plt.xlim((0, 512))\n",
        "plt.ylabel('Position')\n",
        "plt.colorbar()\n",
        "plt.show()\n",
        "```"
      ]
    },
    {
      "cell_type": "code",
      "execution_count": 16,
      "metadata": {
        "id": "1kLCla68EloE",
        "colab": {
          "base_uri": "https://localhost:8080/",
          "height": 485
        },
        "outputId": "d410d635-8c5d-42f5-8670-35cc299ba427"
      },
      "outputs": [
        {
          "output_type": "stream",
          "name": "stdout",
          "text": [
            "(1, 50, 512)\n"
          ]
        },
        {
          "output_type": "display_data",
          "data": {
            "text/plain": [
              "<Figure size 640x480 with 2 Axes>"
            ],
            "image/png": "[encoded data removed]"
          },
          "metadata": {}
        }
      ],
      "source": [
        "pos_encoding = positional_encoding(50, 512)\n",
        "print (pos_encoding.shape)\n",
        "\n",
        "plt.pcolormesh(pos_encoding[0], cmap='RdBu')\n",
        "plt.xlabel('Depth')\n",
        "plt.xlim((0, 512))\n",
        "plt.ylabel('Position')\n",
        "plt.colorbar()\n",
        "plt.show()"
      ]
    },
    {
      "cell_type": "markdown",
      "metadata": {
        "id": "a_b4ou4TYqUN"
      },
      "source": [
        "## Masking"
      ]
    },
    {
      "cell_type": "markdown",
      "metadata": {
        "id": "s42Uydjkv0hF"
      },
      "source": [
        "Замаскируйте все маркеры площадок в пакете последовательности. Это гарантирует, что модель не обрабатывает отступы как входные данные. Маска указывает, где присутствует значение пэда 0 : она выводит 1 в этих местах и 0 противном случае."
      ]
    },
    {
      "cell_type": "markdown",
      "metadata": {
        "id": "hD6MroyVOOha"
      },
      "source": [
        "The `create_padding_mask` function you provided creates a padding mask for a given sequence (`seq`). It assumes that the padding token has a value of 0 in the sequence.\n",
        "\n",
        "Here's how the function works:\n",
        "\n",
        "1. It uses `tf.math.equal(seq, 0)` to create a tensor of the same shape as `seq`, where each element is `True` if the corresponding element in `seq` is equal to 0, and `False` otherwise.\n",
        "2. It casts the resulting boolean tensor to `tf.float32` to convert `True` values to 1.0 and `False` values to 0.0.\n",
        "3. It adds extra dimensions to the tensor to match the expected shape for the attention logits. The resulting tensor has a shape of `(batch_size, 1, 1, seq_len)`, where `batch_size` is the number of sequences in the batch, and `seq_len` is the length of each sequence.\n",
        "\n",
        "The padding mask is used to mask out the padding tokens during the self-attention computation in the transformer model. By assigning a large negative value (e.g., -1e9) to the padding positions in the attention logits, the softmax operation will effectively assign a probability of 0 to the padding tokens.\n",
        "\n",
        "Here's an example usage of the `create_padding_mask` function:\n",
        "\n",
        "```python\n",
        "seq = tf.constant([3, 0, 7, 0, 0, 2])\n",
        "padding_mask = create_padding_mask(seq)\n",
        "print(padding_mask)\n",
        "\n",
        "Output:\n",
        "[[[[0. 1. 0. 1. 1. 0.]]]]\n",
        "```\n",
        "\n",
        "In this example, the input sequence has a length of 6, and the padding tokens are located at positions 1, 3, 4. The resulting padding mask tensor has a shape of `(1, 1, 1, 6)` and indicates the positions of the padding tokens with a value of 1.0."
      ]
    },
    {
      "cell_type": "code",
      "execution_count": 17,
      "metadata": {
        "id": "U2i8-e1s8ti9"
      },
      "outputs": [],
      "source": [
        "def create_padding_mask(seq):\n",
        "  seq = tf.cast(tf.math.equal(seq, 0), tf.float32)\n",
        "  \n",
        "  # add extra dimensions to add the padding\n",
        "  # to the attention logits.\n",
        "  return seq[:, tf.newaxis, tf.newaxis, :]  # (batch_size, 1, 1, seq_len)"
      ]
    },
    {
      "cell_type": "code",
      "execution_count": null,
      "metadata": {
        "id": "A7BYeBCNvi7n"
      },
      "outputs": [],
      "source": [
        "x = tf.constant([[7, 6, 0, 0, 1], [1, 2, 3, 0, 0], [0, 0, 0, 4, 5]])\n",
        "create_padding_mask(x)"
      ]
    },
    {
      "cell_type": "markdown",
      "metadata": {
        "id": "Z0hzukDBgVom"
      },
      "source": [
        "Маска упреждающего просмотра используется для маскировки будущих токенов в последовательности. Другими словами, маска указывает, какие записи не следует использовать.\n",
        "\n",
        "Это означает, что для предсказания третьего слова будут использоваться только первое и второе слово. Аналогично для предсказания четвертого слова будут использоваться только первое, второе и третье слово и так далее.\n",
        "\n"
      ]
    },
    {
      "cell_type": "code",
      "execution_count": 18,
      "metadata": {
        "id": "dVxS8OPI9uI0"
      },
      "outputs": [],
      "source": [
        "def create_look_ahead_mask(size):\n",
        "  mask = 1 - tf.linalg.band_part(tf.ones((size, size)), -1, 0)\n",
        "  return mask  # (seq_len, seq_len)"
      ]
    },
    {
      "cell_type": "code",
      "execution_count": 19,
      "metadata": {
        "id": "yxKGuXxaBeeE",
        "colab": {
          "base_uri": "https://localhost:8080/"
        },
        "outputId": "f2a6b94d-33b6-485f-f7db-309bca32071b"
      },
      "outputs": [
        {
          "output_type": "execute_result",
          "data": {
            "text/plain": [
              "<tf.Tensor: shape=(3, 3), dtype=float32, numpy=\n",
              "array([[0., 1., 1.],\n",
              "       [0., 0., 1.],\n",
              "       [0., 0., 0.]], dtype=float32)>"
            ]
          },
          "metadata": {},
          "execution_count": 19
        }
      ],
      "source": [
        "x = tf.random.uniform((1, 3))\n",
        "temp = create_look_ahead_mask(x.shape[1])\n",
        "temp"
      ]
    },
    {
      "cell_type": "markdown",
      "metadata": {
        "id": "xluDl5cXYy4y"
      },
      "source": [
        "## Scaled dot product attention"
      ]
    },
    {
      "cell_type": "markdown",
      "metadata": {
        "id": "vsxEE_-Wa1gF"
      },
      "source": [
        "<img src=\"https://www.tensorflow.org/images/tutorials/transformer/scaled_attention.png\" width=\"500\" alt=\"scaled_dot_product_attention\">\n",
        "\n",
        "Функция внимания, используемая преобразователем, принимает три входа: Q (запрос), K (ключ), V (значение). Уравнение, используемое для расчета весов внимания:\n",
        "\n",
        "\n",
        "$$\\Large{Attention(Q, K, V) = softmax_k(\\frac{QK^T}{\\sqrt{d_k}}) V} $$\n",
        "\n",
        "Внимание скалярного произведения масштабируется с коэффициентом квадратного корня из глубины. Это сделано потому, что для больших значений глубины скалярное произведение увеличивается по величине, подталкивая функцию softmax, где у него есть небольшие градиенты, что приводит к очень жесткому softmax.\n",
        "\n",
        "Например, предположим, что Q и K имеют среднее значение 0 и дисперсию 1. Их матричное умножение будет иметь среднее значение 0 и дисперсию dk . Следовательно, для масштабирования используется квадратный корень из dk (а не какое-либо другое число), потому что матрица Q и K должна иметь среднее значение 0 и дисперсию 1, и вы получите более мягкий softmax.\n",
        "\n",
        "Маска умножается на -1e9 (близко к отрицательной бесконечности). Это сделано потому, что маска суммируется с умножением масштабированной матрицы Q и K и применяется непосредственно перед softmax. Цель состоит в том, чтобы обнулить эти ячейки, и большие отрицательные входные данные для softmax близки к нулю на выходе.\n",
        "\n"
      ]
    },
    {
      "cell_type": "code",
      "execution_count": 20,
      "metadata": {
        "id": "LazzUq3bJ5SH"
      },
      "outputs": [],
      "source": [
        "def scaled_dot_product_attention(q, k, v, mask):\n",
        "  \"\"\"Calculate the attention weights.\n",
        "  q, k, v must have matching leading dimensions.\n",
        "  k, v must have matching penultimate dimension, i.e.: seq_len_k = seq_len_v.\n",
        "  The mask has different shapes depending on its type(padding or look ahead) \n",
        "  but it must be broadcastable for addition.\n",
        "  \n",
        "  Args:\n",
        "    q: query shape == (..., seq_len_q, depth)\n",
        "    k: key shape == (..., seq_len_k, depth)\n",
        "    v: value shape == (..., seq_len_v, depth_v)\n",
        "    mask: Float tensor with shape broadcastable \n",
        "          to (..., seq_len_q, seq_len_k). Defaults to None.\n",
        "    \n",
        "  Returns:\n",
        "    output, attention_weights\n",
        "  \"\"\"\n",
        "\n",
        "  matmul_qk = tf.matmul(q, k, transpose_b=True)  # (..., seq_len_q, seq_len_k)\n",
        "  \n",
        "  # scale matmul_qk\n",
        "  dk = tf.cast(tf.shape(k)[-1], tf.float32)\n",
        "  scaled_attention_logits = matmul_qk / tf.math.sqrt(dk)\n",
        "\n",
        "  # add the mask to the scaled tensor.\n",
        "  if mask is not None:\n",
        "    scaled_attention_logits += (mask * -1e9)  \n",
        "\n",
        "  # softmax is normalized on the last axis (seq_len_k) so that the scores\n",
        "  # add up to 1.\n",
        "  attention_weights = tf.nn.softmax(scaled_attention_logits, axis=-1)  # (..., seq_len_q, seq_len_k)\n",
        "\n",
        "  output = tf.matmul(attention_weights, v)  # (..., seq_len_q, depth_v)\n",
        "\n",
        "  return output, attention_weights"
      ]
    },
    {
      "cell_type": "markdown",
      "metadata": {
        "id": "FiqETnhCkoXh"
      },
      "source": [
        "Поскольку нормализация softmax выполняется для K, его значения определяют степень важности, придаваемой Q.\n",
        "\n",
        "Выходные данные представляют собой умножение весов внимания и вектора V (значения). Это гарантирует, что слова, на которых вы хотите сосредоточиться, останутся как есть, а нерелевантные слова будут удалены.\n",
        "\n"
      ]
    },
    {
      "cell_type": "code",
      "execution_count": 21,
      "metadata": {
        "id": "n90YjClyInFy"
      },
      "outputs": [],
      "source": [
        "def print_out(q, k, v):\n",
        "  temp_out, temp_attn = scaled_dot_product_attention(\n",
        "      q, k, v, None)\n",
        "  print ('Attention weights are:')\n",
        "  print (temp_attn)\n",
        "  print ('Output is:')\n",
        "  print (temp_out)"
      ]
    },
    {
      "cell_type": "code",
      "execution_count": 22,
      "metadata": {
        "id": "yAzUAf2DPlNt",
        "colab": {
          "base_uri": "https://localhost:8080/"
        },
        "outputId": "0c49c563-9893-4c13-faf2-d021b16286b6"
      },
      "outputs": [
        {
          "output_type": "stream",
          "name": "stdout",
          "text": [
            "Attention weights are:\n",
            "tf.Tensor([[0. 1. 0. 0.]], shape=(1, 4), dtype=float32)\n",
            "Output is:\n",
            "tf.Tensor([[10.  0.]], shape=(1, 2), dtype=float32)\n"
          ]
        }
      ],
      "source": [
        "np.set_printoptions(suppress=True)\n",
        "\n",
        "temp_k = tf.constant([[10,0,0],\n",
        "                      [0,10,0],\n",
        "                      [0,0,10],\n",
        "                      [0,0,10]], dtype=tf.float32)  # (4, 3)\n",
        "\n",
        "temp_v = tf.constant([[   1,0],\n",
        "                      [  10,0],\n",
        "                      [ 100,5],\n",
        "                      [1000,6]], dtype=tf.float32)  # (4, 2)\n",
        "\n",
        "# This `query` aligns with the second `key`,\n",
        "# so the second `value` is returned.\n",
        "temp_q = tf.constant([[0, 10, 0]], dtype=tf.float32)  # (1, 3)\n",
        "print_out(temp_q, temp_k, temp_v)"
      ]
    },
    {
      "cell_type": "code",
      "execution_count": 23,
      "metadata": {
        "id": "zg6k-fGhgXra",
        "colab": {
          "base_uri": "https://localhost:8080/"
        },
        "outputId": "44404806-ed71-47af-fd04-71efbcd72db6"
      },
      "outputs": [
        {
          "output_type": "stream",
          "name": "stdout",
          "text": [
            "Attention weights are:\n",
            "tf.Tensor([[0.  0.  0.5 0.5]], shape=(1, 4), dtype=float32)\n",
            "Output is:\n",
            "tf.Tensor([[550.    5.5]], shape=(1, 2), dtype=float32)\n"
          ]
        }
      ],
      "source": [
        "# This query aligns with a repeated key (third and fourth), \n",
        "# so all associated values get averaged.\n",
        "temp_q = tf.constant([[0, 0, 10]], dtype=tf.float32)  # (1, 3)\n",
        "print_out(temp_q, temp_k, temp_v)"
      ]
    },
    {
      "cell_type": "code",
      "execution_count": 24,
      "metadata": {
        "id": "UAq3YOzUgXhb",
        "colab": {
          "base_uri": "https://localhost:8080/"
        },
        "outputId": "a3dc1a43-4c37-44da-b775-aeed15a90dca"
      },
      "outputs": [
        {
          "output_type": "stream",
          "name": "stdout",
          "text": [
            "Attention weights are:\n",
            "tf.Tensor([[0.5 0.5 0.  0. ]], shape=(1, 4), dtype=float32)\n",
            "Output is:\n",
            "tf.Tensor([[5.5 0. ]], shape=(1, 2), dtype=float32)\n"
          ]
        }
      ],
      "source": [
        "# This query aligns equally with the first and second key, \n",
        "# so their values get averaged.\n",
        "temp_q = tf.constant([[10, 10, 0]], dtype=tf.float32)  # (1, 3)\n",
        "print_out(temp_q, temp_k, temp_v)"
      ]
    },
    {
      "cell_type": "markdown",
      "metadata": {
        "id": "aOz-4_XIhaTP"
      },
      "source": [
        "Pass all the queries together."
      ]
    },
    {
      "cell_type": "code",
      "execution_count": 25,
      "metadata": {
        "id": "6dlU8Tm-hYrF",
        "colab": {
          "base_uri": "https://localhost:8080/"
        },
        "outputId": "bc398964-a0d4-414f-f35b-44e84832345c"
      },
      "outputs": [
        {
          "output_type": "stream",
          "name": "stdout",
          "text": [
            "Attention weights are:\n",
            "tf.Tensor(\n",
            "[[0.  0.  0.5 0.5]\n",
            " [0.  1.  0.  0. ]\n",
            " [0.5 0.5 0.  0. ]], shape=(3, 4), dtype=float32)\n",
            "Output is:\n",
            "tf.Tensor(\n",
            "[[550.    5.5]\n",
            " [ 10.    0. ]\n",
            " [  5.5   0. ]], shape=(3, 2), dtype=float32)\n"
          ]
        }
      ],
      "source": [
        "temp_q = tf.constant([[0, 0, 10], [0, 10, 0], [10, 10, 0]], dtype=tf.float32)  # (3, 3)\n",
        "print_out(temp_q, temp_k, temp_v)"
      ]
    },
    {
      "cell_type": "markdown",
      "metadata": {
        "id": "kmzGPEy64qmA"
      },
      "source": [
        "## Multi-head attention"
      ]
    },
    {
      "cell_type": "markdown",
      "metadata": {
        "id": "fz5BMC8Kaoqo"
      },
      "source": [
        "<img src=\"https://www.tensorflow.org/images/tutorials/transformer/multi_head_attention.png\" width=\"500\" alt=\"multi-head attention\">\n",
        "\n",
        "\n",
        "Многоголовое внимание состоит из четырех частей:\n",
        "\n",
        "* Слои линейные и разбиваются на головы.\n",
        "* Повышенное внимание к скалярному продукту\n",
        "* Конкатенация голов.\n",
        "* Финальный линейный слой."
      ]
    },
    {
      "cell_type": "markdown",
      "metadata": {
        "id": "JPmbr6F1C-v_"
      },
      "source": [
        "Каждый блок внимания с несколькими головами получает три входа; Q (запрос), K (ключ), V (значение). Они проходят через линейные (плотные) слои и разбиваются на несколько головок.\n",
        "\n",
        "scaled_dot_product_attention определенный выше, применяется к каждой голове (транслируется для эффективности). На этапе внимания необходимо использовать соответствующую маску. Затем вывод внимания для каждой головы объединяется (с использованием tf.transpose и tf.reshape ) и пропускается через последний слой Dense .\n",
        "\n",
        "Вместо одной единственной головы внимания Q, K и V разделены на несколько голов, потому что это позволяет модели совместно обращать внимание на информацию в разных положениях из разных пространств представления. После разделения каждая голова имеет уменьшенную размерность, поэтому общая стоимость вычислений такая же, как и внимание одной головы с полной размерностью.\n",
        "\n"
      ]
    },
    {
      "cell_type": "code",
      "execution_count": 26,
      "metadata": {
        "id": "BSV3PPKsYecw"
      },
      "outputs": [],
      "source": [
        "class MultiHeadAttention(tf.keras.layers.Layer):\n",
        "  def __init__(self, d_model, num_heads):\n",
        "    super(MultiHeadAttention, self).__init__()\n",
        "    self.num_heads = num_heads\n",
        "    self.d_model = d_model\n",
        "    \n",
        "    assert d_model % self.num_heads == 0\n",
        "    \n",
        "    self.depth = d_model // self.num_heads\n",
        "    \n",
        "    self.wq = tf.keras.layers.Dense(d_model)\n",
        "    self.wk = tf.keras.layers.Dense(d_model)\n",
        "    self.wv = tf.keras.layers.Dense(d_model)\n",
        "    \n",
        "    self.dense = tf.keras.layers.Dense(d_model)\n",
        "        \n",
        "  def split_heads(self, x, batch_size):\n",
        "    \"\"\"Split the last dimension into (num_heads, depth).\n",
        "    Transpose the result such that the shape is (batch_size, num_heads, seq_len, depth)\n",
        "    \"\"\"\n",
        "    x = tf.reshape(x, (batch_size, -1, self.num_heads, self.depth))\n",
        "    return tf.transpose(x, perm=[0, 2, 1, 3])\n",
        "    \n",
        "  def call(self, v, k, q, mask):\n",
        "    batch_size = tf.shape(q)[0]\n",
        "    \n",
        "    q = self.wq(q)  # (batch_size, seq_len, d_model)\n",
        "    k = self.wk(k)  # (batch_size, seq_len, d_model)\n",
        "    v = self.wv(v)  # (batch_size, seq_len, d_model)\n",
        "    \n",
        "    q = self.split_heads(q, batch_size)  # (batch_size, num_heads, seq_len_q, depth)\n",
        "    k = self.split_heads(k, batch_size)  # (batch_size, num_heads, seq_len_k, depth)\n",
        "    v = self.split_heads(v, batch_size)  # (batch_size, num_heads, seq_len_v, depth)\n",
        "    \n",
        "    # scaled_attention.shape == (batch_size, num_heads, seq_len_q, depth)\n",
        "    # attention_weights.shape == (batch_size, num_heads, seq_len_q, seq_len_k)\n",
        "    scaled_attention, attention_weights = scaled_dot_product_attention(\n",
        "        q, k, v, mask)\n",
        "    \n",
        "    scaled_attention = tf.transpose(scaled_attention, perm=[0, 2, 1, 3])  # (batch_size, seq_len_q, num_heads, depth)\n",
        "\n",
        "    concat_attention = tf.reshape(scaled_attention, \n",
        "                                  (batch_size, -1, self.d_model))  # (batch_size, seq_len_q, d_model)\n",
        "\n",
        "    output = self.dense(concat_attention)  # (batch_size, seq_len_q, d_model)\n",
        "        \n",
        "    return output, attention_weights"
      ]
    },
    {
      "cell_type": "markdown",
      "metadata": {
        "id": "0D8FJue5lDyZ"
      },
      "source": [
        "Создайте слой MultiHeadAttention чтобы попробовать. В каждом месте в последовательности y MultiHeadAttention запускает все 8 головок внимания по всем другим местам в последовательности, возвращая новый вектор той же длины в каждом месте.\n",
        "\n"
      ]
    },
    {
      "cell_type": "code",
      "execution_count": 27,
      "metadata": {
        "id": "Hu94p-_-2_BX",
        "colab": {
          "base_uri": "https://localhost:8080/"
        },
        "outputId": "a4c53ca1-1180-4dff-ada8-59d5a35515b9"
      },
      "outputs": [
        {
          "output_type": "execute_result",
          "data": {
            "text/plain": [
              "(TensorShape([1, 60, 512]), TensorShape([1, 8, 60, 60]))"
            ]
          },
          "metadata": {},
          "execution_count": 27
        }
      ],
      "source": [
        "temp_mha = MultiHeadAttention(d_model=512, num_heads=8)\n",
        "y = tf.random.uniform((1, 60, 512))  # (batch_size, encoder_sequence, d_model)\n",
        "out, attn = temp_mha(y, k=y, q=y, mask=None)\n",
        "out.shape, attn.shape"
      ]
    },
    {
      "cell_type": "markdown",
      "metadata": {
        "id": "RdDqGayx67vv"
      },
      "source": [
        "## Point wise feed forward network"
      ]
    },
    {
      "cell_type": "markdown",
      "metadata": {
        "id": "gBqzJXGfHK3X"
      },
      "source": [
        "Сеть с точечной прямой связью состоит из двух полностью связанных слоев с активацией ReLU между ними.\n",
        "The code implements a point-wise feed-forward network using the TensorFlow library. Let's break it down:\n",
        "\n",
        "The point_wise_feed_forward_network function takes two arguments:\n",
        "\n",
        "d_model: This represents the input and output dimension of the feed-forward network, which is the model's hidden size or embedding dimension.\n",
        "dff: This specifies the hidden dimension of the feed-forward network, determining the size of the intermediate representation.\n",
        "The function returns a tf.keras.Sequential model, which is a linear stack of layers.\n",
        "\n",
        "The point-wise feed-forward network consists of two tf.keras.layers.Dense layers:\n",
        "\n",
        "The first dense layer has dff units and applies the ReLU activation function. It transforms the input tensor from shape (batch_size, seq_len, d_model) to shape (batch_size, seq_len, dff).\n",
        "The second dense layer has d_model units and does not have an activation function specified. It transforms the tensor back to the original input dimension, resulting in the output tensor shape (batch_size, seq_len, d_model).\n",
        "In summary, this code defines a point-wise feed-forward network with two dense layers in a sequential manner. The first dense layer transforms the input tensor to a higher-dimensional representation using ReLU activation, and the second dense layer maps it back to the original dimension without any activation function.\n"
      ]
    },
    {
      "cell_type": "code",
      "execution_count": 28,
      "metadata": {
        "id": "ET7xLt0yCT6Z"
      },
      "outputs": [],
      "source": [
        "def point_wise_feed_forward_network(d_model, dff):\n",
        "  return tf.keras.Sequential([\n",
        "      tf.keras.layers.Dense(dff, activation='relu'),  # (batch_size, seq_len, dff)\n",
        "      tf.keras.layers.Dense(d_model)  # (batch_size, seq_len, d_model)\n",
        "  ])"
      ]
    },
    {
      "cell_type": "code",
      "execution_count": 29,
      "metadata": {
        "id": "mytb1lPyOHLB",
        "colab": {
          "base_uri": "https://localhost:8080/"
        },
        "outputId": "3dbf7ccc-82fa-48af-ecf9-63dbccbf650b"
      },
      "outputs": [
        {
          "output_type": "execute_result",
          "data": {
            "text/plain": [
              "TensorShape([64, 50, 512])"
            ]
          },
          "metadata": {},
          "execution_count": 29
        }
      ],
      "source": [
        "sample_ffn = point_wise_feed_forward_network(512, 2048)\n",
        "sample_ffn(tf.random.uniform((64, 50, 512))).shape"
      ]
    },
    {
      "cell_type": "markdown",
      "metadata": {
        "id": "7e7hKcxn6-zd"
      },
      "source": [
        "## Encoder and decoder"
      ]
    },
    {
      "cell_type": "markdown",
      "metadata": {
        "id": "yScbC0MUH8dS"
      },
      "source": [
        "<img src=\"https://www.tensorflow.org/images/tutorials/transformer/transformer.png\" width=\"600\" alt=\"transformer\">"
      ]
    },
    {
      "cell_type": "markdown",
      "metadata": {
        "id": "MfYJG-Kvgwy2"
      },
      "source": [
        "Модель трансформера следует той же общей схеме, что и стандартная последовательность действий с моделью внимания .\n",
        "\n",
        "Входное предложение проходит через N уровней кодировщика, которые генерируют выходные данные для каждого слова / токена в последовательности.\n",
        "Декодер отслеживает вывод кодировщика и свой собственный ввод (самовнимание), чтобы предсказать следующее слово.\n"
      ]
    },
    {
      "cell_type": "markdown",
      "metadata": {
        "id": "QFv-FNYUmvpn"
      },
      "source": [
        "### Encoder layer\n",
        "\n",
        "Каждый уровень кодировщика состоит из подслоев:\n",
        "\n",
        "Многоголовое внимание (с дополнительной маской)\n",
        "Точечные сети прямого распространения.\n",
        "Каждый из этих подуровней имеет остаточную связь вокруг себя, за которой следует нормализация уровня. Остаточные соединения помогают избежать проблемы исчезающего градиента в глубоких сетях.\n",
        "\n",
        "Результатом каждого подслоя является LayerNorm(x + Sublayer(x)) . Нормализация выполняется по d_model (последняя). В трансформаторе N слоев кодировщика.\n",
        "\n"
      ]
    },
    {
      "cell_type": "markdown",
      "metadata": {
        "id": "F-_7Fk-MOOhd"
      },
      "source": [
        "Sure! The code snippet you provided defines an `EncoderLayer` class in TensorFlow. Let's break it down step by step:\n",
        "\n",
        "1. The `EncoderLayer` class is derived from `tf.keras.layers.Layer`, indicating that it is a custom layer in TensorFlow.\n",
        "\n",
        "2. The `__init__` method is the constructor of the class. It takes four arguments:\n",
        "   - `d_model`: The input and output dimension of the encoder layer, representing the hidden size or embedding dimension.\n",
        "   - `num_heads`: The number of heads in the multi-head attention mechanism.\n",
        "   - `dff`: The dimension of the hidden layer in the point-wise feed-forward network.\n",
        "   - `rate`: The dropout rate, which is set to 0.1 by default.\n",
        "\n",
        "3. Inside the constructor, the following components are defined:\n",
        "   - `self.mha`: An instance of the `MultiHeadAttention` class, representing the multi-head attention mechanism. It takes `d_model` and `num_heads` as arguments.\n",
        "   - `self.ffn`: An instance of the `point_wise_feed_forward_network` function, representing the point-wise feed-forward network. It takes `d_model` and `dff` as arguments.\n",
        "   - `self.layernorm1` and `self.layernorm2`: Instances of `tf.keras.layers.LayerNormalization`, representing the layer normalization operations applied to the outputs.\n",
        "   - `self.dropout1` and `self.dropout2`: Instances of `tf.keras.layers.Dropout`, representing dropout layers for regularization.\n",
        "\n",
        "4. The `call` method defines the forward pass of the `EncoderLayer`:\n",
        "   - It takes three arguments: `x` (the input tensor), `training` (a boolean flag indicating whether the model is in training or inference mode), and `mask` (an optional mask tensor for masking padded positions).\n",
        "   - The multi-head attention mechanism (`self.mha`) is applied to the input `x` three times with the same inputs (`x`, `x`, `x`) and the `mask` to obtain `attn_output`, which represents the attention-weighted sum of the input.\n",
        "   - The `attn_output` is then passed through the first dropout layer (`self.dropout1`) with the specified dropout rate and the `training` flag.\n",
        "   - The original input `x` is added to the dropout output, and the result is normalized using `self.layernorm1`.\n",
        "   - The output of the layer normalization (`out1`) is passed through the point-wise feed-forward network (`self.ffn`) to obtain `ffn_output`.\n",
        "   - The `ffn_output` is then passed through the second dropout layer (`self.dropout2`) with the specified dropout rate and the `training` flag.\n",
        "   - The original input `x` is again added to the dropout output, and the result is normalized using `self.layernorm2`.\n",
        "   - The final output of the `EncoderLayer` is returned as `out2`.\n",
        "\n",
        "In summary, the `EncoderLayer` class represents a single layer in the encoder of a transformer model. It consists of a multi-head attention mechanism, a point-wise feed-forward network, layer normalization operations, and dropout layers for regularization. The `call` method defines the computations performed during the forward pass."
      ]
    },
    {
      "cell_type": "code",
      "execution_count": 30,
      "metadata": {
        "id": "ncyS-Ms3i2x_"
      },
      "outputs": [],
      "source": [
        "class EncoderLayer(tf.keras.layers.Layer):\n",
        "  def __init__(self, d_model, num_heads, dff, rate=0.1):\n",
        "    super(EncoderLayer, self).__init__()\n",
        "\n",
        "    self.mha = MultiHeadAttention(d_model, num_heads)\n",
        "    self.ffn = point_wise_feed_forward_network(d_model, dff)\n",
        "\n",
        "    self.layernorm1 = tf.keras.layers.LayerNormalization(epsilon=1e-6)\n",
        "    self.layernorm2 = tf.keras.layers.LayerNormalization(epsilon=1e-6)\n",
        "    \n",
        "    self.dropout1 = tf.keras.layers.Dropout(rate)\n",
        "    self.dropout2 = tf.keras.layers.Dropout(rate)\n",
        "    \n",
        "  def call(self, x, training, mask):\n",
        "\n",
        "    attn_output, _ = self.mha(x, x, x, mask)  # (batch_size, input_seq_len, d_model)\n",
        "    attn_output = self.dropout1(attn_output, training=training)\n",
        "    out1 = self.layernorm1(x + attn_output)  # (batch_size, input_seq_len, d_model)\n",
        "    \n",
        "    ffn_output = self.ffn(out1)  # (batch_size, input_seq_len, d_model)\n",
        "    ffn_output = self.dropout2(ffn_output, training=training)\n",
        "    out2 = self.layernorm2(out1 + ffn_output)  # (batch_size, input_seq_len, d_model)\n",
        "    \n",
        "    return out2"
      ]
    },
    {
      "cell_type": "markdown",
      "metadata": {
        "id": "Su9IYhkROOhe"
      },
      "source": [
        "The code snippet you provided demonstrates the usage of the `EncoderLayer` class. Let's go through it step by step:\n",
        "\n",
        "1. `sample_encoder_layer` is an instance of the `EncoderLayer` class created with the following arguments:\n",
        "   - `d_model = 512`: The input and output dimension of the encoder layer.\n",
        "   - `num_heads = 8`: The number of heads in the multi-head attention mechanism.\n",
        "   - `dff = 2048`: The dimension of the hidden layer in the point-wise feed-forward network.\n",
        "   - The `rate` argument is not provided, so it takes the default value of 0.1.\n",
        "\n",
        "2. `sample_encoder_layer_output` is obtained by calling `sample_encoder_layer` with the following arguments:\n",
        "   - `tf.random.uniform((64, 43, 512))`: A random input tensor of shape `(batch_size, input_seq_len, d_model)`. Here, the batch size is 64, the input sequence length is 43, and the hidden size (d_model) is 512.\n",
        "   - `False`: The `training` flag is set to `False`, indicating that the model is in inference mode.\n",
        "   - `None`: The `mask` argument is set to `None`, meaning no masking is applied.\n",
        "\n",
        "3. Finally, `sample_encoder_layer_output.shape` is used to print the shape of the output tensor. The expected shape is `(batch_size, input_seq_len, d_model)`, which represents the batch size, sequence length, and hidden size of the encoder layer output.\n",
        "\n",
        "By running this code, you will obtain the shape of the output tensor from the sample encoder layer."
      ]
    },
    {
      "cell_type": "code",
      "execution_count": 31,
      "metadata": {
        "id": "AzZRXdO0mI48",
        "colab": {
          "base_uri": "https://localhost:8080/"
        },
        "outputId": "e86abcf0-eae8-4e80-da52-25228eeea50b"
      },
      "outputs": [
        {
          "output_type": "execute_result",
          "data": {
            "text/plain": [
              "TensorShape([64, 43, 512])"
            ]
          },
          "metadata": {},
          "execution_count": 31
        }
      ],
      "source": [
        "sample_encoder_layer = EncoderLayer(512, 8, 2048)\n",
        "\n",
        "sample_encoder_layer_output = sample_encoder_layer(\n",
        "    tf.random.uniform((64, 43, 512)), False, None)\n",
        "\n",
        "sample_encoder_layer_output.shape  # (batch_size, input_seq_len, d_model)"
      ]
    },
    {
      "cell_type": "markdown",
      "metadata": {
        "id": "6LO_48Owmx_o"
      },
      "source": [
        "### Decoder layer\n",
        "\n",
        "Каждый слой декодера состоит из подслоев:\n",
        "\n",
        "Замаскированное внимание с несколькими головами (с опережающей маской и дополнительной маской)\n",
        "Многоголовое внимание (с дополнительной маской). V (значение) и K (ключ) получают выходной сигнал энкодера в качестве входных данных. Q (запрос) получает выходные данные от подуровня замаскированного многоголового внимания.\n",
        "Точечные сети прямого распространения\n",
        "Каждый из этих подуровней имеет остаточную связь вокруг себя, за которой следует нормализация уровня. Результатом каждого подслоя является LayerNorm(x + Sublayer(x)) . Нормализация выполняется по d_model (последняя).\n",
        "\n",
        "В трансформаторе N слоев декодера.\n",
        "\n",
        "Поскольку Q принимает выходные данные от первого блока внимания декодера, а K принимает выходные данные кодировщика, веса внимания представляют важность, придаваемую входу декодера на основе выходных данных кодера. Другими словами, декодер предсказывает следующее слово, глядя на выходные данные кодировщика и самостоятельно присматриваясь к своим собственным выходным данным. См. Демонстрацию выше в разделе «Внимание к скалярному произведению».\n",
        "\n"
      ]
    },
    {
      "cell_type": "markdown",
      "metadata": {
        "id": "YyK4CHznOOhe"
      },
      "source": [
        "The code you provided defines a `DecoderLayer` class in TensorFlow. Let's break it down step by step:\n",
        "\n",
        "1. The `DecoderLayer` class is derived from `tf.keras.layers.Layer`, indicating that it is a custom layer in TensorFlow.\n",
        "\n",
        "2. The `__init__` method is the constructor of the class. It takes four arguments:\n",
        "   - `d_model`: The input and output dimension of the decoder layer, representing the hidden size or embedding dimension.\n",
        "   - `num_heads`: The number of heads in the multi-head attention mechanisms.\n",
        "   - `dff`: The dimension of the hidden layer in the point-wise feed-forward network.\n",
        "   - `rate`: The dropout rate, which is set to 0.1 by default.\n",
        "\n",
        "3. Inside the constructor, the following components are defined:\n",
        "   - `self.mha1` and `self.mha2`: Instances of the `MultiHeadAttention` class, representing the two multi-head attention mechanisms used in the decoder layer. The first one operates on the target sequence, and the second one attends to the encoder output.\n",
        "   - `self.ffn`: An instance of the `point_wise_feed_forward_network` function, representing the point-wise feed-forward network in the decoder layer.\n",
        "   - `self.layernorm1`, `self.layernorm2`, and `self.layernorm3`: Instances of `tf.keras.layers.LayerNormalization`, representing the layer normalization operations applied to the outputs.\n",
        "   - `self.dropout1`, `self.dropout2`, and `self.dropout3`: Instances of `tf.keras.layers.Dropout`, representing dropout layers for regularization.\n",
        "\n",
        "4. The `call` method defines the forward pass of the `DecoderLayer`:\n",
        "   - It takes five arguments: `x` (the input tensor to the decoder layer), `enc_output` (the output from the encoder layer), `training` (a boolean flag indicating whether the model is in training or inference mode), `look_ahead_mask` (a mask tensor to mask future positions in the input), and `padding_mask` (a mask tensor to mask padded positions in the encoder output).\n",
        "   - The first multi-head attention mechanism (`self.mha1`) is applied to the input `x` three times with the same inputs (`x`, `x`, `x`) and the `look_ahead_mask` to obtain `attn1` and the attention weights (`attn_weights_block1`).\n",
        "   - The `attn1` is then passed through the first dropout layer (`self.dropout1`) with the specified dropout rate and the `training` flag.\n",
        "   - The dropout output is added to the original input `x`, and the result is normalized using `self.layernorm1`.\n",
        "   - The second multi-head attention mechanism (`self.mha2`) attends to the encoder output (`enc_output`) and takes the output from the previous step (`out1`) as the query. This is done to capture the relationship between the input and the encoder context.\n",
        "   - The `mha2` output is passed through the second dropout layer (`self.dropout2`) with the specified dropout rate and the `training` flag.\n",
        "   - The dropout output is added to the `out1`, and the result is normalized using `self.layernorm2`.\n",
        "   - The output of the second layer normalization (`out2`) is passed through the point-wise feed-forward network (`self.ffn`) to obtain `ffn_output`.\n",
        "   - The `ffn_output` is then passed through the third dropout layer (`self.dropout3`) with the specified dropout rate and the `training` flag.\n",
        "   - The dropout output is added to the `out2`, and the result is normalized using `self.layernorm3`.\n",
        "\n",
        "\n",
        "   - Finally, the output tensor (`out3`), along with the attention weights from the first and second attention mechanisms, is returned.\n",
        "\n",
        "This `DecoderLayer` class is part of a transformer model and is responsible for processing the decoder inputs and capturing the dependencies between the decoder inputs and the encoder output."
      ]
    },
    {
      "cell_type": "code",
      "execution_count": 32,
      "metadata": {
        "id": "9SoX0-vd1hue"
      },
      "outputs": [],
      "source": [
        "class DecoderLayer(tf.keras.layers.Layer):\n",
        "  def __init__(self, d_model, num_heads, dff, rate=0.1):\n",
        "    super(DecoderLayer, self).__init__()\n",
        "\n",
        "    self.mha1 = MultiHeadAttention(d_model, num_heads)\n",
        "    self.mha2 = MultiHeadAttention(d_model, num_heads)\n",
        "\n",
        "    self.ffn = point_wise_feed_forward_network(d_model, dff)\n",
        " \n",
        "    self.layernorm1 = tf.keras.layers.LayerNormalization(epsilon=1e-6)\n",
        "    self.layernorm2 = tf.keras.layers.LayerNormalization(epsilon=1e-6)\n",
        "    self.layernorm3 = tf.keras.layers.LayerNormalization(epsilon=1e-6)\n",
        "    \n",
        "    self.dropout1 = tf.keras.layers.Dropout(rate)\n",
        "    self.dropout2 = tf.keras.layers.Dropout(rate)\n",
        "    self.dropout3 = tf.keras.layers.Dropout(rate)\n",
        "    \n",
        "    \n",
        "  def call(self, x, enc_output, training, \n",
        "           look_ahead_mask, padding_mask):\n",
        "    # enc_output.shape == (batch_size, input_seq_len, d_model)\n",
        "\n",
        "    attn1, attn_weights_block1 = self.mha1(x, x, x, look_ahead_mask)  # (batch_size, target_seq_len, d_model)\n",
        "    attn1 = self.dropout1(attn1, training=training)\n",
        "    out1 = self.layernorm1(attn1 + x)\n",
        "    \n",
        "    attn2, attn_weights_block2 = self.mha2(\n",
        "        enc_output, enc_output, out1, padding_mask)  # (batch_size, target_seq_len, d_model)\n",
        "    attn2 = self.dropout2(attn2, training=training)\n",
        "    out2 = self.layernorm2(attn2 + out1)  # (batch_size, target_seq_len, d_model)\n",
        "    \n",
        "    ffn_output = self.ffn(out2)  # (batch_size, target_seq_len, d_model)\n",
        "    ffn_output = self.dropout3(ffn_output, training=training)\n",
        "    out3 = self.layernorm3(ffn_output + out2)  # (batch_size, target_seq_len, d_model)\n",
        "    \n",
        "    return out3, attn_weights_block1, attn_weights_block2"
      ]
    },
    {
      "cell_type": "code",
      "execution_count": 33,
      "metadata": {
        "id": "Ne2Bqx8k71l0",
        "colab": {
          "base_uri": "https://localhost:8080/"
        },
        "outputId": "005f73f7-0371-407a-c2a9-0a78c98fa006"
      },
      "outputs": [
        {
          "output_type": "execute_result",
          "data": {
            "text/plain": [
              "TensorShape([64, 50, 512])"
            ]
          },
          "metadata": {},
          "execution_count": 33
        }
      ],
      "source": [
        "sample_decoder_layer = DecoderLayer(512, 8, 2048)\n",
        "\n",
        "sample_decoder_layer_output, _, _ = sample_decoder_layer(\n",
        "    tf.random.uniform((64, 50, 512)), sample_encoder_layer_output, \n",
        "    False, None, None)\n",
        "\n",
        "sample_decoder_layer_output.shape  # (batch_size, target_seq_len, d_model)"
      ]
    },
    {
      "cell_type": "markdown",
      "metadata": {
        "id": "SE1H51Ajm0q1"
      },
      "source": [
        "### Encoder\n",
        "\n",
        "The `Encoder` consists of:\n",
        "1.   Input Embedding\n",
        "2.   Positional Encoding\n",
        "3.   N encoder layers\n",
        "\n",
        "The input is put through an embedding which is summed with the positional encoding. The output of this summation is the input to the encoder layers. The output of the encoder is the input to the decoder."
      ]
    },
    {
      "cell_type": "markdown",
      "metadata": {
        "id": "MrJ_GUyyOOhe"
      },
      "source": [
        "Данный код представляет класс `Encoder`, который является частью модели Transformer. Он отвечает за кодирование входной последовательности.\n",
        "\n",
        "В конструкторе класса определены следующие атрибуты:\n",
        "\n",
        "- `num_layers`: количество слоев в кодировщике.\n",
        "- `d_model`: размерность модельного пространства (размерность векторов в кодировщике и декодировщике).\n",
        "- `num_heads`: количество голов в механизме многоголового внимания.\n",
        "- `dff`: размерность скрытого слоя в сети прямого распространения (point-wise feed-forward network).\n",
        "- `input_vocab_size`: размер словаря входных данных.\n",
        "- `maximum_position_encoding`: максимальная длина позиционного кодирования (позиционная эмбеддинг-матрица).\n",
        "- `rate`: коэффициент dropout для регуляризации.\n",
        "\n",
        "В методе `call` выполняется кодирование входной последовательности:\n",
        "\n",
        "- Входные данные `x` проходят через слой эмбеддинга, который преобразует индексы слов в векторы заданной размерности `d_model`.\n",
        "- К векторам эмбеддинга применяется позиционное кодирование (`pos_encoding`), которое добавляет информацию о позиции каждого слова в последовательности.\n",
        "- Векторы позиционного кодирования и эмбеддинга объединяются и проходят через слой dropout для регуляризации.\n",
        "- Затем последовательность проходит через несколько слоев кодировщика (`enc_layers`). Каждый слой кодировщика представлен экземпляром класса `EncoderLayer`.\n",
        "- На выходе получается закодированная последовательность, имеющая размерность `(batch_size, input_seq_len, d_model)`.\n",
        "\n",
        "Таким образом, класс `Encoder` отвечает за преобразование входной последовательности во внутреннее представление модели Transformer, которое будет использоваться в дальнейшем в процессе декодирования."
      ]
    },
    {
      "cell_type": "code",
      "execution_count": 34,
      "metadata": {
        "id": "jpEox7gJ8FCI"
      },
      "outputs": [],
      "source": [
        "class Encoder(tf.keras.layers.Layer):\n",
        "  def __init__(self, num_layers, d_model, num_heads, dff, input_vocab_size,\n",
        "               maximum_position_encoding, rate=0.1):\n",
        "    super(Encoder, self).__init__()\n",
        "\n",
        "    self.d_model = d_model\n",
        "    self.num_layers = num_layers\n",
        "    \n",
        "    self.embedding = tf.keras.layers.Embedding(input_vocab_size, d_model)\n",
        "    self.pos_encoding = positional_encoding(maximum_position_encoding, \n",
        "                                            self.d_model)\n",
        "    \n",
        "    \n",
        "    self.enc_layers = [EncoderLayer(d_model, num_heads, dff, rate) \n",
        "                       for _ in range(num_layers)]\n",
        "  \n",
        "    self.dropout = tf.keras.layers.Dropout(rate)\n",
        "        \n",
        "  def call(self, x, training, mask):\n",
        "\n",
        "    seq_len = tf.shape(x)[1]\n",
        "    \n",
        "    # adding embedding and position encoding.\n",
        "    x = self.embedding(x)  # (batch_size, input_seq_len, d_model)\n",
        "    x *= tf.math.sqrt(tf.cast(self.d_model, tf.float32))\n",
        "    x += self.pos_encoding[:, :seq_len, :]\n",
        "\n",
        "    x = self.dropout(x, training=training)\n",
        "    \n",
        "    for i in range(self.num_layers):\n",
        "      x = self.enc_layers[i](x, training, mask)\n",
        "    \n",
        "    return x  # (batch_size, input_seq_len, d_model)"
      ]
    },
    {
      "cell_type": "markdown",
      "metadata": {
        "id": "kfvTLLGKOOhf"
      },
      "source": [
        "This code defines a class called `Encoder` that is a part of the Transformer model and is responsible for encoding the input sequence.\n",
        "\n",
        "In the constructor of the class, the following attributes are defined:\n",
        "\n",
        "- `num_layers`: the number of layers in the encoder.\n",
        "- `d_model`: the dimensionality of the model space (the size of the vectors in the encoder and decoder).\n",
        "- `num_heads`: the number of heads in the multi-head attention mechanism.\n",
        "- `dff`: the dimensionality of the hidden layer in the point-wise feed-forward network.\n",
        "- `input_vocab_size`: the size of the input vocabulary.\n",
        "- `maximum_position_encoding`: the maximum length of the positional encoding (position embedding matrix).\n",
        "- `rate`: the dropout rate for regularization.\n",
        "\n",
        "The `call` method performs the encoding of the input sequence:\n",
        "\n",
        "- The length of the input sequence `seq_len` is computed using the `tf.shape` function.\n",
        "- The input data `x` goes through an embedding layer `self.embedding`, which converts word indices into vectors of the specified dimension `d_model`.\n",
        "- The resulting embeddings are then passed through the positional encoding `self.pos_encoding`, which adds positional information to each word in the sequence.\n",
        "- The positional encoding vectors and the embedding vectors are combined and passed through a dropout layer `self.dropout` for regularization.\n",
        "- The sequence then goes through multiple encoder layers `self.enc_layers`. Each encoder layer is an instance of the `EncoderLayer` class. The sequence is passed through each layer in a loop.\n",
        "- The output is the encoded sequence with a shape of `(batch_size, input_seq_len, d_model)`.\n",
        "\n",
        "Thus, the `Encoder` class transforms the input sequence using embeddings and positional encoding, and then applies multiple encoder layers to obtain the encoded representation."
      ]
    },
    {
      "cell_type": "markdown",
      "metadata": {
        "id": "x2S6K77SOOhf"
      },
      "source": [
        "The code snippet demonstrates the usage of the Encoder class to encode an input sequence.\n",
        "\n",
        "First, an instance of the Encoder class is created with the following parameters:\n",
        "\n",
        "num_layers: Number of layers in the encoder, set to 2.\n",
        "d_model: Dimensionality of the model space, set to 512.\n",
        "num_heads: Number of heads in the multi-head attention mechanism, set to 8.\n",
        "dff: Dimensionality of the hidden layer in the point-wise feed-forward network, set to 2048.\n",
        "input_vocab_size: Size of the input vocabulary, set to 8500.\n",
        "maximum_position_encoding: Maximum length of the positional encoding, set to 10000.\n",
        "Then, a random input sequence temp_input of shape (64, 62) is generated using tf.random.uniform. This sequence has a batch size of 64 and a length of 62.\n",
        "\n",
        "The sample_encoder_output is obtained by calling the sample_encoder with the temp_input, training=False, and mask=None arguments. This triggers the call method of the Encoder class.\n",
        "\n",
        "The shape of the sample_encoder_output is printed, which will be (64, 62, 512). This means that the output is a tensor with a batch size of 64, the same sequence length of 62, and a model dimensionality of 512."
      ]
    },
    {
      "cell_type": "code",
      "execution_count": 35,
      "metadata": {
        "id": "8QG9nueFQKXx",
        "colab": {
          "base_uri": "https://localhost:8080/"
        },
        "outputId": "2340a674-28d8-48f9-b50e-31a78aec2e8c"
      },
      "outputs": [
        {
          "output_type": "stream",
          "name": "stdout",
          "text": [
            "(64, 62, 512)\n"
          ]
        }
      ],
      "source": [
        "sample_encoder = Encoder(num_layers=2, d_model=512, num_heads=8, \n",
        "                         dff=2048, input_vocab_size=8500,\n",
        "                         maximum_position_encoding=10000)\n",
        "temp_input = tf.random.uniform((64, 62), dtype=tf.int64, minval=0, maxval=200)\n",
        "\n",
        "sample_encoder_output = sample_encoder(temp_input, training=False, mask=None)\n",
        "\n",
        "print (sample_encoder_output.shape)  # (batch_size, input_seq_len, d_model)"
      ]
    },
    {
      "cell_type": "markdown",
      "metadata": {
        "id": "p-uO6ls8m2O5"
      },
      "source": [
        "### Decoder"
      ]
    },
    {
      "cell_type": "markdown",
      "metadata": {
        "id": "ZtT7PKzrXkNr"
      },
      "source": [
        " The `Decoder` consists of:\n",
        "1.   Output Embedding\n",
        "2.   Positional Encoding\n",
        "3.   N decoder layers\n",
        "\n",
        "The target is put through an embedding which is summed with the positional encoding. The output of this summation is the input to the decoder layers. The output of the decoder is the input to the final linear layer."
      ]
    },
    {
      "cell_type": "markdown",
      "metadata": {
        "id": "EUljAUECOOhf"
      },
      "source": [
        "The code snippet defines the `Decoder` class, which is responsible for decoding the encoded input sequence.\n",
        "\n",
        "The `Decoder` class has the following key components:\n",
        "\n",
        "- In the `__init__` method, the class initializes the model parameters and layers. It takes the following arguments:\n",
        "  - `num_layers`: Number of layers in the decoder.\n",
        "  - `d_model`: Dimensionality of the model space.\n",
        "  - `num_heads`: Number of heads in the multi-head attention mechanism.\n",
        "  - `dff`: Dimensionality of the hidden layer in the point-wise feed-forward network.\n",
        "  - `target_vocab_size`: Size of the target vocabulary.\n",
        "  - `maximum_position_encoding`: Maximum length of the positional encoding.\n",
        "  - `rate`: Dropout rate.\n",
        "\n",
        "- The `call` method is responsible for the forward pass of the decoder. It takes the following arguments:\n",
        "  - `x`: Input to the decoder (target sequence).\n",
        "  - `enc_output`: Output from the encoder.\n",
        "  - `training`: Boolean flag indicating whether the model is in training mode or not.\n",
        "  - `look_ahead_mask`: Mask to prevent the decoder from attending to future positions.\n",
        "  - `padding_mask`: Mask to pad and mask encoder outputs.\n",
        "  \n",
        "- Within the `call` method, the target sequence is processed through the embedding layer and positional encoding. Dropout is applied to the output.\n",
        "\n",
        "- The decoder layers (instances of `DecoderLayer`) are iterated through in a loop. The `call` method of each decoder layer is called with the appropriate arguments.\n",
        "\n",
        "- The attention weights from each decoder layer are stored in a dictionary for visualization and analysis purposes.\n",
        "\n",
        "- The output from the decoder and the attention weights dictionary are returned.\n",
        "\n",
        "Overall, the `Decoder` class in the code snippet is responsible for decoding the input sequence using multiple decoder layers and generating the output sequence along with attention weights at each layer."
      ]
    },
    {
      "cell_type": "code",
      "execution_count": 36,
      "metadata": {
        "id": "d5_d5-PLQXwY"
      },
      "outputs": [],
      "source": [
        "class Decoder(tf.keras.layers.Layer):\n",
        "  def __init__(self, num_layers, d_model, num_heads, dff, target_vocab_size,\n",
        "               maximum_position_encoding, rate=0.1):\n",
        "    super(Decoder, self).__init__()\n",
        "\n",
        "    self.d_model = d_model\n",
        "    self.num_layers = num_layers\n",
        "    \n",
        "    self.embedding = tf.keras.layers.Embedding(target_vocab_size, d_model)\n",
        "    self.pos_encoding = positional_encoding(maximum_position_encoding, d_model)\n",
        "    \n",
        "    self.dec_layers = [DecoderLayer(d_model, num_heads, dff, rate) \n",
        "                       for _ in range(num_layers)]\n",
        "    self.dropout = tf.keras.layers.Dropout(rate)\n",
        "    \n",
        "  def call(self, x, enc_output, training, \n",
        "           look_ahead_mask, padding_mask):\n",
        "\n",
        "    seq_len = tf.shape(x)[1]\n",
        "    attention_weights = {}\n",
        "    \n",
        "    x = self.embedding(x)  # (batch_size, target_seq_len, d_model)\n",
        "    x *= tf.math.sqrt(tf.cast(self.d_model, tf.float32))\n",
        "    x += self.pos_encoding[:, :seq_len, :]\n",
        "    \n",
        "    x = self.dropout(x, training=training)\n",
        "\n",
        "    for i in range(self.num_layers):\n",
        "        x, block1, block2 = self.dec_layers[i](x, enc_output, training,\n",
        "                                             look_ahead_mask, padding_mask)\n",
        "      \n",
        "        attention_weights['decoder_layer{}_block1'.format(i+1)] = block1\n",
        "        attention_weights['decoder_layer{}_block2'.format(i+1)] = block2\n",
        "    \n",
        "    # x.shape == (batch_size, target_seq_len, d_model)\n",
        "    return x, attention_weights"
      ]
    },
    {
      "cell_type": "markdown",
      "metadata": {
        "id": "dnYDt--zOOhf"
      },
      "source": [
        "The code snippet demonstrates the usage of the `Decoder` class.\n",
        "\n",
        "Here's a breakdown of the code:\n",
        "\n",
        "- An instance of the `Decoder` class is created, with the specified parameters: `num_layers=2`, `d_model=512`, `num_heads=8`, `dff=2048`, `target_vocab_size=8000`, and `maximum_position_encoding=5000`.\n",
        "\n",
        "- A random input tensor `temp_input` of shape `(64, 26)` is generated.\n",
        "\n",
        "- The `call` method of the `Decoder` instance is invoked, passing the `temp_input` as the input sequence. Additionally, `enc_output` (the output of the encoder), `training=False`, `look_ahead_mask=None`, and `padding_mask=None` are provided as arguments.\n",
        "\n",
        "- The `call` method returns two values: `output` and `attn`. `output` represents the decoded output sequence of shape `(batch_size, target_seq_len, d_model)`, and `attn` is a dictionary containing attention weights for each decoder layer and attention block.\n",
        "\n",
        "- Finally, the shapes of `output` and `attn['decoder_layer2_block2']` are printed.\n",
        "\n",
        "Therefore, the resulting shapes would be as follows:\n",
        "\n",
        "- `output.shape`: `(batch_size, target_seq_len, d_model)` - It depends on the specific values of `batch_size` and `target_seq_len`, but it would have the same `d_model` value as specified during the creation of the `Decoder` instance (512 in this case).\n",
        "\n",
        "- `attn['decoder_layer2_block2'].shape`: This shape represents the attention weights from the second layer and second attention block of the decoder. The specific shape would depend on the input dimensions and the number of attention heads."
      ]
    },
    {
      "cell_type": "code",
      "execution_count": 37,
      "metadata": {
        "id": "a1jXoAMRZyvu",
        "colab": {
          "base_uri": "https://localhost:8080/"
        },
        "outputId": "0ff32cc8-4298-4cd2-a708-f8dd0c0541dd"
      },
      "outputs": [
        {
          "output_type": "execute_result",
          "data": {
            "text/plain": [
              "(TensorShape([64, 26, 512]), TensorShape([64, 8, 26, 62]))"
            ]
          },
          "metadata": {},
          "execution_count": 37
        }
      ],
      "source": [
        "sample_decoder = Decoder(num_layers=2, d_model=512, num_heads=8, \n",
        "                         dff=2048, target_vocab_size=8000,\n",
        "                         maximum_position_encoding=5000)\n",
        "temp_input = tf.random.uniform((64, 26), dtype=tf.int64, minval=0, maxval=200)\n",
        "\n",
        "output, attn = sample_decoder(temp_input, \n",
        "                              enc_output=sample_encoder_output, \n",
        "                              training=False,\n",
        "                              look_ahead_mask=None, \n",
        "                              padding_mask=None)\n",
        "\n",
        "output.shape, attn['decoder_layer2_block2'].shape"
      ]
    },
    {
      "cell_type": "markdown",
      "metadata": {
        "id": "y54xnJnuYgJ7"
      },
      "source": [
        "## Create the Transformer"
      ]
    },
    {
      "cell_type": "markdown",
      "metadata": {
        "id": "uERO1y54cOKq"
      },
      "source": [
        "Transformer consists of the encoder, decoder and a final linear layer. The output of the decoder is the input to the linear layer and its output is returned."
      ]
    },
    {
      "cell_type": "markdown",
      "metadata": {
        "id": "YMUWkqWgOOhf"
      },
      "source": [
        "The code snippet represents the implementation of the `Transformer` model using the Keras `Model` class.\n",
        "\n",
        "Here's an explanation of the code:\n",
        "\n",
        "\n",
        "- The `Transformer` class is defined, inheriting from the `tf.keras.Model` class.\n",
        "\n",
        "- In the constructor (`__init__` method), the model's components are initialized:\n",
        "The constructor (__init__ method) initializes the attributes of the Transformer class. Here's a breakdown of the parameters:\n",
        "\n",
        "num_layers: The number of layers in both the encoder and decoder.\n",
        "d_model: The dimensionality of the model, i.e., the number of hidden units in the encoder and decoder layers.\n",
        "num_heads: The number of attention heads in the multi-head attention mechanism.\n",
        "dff: The dimensionality of the feed-forward network.\n",
        "input_vocab_size: The size of the input vocabulary.\n",
        "target_vocab_size: The size of the target vocabulary.\n",
        "pe_input: The maximum positional encoding for the input sequence.\n",
        "pe_target: The maximum positional encoding for the target sequence.\n",
        "rate: The dropout rate.\n",
        "\n",
        "  - An `Encoder` instance is created, configured with the specified parameters.\n",
        "  - A `Decoder` instance is created, configured with the specified parameters.\n",
        "  - A final dense layer (`tf.keras.layers.Dense`) is added to produce the output logits.\n",
        "\n",
        "- The `call` method is implemented to define the forward pass of the model.\n",
        "  - The `inp` (input) sequence is passed through the encoder, with `enc_padding_mask` to handle padding, producing `enc_output`.\n",
        "  - The `tar` (target) sequence and `enc_output` are passed to the decoder, along with appropriate masks (`look_ahead_mask` and `dec_padding_mask`), resulting in `dec_output` and `attention_weights`.\n",
        "  - The `dec_output` is passed through the final dense layer to obtain the final output logits `final_output`.\n",
        "  - Both `final_output` and `attention_weights` are returned.\n",
        "\n",
        "Therefore, the `Transformer` model takes an input sequence (`inp`) and a target sequence (`tar`) and performs the encoding and decoding steps using the specified number of layers, model dimensions, number of attention heads, and feed-forward dimensions. The output of the model is the final logits for the target sequence, along with the attention weights generated during the decoding process."
      ]
    },
    {
      "cell_type": "code",
      "execution_count": 38,
      "metadata": {
        "id": "PED3bIpOYkBu"
      },
      "outputs": [],
      "source": [
        "class Transformer(tf.keras.Model):\n",
        "  def __init__(self, num_layers, d_model, num_heads, dff, input_vocab_size, \n",
        "               target_vocab_size, pe_input, pe_target, rate=0.1):\n",
        "    super(Transformer, self).__init__()\n",
        "\n",
        "    self.encoder = Encoder(num_layers, d_model, num_heads, dff, \n",
        "                           input_vocab_size, pe_input, rate)\n",
        "\n",
        "    self.decoder = Decoder(num_layers, d_model, num_heads, dff, \n",
        "                           target_vocab_size, pe_target, rate)\n",
        "\n",
        "    self.final_layer = tf.keras.layers.Dense(target_vocab_size)\n",
        "    \n",
        "  def call(self, inp, tar, training, enc_padding_mask, \n",
        "           look_ahead_mask, dec_padding_mask):\n",
        "\n",
        "    enc_output = self.encoder(inp, training, enc_padding_mask)  # (batch_size, inp_seq_len, d_model)\n",
        "    \n",
        "    # dec_output.shape == (batch_size, tar_seq_len, d_model)\n",
        "    dec_output, attention_weights = self.decoder(\n",
        "        tar, enc_output, training, look_ahead_mask, dec_padding_mask)\n",
        "    \n",
        "    final_output = self.final_layer(dec_output)  # (batch_size, tar_seq_len, target_vocab_size)\n",
        "    \n",
        "    return final_output, attention_weights"
      ]
    },
    {
      "cell_type": "markdown",
      "metadata": {
        "id": "LfOqBNaCOOhg"
      },
      "source": [
        "The `sample_transformer` is an instance of the `Transformer` model with specific configurations:\n",
        "\n",
        "- `num_layers=2`: It has 2 layers in both the encoder and decoder.\n",
        "- `d_model=512`: The model's hidden dimension is set to 512.\n",
        "- `num_heads=8`: The number of attention heads in both the encoder and decoder is 8.\n",
        "- `dff=2048`: The dimension of the feed-forward network in the encoder and decoder is 2048.\n",
        "- `input_vocab_size=8500`: The vocabulary size of the input sequences is 8500.\n",
        "- `target_vocab_size=8000`: The vocabulary size of the target sequences is 8000.\n",
        "- `pe_input=10000`: The maximum position encoding value for the input sequences is set to 10000.\n",
        "- `pe_target=6000`: The maximum position encoding value for the target sequences is set to 6000.\n",
        "\n",
        "To perform a forward pass with the `sample_transformer` model, you pass input sequences (`temp_input`) and target sequences (`temp_target`) to the model's `call` method. Additionally, you can specify other parameters such as `training`, `enc_padding_mask`, `look_ahead_mask`, and `dec_padding_mask` as needed. In this case, `training` is set to `False`, and the masking parameters are set to `None`.\n",
        "\n",
        "The output `fn_out` will have the shape `(batch_size, tar_seq_len, target_vocab_size)`, representing the logits for the target sequences. The `target_vocab_size` dimension contains the scores for each token in the target vocabulary."
      ]
    },
    {
      "cell_type": "code",
      "execution_count": 39,
      "metadata": {
        "id": "tJ4fbQcIkHW1",
        "colab": {
          "base_uri": "https://localhost:8080/"
        },
        "outputId": "009d4b55-e5f8-4063-f4ec-dd5dc5c360a6"
      },
      "outputs": [
        {
          "output_type": "execute_result",
          "data": {
            "text/plain": [
              "TensorShape([64, 36, 8000])"
            ]
          },
          "metadata": {},
          "execution_count": 39
        }
      ],
      "source": [
        "sample_transformer = Transformer(\n",
        "    num_layers=2, d_model=512, num_heads=8, dff=2048, \n",
        "    input_vocab_size=8500, target_vocab_size=8000, \n",
        "    pe_input=10000, pe_target=6000)\n",
        "\n",
        "temp_input = tf.random.uniform((64, 38), dtype=tf.int64, minval=0, maxval=200)\n",
        "temp_target = tf.random.uniform((64, 36), dtype=tf.int64, minval=0, maxval=200)\n",
        "\n",
        "fn_out, _ = sample_transformer(temp_input, temp_target, training=False, \n",
        "                               enc_padding_mask=None, \n",
        "                               look_ahead_mask=None,\n",
        "                               dec_padding_mask=None)\n",
        "\n",
        "fn_out.shape  # (batch_size, tar_seq_len, target_vocab_size)"
      ]
    },
    {
      "cell_type": "markdown",
      "metadata": {
        "id": "wsINyf1VEQLC"
      },
      "source": [
        "## Set hyperparameters"
      ]
    },
    {
      "cell_type": "markdown",
      "metadata": {
        "id": "zVjWCxFNcgbt"
      },
      "source": [
        "To keep this example small and relatively fast, the values for *num_layers, d_model, and dff* have been reduced. \n",
        "\n",
        "The values used in the base model of transformer were; *num_layers=6*, *d_model = 512*, *dff = 2048*. See the [paper](https://arxiv.org/abs/1706.03762) for all the other versions of the transformer.\n",
        "\n",
        "Note: By changing the values below, you can get the model that achieved state of the art on many tasks."
      ]
    },
    {
      "cell_type": "code",
      "execution_count": 40,
      "metadata": {
        "id": "lnJn5SLA2ahP"
      },
      "outputs": [],
      "source": [
        "num_layers = 4\n",
        "d_model = 128\n",
        "dff = 512\n",
        "num_heads = 8\n",
        "\n",
        "input_vocab_size = tokenizer_pt.vocab_size + 2\n",
        "target_vocab_size = tokenizer_en.vocab_size + 2\n",
        "dropout_rate = 0.1"
      ]
    },
    {
      "cell_type": "markdown",
      "metadata": {
        "id": "xYEGhEOtzn5W"
      },
      "source": [
        "## Optimizer"
      ]
    },
    {
      "cell_type": "markdown",
      "metadata": {
        "id": "GOmWW--yP3zx"
      },
      "source": [
        "Use the Adam optimizer with a custom learning rate scheduler according to the formula in the [paper](https://arxiv.org/abs/1706.03762).\n",
        "\n",
        "$$\\Large{lrate = d_{model}^{-0.5} * min(step{\\_}num^{-0.5}, step{\\_}num * warmup{\\_}steps^{-1.5})}$$\n"
      ]
    },
    {
      "cell_type": "markdown",
      "metadata": {
        "id": "8CrvAQPsOOhg"
      },
      "source": [
        "The provided code defines a custom learning rate schedule in TensorFlow for the Transformer model. The learning rate schedule is implemented as a subclass of `tf.keras.optimizers.schedules.LearningRateSchedule`.\n",
        "\n",
        "Here's a breakdown of the code:\n",
        "\n",
        "1. The `CustomSchedule` class is defined, inheriting from `tf.keras.optimizers.schedules.LearningRateSchedule`.\n",
        "2. The constructor method `__init__` initializes the attributes of the schedule. It takes two arguments: `d_model`, which represents the model's dimensionality, and `warmup_steps`, which determines the number of warm-up steps for the learning rate.\n",
        "3. Inside the constructor, the `d_model` attribute is cast to `tf.float32` for numerical consistency.\n",
        "4. The `__call__` method is overridden to compute the learning rate at a given step.\n",
        "5. In the `__call__` method, `arg1` is computed as the reciprocal square root of the step.\n",
        "6. `arg2` is computed as the step multiplied by the reciprocal of the square root of `warmup_steps` raised to the power of `-1.5`.\n",
        "7. The learning rate is calculated by multiplying the reciprocal square root of `d_model` by the minimum of `arg1` and `arg2`.\n",
        "8. The computed learning rate is returned.\n",
        "\n",
        "This custom learning rate schedule implements a warm-up strategy where the learning rate starts low and gradually increases during the warm-up phase (controlled by `warmup_steps`). Afterward, it follows a reciprocal square root decay schedule.\n",
        "\n",
        "This learning rate schedule is commonly used in Transformer models to stabilize training and improve convergence, as it allows the model to initially focus on exploring the solution space with a smaller learning rate and then gradually refine the updates as the learning rate increases."
      ]
    },
    {
      "cell_type": "code",
      "execution_count": 41,
      "metadata": {
        "id": "iYQdOO1axwEI"
      },
      "outputs": [],
      "source": [
        "class CustomSchedule(tf.keras.optimizers.schedules.LearningRateSchedule):\n",
        "  def __init__(self, d_model, warmup_steps=4000):\n",
        "    super(CustomSchedule, self).__init__()\n",
        "    \n",
        "    self.d_model = d_model\n",
        "    self.d_model = tf.cast(self.d_model, tf.float32)\n",
        "\n",
        "    self.warmup_steps = warmup_steps\n",
        "    \n",
        "  def __call__(self, step):\n",
        "    arg1 = tf.math.rsqrt(step)\n",
        "    arg2 = step * (self.warmup_steps ** -1.5)\n",
        "    \n",
        "    return tf.math.rsqrt(self.d_model) * tf.math.minimum(arg1, arg2)"
      ]
    },
    {
      "cell_type": "markdown",
      "metadata": {
        "id": "7WPVvuMHOOhg"
      },
      "source": [
        "The provided code snippet demonstrates how to use the custom learning rate schedule (`CustomSchedule`) with the Adam optimizer in TensorFlow.\n",
        "\n",
        "Here's an explanation of the code:\n",
        "\n",
        "1. The `learning_rate` variable is instantiated by creating an instance of the `CustomSchedule` class, passing the `d_model` value as an argument. This initializes the learning rate schedule with the given model dimensionality.\n",
        "2. The `optimizer` variable is instantiated as an Adam optimizer by calling `tf.keras.optimizers.Adam()`. It takes several arguments:\n",
        "   - `learning_rate`: The custom learning rate schedule (`CustomSchedule`) object created in the previous step.\n",
        "   - `beta_1`: The exponential decay rate for the first-moment estimates (default is 0.9).\n",
        "   - `beta_2`: The exponential decay rate for the second-moment estimates (default is 0.98).\n",
        "   - `epsilon`: A small constant added to the denominator for numerical stability (default is 1e-9).\n",
        "\n",
        "By using the custom learning rate schedule with the Adam optimizer, the model will automatically adjust its learning rate based on the provided schedule during training. The Adam optimizer is a popular choice for optimizing deep learning models, and the custom learning rate schedule ensures an appropriate learning rate throughout the training process, following the specified formula and adjusting based on the step number."
      ]
    },
    {
      "cell_type": "code",
      "execution_count": 42,
      "metadata": {
        "id": "7r4scdulztRx"
      },
      "outputs": [],
      "source": [
        "learning_rate = CustomSchedule(d_model)\n",
        "\n",
        "optimizer = tf.keras.optimizers.legacy.Adam(learning_rate, beta_1=0.9, beta_2=0.98, \n",
        "                                     epsilon=1e-9)"
      ]
    },
    {
      "cell_type": "markdown",
      "metadata": {
        "id": "GznsjnQKOOhh"
      },
      "source": [
        " plot to visualize how the learning rate varies over a range of train steps using the CustomSchedule class.\n",
        "\n",
        "Here's an explanation of the code:\n",
        "\n",
        "temp_learning_rate_schedule is instantiated as an instance of the CustomSchedule class, using the d_model value as an argument. This initializes the learning rate schedule.\n",
        "plt.plot() is used to create the plot. The x-axis represents the train steps, which are generated using tf.range(40000, dtype=tf.float32), creating a range of 40000 steps.\n",
        "temp_learning_rate_schedule(tf.range(40000, dtype=tf.float32)) is called to obtain the learning rate values for each train step. The learning rate schedule is applied to the train steps, resulting in a tensor of learning rate values.\n",
        "The plot is created with the learning rate values on the y-axis and the train steps on the x-axis.\n",
        "plt.ylabel() is used to set the label for the y-axis as \"Learning Rate\".\n",
        "plt.xlabel() is used to set the label for the x-axis as \"Train Step\".\n",
        "The resulting plot illustrates how the learning rate changes as the train steps progress according to the custom learning rate schedule."
      ]
    },
    {
      "cell_type": "code",
      "execution_count": 43,
      "metadata": {
        "id": "f33ZCgvHpPdG",
        "colab": {
          "base_uri": "https://localhost:8080/",
          "height": 478
        },
        "outputId": "2b8f035a-5794-4275-d7a0-1a8c402c4070"
      },
      "outputs": [
        {
          "output_type": "execute_result",
          "data": {
            "text/plain": [
              "Text(0.5, 0, 'Train Step')"
            ]
          },
          "metadata": {},
          "execution_count": 43
        },
        {
          "output_type": "display_data",
          "data": {
            "text/plain": [
              "<Figure size 640x480 with 1 Axes>"
            ],
            "image/png": "[encoded data removed]"
          },
          "metadata": {}
        }
      ],
      "source": [
        "temp_learning_rate_schedule = CustomSchedule(d_model)\n",
        "\n",
        "plt.plot(temp_learning_rate_schedule(tf.range(40000, dtype=tf.float32)))\n",
        "plt.ylabel(\"Learning Rate\")\n",
        "plt.xlabel(\"Train Step\")"
      ]
    },
    {
      "cell_type": "markdown",
      "metadata": {
        "id": "YgkDE7hzo8r5"
      },
      "source": [
        "## Loss and metrics"
      ]
    },
    {
      "cell_type": "markdown",
      "metadata": {
        "id": "oxGJtoDuYIHL"
      },
      "source": [
        "Since the target sequences are padded, it is important to apply a padding mask when calculating the loss."
      ]
    },
    {
      "cell_type": "markdown",
      "metadata": {
        "id": "Tn2JmgleOOhh"
      },
      "source": [
        "The code you provided defines the following functions and metrics for training a Transformer model:\n",
        "\n",
        "1. `loss_object`: This is an instance of the `tf.keras.losses.SparseCategoricalCrossentropy` loss function. It is used to compute the loss between the predicted sequences (`pred`) and the target sequences (`real`). The `from_logits=True` argument indicates that the model's output is not normalized with a softmax activation, and the `reduction='none'` argument specifies that no reduction should be applied to the loss values.\n",
        "\n",
        "2. `loss_function`: This function computes the loss between the predicted sequences (`pred`) and the target sequences (`real`). It applies a mask to ignore padded positions by checking where the `real` values are not equal to 0. The loss is calculated using the `loss_object` and then multiplied by the mask to set the loss values to 0 at padded positions. Finally, the loss values are summed only over non-padded positions and divided by the total number of non-padded positions to get the average loss.\n",
        "\n",
        "3. `accuracy_function`: This function computes the accuracy of the predicted sequences (`pred`) compared to the target sequences (`real`). It first checks where the predicted sequences match the target sequences (`tf.equal(real, tf.argmax(pred, axis=2))`). Then, a mask is applied to ignore padded positions. The function computes the element-wise logical AND between the mask and the accuracies to only consider non-padded positions. The resulting accuracies are cast to `tf.float32`. Finally, the accuracies are summed only over non-padded positions and divided by the total number of non-padded positions to get the average accuracy.\n",
        "\n",
        "4. `train_loss`: This is a `tf.keras.metrics.Mean` metric used to track the average training loss during training.\n",
        "\n",
        "5. `train_accuracy`: This is a `tf.keras.metrics.Mean` metric used to track the average training accuracy during training.\n",
        "\n",
        "These functions and metrics can be used during the training loop of the Transformer model to compute and track the loss and accuracy metrics."
      ]
    },
    {
      "cell_type": "code",
      "execution_count": 44,
      "metadata": {
        "id": "MlhsJMm0TW_B"
      },
      "outputs": [],
      "source": [
        "loss_object = tf.keras.losses.SparseCategoricalCrossentropy(\n",
        "    from_logits=True, reduction='none')"
      ]
    },
    {
      "cell_type": "code",
      "execution_count": 45,
      "metadata": {
        "id": "67oqVHiT0Eiu"
      },
      "outputs": [],
      "source": [
        "def loss_function(real, pred):\n",
        "  mask = tf.math.logical_not(tf.math.equal(real, 0))\n",
        "  loss_ = loss_object(real, pred)\n",
        "\n",
        "  mask = tf.cast(mask, dtype=loss_.dtype)\n",
        "  loss_ *= mask\n",
        "  \n",
        "  return tf.reduce_sum(loss_)/tf.reduce_sum(mask)\n",
        "\n",
        "\n",
        "def accuracy_function(real, pred):\n",
        "  accuracies = tf.equal(real, tf.argmax(pred, axis=2))\n",
        "  \n",
        "  mask = tf.math.logical_not(tf.math.equal(real, 0))\n",
        "  accuracies = tf.math.logical_and(mask, accuracies)\n",
        "\n",
        "  accuracies = tf.cast(accuracies, dtype=tf.float32)\n",
        "  mask = tf.cast(mask, dtype=tf.float32)\n",
        "  return tf.reduce_sum(accuracies)/tf.reduce_sum(mask)"
      ]
    },
    {
      "cell_type": "code",
      "execution_count": 46,
      "metadata": {
        "id": "phlyxMnm-Tpx"
      },
      "outputs": [],
      "source": [
        "train_loss = tf.keras.metrics.Mean(name='train_loss')\n",
        "train_accuracy = tf.keras.metrics.Mean(name='train_accuracy')"
      ]
    },
    {
      "cell_type": "markdown",
      "metadata": {
        "id": "aeHumfr7zmMa"
      },
      "source": [
        "## Training and checkpointing"
      ]
    },
    {
      "cell_type": "code",
      "execution_count": 47,
      "metadata": {
        "id": "UiysUa--4tOU"
      },
      "outputs": [],
      "source": [
        "transformer = Transformer(num_layers, d_model, num_heads, dff,\n",
        "                          input_vocab_size, target_vocab_size, \n",
        "                          pe_input=input_vocab_size, \n",
        "                          pe_target=target_vocab_size,\n",
        "                          rate=dropout_rate)"
      ]
    },
    {
      "cell_type": "markdown",
      "metadata": {
        "id": "AQq0gimcOOhh"
      },
      "source": [
        "The `create_masks` function is used to create masks for the Transformer model during training and inference. It takes two arguments: `inp` (input sequence) and `tar` (target sequence). Here's an explanation of each mask it creates:\n",
        "\n",
        "1. **Encoder Padding Mask (`enc_padding_mask`):** This mask is used in the encoder to mask the padding tokens in the input sequence. It is created by calling the `create_padding_mask` function on the `inp` sequence.\n",
        "\n",
        "2. **Combined Mask (`combined_mask`):** This mask is used in the decoder's first attention block. It consists of two sub-masks: the **look-ahead mask** and the **decoder target padding mask**. The look-ahead mask is used to mask the future tokens in the input received by the decoder, preventing it from attending to future positions. The decoder target padding mask is used to mask the padding tokens in the target sequence. The combined mask is created by taking the element-wise maximum of the decoder target padding mask and the look-ahead mask.\n",
        "\n",
        "3. **Decoder Padding Mask (`dec_padding_mask`):** This mask is used in the decoder to mask the padding tokens in the input sequence. It is created by calling the `create_padding_mask` function on the `inp` sequence.\n",
        "\n",
        "The `create_masks` function then returns the `enc_padding_mask`, `combined_mask`, and `dec_padding_mask` as output. These masks are used in the training step of the Transformer model to apply appropriate masking during self-attention and feed-forward network computations."
      ]
    },
    {
      "cell_type": "code",
      "execution_count": 48,
      "metadata": {
        "id": "ZOJUSB1T8GjM"
      },
      "outputs": [],
      "source": [
        "def create_masks(inp, tar):\n",
        "  # Encoder padding mask\n",
        "  enc_padding_mask = create_padding_mask(inp)\n",
        "  \n",
        "  # Used in the 2nd attention block in the decoder.\n",
        "  # This padding mask is used to mask the encoder outputs.\n",
        "  dec_padding_mask = create_padding_mask(inp)\n",
        "  \n",
        "  # Used in the 1st attention block in the decoder.\n",
        "  # It is used to pad and mask future tokens in the input received by \n",
        "  # the decoder.\n",
        "  look_ahead_mask = create_look_ahead_mask(tf.shape(tar)[1])\n",
        "  dec_target_padding_mask = create_padding_mask(tar)\n",
        "  combined_mask = tf.maximum(dec_target_padding_mask, look_ahead_mask)\n",
        "  \n",
        "  return enc_padding_mask, combined_mask, dec_padding_mask"
      ]
    },
    {
      "cell_type": "markdown",
      "metadata": {
        "id": "Fzuf06YZp66w"
      },
      "source": [
        "Create the checkpoint path and the checkpoint manager. This will be used to save checkpoints every `n` epochs."
      ]
    },
    {
      "cell_type": "markdown",
      "metadata": {
        "id": "uiqpXBOrOOhi"
      },
      "source": [
        "The code snippet provided sets up a checkpointing mechanism for saving and restoring the model during training. Here's a breakdown of the code:\n",
        "\n",
        "1. `checkpoint_path` is the directory path where the checkpoints will be saved.\n",
        "2. `ckpt` is a `tf.train.Checkpoint` object that contains the Transformer model (`transformer`) and the optimizer (`optimizer`).\n",
        "3. `ckpt_manager` is a `tf.train.CheckpointManager` that handles the checkpoint saving and restoring process. It takes the `ckpt` object and the `checkpoint_path` as arguments. The `max_to_keep` parameter specifies the maximum number of checkpoints to keep.\n",
        "4. The code checks if a latest checkpoint exists using `ckpt_manager.latest_checkpoint`. If a checkpoint exists, it restores the model and optimizer states from the latest checkpoint using `ckpt.restore()`.\n",
        "5. Finally, it prints a message indicating that the latest checkpoint has been restored.\n",
        "\n",
        "By using this checkpointing mechanism, you can save the model's parameters and optimizer states during training, allowing you to resume training from the latest checkpoint if training gets interrupted or to load the trained model for inference at a later time."
      ]
    },
    {
      "cell_type": "code",
      "execution_count": 49,
      "metadata": {
        "id": "hNhuYfllndLZ"
      },
      "outputs": [],
      "source": [
        "checkpoint_path = \"./checkpoints/train\"\n",
        "\n",
        "ckpt = tf.train.Checkpoint(transformer=transformer,\n",
        "                           optimizer=optimizer)\n",
        "\n",
        "ckpt_manager = tf.train.CheckpointManager(ckpt, checkpoint_path, max_to_keep=5)\n",
        "\n",
        "# if a checkpoint exists, restore the latest checkpoint.\n",
        "if ckpt_manager.latest_checkpoint:\n",
        "  ckpt.restore(ckpt_manager.latest_checkpoint)\n",
        "  print ('Latest checkpoint restored!!')"
      ]
    },
    {
      "cell_type": "markdown",
      "metadata": {
        "id": "0Di_Yaa1gf9r"
      },
      "source": [
        "Цель делится на tar_inp и tar_real. tar_inp передается декодеру в качестве входных данных. tar_real - это тот же самый ввод, сдвинутый на 1: в каждом месте tar_input tar_real содержит следующий токен, который должен быть предсказан.\n",
        "\n",
        "Например, sentence = \"SOS Лев в джунглях спит EOS\"\n",
        "\n",
        "tar_inp = \"SOS tar_inp лев в джунглях\"\n",
        "\n",
        "tar_real = \"Лев в джунглях спит EOS\"\n",
        "\n",
        "Преобразователь - это авторегрессивная модель: он делает прогнозы по частям и использует свои выходные данные, чтобы решить, что делать дальше.\n",
        "\n",
        "Во время обучения в этом примере используется принуждение учителя (как в учебнике по созданию текста ). Принуждение учителя передает истинный результат следующему временному шагу независимо от того, что модель предсказывает на текущем временном шаге.\n",
        "\n",
        "Поскольку преобразователь предсказывает каждое слово, самовнимание позволяет ему смотреть на предыдущие слова во входной последовательности, чтобы лучше предсказать следующее слово.\n",
        "\n",
        "Чтобы модель не просматривала ожидаемый результат, в модели используется маска просмотра вперед.\n",
        "\n"
      ]
    },
    {
      "cell_type": "markdown",
      "metadata": {
        "id": "ixKPX2NZOOhi"
      },
      "source": [
        "The `train_step` function is defined as a TensorFlow function with a specific input signature. It takes `inp` and `tar` as input tensors of shape `(None, None)` with dtype `tf.int64`.\n",
        "\n",
        "Inside the function, the `tar_inp` is obtained by slicing `tar` to exclude the last token, and `tar_real` is obtained by slicing `tar` to exclude the first token.\n",
        "\n",
        "Next, the masks (`enc_padding_mask`, `combined_mask`, and `dec_padding_mask`) are created using the `create_masks` function.\n",
        "\n",
        "Within a gradient tape context, the `transformer` model is called with `inp`, `tar_inp`, and the masks to obtain `predictions` (the model's output). The loss is calculated using `loss_function` by comparing `tar_real` with `predictions`.\n",
        "\n",
        "Gradients are computed with respect to the trainable variables of the `transformer` model using the tape. Then, the optimizer's `apply_gradients` method is used to update the model's trainable variables based on the gradients.\n",
        "\n",
        "The training loss and accuracy are updated using the `train_loss` and `train_accuracy` metrics, respectively."
      ]
    },
    {
      "cell_type": "code",
      "execution_count": 50,
      "metadata": {
        "id": "LKpoA6q1sJFj"
      },
      "outputs": [],
      "source": [
        "EPOCHS = 5"
      ]
    },
    {
      "cell_type": "code",
      "execution_count": 51,
      "metadata": {
        "id": "iJwmp9OE29oj"
      },
      "outputs": [],
      "source": [
        "# The @tf.function trace-compiles train_step into a TF graph for faster\n",
        "# execution. The function specializes to the precise shape of the argument\n",
        "# tensors. To avoid re-tracing due to the variable sequence lengths or variable\n",
        "# batch sizes (the last batch is smaller), use input_signature to specify\n",
        "# more generic shapes.\n",
        "\n",
        "train_step_signature = [\n",
        "    tf.TensorSpec(shape=(None, None), dtype=tf.int64),\n",
        "    tf.TensorSpec(shape=(None, None), dtype=tf.int64),\n",
        "]\n",
        "\n",
        "@tf.function(input_signature=train_step_signature)\n",
        "def train_step(inp, tar):\n",
        "  tar_inp = tar[:, :-1]\n",
        "  tar_real = tar[:, 1:]\n",
        "  \n",
        "  enc_padding_mask, combined_mask, dec_padding_mask = create_masks(inp, tar_inp)\n",
        "  \n",
        "  with tf.GradientTape() as tape:\n",
        "    predictions, _ = transformer(inp, tar_inp, \n",
        "                                 True, \n",
        "                                 enc_padding_mask, \n",
        "                                 combined_mask, \n",
        "                                 dec_padding_mask)\n",
        "    loss = loss_function(tar_real, predictions)\n",
        "\n",
        "  gradients = tape.gradient(loss, transformer.trainable_variables)    \n",
        "  optimizer.apply_gradients(zip(gradients, transformer.trainable_variables))\n",
        "  \n",
        "  train_loss(loss)\n",
        "  train_accuracy(accuracy_function(tar_real, predictions))"
      ]
    },
    {
      "cell_type": "markdown",
      "metadata": {
        "id": "qM2PDWGDJ_8V"
      },
      "source": [
        "Ru is used as the input language and English is the target language."
      ]
    },
    {
      "cell_type": "markdown",
      "metadata": {
        "id": "6DXI0VrHOOhi"
      },
      "source": [
        "This code snippet represents the training loop for the Transformer model. Here's what it does:\n",
        "\n",
        "- It iterates over the specified number of epochs.\n",
        "- For each epoch, it initializes the training loss and accuracy states.\n",
        "- It iterates over the batches of the training dataset, where each batch contains input (`inp`) and target (`tar`) sequences.\n",
        "- For each batch, it calls the `train_step` function to perform a single training step.\n",
        "- Every 50 batches, it prints the current epoch, batch number, training loss, and training accuracy.\n",
        "- Every 5 epochs, it saves a checkpoint of the model using the `ckpt_manager.save()` method.\n",
        "- After each epoch, it prints the epoch loss and accuracy.\n",
        "- It measures the time taken for each epoch and prints it.\n",
        "- The loop continues until all epochs are completed.\n",
        "\n",
        "This training loop allows the Transformer model to be trained on the provided dataset, and the model's performance is monitored through the loss and accuracy metrics. Checkpoints are saved periodically to allow for model checkpointing and resuming training if needed."
      ]
    },
    {
      "cell_type": "code",
      "execution_count": null,
      "metadata": {
        "id": "bbvmaKNiznHZ",
        "colab": {
          "base_uri": "https://localhost:8080/"
        },
        "outputId": "9e2ccdd7-ce8a-4f96-d072-107bf8ef2f18"
      },
      "outputs": [
        {
          "output_type": "stream",
          "name": "stdout",
          "text": [
            "Epoch 1 Batch 0 Loss 9.0379 Accuracy 0.0000\n",
            "Epoch 1 Batch 50 Loss 8.9769 Accuracy 0.0032\n",
            "Epoch 1 Batch 100 Loss 8.8809 Accuracy 0.0252\n",
            "Epoch 1 Batch 150 Loss 8.7785 Accuracy 0.0327\n",
            "Epoch 1 Batch 200 Loss 8.6515 Accuracy 0.0370\n",
            "Epoch 1 Batch 250 Loss 8.4967 Accuracy 0.0418\n",
            "Epoch 1 Batch 300 Loss 8.3193 Accuracy 0.0504\n",
            "Epoch 1 Batch 350 Loss 8.1334 Accuracy 0.0574\n",
            "Epoch 1 Batch 400 Loss 7.9528 Accuracy 0.0629\n",
            "Epoch 1 Batch 450 Loss 7.7875 Accuracy 0.0680\n",
            "Epoch 1 Batch 500 Loss 7.6423 Accuracy 0.0744\n",
            "Epoch 1 Batch 550 Loss 7.5095 Accuracy 0.0819\n",
            "Epoch 1 Batch 600 Loss 7.3837 Accuracy 0.0898\n",
            "Epoch 1 Batch 650 Loss 7.2616 Accuracy 0.0976\n",
            "Epoch 1 Batch 700 Loss 7.1472 Accuracy 0.1046\n",
            "Epoch 1 Batch 750 Loss 7.0386 Accuracy 0.1116\n",
            "Epoch 1 Batch 800 Loss 6.9353 Accuracy 0.1186\n",
            "Epoch 1 Batch 850 Loss 6.8397 Accuracy 0.1251\n",
            "Epoch 1 Batch 900 Loss 6.7490 Accuracy 0.1313\n",
            "Epoch 1 Batch 950 Loss 6.6654 Accuracy 0.1371\n",
            "Epoch 1 Batch 1000 Loss 6.5853 Accuracy 0.1427\n",
            "Epoch 1 Batch 1050 Loss 6.5112 Accuracy 0.1481\n",
            "Epoch 1 Batch 1100 Loss 6.4406 Accuracy 0.1532\n",
            "Epoch 1 Batch 1150 Loss 6.3749 Accuracy 0.1580\n",
            "Epoch 1 Batch 1200 Loss 6.3132 Accuracy 0.1626\n",
            "Epoch 1 Batch 1250 Loss 6.2546 Accuracy 0.1670\n",
            "Epoch 1 Batch 1300 Loss 6.1991 Accuracy 0.1713\n",
            "Epoch 1 Batch 1350 Loss 6.1475 Accuracy 0.1752\n",
            "Epoch 1 Batch 1400 Loss 6.0973 Accuracy 0.1790\n",
            "Epoch 1 Batch 1450 Loss 6.0507 Accuracy 0.1827\n",
            "Epoch 1 Batch 1500 Loss 6.0055 Accuracy 0.1863\n",
            "Epoch 1 Batch 1550 Loss 5.9626 Accuracy 0.1896\n",
            "Epoch 1 Batch 1600 Loss 5.9214 Accuracy 0.1929\n",
            "Epoch 1 Batch 1650 Loss 5.8828 Accuracy 0.1959\n",
            "Epoch 1 Batch 1700 Loss 5.8451 Accuracy 0.1989\n",
            "Epoch 1 Batch 1750 Loss 5.8101 Accuracy 0.2016\n",
            "Epoch 1 Batch 1800 Loss 5.7761 Accuracy 0.2042\n",
            "Epoch 1 Batch 1850 Loss 5.7428 Accuracy 0.2069\n",
            "Epoch 1 Batch 1900 Loss 5.7107 Accuracy 0.2094\n",
            "Epoch 1 Batch 1950 Loss 5.6804 Accuracy 0.2118\n",
            "Epoch 1 Batch 2000 Loss 5.6501 Accuracy 0.2141\n",
            "Epoch 1 Batch 2050 Loss 5.6212 Accuracy 0.2164\n",
            "Epoch 1 Batch 2100 Loss 5.5931 Accuracy 0.2186\n",
            "Epoch 1 Batch 2150 Loss 5.5659 Accuracy 0.2208\n",
            "Epoch 1 Batch 2200 Loss 5.5402 Accuracy 0.2228\n",
            "Epoch 1 Batch 2250 Loss 5.5148 Accuracy 0.2248\n",
            "Epoch 1 Batch 2300 Loss 5.4902 Accuracy 0.2268\n",
            "Epoch 1 Batch 2350 Loss 5.4654 Accuracy 0.2287\n",
            "Epoch 1 Batch 2400 Loss 5.4416 Accuracy 0.2306\n",
            "Epoch 1 Batch 2450 Loss 5.4183 Accuracy 0.2325\n",
            "Epoch 1 Batch 2500 Loss 5.3960 Accuracy 0.2343\n",
            "Epoch 1 Batch 2550 Loss 5.3744 Accuracy 0.2361\n",
            "Epoch 1 Batch 2600 Loss 5.3529 Accuracy 0.2378\n",
            "Epoch 1 Loss 5.3424 Accuracy 0.2387\n",
            "Time taken for 1 epoch: 353.6798515319824 secs\n",
            "\n",
            "Epoch 2 Batch 0 Loss 4.1716 Accuracy 0.3495\n",
            "Epoch 2 Batch 50 Loss 4.1997 Accuracy 0.3316\n",
            "Epoch 2 Batch 100 Loss 4.1989 Accuracy 0.3329\n",
            "Epoch 2 Batch 150 Loss 4.1876 Accuracy 0.3348\n",
            "Epoch 2 Batch 200 Loss 4.1823 Accuracy 0.3345\n",
            "Epoch 2 Batch 250 Loss 4.1721 Accuracy 0.3357\n",
            "Epoch 2 Batch 300 Loss 4.1646 Accuracy 0.3363\n",
            "Epoch 2 Batch 350 Loss 4.1580 Accuracy 0.3369\n",
            "Epoch 2 Batch 400 Loss 4.1483 Accuracy 0.3380\n",
            "Epoch 2 Batch 450 Loss 4.1385 Accuracy 0.3390\n",
            "Epoch 2 Batch 500 Loss 4.1328 Accuracy 0.3394\n",
            "Epoch 2 Batch 550 Loss 4.1225 Accuracy 0.3403\n",
            "Epoch 2 Batch 600 Loss 4.1154 Accuracy 0.3410\n",
            "Epoch 2 Batch 650 Loss 4.1070 Accuracy 0.3420\n",
            "Epoch 2 Batch 700 Loss 4.0971 Accuracy 0.3429\n",
            "Epoch 2 Batch 750 Loss 4.0877 Accuracy 0.3439\n",
            "Epoch 2 Batch 800 Loss 4.0781 Accuracy 0.3447\n",
            "Epoch 2 Batch 850 Loss 4.0705 Accuracy 0.3454\n",
            "Epoch 2 Batch 900 Loss 4.0610 Accuracy 0.3463\n",
            "Epoch 2 Batch 950 Loss 4.0526 Accuracy 0.3470\n",
            "Epoch 2 Batch 1000 Loss 4.0440 Accuracy 0.3480\n",
            "Epoch 2 Batch 1050 Loss 4.0358 Accuracy 0.3488\n",
            "Epoch 2 Batch 1100 Loss 4.0280 Accuracy 0.3496\n",
            "Epoch 2 Batch 1150 Loss 4.0193 Accuracy 0.3505\n",
            "Epoch 2 Batch 1200 Loss 4.0131 Accuracy 0.3512\n",
            "Epoch 2 Batch 1250 Loss 4.0046 Accuracy 0.3521\n",
            "Epoch 2 Batch 1300 Loss 3.9967 Accuracy 0.3529\n",
            "Epoch 2 Batch 1350 Loss 3.9900 Accuracy 0.3536\n",
            "Epoch 2 Batch 1400 Loss 3.9825 Accuracy 0.3545\n",
            "Epoch 2 Batch 1450 Loss 3.9753 Accuracy 0.3553\n",
            "Epoch 2 Batch 1500 Loss 3.9675 Accuracy 0.3562\n",
            "Epoch 2 Batch 1550 Loss 3.9596 Accuracy 0.3570\n",
            "Epoch 2 Batch 1600 Loss 3.9522 Accuracy 0.3577\n",
            "Epoch 2 Batch 1650 Loss 3.9441 Accuracy 0.3586\n",
            "Epoch 2 Batch 1700 Loss 3.9367 Accuracy 0.3594\n",
            "Epoch 2 Batch 1750 Loss 3.9306 Accuracy 0.3601\n",
            "Epoch 2 Batch 1800 Loss 3.9232 Accuracy 0.3609\n",
            "Epoch 2 Batch 1850 Loss 3.9156 Accuracy 0.3617\n",
            "Epoch 2 Batch 1900 Loss 3.9079 Accuracy 0.3626\n",
            "Epoch 2 Batch 1950 Loss 3.9007 Accuracy 0.3634\n",
            "Epoch 2 Batch 2000 Loss 3.8927 Accuracy 0.3642\n",
            "Epoch 2 Batch 2050 Loss 3.8855 Accuracy 0.3650\n",
            "Epoch 2 Batch 2100 Loss 3.8776 Accuracy 0.3659\n",
            "Epoch 2 Batch 2150 Loss 3.8698 Accuracy 0.3668\n",
            "Epoch 2 Batch 2200 Loss 3.8623 Accuracy 0.3676\n",
            "Epoch 2 Batch 2250 Loss 3.8547 Accuracy 0.3684\n",
            "Epoch 2 Batch 2300 Loss 3.8474 Accuracy 0.3693\n",
            "Epoch 2 Batch 2350 Loss 3.8399 Accuracy 0.3701\n",
            "Epoch 2 Batch 2400 Loss 3.8326 Accuracy 0.3708\n",
            "Epoch 2 Batch 2450 Loss 3.8251 Accuracy 0.3716\n",
            "Epoch 2 Batch 2500 Loss 3.8177 Accuracy 0.3724\n",
            "Epoch 2 Batch 2550 Loss 3.8103 Accuracy 0.3732\n",
            "Epoch 2 Batch 2600 Loss 3.8034 Accuracy 0.3739\n",
            "Epoch 2 Loss 3.7997 Accuracy 0.3743\n",
            "Time taken for 1 epoch: 147.70274233818054 secs\n",
            "\n",
            "Epoch 3 Batch 0 Loss 3.3807 Accuracy 0.4230\n",
            "Epoch 3 Batch 50 Loss 3.3841 Accuracy 0.4181\n",
            "Epoch 3 Batch 100 Loss 3.3700 Accuracy 0.4193\n",
            "Epoch 3 Batch 150 Loss 3.3723 Accuracy 0.4194\n",
            "Epoch 3 Batch 200 Loss 3.3740 Accuracy 0.4196\n",
            "Epoch 3 Batch 250 Loss 3.3673 Accuracy 0.4206\n",
            "Epoch 3 Batch 300 Loss 3.3613 Accuracy 0.4212\n",
            "Epoch 3 Batch 350 Loss 3.3546 Accuracy 0.4219\n",
            "Epoch 3 Batch 400 Loss 3.3487 Accuracy 0.4223\n",
            "Epoch 3 Batch 450 Loss 3.3429 Accuracy 0.4231\n",
            "Epoch 3 Batch 500 Loss 3.3384 Accuracy 0.4236\n",
            "Epoch 3 Batch 550 Loss 3.3295 Accuracy 0.4244\n",
            "Epoch 3 Batch 600 Loss 3.3257 Accuracy 0.4248\n",
            "Epoch 3 Batch 650 Loss 3.3224 Accuracy 0.4252\n",
            "Epoch 3 Batch 700 Loss 3.3165 Accuracy 0.4259\n",
            "Epoch 3 Batch 750 Loss 3.3098 Accuracy 0.4266\n",
            "Epoch 3 Batch 800 Loss 3.3020 Accuracy 0.4274\n",
            "Epoch 3 Batch 850 Loss 3.2975 Accuracy 0.4279\n",
            "Epoch 3 Batch 900 Loss 3.2930 Accuracy 0.4284\n",
            "Epoch 3 Batch 950 Loss 3.2872 Accuracy 0.4291\n",
            "Epoch 3 Batch 1000 Loss 3.2821 Accuracy 0.4298\n",
            "Epoch 3 Batch 1050 Loss 3.2764 Accuracy 0.4304\n",
            "Epoch 3 Batch 1100 Loss 3.2708 Accuracy 0.4312\n",
            "Epoch 3 Batch 1150 Loss 3.2651 Accuracy 0.4319\n",
            "Epoch 3 Batch 1200 Loss 3.2592 Accuracy 0.4326\n",
            "Epoch 3 Batch 1250 Loss 3.2536 Accuracy 0.4332\n",
            "Epoch 3 Batch 1300 Loss 3.2483 Accuracy 0.4337\n",
            "Epoch 3 Batch 1350 Loss 3.2434 Accuracy 0.4342\n",
            "Epoch 3 Batch 1400 Loss 3.2375 Accuracy 0.4348\n",
            "Epoch 3 Batch 1450 Loss 3.2326 Accuracy 0.4354\n",
            "Epoch 3 Batch 1500 Loss 3.2272 Accuracy 0.4361\n",
            "Epoch 3 Batch 1550 Loss 3.2228 Accuracy 0.4365\n",
            "Epoch 3 Batch 1600 Loss 3.2179 Accuracy 0.4371\n",
            "Epoch 3 Batch 1650 Loss 3.2130 Accuracy 0.4377\n",
            "Epoch 3 Batch 1700 Loss 3.2086 Accuracy 0.4382\n",
            "Epoch 3 Batch 1750 Loss 3.2036 Accuracy 0.4388\n",
            "Epoch 3 Batch 1800 Loss 3.1994 Accuracy 0.4393\n",
            "Epoch 3 Batch 1850 Loss 3.1953 Accuracy 0.4397\n",
            "Epoch 3 Batch 1900 Loss 3.1909 Accuracy 0.4402\n",
            "Epoch 3 Batch 1950 Loss 3.1862 Accuracy 0.4407\n",
            "Epoch 3 Batch 2000 Loss 3.1816 Accuracy 0.4412\n",
            "Epoch 3 Batch 2050 Loss 3.1766 Accuracy 0.4417\n",
            "Epoch 3 Batch 2100 Loss 3.1722 Accuracy 0.4423\n",
            "Epoch 3 Batch 2150 Loss 3.1679 Accuracy 0.4428\n",
            "Epoch 3 Batch 2200 Loss 3.1638 Accuracy 0.4432\n",
            "Epoch 3 Batch 2250 Loss 3.1601 Accuracy 0.4435\n",
            "Epoch 3 Batch 2300 Loss 3.1564 Accuracy 0.4439\n",
            "Epoch 3 Batch 2350 Loss 3.1520 Accuracy 0.4445\n",
            "Epoch 3 Batch 2400 Loss 3.1480 Accuracy 0.4449\n",
            "Epoch 3 Batch 2450 Loss 3.1444 Accuracy 0.4453\n",
            "Epoch 3 Batch 2500 Loss 3.1404 Accuracy 0.4459\n",
            "Epoch 3 Batch 2550 Loss 3.1361 Accuracy 0.4464\n",
            "Epoch 3 Batch 2600 Loss 3.1327 Accuracy 0.4467\n",
            "Epoch 3 Loss 3.1311 Accuracy 0.4468\n",
            "Time taken for 1 epoch: 145.07211112976074 secs\n",
            "\n",
            "Epoch 4 Batch 0 Loss 3.1233 Accuracy 0.4522\n",
            "Epoch 4 Batch 50 Loss 2.9128 Accuracy 0.4721\n",
            "Epoch 4 Batch 100 Loss 2.9020 Accuracy 0.4732\n",
            "Epoch 4 Batch 150 Loss 2.8854 Accuracy 0.4753\n",
            "Epoch 4 Batch 200 Loss 2.8803 Accuracy 0.4756\n",
            "Epoch 4 Batch 250 Loss 2.8707 Accuracy 0.4770\n",
            "Epoch 4 Batch 300 Loss 2.8723 Accuracy 0.4763\n",
            "Epoch 4 Batch 350 Loss 2.8767 Accuracy 0.4757\n",
            "Epoch 4 Batch 400 Loss 2.8824 Accuracy 0.4744\n",
            "Epoch 4 Batch 450 Loss 2.8818 Accuracy 0.4744\n",
            "Epoch 4 Batch 500 Loss 2.8788 Accuracy 0.4746\n",
            "Epoch 4 Batch 550 Loss 2.8775 Accuracy 0.4746\n",
            "Epoch 4 Batch 600 Loss 2.8758 Accuracy 0.4749\n",
            "Epoch 4 Batch 650 Loss 2.8721 Accuracy 0.4756\n",
            "Epoch 4 Batch 700 Loss 2.8695 Accuracy 0.4759\n",
            "Epoch 4 Batch 750 Loss 2.8685 Accuracy 0.4760\n"
          ]
        }
      ],
      "source": [
        "for epoch in range(EPOCHS):\n",
        "  start = time.time()\n",
        "  \n",
        "  train_loss.reset_states()\n",
        "  train_accuracy.reset_states()\n",
        "  \n",
        "  # inp -> portuguese, tar -> english\n",
        "  for (batch, (inp, tar)) in enumerate(train_dataset):\n",
        "    train_step(inp, tar)\n",
        "    \n",
        "    if batch % 50 == 0:\n",
        "      print ('Epoch {} Batch {} Loss {:.4f} Accuracy {:.4f}'.format(\n",
        "          epoch + 1, batch, train_loss.result(), train_accuracy.result()))\n",
        "      \n",
        "  if (epoch + 1) % 5 == 0:\n",
        "    ckpt_save_path = ckpt_manager.save()\n",
        "    print ('Saving checkpoint for epoch {} at {}'.format(epoch+1,\n",
        "                                                         ckpt_save_path))\n",
        "    \n",
        "  print ('Epoch {} Loss {:.4f} Accuracy {:.4f}'.format(epoch + 1, \n",
        "                                                train_loss.result(), \n",
        "                                                train_accuracy.result()))\n",
        "\n",
        "  print ('Time taken for 1 epoch: {} secs\\n'.format(time.time() - start))"
      ]
    },
    {
      "cell_type": "markdown",
      "metadata": {
        "id": "QfcsSWswSdGV"
      },
      "source": [
        "## Evaluate"
      ]
    },
    {
      "cell_type": "markdown",
      "metadata": {
        "id": "y6APsFrgImLW"
      },
      "source": [
        "Для оценки используются следующие шаги:\n",
        "\n",
        "Закодируйте входное предложение с помощью русского токенизатора ( tokenizer_pt ). Кроме того, добавьте начальный и конечный токены, чтобы ввод был эквивалентен тому, с чем обучается модель. Это вход энкодера.\n",
        "Вход декодера - это start token == tokenizer_en.vocab_size .\n",
        "Рассчитайте маски заполнения и маски прогнозирования.\n",
        "Затем decoder выводит прогнозы, глядя на encoder output и собственные выходные данные (самовнимание).\n",
        "Выберите последнее слово и вычислите его argmax.\n",
        "Конкатентируйте предсказанное слово на вход декодера при передаче его в декодер.\n",
        "В этом подходе декодер предсказывает следующее слово на основе предсказанных им предыдущих слов.\n"
      ]
    },
    {
      "cell_type": "markdown",
      "metadata": {
        "id": "d4YWWSNjOOhi"
      },
      "source": [
        "The `evaluate` function takes an input sentence in Portuguese and generates its corresponding translation in English using the trained Transformer model. Here's how it works:\n",
        "\n",
        "- The input sentence is tokenized using the Portuguese tokenizer (`tokenizer_pt`) and appended with start and end tokens.\n",
        "- The encoder input is created by expanding the dimensions of the tokenized input sentence.\n",
        "- The decoder input starts with the English start token (`tokenizer_en.vocab_size`).\n",
        "- The `output` tensor represents the decoder input sequence, which is expanded with an extra dimension.\n",
        "- In a loop that runs for a maximum length (`MAX_LENGTH`) or until the end token is predicted:\n",
        "  - The padding masks (`enc_padding_mask`, `combined_mask`, `dec_padding_mask`) are created using the encoder input and the current decoder output.\n",
        "  - The Transformer model is called with the encoder input, current decoder output, and the created masks to generate predictions and attention weights.\n",
        "  - The predicted next token is selected by taking the token with the highest probability (`argmax`) from the predictions.\n",
        "  - If the predicted token is the end token (`tokenizer_en.vocab_size + 1`), the generated output sequence is returned along with the attention weights.\n",
        "  - Otherwise, the predicted token is concatenated with the output sequence and the loop continues.\n",
        "- Finally, the generated output sequence is returned (after removing the extra dimension) along with the attention weights.\n",
        "\n",
        "This function allows you to provide an input sentence and obtain its translation using the trained Transformer model."
      ]
    },
    {
      "cell_type": "code",
      "execution_count": 53,
      "metadata": {
        "id": "5buvMlnvyrFm"
      },
      "outputs": [],
      "source": [
        "def evaluate(inp_sentence):\n",
        "  start_token = [tokenizer_pt.vocab_size]\n",
        "  end_token = [tokenizer_pt.vocab_size + 1]\n",
        "  \n",
        "  # inp sentence is portuguese, hence adding the start and end token\n",
        "  inp_sentence = start_token + tokenizer_pt.encode(inp_sentence) + end_token\n",
        "  encoder_input = tf.expand_dims(inp_sentence, 0)\n",
        "  \n",
        "  # as the target is english, the first word to the transformer should be the\n",
        "  # english start token.\n",
        "  decoder_input = [tokenizer_en.vocab_size]\n",
        "  output = tf.expand_dims(decoder_input, 0)\n",
        "    \n",
        "  for i in range(MAX_LENGTH):\n",
        "    enc_padding_mask, combined_mask, dec_padding_mask = create_masks(\n",
        "        encoder_input, output)\n",
        "  \n",
        "    # predictions.shape == (batch_size, seq_len, vocab_size)\n",
        "    predictions, attention_weights = transformer(encoder_input, \n",
        "                                                 output,\n",
        "                                                 False,\n",
        "                                                 enc_padding_mask,\n",
        "                                                 combined_mask,\n",
        "                                                 dec_padding_mask)\n",
        "    \n",
        "    # select the last word from the seq_len dimension\n",
        "    predictions = predictions[: ,-1:, :]  # (batch_size, 1, vocab_size)\n",
        "\n",
        "    predicted_id = tf.cast(tf.argmax(predictions, axis=-1), tf.int32)\n",
        "    \n",
        "    # return the result if the predicted_id is equal to the end token\n",
        "    if predicted_id == tokenizer_en.vocab_size+1:\n",
        "      return tf.squeeze(output, axis=0), attention_weights\n",
        "    \n",
        "    # concatentate the predicted_id to the output which is given to the decoder\n",
        "    # as its input.\n",
        "    output = tf.concat([output, predicted_id], axis=-1)\n",
        "\n",
        "  return tf.squeeze(output, axis=0), attention_weights"
      ]
    },
    {
      "cell_type": "markdown",
      "metadata": {
        "id": "YYRvIBhoOOhi"
      },
      "source": [
        "The `plot_attention_weights` function is used to visualize the attention weights for each head of a specific layer in the Transformer model. Here's how it works:\n",
        "\n",
        "- The function takes the attention tensor, input sentence, generated result, and the layer index as inputs.\n",
        "- It creates a figure with a size of (16, 8) to accommodate the subplots for each attention head.\n",
        "- The input sentence is tokenized using the Portuguese tokenizer (`tokenizer_pt`).\n",
        "- The attention tensor is squeezed to remove the extra dimensions, leaving the attention weights with the shape (num_heads, target_seq_len, input_seq_len+2).\n",
        "- For each head in the attention tensor, a subplot is added to the figure.\n",
        "- The attention weights for the current head are visualized using a color map (`cmap='viridis'`).\n",
        "- The x-axis tick labels represent the tokens in the input sentence (start token, Portuguese tokens, and end token), decoded using the Portuguese tokenizer.\n",
        "- The y-axis tick labels represent the tokens in the generated result, decoded using the English tokenizer (`tokenizer_en`).\n",
        "- The x-axis label of each subplot shows the corresponding head index.\n",
        "- The plot is displayed with tight layout to ensure proper spacing between subplots.\n",
        "\n",
        "This function allows you to visualize the attention weights for each head of a specific layer, providing insights into the attention mechanism of the Transformer model during translation."
      ]
    },
    {
      "cell_type": "code",
      "execution_count": 54,
      "metadata": {
        "id": "CN-BV43FMBej"
      },
      "outputs": [],
      "source": [
        "def plot_attention_weights(attention, sentence, result, layer):\n",
        "  fig = plt.figure(figsize=(16, 8))\n",
        "  \n",
        "  sentence = tokenizer_pt.encode(sentence)\n",
        "  \n",
        "  attention = tf.squeeze(attention[layer], axis=0)\n",
        "  \n",
        "  for head in range(attention.shape[0]):\n",
        "    ax = fig.add_subplot(2, 4, head+1)\n",
        "    \n",
        "    # plot the attention weights\n",
        "    ax.matshow(attention[head][:-1, :], cmap='viridis')\n",
        "\n",
        "    fontdict = {'fontsize': 10}\n",
        "    \n",
        "    ax.set_xticks(range(len(sentence)+2))\n",
        "    ax.set_yticks(range(len(result)))\n",
        "    \n",
        "    ax.set_ylim(len(result)-1.5, -0.5)\n",
        "        \n",
        "    ax.set_xticklabels(\n",
        "        ['<start>']+[tokenizer_pt.decode([i]) for i in sentence]+['<end>'], \n",
        "        fontdict=fontdict, rotation=90)\n",
        "    \n",
        "    ax.set_yticklabels([tokenizer_en.decode([i]) for i in result \n",
        "                        if i < tokenizer_en.vocab_size], \n",
        "                       fontdict=fontdict)\n",
        "    \n",
        "    ax.set_xlabel('Head {}'.format(head+1))\n",
        "  \n",
        "  plt.tight_layout()\n",
        "  plt.show()"
      ]
    },
    {
      "cell_type": "markdown",
      "metadata": {
        "id": "LTnUGr6TOOhj"
      },
      "source": [
        "The `translate` function is used to translate a given input sentence from Portuguese to English using the trained Transformer model. Here's how it works:\n",
        "\n",
        "- The function takes a sentence as input and calls the `evaluate` function to generate the translation result and attention weights.\n",
        "- The translation result is decoded using the English tokenizer (`tokenizer_en`) to obtain the predicted sentence.\n",
        "- The input sentence and the predicted translation are printed.\n",
        "- If the `plot` parameter is provided (not empty), the `plot_attention_weights` function is called to visualize the attention weights. The `plot` parameter specifies the layer for which the attention weights should be plotted.\n",
        "- The attention weights are used to visualize the alignment between the input sentence and the generated translation at the specified layer.\n",
        "\n",
        "This function allows you to translate a sentence and optionally visualize the attention weights to gain insights into the translation process of the Transformer model."
      ]
    },
    {
      "cell_type": "code",
      "execution_count": 55,
      "metadata": {
        "id": "lU2_yG_vBGza"
      },
      "outputs": [],
      "source": [
        "def translate(sentence, plot=''):\n",
        "  result, attention_weights = evaluate(sentence)\n",
        "  \n",
        "  predicted_sentence = tokenizer_en.decode([i for i in result \n",
        "                                            if i < tokenizer_en.vocab_size])  \n",
        "\n",
        "  print('Input: {}'.format(sentence))\n",
        "  print('Predicted translation: {}'.format(predicted_sentence))\n",
        "  \n",
        "  if plot:\n",
        "    plot_attention_weights(attention_weights, sentence, result, plot)"
      ]
    },
    {
      "cell_type": "code",
      "execution_count": 56,
      "metadata": {
        "id": "BpsHP-x3Lnq5",
        "colab": {
          "base_uri": "https://localhost:8080/"
        },
        "outputId": "415e89bf-6fb0-4d8c-df00-aac2eb689029"
      },
      "outputs": [
        {
          "output_type": "stream",
          "name": "stdout",
          "text": [
            "Input: Осенним вечером шёл дождь!\n",
            "Predicted translation: the slot was going to go to the rain evening .\n"
          ]
        }
      ],
      "source": [
        "translate('Осенним вечером шёл дождь!')"
      ]
    },
    {
      "cell_type": "code",
      "execution_count": 57,
      "metadata": {
        "id": "gmLTN9cgL3ed",
        "colab": {
          "base_uri": "https://localhost:8080/"
        },
        "outputId": "415cac3f-e9cd-41c6-8d06-cc4e75121c22"
      },
      "outputs": [
        {
          "output_type": "stream",
          "name": "stdout",
          "text": [
            "Input: он собирается домой\n",
            "Predicted translation: he is going to go home .\n"
          ]
        }
      ],
      "source": [
        "translate('он собирается домой')"
      ]
    },
    {
      "cell_type": "code",
      "execution_count": null,
      "metadata": {
        "id": "QHzndZ1xNHKn"
      },
      "outputs": [],
      "source": []
    }
  ],
  "metadata": {
    "accelerator": "GPU",
    "colab": {
      "collapsed_sections": [
        "s_qNSzzyaCbD"
      ],
      "machine_shape": "hm",
      "provenance": [],
      "gpuType": "T4",
      "include_colab_link": true
    },
    "kernelspec": {
      "display_name": "Python 3",
      "name": "python3"
    },
    "language_info": {
      "codemirror_mode": {
        "name": "ipython",
        "version": 3
      },
      "file_extension": ".py",
      "mimetype": "text/x-python",
      "name": "python",
      "nbconvert_exporter": "python",
      "pygments_lexer": "ipython3",
      "version": "3.10.10"
    }
  },
  "nbformat": 4,
  "nbformat_minor": 0
}