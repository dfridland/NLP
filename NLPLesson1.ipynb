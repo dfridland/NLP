{
  "nbformat": 4,
  "nbformat_minor": 0,
  "metadata": {
    "colab": {
      "provenance": [],
      "authorship_tag": "ABX9TyN1LeUMVUiarV7B0gi9GsM9",
      "include_colab_link": true
    },
    "kernelspec": {
      "name": "python3",
      "display_name": "Python 3"
    },
    "language_info": {
      "name": "python"
    }
  },
  "cells": [
    {
      "cell_type": "markdown",
      "metadata": {
        "id": "view-in-github",
        "colab_type": "text"
      },
      "source": [
        "<a href=\"https://colab.research.google.com/github/dfridland/NLP/blob/HW1/NLPLesson1.ipynb\" target=\"_parent\"><img src=\"https://colab.research.google.com/assets/colab-badge.svg\" alt=\"Open In Colab\"/></a>"
      ]
    },
    {
      "cell_type": "code",
      "execution_count": null,
      "metadata": {
        "id": "KBdLoUoQM0R5"
      },
      "outputs": [],
      "source": [
        "import nltk\n",
        "from nltk import tokenize as tknz\n",
        "\n",
        "#nltk.download('punkt')\n",
        "from nltk.tokenize import word_tokenize, wordpunct_tokenize"
      ]
    },
    {
      "cell_type": "code",
      "source": [
        "text  =  'It was a tiring day. So tiring he fell asleep on the train and missed his stop. '\n",
        "text"
      ],
      "metadata": {
        "colab": {
          "base_uri": "https://localhost:8080/",
          "height": 58
        },
        "id": "WlWtDoC4TKLY",
        "outputId": "a5a9d13d-7d03-473c-e469-c030419a48de"
      },
      "execution_count": null,
      "outputs": [
        {
          "output_type": "execute_result",
          "data": {
            "text/plain": [
              "'It was a tiring day. So tiring he fell asleep on the train and missed his stop. '"
            ],
            "application/vnd.google.colaboratory.intrinsic+json": {
              "type": "string"
            }
          },
          "metadata": {},
          "execution_count": 23
        }
      ]
    },
    {
      "cell_type": "code",
      "source": [
        "print('text:{}'.format(text[:100]))\n",
        "print('tokens:{}'.format(nltk.tokenize.word_tokenize(text)[:14]))"
      ],
      "metadata": {
        "colab": {
          "base_uri": "https://localhost:8080/"
        },
        "id": "reXXlR5bTn4d",
        "outputId": "f6af39e0-c7b3-4b4a-d42d-17fad7403a35"
      },
      "execution_count": null,
      "outputs": [
        {
          "output_type": "stream",
          "name": "stdout",
          "text": [
            "text:It was a tiring day. So tiring he fell asleep on the train and missed his stop. \n",
            "tokens:['It', 'was', 'a', 'tiring', 'day', '.', 'So', 'tiring', 'he', 'fell', 'asleep', 'on', 'the', 'train']\n"
          ]
        }
      ]
    },
    {
      "cell_type": "code",
      "source": [
        "tknz.word_tokenize(text)"
      ],
      "metadata": {
        "colab": {
          "base_uri": "https://localhost:8080/"
        },
        "id": "-lcvdt2dWPb9",
        "outputId": "8d7d8452-8c31-46a6-c571-4583cd589472"
      },
      "execution_count": null,
      "outputs": [
        {
          "output_type": "execute_result",
          "data": {
            "text/plain": [
              "['It',\n",
              " 'was',\n",
              " 'a',\n",
              " 'tiring',\n",
              " 'day',\n",
              " '.',\n",
              " 'So',\n",
              " 'tiring',\n",
              " 'he',\n",
              " 'fell',\n",
              " 'asleep',\n",
              " 'on',\n",
              " 'the',\n",
              " 'train',\n",
              " 'and',\n",
              " 'missed',\n",
              " 'his',\n",
              " 'stop',\n",
              " '.']"
            ]
          },
          "metadata": {},
          "execution_count": 25
        }
      ]
    },
    {
      "cell_type": "code",
      "source": [
        "tknz.wordpunct_tokenize(text)"
      ],
      "metadata": {
        "colab": {
          "base_uri": "https://localhost:8080/"
        },
        "id": "Do926TUNWaat",
        "outputId": "f85b8723-21a7-4d2d-ed6b-3112766046c6"
      },
      "execution_count": null,
      "outputs": [
        {
          "output_type": "execute_result",
          "data": {
            "text/plain": [
              "['It',\n",
              " 'was',\n",
              " 'a',\n",
              " 'tiring',\n",
              " 'day',\n",
              " '.',\n",
              " 'So',\n",
              " 'tiring',\n",
              " 'he',\n",
              " 'fell',\n",
              " 'asleep',\n",
              " 'on',\n",
              " 'the',\n",
              " 'train',\n",
              " 'and',\n",
              " 'missed',\n",
              " 'his',\n",
              " 'stop',\n",
              " '.']"
            ]
          },
          "metadata": {},
          "execution_count": 26
        }
      ]
    },
    {
      "cell_type": "code",
      "source": [
        "tt  =  'It was a tiring day. So tiring he fell asleep on the train and missed his stop. '\n",
        "tt"
      ],
      "metadata": {
        "colab": {
          "base_uri": "https://localhost:8080/",
          "height": 58
        },
        "id": "Gz-IqJAeYCNV",
        "outputId": "0db2fcc0-4f0a-46f4-db49-3fff5a7715f9"
      },
      "execution_count": null,
      "outputs": [
        {
          "output_type": "execute_result",
          "data": {
            "text/plain": [
              "'It was a tiring day. So tiring he fell asleep on the train and missed his stop. '"
            ],
            "application/vnd.google.colaboratory.intrinsic+json": {
              "type": "string"
            }
          },
          "metadata": {},
          "execution_count": 27
        }
      ]
    },
    {
      "cell_type": "code",
      "source": [
        "nltk.sent_tokenize(tt)"
      ],
      "metadata": {
        "colab": {
          "base_uri": "https://localhost:8080/"
        },
        "id": "m28fvX8OWhkV",
        "outputId": "2e1ca989-be66-4ff8-c292-88d03375f77c"
      },
      "execution_count": null,
      "outputs": [
        {
          "output_type": "execute_result",
          "data": {
            "text/plain": [
              "['It was a tiring day, so tiring he fell asleep on the train and missed his stop.']"
            ]
          },
          "metadata": {},
          "execution_count": 20
        }
      ]
    },
    {
      "cell_type": "code",
      "source": [
        "s  =  'It was a tiring day, so tiring he fell asleep on the train and missed his stop. '\n",
        "s"
      ],
      "metadata": {
        "colab": {
          "base_uri": "https://localhost:8080/",
          "height": 58
        },
        "id": "ZE0pCteAYeOx",
        "outputId": "5c2e00aa-ca64-4891-ca23-3cbeebbfa6a2"
      },
      "execution_count": null,
      "outputs": [
        {
          "output_type": "execute_result",
          "data": {
            "text/plain": [
              "'It was a tiring day, so tiring he fell asleep on the train and missed his stop. '"
            ],
            "application/vnd.google.colaboratory.intrinsic+json": {
              "type": "string"
            }
          },
          "metadata": {},
          "execution_count": 21
        }
      ]
    },
    {
      "cell_type": "code",
      "source": [
        "print(nltk.sent_tokenize(s))"
      ],
      "metadata": {
        "colab": {
          "base_uri": "https://localhost:8080/"
        },
        "id": "iqqng3hTYb-_",
        "outputId": "f85072ce-1748-4f02-a43b-818837493da6"
      },
      "execution_count": null,
      "outputs": [
        {
          "output_type": "stream",
          "name": "stdout",
          "text": [
            "['It was a tiring day, so tiring he fell asleep on the train and missed his stop.']\n"
          ]
        }
      ]
    }
  ]
}