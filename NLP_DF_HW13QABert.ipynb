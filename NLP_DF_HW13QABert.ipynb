{
  "cells": [
    {
      "cell_type": "markdown",
      "metadata": {
        "id": "view-in-github",
        "colab_type": "text"
      },
      "source": [
        "<a href=\"https://colab.research.google.com/github/dfridland/NLP/blob/HW13/NLP_DF_HW13QABert.ipynb\" target=\"_parent\"><img src=\"https://colab.research.google.com/assets/colab-badge.svg\" alt=\"Open In Colab\"/></a>"
      ]
    },
    {
      "cell_type": "markdown",
      "id": "a6ac5d3c",
      "metadata": {
        "id": "a6ac5d3c"
      },
      "source": [
        " https://huggingface.co/datasets/sberquad https://huggingface.co/datasets/blinoff/medical_qa_ru_data натренировать любую модель для вопросно ответной системы как альтернатива можно взять любой NER датасет из https://github.com/natasha/corus#reference и обучить NER"
      ]
    },
    {
      "cell_type": "code",
      "execution_count": null,
      "id": "c8f6085b",
      "metadata": {
        "id": "c8f6085b"
      },
      "outputs": [],
      "source": [
        "!pip uninstall -y tensorflow tensorflow-gpu\n",
        "!pip install numpy scipy librosa unidecode inflect librosa transformers\n",
        "!pip install deeppavlov"
      ]
    },
    {
      "cell_type": "code",
      "execution_count": null,
      "id": "02aecc82",
      "metadata": {
        "id": "02aecc82"
      },
      "outputs": [],
      "source": [
        "!python -m deeppavlov install squad_ru_bert"
      ]
    },
    {
      "cell_type": "code",
      "execution_count": null,
      "id": "49111b1d",
      "metadata": {
        "id": "49111b1d",
        "outputId": "cd9c6e2f-722d-40ec-896d-f0bc894cfe32",
        "colab": {
          "referenced_widgets": [
            "804cf78383824086a97fae8185c50621",
            "f76d5028423941b8970c5b696b4a6283",
            "dcac5c55716241a899475567ca8d29de",
            "bb7904bc3df2438687b43659f215c85e",
            "36ffad59055b48e4b053aff52a348ab6"
          ]
        }
      },
      "outputs": [
        {
          "name": "stderr",
          "output_type": "stream",
          "text": [
            "2023-06-18 14:19:22.759 INFO in 'deeppavlov.core.data.utils'['utils'] at line 95: Downloading from http://files.deeppavlov.ai/v1/squad/squad_ru_torch_bert.tar.gz to /Users/evamelissatasdemir/.deeppavlov/squad_ru_torch_bert.tar.gz\n",
            "100%|██████████████████████████████████████| 1.74G/1.74G [04:25<00:00, 6.55MB/s]\n",
            "2023-06-18 14:23:48.562 INFO in 'deeppavlov.core.data.utils'['utils'] at line 276: Extracting /Users/evamelissatasdemir/.deeppavlov/squad_ru_torch_bert.tar.gz archive into /Users/evamelissatasdemir/.deeppavlov/models\n"
          ]
        },
        {
          "data": {
            "application/vnd.jupyter.widget-view+json": {
              "model_id": "804cf78383824086a97fae8185c50621",
              "version_major": 2,
              "version_minor": 0
            },
            "text/plain": [
              "Downloading (…)okenizer_config.json:   0%|          | 0.00/24.0 [00:00<?, ?B/s]"
            ]
          },
          "metadata": {},
          "output_type": "display_data"
        },
        {
          "data": {
            "application/vnd.jupyter.widget-view+json": {
              "model_id": "f76d5028423941b8970c5b696b4a6283",
              "version_major": 2,
              "version_minor": 0
            },
            "text/plain": [
              "Downloading (…)lve/main/config.json:   0%|          | 0.00/642 [00:00<?, ?B/s]"
            ]
          },
          "metadata": {},
          "output_type": "display_data"
        },
        {
          "data": {
            "application/vnd.jupyter.widget-view+json": {
              "model_id": "dcac5c55716241a899475567ca8d29de",
              "version_major": 2,
              "version_minor": 0
            },
            "text/plain": [
              "Downloading (…)solve/main/vocab.txt:   0%|          | 0.00/1.65M [00:00<?, ?B/s]"
            ]
          },
          "metadata": {},
          "output_type": "display_data"
        },
        {
          "data": {
            "application/vnd.jupyter.widget-view+json": {
              "model_id": "bb7904bc3df2438687b43659f215c85e",
              "version_major": 2,
              "version_minor": 0
            },
            "text/plain": [
              "Downloading (…)cial_tokens_map.json:   0%|          | 0.00/112 [00:00<?, ?B/s]"
            ]
          },
          "metadata": {},
          "output_type": "display_data"
        },
        {
          "data": {
            "application/vnd.jupyter.widget-view+json": {
              "model_id": "36ffad59055b48e4b053aff52a348ab6",
              "version_major": 2,
              "version_minor": 0
            },
            "text/plain": [
              "Downloading pytorch_model.bin:   0%|          | 0.00/714M [00:00<?, ?B/s]"
            ]
          },
          "metadata": {},
          "output_type": "display_data"
        },
        {
          "name": "stderr",
          "output_type": "stream",
          "text": [
            "Some weights of the model checkpoint at DeepPavlov/rubert-base-cased were not used when initializing BertForQuestionAnswering: ['cls.predictions.bias', 'cls.seq_relationship.bias', 'cls.predictions.transform.dense.bias', 'cls.predictions.transform.LayerNorm.weight', 'cls.predictions.transform.dense.weight', 'cls.predictions.transform.LayerNorm.bias', 'cls.predictions.decoder.weight', 'cls.predictions.decoder.bias', 'cls.seq_relationship.weight']\n",
            "- This IS expected if you are initializing BertForQuestionAnswering from the checkpoint of a model trained on another task or with another architecture (e.g. initializing a BertForSequenceClassification model from a BertForPreTraining model).\n",
            "- This IS NOT expected if you are initializing BertForQuestionAnswering from the checkpoint of a model that you expect to be exactly identical (initializing a BertForSequenceClassification model from a BertForSequenceClassification model).\n",
            "Some weights of BertForQuestionAnswering were not initialized from the model checkpoint at DeepPavlov/rubert-base-cased and are newly initialized: ['qa_outputs.bias', 'qa_outputs.weight']\n",
            "You should probably TRAIN this model on a down-stream task to be able to use it for predictions and inference.\n"
          ]
        }
      ],
      "source": [
        "from deeppavlov import build_model, configs\n",
        "model_ru = build_model(configs.squad.squad_ru_bert, download=True)\n",
        "model_ru = build_model('/path/to/your/custom_config.json', download=True)\n"
      ]
    },
    {
      "cell_type": "code",
      "execution_count": null,
      "id": "daeea4cc",
      "metadata": {
        "id": "daeea4cc"
      },
      "outputs": [],
      "source": []
    },
    {
      "cell_type": "code",
      "execution_count": null,
      "id": "f4132a47",
      "metadata": {
        "scrolled": true,
        "id": "f4132a47",
        "outputId": "e1fff3be-04cc-49cf-9323-9015594c0eed",
        "colab": {
          "referenced_widgets": [
            "799fbbd547f84491b4aa6859c265631f"
          ]
        }
      },
      "outputs": [
        {
          "name": "stderr",
          "output_type": "stream",
          "text": [
            "Found cached dataset medical_qa_ru_data (/Users/evamelissatasdemir/.cache/huggingface/datasets/blinoff___medical_qa_ru_data/default/0.0.0/551476392fb5023cebc55b480ef3948c0ad2287c0ef0ad158a56fbb0bc37783f)\n"
          ]
        },
        {
          "data": {
            "application/vnd.jupyter.widget-view+json": {
              "model_id": "799fbbd547f84491b4aa6859c265631f",
              "version_major": 2,
              "version_minor": 0
            },
            "text/plain": [
              "  0%|          | 0/1 [00:00<?, ?it/s]"
            ]
          },
          "metadata": {},
          "output_type": "display_data"
        }
      ],
      "source": [
        "from datasets import load_dataset\n",
        "\n",
        "corpus = load_dataset('blinoff/medical_qa_ru_data')"
      ]
    },
    {
      "cell_type": "code",
      "execution_count": null,
      "id": "d428bcd2",
      "metadata": {
        "id": "d428bcd2",
        "outputId": "8df409a7-875d-4d32-b259-9d6978de53f5"
      },
      "outputs": [
        {
          "name": "stderr",
          "output_type": "stream",
          "text": [
            "2023-06-18 15:13:43.988 INFO in 'deeppavlov.download'['download'] at line 138: Skipped http://files.deeppavlov.ai/v1/squad/squad_ru_torch_bert.tar.gz download because of matching hashes\n",
            "Some weights of the model checkpoint at DeepPavlov/rubert-base-cased were not used when initializing BertForQuestionAnswering: ['cls.predictions.bias', 'cls.seq_relationship.bias', 'cls.predictions.transform.dense.bias', 'cls.predictions.transform.LayerNorm.weight', 'cls.predictions.transform.dense.weight', 'cls.predictions.transform.LayerNorm.bias', 'cls.predictions.decoder.weight', 'cls.predictions.decoder.bias', 'cls.seq_relationship.weight']\n",
            "- This IS expected if you are initializing BertForQuestionAnswering from the checkpoint of a model trained on another task or with another architecture (e.g. initializing a BertForSequenceClassification model from a BertForPreTraining model).\n",
            "- This IS NOT expected if you are initializing BertForQuestionAnswering from the checkpoint of a model that you expect to be exactly identical (initializing a BertForSequenceClassification model from a BertForSequenceClassification model).\n",
            "Some weights of BertForQuestionAnswering were not initialized from the model checkpoint at DeepPavlov/rubert-base-cased and are newly initialized: ['qa_outputs.bias', 'qa_outputs.weight']\n",
            "You should probably TRAIN this model on a down-stream task to be able to use it for predictions and inference.\n"
          ]
        }
      ],
      "source": [
        "from deeppavlov import build_model, configs\n",
        "model_ru = build_model(configs.squad.squad_ru_bert, download=True)\n"
      ]
    },
    {
      "cell_type": "code",
      "execution_count": null,
      "id": "573eeecf",
      "metadata": {
        "id": "573eeecf",
        "outputId": "4e167db4-c187-48ae-9420-230ff3838f0b"
      },
      "outputs": [
        {
          "data": {
            "text/plain": [
              "Dataset({\n",
              "    features: ['date', 'categ', 'theme', 'desc', 'ans', 'spec10'],\n",
              "    num_rows: 190335\n",
              "})"
            ]
          },
          "execution_count": 68,
          "metadata": {},
          "output_type": "execute_result"
        }
      ],
      "source": [
        "corpus['train']"
      ]
    },
    {
      "cell_type": "code",
      "execution_count": null,
      "id": "ec337977",
      "metadata": {
        "id": "ec337977",
        "outputId": "f8237998-69f7-45ff-cd87-6a584b28fed8"
      },
      "outputs": [
        {
          "data": {
            "text/plain": [
              "{'date': '14 Июня 2017, 12:19',\n",
              " 'categ': 'Другое',\n",
              " 'theme': 'Вывих локтя',\n",
              " 'desc': '8 лет назад вывих был,узнал только щас,скоро пойду к врачу можно узнать что будут с локтем делать? боли нету,узнать можно если поднять руку и посмотреть в зеркало.Будет операция? Будут разрезать кожу и вставлять гвозди ? Или просто в наркозе руку выпрямут ? Очень страшно :(',\n",
              " 'ans': 'Если рука вас не беспокоит,и если вы не захотите выпрямлять руку - ничего делать не будут,но если вы захотите сделать руку нормальной - скорее всего будут оперировать.;\\nСпасибо за ответ,а оперирование это разрез кожи? Или просто выпрямление в наркозе и носить гипс? Если можно подробнее об этом :(;\\nДля начала нужно выяснить состояние сустава на сегодняшний день - для этого нужно обследоваться (МРТ или рентген), с результатами - к травматологу.',\n",
              " 'spec10': ''}"
            ]
          },
          "execution_count": 69,
          "metadata": {},
          "output_type": "execute_result"
        }
      ],
      "source": [
        "corpus['train'][9]"
      ]
    },
    {
      "cell_type": "code",
      "execution_count": null,
      "id": "c139877e",
      "metadata": {
        "id": "c139877e",
        "outputId": "3628f34e-2e51-4532-b458-051722b27b09"
      },
      "outputs": [
        {
          "data": {
            "text/plain": [
              "'Здравствуйте, я на 7-8 неделе беременности. С 6 недели нет аппетита, просто вообще ничего не лезет из еды, а ведь какие-то две недели назад я ела с хорошим аппетитом ...\\n            \\n            Так вот я просто могу ничего не есть, так как просто вооооообще ничего не лезет!! Иногда приходится есть просто так но в малых порциях так как желудок даёт уже о себе знать и он кажется опустошён . Так вот в обед сегодня я съела йогурт без всякого аппетита и потом порцию наверно как для ребёнка и то не доела, и начало чуть мутить. И так всегда . Аппетита нет уже с 6 недели.. что со мной??'"
            ]
          },
          "execution_count": 9,
          "metadata": {},
          "output_type": "execute_result"
        }
      ],
      "source": [
        "corpus['train']['desc'][1]"
      ]
    },
    {
      "cell_type": "code",
      "execution_count": null,
      "id": "dc882efa",
      "metadata": {
        "id": "dc882efa",
        "outputId": "f6afe443-a640-4115-aa4a-d943631650b1"
      },
      "outputs": [
        {
          "data": {
            "text/plain": [
              "'Беременность'"
            ]
          },
          "execution_count": 10,
          "metadata": {},
          "output_type": "execute_result"
        }
      ],
      "source": [
        "corpus['train']['theme'][1]"
      ]
    },
    {
      "cell_type": "code",
      "execution_count": null,
      "id": "c7a69563",
      "metadata": {
        "id": "c7a69563",
        "outputId": "314fec40-4082-4f4e-c157-52fa05569a48"
      },
      "outputs": [
        {
          "data": {
            "text/plain": [
              "[['Длительность приема Ларипронта индивидуальна',\n",
              "  '',\n",
              "  '',\n",
              "  '',\n",
              "  'Препарат принимается после еды'],\n",
              " [18, -1, -1, -1, 0],\n",
              " [0.9979680776596069,\n",
              "  0.8530032634735107,\n",
              "  0.5334394574165344,\n",
              "  0.9081322550773621,\n",
              "  0.9986410737037659]]"
            ]
          },
          "execution_count": 64,
          "metadata": {},
          "output_type": "execute_result"
        }
      ],
      "source": [
        "model_ru(corpus['train']['ans'], ['theme'][0])"
      ]
    },
    {
      "cell_type": "code",
      "execution_count": null,
      "id": "80209a5c",
      "metadata": {
        "id": "80209a5c",
        "outputId": "81cee50e-913a-4555-c3c4-e6a28b79bf34"
      },
      "outputs": [
        {
          "data": {
            "text/plain": [
              "[['a library for NLP and dialog systems'], [14], [1.0]]"
            ]
          },
          "execution_count": 63,
          "metadata": {},
          "output_type": "execute_result"
        }
      ],
      "source": [
        "model_ru(['DeepPavlov is a library for NLP and dialog systems.'], ['What is DeepPavlov?'])\n",
        "\n"
      ]
    },
    {
      "cell_type": "code",
      "execution_count": null,
      "id": "edfc0501",
      "metadata": {
        "id": "edfc0501",
        "outputId": "9067701a-e3ad-4950-eb86-aeebcf953f72"
      },
      "outputs": [
        {
          "data": {
            "text/plain": [
              "[['Что вы им лечите? Длительность приема Ларипронта индивидуальна'],\n",
              " [0],\n",
              " [0.982166051864624]]"
            ]
          },
          "execution_count": 84,
          "metadata": {},
          "output_type": "execute_result"
        }
      ],
      "source": [
        "model_ru(corpus['train']['ans'], ['theme'])"
      ]
    },
    {
      "cell_type": "code",
      "execution_count": null,
      "id": "162dd652",
      "metadata": {
        "id": "162dd652",
        "outputId": "53b748aa-6410-4785-ff5d-c0e40c55078f"
      },
      "outputs": [
        {
          "data": {
            "text/plain": [
              "[['Что вы им лечите? Длительность приема Ларипронта индивидуальна'],\n",
              " [0],\n",
              " [0.982166051864624]]"
            ]
          },
          "execution_count": 80,
          "metadata": {},
          "output_type": "execute_result"
        }
      ],
      "source": [
        "model_ru(corpus['train']['ans'], ['theme'])"
      ]
    },
    {
      "cell_type": "code",
      "execution_count": null,
      "id": "23670d9c",
      "metadata": {
        "id": "23670d9c",
        "outputId": "ca94837f-7b0a-4073-f7c5-a68db6f0e3ef"
      },
      "outputs": [
        {
          "data": {
            "text/plain": [
              "{'date': '28 Сентября 2016, 22:21',\n",
              " 'categ': 'Другое',\n",
              " 'theme': 'Д-Димер',\n",
              " 'desc': 'Добрый вечер, на на 22-й недели беременности после проведения операции на ноге Д-Димер был 1,9. На 24-й неделе снизился до 1, 4. Является ли это нормой при беременности или необходимо принимать клексан?',\n",
              " 'ans': 'Выложите фото анализа,нам нужно знать референсные значения вашей лаборатории.',\n",
              " 'spec10': ''}"
            ]
          },
          "execution_count": 61,
          "metadata": {},
          "output_type": "execute_result"
        }
      ],
      "source": [
        "corpus['train'][5]"
      ]
    },
    {
      "cell_type": "code",
      "execution_count": null,
      "id": "670c89f4",
      "metadata": {
        "id": "670c89f4",
        "outputId": "8a85f1fb-b80b-48db-d7a4-8c1fae523976"
      },
      "outputs": [
        {
          "name": "stdout",
          "output_type": "stream",
          "text": [
            "~/.deeppavlov/downloads/squad/\n"
          ]
        }
      ],
      "source": [
        "from deeppavlov import train_model\n",
        "from deeppavlov.core.commands.utils import parse_config\n",
        "\n",
        "model_config = parse_config('squad_bert')\n",
        "\n",
        "#  dataset that the model was trained on\n",
        "print(model_config['dataset_reader']['data_path'])"
      ]
    },
    {
      "cell_type": "code",
      "execution_count": null,
      "id": "3306a5cc",
      "metadata": {
        "id": "3306a5cc",
        "outputId": "aff13afe-fbee-4a1f-8342-fd75869ef34f",
        "colab": {
          "referenced_widgets": [
            "d1468ecb332d4ce99231be59d57a9963"
          ]
        }
      },
      "outputs": [
        {
          "name": "stderr",
          "output_type": "stream",
          "text": [
            "Found cached dataset medical_qa_ru_data (/Users/evamelissatasdemir/.cache/huggingface/datasets/blinoff___medical_qa_ru_data/default/0.0.0/551476392fb5023cebc55b480ef3948c0ad2287c0ef0ad158a56fbb0bc37783f)\n"
          ]
        },
        {
          "data": {
            "application/vnd.jupyter.widget-view+json": {
              "model_id": "d1468ecb332d4ce99231be59d57a9963",
              "version_major": 2,
              "version_minor": 0
            },
            "text/plain": [
              "  0%|          | 0/1 [00:00<?, ?it/s]"
            ]
          },
          "metadata": {},
          "output_type": "display_data"
        }
      ],
      "source": [
        "# provide a path to the train file\n",
        "model_config['dataset_reader']['data_path'] =  load_dataset('blinoff/medical_qa_ru_data')"
      ]
    },
    {
      "cell_type": "code",
      "execution_count": null,
      "id": "43c22ce9",
      "metadata": {
        "id": "43c22ce9",
        "outputId": "0c29b87b-dabe-42fb-a1ee-2643af1f5045"
      },
      "outputs": [
        {
          "ename": "TypeError",
          "evalue": "expected str, bytes or os.PathLike object, not dict",
          "output_type": "error",
          "traceback": [
            "\u001b[0;31m---------------------------------------------------------------------------\u001b[0m",
            "\u001b[0;31mTypeError\u001b[0m                                 Traceback (most recent call last)",
            "Cell \u001b[0;32mIn[87], line 1\u001b[0m\n\u001b[0;32m----> 1\u001b[0m model \u001b[38;5;241m=\u001b[39m \u001b[43mtrain_model\u001b[49m\u001b[43m(\u001b[49m\u001b[43mmodel_config\u001b[49m\u001b[43m)\u001b[49m\n",
            "File \u001b[0;32m~/miniforge3/lib/python3.10/site-packages/deeppavlov/__init__.py:31\u001b[0m, in \u001b[0;36mtrain_model\u001b[0;34m(config, install, download, recursive)\u001b[0m\n\u001b[1;32m     29\u001b[0m \u001b[38;5;28;01mdef\u001b[39;00m \u001b[38;5;21mtrain_model\u001b[39m(config: [\u001b[38;5;28mstr\u001b[39m, Path, \u001b[38;5;28mdict\u001b[39m], install: \u001b[38;5;28mbool\u001b[39m \u001b[38;5;241m=\u001b[39m \u001b[38;5;28;01mFalse\u001b[39;00m,\n\u001b[1;32m     30\u001b[0m                 download: \u001b[38;5;28mbool\u001b[39m \u001b[38;5;241m=\u001b[39m \u001b[38;5;28;01mFalse\u001b[39;00m, recursive: \u001b[38;5;28mbool\u001b[39m \u001b[38;5;241m=\u001b[39m \u001b[38;5;28;01mFalse\u001b[39;00m) \u001b[38;5;241m-\u001b[39m\u001b[38;5;241m>\u001b[39m Chainer:\n\u001b[0;32m---> 31\u001b[0m     \u001b[43mtrain_evaluate_model_from_config\u001b[49m\u001b[43m(\u001b[49m\u001b[43mconfig\u001b[49m\u001b[43m,\u001b[49m\u001b[43m \u001b[49m\u001b[43minstall\u001b[49m\u001b[38;5;241;43m=\u001b[39;49m\u001b[43minstall\u001b[49m\u001b[43m,\u001b[49m\u001b[43m \u001b[49m\u001b[43mdownload\u001b[49m\u001b[38;5;241;43m=\u001b[39;49m\u001b[43mdownload\u001b[49m\u001b[43m,\u001b[49m\u001b[43m \u001b[49m\u001b[43mrecursive\u001b[49m\u001b[38;5;241;43m=\u001b[39;49m\u001b[43mrecursive\u001b[49m\u001b[43m)\u001b[49m\n\u001b[1;32m     32\u001b[0m     \u001b[38;5;28;01mreturn\u001b[39;00m build_model(config, load_trained\u001b[38;5;241m=\u001b[39m\u001b[38;5;28;01mTrue\u001b[39;00m)\n",
            "File \u001b[0;32m~/miniforge3/lib/python3.10/site-packages/deeppavlov/core/commands/train.py:94\u001b[0m, in \u001b[0;36mtrain_evaluate_model_from_config\u001b[0;34m(config, iterator, to_train, evaluation_targets, install, download, start_epoch_num, recursive)\u001b[0m\n\u001b[1;32m     92\u001b[0m \u001b[38;5;28;01mif\u001b[39;00m iterator \u001b[38;5;129;01mis\u001b[39;00m \u001b[38;5;28;01mNone\u001b[39;00m:\n\u001b[1;32m     93\u001b[0m     \u001b[38;5;28;01mtry\u001b[39;00m:\n\u001b[0;32m---> 94\u001b[0m         data \u001b[38;5;241m=\u001b[39m \u001b[43mread_data_by_config\u001b[49m\u001b[43m(\u001b[49m\u001b[43mconfig\u001b[49m\u001b[43m)\u001b[49m\n\u001b[1;32m     95\u001b[0m     \u001b[38;5;28;01mexcept\u001b[39;00m ConfigError \u001b[38;5;28;01mas\u001b[39;00m e:\n\u001b[1;32m     96\u001b[0m         to_train \u001b[38;5;241m=\u001b[39m \u001b[38;5;28;01mFalse\u001b[39;00m\n",
            "File \u001b[0;32m~/miniforge3/lib/python3.10/site-packages/deeppavlov/core/commands/train.py:57\u001b[0m, in \u001b[0;36mread_data_by_config\u001b[0;34m(config)\u001b[0m\n\u001b[1;32m     55\u001b[0m     reader_config[\u001b[38;5;124m'\u001b[39m\u001b[38;5;124mdata_path\u001b[39m\u001b[38;5;124m'\u001b[39m] \u001b[38;5;241m=\u001b[39m [expand_path(path) \u001b[38;5;28;01mfor\u001b[39;00m path \u001b[38;5;129;01min\u001b[39;00m data_path]\n\u001b[1;32m     56\u001b[0m \u001b[38;5;28;01melif\u001b[39;00m data_path \u001b[38;5;129;01mis\u001b[39;00m \u001b[38;5;129;01mnot\u001b[39;00m \u001b[38;5;28;01mNone\u001b[39;00m:\n\u001b[0;32m---> 57\u001b[0m     reader_config[\u001b[38;5;124m'\u001b[39m\u001b[38;5;124mdata_path\u001b[39m\u001b[38;5;124m'\u001b[39m] \u001b[38;5;241m=\u001b[39m \u001b[43mexpand_path\u001b[49m\u001b[43m(\u001b[49m\u001b[43mdata_path\u001b[49m\u001b[43m)\u001b[49m\n\u001b[1;32m     58\u001b[0m \u001b[38;5;28;01mreturn\u001b[39;00m reader\u001b[38;5;241m.\u001b[39mread(\u001b[38;5;241m*\u001b[39m\u001b[38;5;241m*\u001b[39mreader_config)\n",
            "File \u001b[0;32m~/miniforge3/lib/python3.10/site-packages/deeppavlov/core/commands/utils.py:137\u001b[0m, in \u001b[0;36mexpand_path\u001b[0;34m(path)\u001b[0m\n\u001b[1;32m    135\u001b[0m \u001b[38;5;28;01mdef\u001b[39;00m \u001b[38;5;21mexpand_path\u001b[39m(path: Union[\u001b[38;5;28mstr\u001b[39m, Path]) \u001b[38;5;241m-\u001b[39m\u001b[38;5;241m>\u001b[39m Path:\n\u001b[1;32m    136\u001b[0m \u001b[38;5;250m    \u001b[39m\u001b[38;5;124;03m\"\"\"Convert relative paths to absolute with resolving user directory.\"\"\"\u001b[39;00m\n\u001b[0;32m--> 137\u001b[0m     \u001b[38;5;28;01mreturn\u001b[39;00m \u001b[43mPath\u001b[49m\u001b[43m(\u001b[49m\u001b[43mpath\u001b[49m\u001b[43m)\u001b[49m\u001b[38;5;241m.\u001b[39mexpanduser()\u001b[38;5;241m.\u001b[39mresolve()\n",
            "File \u001b[0;32m~/miniforge3/lib/python3.10/pathlib.py:960\u001b[0m, in \u001b[0;36mPath.__new__\u001b[0;34m(cls, *args, **kwargs)\u001b[0m\n\u001b[1;32m    958\u001b[0m \u001b[38;5;28;01mif\u001b[39;00m \u001b[38;5;28mcls\u001b[39m \u001b[38;5;129;01mis\u001b[39;00m Path:\n\u001b[1;32m    959\u001b[0m     \u001b[38;5;28mcls\u001b[39m \u001b[38;5;241m=\u001b[39m WindowsPath \u001b[38;5;28;01mif\u001b[39;00m os\u001b[38;5;241m.\u001b[39mname \u001b[38;5;241m==\u001b[39m \u001b[38;5;124m'\u001b[39m\u001b[38;5;124mnt\u001b[39m\u001b[38;5;124m'\u001b[39m \u001b[38;5;28;01melse\u001b[39;00m PosixPath\n\u001b[0;32m--> 960\u001b[0m \u001b[38;5;28mself\u001b[39m \u001b[38;5;241m=\u001b[39m \u001b[38;5;28;43mcls\u001b[39;49m\u001b[38;5;241;43m.\u001b[39;49m\u001b[43m_from_parts\u001b[49m\u001b[43m(\u001b[49m\u001b[43margs\u001b[49m\u001b[43m)\u001b[49m\n\u001b[1;32m    961\u001b[0m \u001b[38;5;28;01mif\u001b[39;00m \u001b[38;5;129;01mnot\u001b[39;00m \u001b[38;5;28mself\u001b[39m\u001b[38;5;241m.\u001b[39m_flavour\u001b[38;5;241m.\u001b[39mis_supported:\n\u001b[1;32m    962\u001b[0m     \u001b[38;5;28;01mraise\u001b[39;00m \u001b[38;5;167;01mNotImplementedError\u001b[39;00m(\u001b[38;5;124m\"\u001b[39m\u001b[38;5;124mcannot instantiate \u001b[39m\u001b[38;5;132;01m%r\u001b[39;00m\u001b[38;5;124m on your system\u001b[39m\u001b[38;5;124m\"\u001b[39m\n\u001b[1;32m    963\u001b[0m                               \u001b[38;5;241m%\u001b[39m (\u001b[38;5;28mcls\u001b[39m\u001b[38;5;241m.\u001b[39m\u001b[38;5;18m__name__\u001b[39m,))\n",
            "File \u001b[0;32m~/miniforge3/lib/python3.10/pathlib.py:594\u001b[0m, in \u001b[0;36mPurePath._from_parts\u001b[0;34m(cls, args)\u001b[0m\n\u001b[1;32m    589\u001b[0m \u001b[38;5;129m@classmethod\u001b[39m\n\u001b[1;32m    590\u001b[0m \u001b[38;5;28;01mdef\u001b[39;00m \u001b[38;5;21m_from_parts\u001b[39m(\u001b[38;5;28mcls\u001b[39m, args):\n\u001b[1;32m    591\u001b[0m     \u001b[38;5;66;03m# We need to call _parse_args on the instance, so as to get the\u001b[39;00m\n\u001b[1;32m    592\u001b[0m     \u001b[38;5;66;03m# right flavour.\u001b[39;00m\n\u001b[1;32m    593\u001b[0m     \u001b[38;5;28mself\u001b[39m \u001b[38;5;241m=\u001b[39m \u001b[38;5;28mobject\u001b[39m\u001b[38;5;241m.\u001b[39m\u001b[38;5;21m__new__\u001b[39m(\u001b[38;5;28mcls\u001b[39m)\n\u001b[0;32m--> 594\u001b[0m     drv, root, parts \u001b[38;5;241m=\u001b[39m \u001b[38;5;28;43mself\u001b[39;49m\u001b[38;5;241;43m.\u001b[39;49m\u001b[43m_parse_args\u001b[49m\u001b[43m(\u001b[49m\u001b[43margs\u001b[49m\u001b[43m)\u001b[49m\n\u001b[1;32m    595\u001b[0m     \u001b[38;5;28mself\u001b[39m\u001b[38;5;241m.\u001b[39m_drv \u001b[38;5;241m=\u001b[39m drv\n\u001b[1;32m    596\u001b[0m     \u001b[38;5;28mself\u001b[39m\u001b[38;5;241m.\u001b[39m_root \u001b[38;5;241m=\u001b[39m root\n",
            "File \u001b[0;32m~/miniforge3/lib/python3.10/pathlib.py:578\u001b[0m, in \u001b[0;36mPurePath._parse_args\u001b[0;34m(cls, args)\u001b[0m\n\u001b[1;32m    576\u001b[0m     parts \u001b[38;5;241m+\u001b[39m\u001b[38;5;241m=\u001b[39m a\u001b[38;5;241m.\u001b[39m_parts\n\u001b[1;32m    577\u001b[0m \u001b[38;5;28;01melse\u001b[39;00m:\n\u001b[0;32m--> 578\u001b[0m     a \u001b[38;5;241m=\u001b[39m \u001b[43mos\u001b[49m\u001b[38;5;241;43m.\u001b[39;49m\u001b[43mfspath\u001b[49m\u001b[43m(\u001b[49m\u001b[43ma\u001b[49m\u001b[43m)\u001b[49m\n\u001b[1;32m    579\u001b[0m     \u001b[38;5;28;01mif\u001b[39;00m \u001b[38;5;28misinstance\u001b[39m(a, \u001b[38;5;28mstr\u001b[39m):\n\u001b[1;32m    580\u001b[0m         \u001b[38;5;66;03m# Force-cast str subclasses to str (issue #21127)\u001b[39;00m\n\u001b[1;32m    581\u001b[0m         parts\u001b[38;5;241m.\u001b[39mappend(\u001b[38;5;28mstr\u001b[39m(a))\n",
            "\u001b[0;31mTypeError\u001b[0m: expected str, bytes or os.PathLike object, not dict"
          ]
        }
      ],
      "source": [
        "model = train_model(model_config)"
      ]
    },
    {
      "cell_type": "code",
      "execution_count": null,
      "id": "264140d8",
      "metadata": {
        "id": "264140d8"
      },
      "outputs": [],
      "source": []
    }
  ],
  "metadata": {
    "kernelspec": {
      "display_name": "Python 3 (ipykernel)",
      "language": "python",
      "name": "python3"
    },
    "language_info": {
      "codemirror_mode": {
        "name": "ipython",
        "version": 3
      },
      "file_extension": ".py",
      "mimetype": "text/x-python",
      "name": "python",
      "nbconvert_exporter": "python",
      "pygments_lexer": "ipython3",
      "version": "3.10.10"
    },
    "colab": {
      "provenance": [],
      "include_colab_link": true
    }
  },
  "nbformat": 4,
  "nbformat_minor": 5
}