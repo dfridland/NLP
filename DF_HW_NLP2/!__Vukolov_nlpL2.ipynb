{
 "cells": [
  {
   "cell_type": "code",
   "execution_count": 1,
   "id": "f95cfe03",
   "metadata": {},
   "outputs": [],
   "source": [
    "import pandas as pd\n",
    "import numpy as np\n",
    "from sklearn.metrics import *\n",
    "from sklearn.model_selection import train_test_split\n",
    "from sklearn.pipeline import Pipeline"
   ]
  },
  {
   "cell_type": "code",
   "execution_count": 2,
   "id": "bc481424",
   "metadata": {},
   "outputs": [
    {
     "name": "stderr",
     "output_type": "stream",
     "text": [
      "/var/folders/g_/9v3q8zfn4dj84j48wgjpsd7c0000gn/T/ipykernel_1530/3125191635.py:6: FutureWarning: The frame.append method is deprecated and will be removed from pandas in a future version. Use pandas.concat instead.\n",
      "  df = positive.append(negative)\n"
     ]
    }
   ],
   "source": [
    "# считываем данные и заполняем общий датасет\n",
    "positive = pd.read_csv('positive.csv', sep=';', usecols=[3], names=['text'])\n",
    "positive['label'] = ['positive'] * len(positive)\n",
    "negative = pd.read_csv('negative.csv', sep=';', usecols=[3], names=['text'])\n",
    "negative['label'] = ['negative'] * len(negative)\n",
    "df = positive.append(negative)"
   ]
  },
  {
   "cell_type": "code",
   "execution_count": 3,
   "id": "7bca7361",
   "metadata": {},
   "outputs": [
    {
     "data": {
      "text/html": [
       "<div>\n",
       "<style scoped>\n",
       "    .dataframe tbody tr th:only-of-type {\n",
       "        vertical-align: middle;\n",
       "    }\n",
       "\n",
       "    .dataframe tbody tr th {\n",
       "        vertical-align: top;\n",
       "    }\n",
       "\n",
       "    .dataframe thead th {\n",
       "        text-align: right;\n",
       "    }\n",
       "</style>\n",
       "<table border=\"1\" class=\"dataframe\">\n",
       "  <thead>\n",
       "    <tr style=\"text-align: right;\">\n",
       "      <th></th>\n",
       "      <th>text</th>\n",
       "      <th>label</th>\n",
       "    </tr>\n",
       "  </thead>\n",
       "  <tbody>\n",
       "    <tr>\n",
       "      <th>111918</th>\n",
       "      <td>Но не каждый хочет что то исправлять:( http://...</td>\n",
       "      <td>negative</td>\n",
       "    </tr>\n",
       "    <tr>\n",
       "      <th>111919</th>\n",
       "      <td>скучаю так :-( только @taaannyaaa вправляет мо...</td>\n",
       "      <td>negative</td>\n",
       "    </tr>\n",
       "    <tr>\n",
       "      <th>111920</th>\n",
       "      <td>Вот и в школу, в говно это идти уже надо(</td>\n",
       "      <td>negative</td>\n",
       "    </tr>\n",
       "    <tr>\n",
       "      <th>111921</th>\n",
       "      <td>RT @_Them__: @LisaBeroud Тауриэль, не грусти :...</td>\n",
       "      <td>negative</td>\n",
       "    </tr>\n",
       "    <tr>\n",
       "      <th>111922</th>\n",
       "      <td>Такси везет меня на работу. Раздумываю приплат...</td>\n",
       "      <td>negative</td>\n",
       "    </tr>\n",
       "  </tbody>\n",
       "</table>\n",
       "</div>"
      ],
      "text/plain": [
       "                                                     text     label\n",
       "111918  Но не каждый хочет что то исправлять:( http://...  negative\n",
       "111919  скучаю так :-( только @taaannyaaa вправляет мо...  negative\n",
       "111920          Вот и в школу, в говно это идти уже надо(  negative\n",
       "111921  RT @_Them__: @LisaBeroud Тауриэль, не грусти :...  negative\n",
       "111922  Такси везет меня на работу. Раздумываю приплат...  negative"
      ]
     },
     "execution_count": 3,
     "metadata": {},
     "output_type": "execute_result"
    }
   ],
   "source": [
    "df.tail()"
   ]
  },
  {
   "cell_type": "markdown",
   "id": "a52121a3",
   "metadata": {},
   "source": [
    "№ 1."
   ]
  },
  {
   "cell_type": "code",
   "execution_count": 4,
   "id": "e657677a",
   "metadata": {},
   "outputs": [],
   "source": [
    "x_train, x_test, y_train, y_test = train_test_split(df.text, df.label)"
   ]
  },
  {
   "cell_type": "code",
   "execution_count": 5,
   "id": "9eeaac87",
   "metadata": {},
   "outputs": [],
   "source": [
    "from sklearn.linear_model import LogisticRegression \n",
    "from sklearn.feature_extraction.text import CountVectorizer"
   ]
  },
  {
   "cell_type": "code",
   "execution_count": 6,
   "id": "5c71007f",
   "metadata": {},
   "outputs": [
    {
     "name": "stderr",
     "output_type": "stream",
     "text": [
      "[nltk_data] Downloading package stopwords to\n",
      "[nltk_data]     /Users/evamelissatasdemir/nltk_data...\n",
      "[nltk_data]   Package stopwords is already up-to-date!\n",
      "[nltk_data] Downloading package genesis to\n",
      "[nltk_data]     /Users/evamelissatasdemir/nltk_data...\n",
      "[nltk_data]   Package genesis is already up-to-date!\n",
      "[nltk_data] Downloading package punkt to\n",
      "[nltk_data]     /Users/evamelissatasdemir/nltk_data...\n",
      "[nltk_data]   Package punkt is already up-to-date!\n"
     ]
    },
    {
     "data": {
      "text/plain": [
       "True"
      ]
     },
     "execution_count": 6,
     "metadata": {},
     "output_type": "execute_result"
    }
   ],
   "source": [
    "from nltk import ngrams\n",
    "import nltk\n",
    "from nltk import collocations \n",
    "from nltk.tokenize import word_tokenize, wordpunct_tokenize\n",
    "from nltk.corpus import stopwords\n",
    "\n",
    "nltk.download('stopwords')\n",
    "nltk.download('genesis')\n",
    "nltk.download('punkt')"
   ]
  },
  {
   "cell_type": "code",
   "execution_count": 7,
   "id": "84428956",
   "metadata": {},
   "outputs": [],
   "source": [
    "from string import punctuation\n",
    "noise = stopwords.words('russian') + list(punctuation)"
   ]
  },
  {
   "cell_type": "code",
   "execution_count": 8,
   "id": "45f42086",
   "metadata": {},
   "outputs": [],
   "source": [
    "from collections import Counter"
   ]
  },
  {
   "cell_type": "code",
   "execution_count": 9,
   "id": "3d53a9a0",
   "metadata": {},
   "outputs": [
    {
     "name": "stdout",
     "output_type": "stream",
     "text": [
      "2870536\n"
     ]
    },
    {
     "data": {
      "text/plain": [
       "['first_timee',\n",
       " 'хоть',\n",
       " 'я',\n",
       " 'и',\n",
       " 'школота',\n",
       " 'но',\n",
       " 'поверь',\n",
       " 'у',\n",
       " 'нас',\n",
       " 'то',\n",
       " 'же',\n",
       " 'самое',\n",
       " 'D',\n",
       " 'общество',\n",
       " 'профилирующий',\n",
       " 'предмет',\n",
       " 'типа',\n",
       " 'Да',\n",
       " 'все-таки',\n",
       " 'он',\n",
       " 'немного',\n",
       " 'похож',\n",
       " 'на',\n",
       " 'него',\n",
       " 'Но',\n",
       " 'мой',\n",
       " 'мальчик',\n",
       " 'все',\n",
       " 'равно',\n",
       " 'лучше']"
      ]
     },
     "execution_count": 9,
     "metadata": {},
     "output_type": "execute_result"
    }
   ],
   "source": [
    "corpus = [token for tweet in df.text for token in word_tokenize(tweet) if token not in punctuation]\n",
    "print(len(corpus))\n",
    "corpus[:30]"
   ]
  },
  {
   "cell_type": "code",
   "execution_count": 10,
   "id": "68403df0",
   "metadata": {},
   "outputs": [
    {
     "data": {
      "text/plain": [
       "[('не', 69472),\n",
       " ('и', 55166),\n",
       " ('в', 52902),\n",
       " ('я', 52818),\n",
       " ('RT', 38070),\n",
       " ('на', 35759),\n",
       " ('http', 32998),\n",
       " ('что', 31541),\n",
       " ('с', 27217),\n",
       " ('а', 26860),\n",
       " ('...', 22363),\n",
       " ('меня', 20656),\n",
       " ('у', 18928),\n",
       " ('как', 18279),\n",
       " ('так', 16839),\n",
       " ('D', 16575),\n",
       " ('это', 16542),\n",
       " ('мне', 16337),\n",
       " ('все', 14763),\n",
       " ('ты', 13412),\n",
       " ('но', 12949),\n",
       " (\"''\", 12471),\n",
       " ('Я', 12315),\n",
       " ('``', 11467),\n",
       " ('то', 11432),\n",
       " ('..', 11392),\n",
       " ('по', 11294),\n",
       " ('уже', 10180),\n",
       " ('за', 10038),\n",
       " ('же', 9628)]"
      ]
     },
     "execution_count": 10,
     "metadata": {},
     "output_type": "execute_result"
    }
   ],
   "source": [
    "freq_dict = Counter(corpus)\n",
    "freq_dict_sorted= sorted(freq_dict.items(), key=lambda x: -x[1])\n",
    "list(freq_dict_sorted)[:30]"
   ]
  },
  {
   "cell_type": "markdown",
   "id": "f8c7bdb3",
   "metadata": {},
   "source": []
  },
  {
   "cell_type": "code",
   "execution_count": 11,
   "id": "92fb1cf1",
   "metadata": {},
   "outputs": [
    {
     "data": {
      "image/png": "[encoded data removed]",
      "text/plain": [
       "<Figure size 640x480 with 1 Axes>"
      ]
     },
     "metadata": {},
     "output_type": "display_data"
    }
   ],
   "source": [
    "import matplotlib.pyplot as plt\n",
    "%matplotlib inline\n",
    "\n",
    "first_part_freqs = [freq for word, freq in freq_dict_sorted[:100]]\n",
    "plt.plot(first_part_freqs)\n",
    "plt.show()"
   ]
  },
  {
   "cell_type": "code",
   "execution_count": 12,
   "id": "9c0e54ed",
   "metadata": {},
   "outputs": [
    {
     "data": {
      "image/png": "[encoded data removed]",
      "text/plain": [
       "<Figure size 640x480 with 1 Axes>"
      ]
     },
     "metadata": {},
     "output_type": "display_data"
    }
   ],
   "source": [
    "first_part_freqs = [freq for word, freq in freq_dict_sorted[100:500]]\n",
    "plt.plot(first_part_freqs)\n",
    "plt.show()"
   ]
  },
  {
   "cell_type": "code",
   "execution_count": 14,
   "id": "a307ed1f",
   "metadata": {},
   "outputs": [
    {
     "name": "stdout",
     "output_type": "stream",
     "text": [
      "14 241 350868\n",
      "14 241 350868\n"
     ]
    }
   ],
   "source": [
    "# Подготовим три группы токенов: с высокой, средней и низкой частотой\n",
    "\n",
    "high_tokens = set()\n",
    "med_tokens = set()\n",
    "lit_tokens = set()\n",
    "h = 17000 # если частота выше этого значения будем считать что это токен с высокой частотой. Выбор согласно графиков на предыдущих шагах.\n",
    "m = 1000 # если частота ниже этого значения будем считать что это токен с низкой частотой. Выбор согласно графиков на предыдущих шагах.\n",
    "for i in freq_dict_sorted:\n",
    "    if i[1] > h:\n",
    "        high_tokens.add(i[0])\n",
    "    elif i[1] < m:\n",
    "        lit_tokens.add(i[0])\n",
    "    else:\n",
    "        med_tokens.add(i[0])\n",
    "print(len(high_tokens),len(med_tokens),len(lit_tokens))    "
   ]
  },
  {
   "cell_type": "code",
   "execution_count": 15,
   "id": "44d288af",
   "metadata": {},
   "outputs": [],
   "source": [
    "# создадим фильтр (стопслова) с добавлением токенов средней и низкой частоты, \n",
    "# то есть будем считать только по токенам с высокой частотой\n",
    "sw = noise + list(lit_tokens) + list(med_tokens)"
   ]
  },
  {
   "cell_type": "code",
   "execution_count": 16,
   "id": "b4ae2761",
   "metadata": {},
   "outputs": [],
   "source": [
    "import warnings\n",
    "warnings.filterwarnings(\"ignore\")"
   ]
  },
  {
   "cell_type": "code",
   "execution_count": 17,
   "id": "15923d3e",
   "metadata": {},
   "outputs": [
    {
     "name": "stdout",
     "output_type": "stream",
     "text": [
      "              precision    recall  f1-score   support\n",
      "\n",
      "    negative       0.87      0.57      0.69     43003\n",
      "    positive       0.35      0.73      0.47     13706\n",
      "\n",
      "    accuracy                           0.61     56709\n",
      "   macro avg       0.61      0.65      0.58     56709\n",
      "weighted avg       0.74      0.61      0.63     56709\n",
      "\n",
      "Wall time: 57.8 s\n",
      "              precision    recall  f1-score   support\n",
      "\n",
      "    negative       0.87      0.57      0.69     43003\n",
      "    positive       0.35      0.73      0.47     13706\n",
      "\n",
      "    accuracy                           0.61     56709\n",
      "   macro avg       0.61      0.65      0.58     56709\n",
      "weighted avg       0.74      0.61      0.63     56709\n",
      "\n",
      "Wall time: 57.8 s\n"
     ]
    }
   ],
   "source": [
    "%%time\n",
    "vec = CountVectorizer(ngram_range=(1, 1), tokenizer=word_tokenize, stop_words=sw)\n",
    "bow = vec.fit_transform(x_train)\n",
    "clf = LogisticRegression(random_state=42)\n",
    "clf.fit(bow, y_train)\n",
    "pred = clf.predict(vec.transform(x_test))\n",
    "print(classification_report(pred, y_test))"
   ]
  },
  {
   "cell_type": "code",
   "execution_count": 18,
   "id": "41f74792",
   "metadata": {},
   "outputs": [],
   "source": [
    "# посчитаем только по токенам с средней частотой\n",
    "sw = noise + list(high_tokens) + list(lit_tokens)"
   ]
  },
  {
   "cell_type": "code",
   "execution_count": 19,
   "id": "5d6b4372",
   "metadata": {},
   "outputs": [
    {
     "name": "stdout",
     "output_type": "stream",
     "text": [
      "              precision    recall  f1-score   support\n",
      "\n",
      "    negative       0.48      0.67      0.56     20114\n",
      "    positive       0.77      0.60      0.67     36595\n",
      "\n",
      "    accuracy                           0.62     56709\n",
      "   macro avg       0.62      0.63      0.62     56709\n",
      "weighted avg       0.67      0.62      0.63     56709\n",
      "\n",
      "Wall time: 59.4 s\n",
      "              precision    recall  f1-score   support\n",
      "\n",
      "    negative       0.48      0.67      0.56     20114\n",
      "    positive       0.77      0.60      0.67     36595\n",
      "\n",
      "    accuracy                           0.62     56709\n",
      "   macro avg       0.62      0.63      0.62     56709\n",
      "weighted avg       0.67      0.62      0.63     56709\n",
      "\n",
      "Wall time: 59.4 s\n"
     ]
    }
   ],
   "source": [
    "%%time\n",
    "vec = CountVectorizer(ngram_range=(1, 1), tokenizer=word_tokenize, stop_words=sw)\n",
    "bow = vec.fit_transform(x_train)\n",
    "clf = LogisticRegression(random_state=42)\n",
    "clf.fit(bow, y_train)\n",
    "pred = clf.predict(vec.transform(x_test))\n",
    "print(classification_report(pred, y_test))"
   ]
  },
  {
   "cell_type": "code",
   "execution_count": 20,
   "id": "aea2755b",
   "metadata": {},
   "outputs": [],
   "source": [
    "# посчитаем только по токенам с низкой частотой\n",
    "sw = noise + list(high_tokens) + list(med_tokens)"
   ]
  },
  {
   "cell_type": "code",
   "execution_count": 21,
   "id": "f2289be0",
   "metadata": {},
   "outputs": [
    {
     "name": "stdout",
     "output_type": "stream",
     "text": [
      "              precision    recall  f1-score   support\n",
      "\n",
      "    negative       0.79      0.74      0.77     30113\n",
      "    positive       0.73      0.78      0.75     26596\n",
      "\n",
      "    accuracy                           0.76     56709\n",
      "   macro avg       0.76      0.76      0.76     56709\n",
      "weighted avg       0.76      0.76      0.76     56709\n",
      "\n",
      "Wall time: 44.6 s\n",
      "              precision    recall  f1-score   support\n",
      "\n",
      "    negative       0.79      0.74      0.77     30113\n",
      "    positive       0.73      0.78      0.75     26596\n",
      "\n",
      "    accuracy                           0.76     56709\n",
      "   macro avg       0.76      0.76      0.76     56709\n",
      "weighted avg       0.76      0.76      0.76     56709\n",
      "\n",
      "Wall time: 44.6 s\n"
     ]
    }
   ],
   "source": [
    "%%time\n",
    "vec = CountVectorizer(ngram_range=(1, 1), tokenizer=word_tokenize, stop_words=sw)\n",
    "bow = vec.fit_transform(x_train)\n",
    "clf = LogisticRegression(random_state=42)\n",
    "clf.fit(bow, y_train)\n",
    "pred = clf.predict(vec.transform(x_test))\n",
    "print(classification_report(pred, y_test))"
   ]
  },
  {
   "cell_type": "markdown",
   "id": "fd33981a",
   "metadata": {},
   "source": [
    "Задание 2"
   ]
  },
  {
   "cell_type": "code",
   "execution_count": 22,
   "id": "ea94d2c2",
   "metadata": {},
   "outputs": [],
   "source": [
    "from sklearn.feature_extraction.text import TfidfVectorizer"
   ]
  },
  {
   "cell_type": "code",
   "execution_count": 23,
   "id": "9dcf732e",
   "metadata": {},
   "outputs": [
    {
     "name": "stdout",
     "output_type": "stream",
     "text": [
      "              precision    recall  f1-score   support\n",
      "\n",
      "    negative       1.00      1.00      1.00     28124\n",
      "    positive       1.00      1.00      1.00     28585\n",
      "\n",
      "    accuracy                           1.00     56709\n",
      "   macro avg       1.00      1.00      1.00     56709\n",
      "weighted avg       1.00      1.00      1.00     56709\n",
      "\n",
      "              precision    recall  f1-score   support\n",
      "\n",
      "    negative       1.00      1.00      1.00     28124\n",
      "    positive       1.00      1.00      1.00     28585\n",
      "\n",
      "    accuracy                           1.00     56709\n",
      "   macro avg       1.00      1.00      1.00     56709\n",
      "weighted avg       1.00      1.00      1.00     56709\n",
      "\n"
     ]
    }
   ],
   "source": [
    "# Оставим знаки пунктуации  \n",
    "vec = TfidfVectorizer(ngram_range=(1, 1), tokenizer=word_tokenize, stop_words=stopwords.words('russian'))\n",
    "bow = vec.fit_transform(x_train)\n",
    "clf = LogisticRegression(random_state=42)\n",
    "clf.fit(bow, y_train)\n",
    "pred = clf.predict(vec.transform(x_test))\n",
    "print(classification_report(pred, y_test))"
   ]
  },
  {
   "cell_type": "code",
   "execution_count": 24,
   "id": "cd76773d",
   "metadata": {},
   "outputs": [
    {
     "data": {
      "text/plain": [
       "'!\"#$%&\\'()*+,-./:;<=>?@[\\\\]^_`{|}~'"
      ]
     },
     "execution_count": 24,
     "metadata": {},
     "output_type": "execute_result"
    },
    {
     "data": {
      "text/plain": [
       "'!\"#$%&\\'()*+,-./:;<=>?@[\\\\]^_`{|}~'"
      ]
     },
     "execution_count": 24,
     "metadata": {},
     "output_type": "execute_result"
    }
   ],
   "source": [
    "# похоже что существенный вклад дают симолы которые участвуют в смайлах. Проверим\n",
    "punctuation"
   ]
  },
  {
   "cell_type": "code",
   "execution_count": 25,
   "id": "8ddafef2",
   "metadata": {},
   "outputs": [
    {
     "data": {
      "text/plain": [
       "['\"',\n",
       " '#',\n",
       " '$',\n",
       " '%',\n",
       " '&',\n",
       " \"'\",\n",
       " '+',\n",
       " ',',\n",
       " '.',\n",
       " '<',\n",
       " '=',\n",
       " '>',\n",
       " '?',\n",
       " '@',\n",
       " '[',\n",
       " '\\\\',\n",
       " ']',\n",
       " '^',\n",
       " '`',\n",
       " '{',\n",
       " '|',\n",
       " '}',\n",
       " '~']"
      ]
     },
     "execution_count": 25,
     "metadata": {},
     "output_type": "execute_result"
    },
    {
     "data": {
      "text/plain": [
       "['\"',\n",
       " '#',\n",
       " '$',\n",
       " '%',\n",
       " '&',\n",
       " \"'\",\n",
       " '+',\n",
       " ',',\n",
       " '.',\n",
       " '<',\n",
       " '=',\n",
       " '>',\n",
       " '?',\n",
       " '@',\n",
       " '[',\n",
       " '\\\\',\n",
       " ']',\n",
       " '^',\n",
       " '`',\n",
       " '{',\n",
       " '|',\n",
       " '}',\n",
       " '~']"
      ]
     },
     "execution_count": 25,
     "metadata": {},
     "output_type": "execute_result"
    }
   ],
   "source": [
    "p = list('\"#$%&\\'+,.<=>?@[\\\\]^`{|}~')\n",
    "p"
   ]
  },
  {
   "cell_type": "code",
   "execution_count": 26,
   "id": "18880c2a",
   "metadata": {},
   "outputs": [
    {
     "name": "stdout",
     "output_type": "stream",
     "text": [
      "              precision    recall  f1-score   support\n",
      "\n",
      "    negative       0.99      1.00      1.00     28084\n",
      "    positive       1.00      1.00      1.00     28625\n",
      "\n",
      "    accuracy                           1.00     56709\n",
      "   macro avg       1.00      1.00      1.00     56709\n",
      "weighted avg       1.00      1.00      1.00     56709\n",
      "\n",
      "              precision    recall  f1-score   support\n",
      "\n",
      "    negative       0.99      1.00      1.00     28084\n",
      "    positive       1.00      1.00      1.00     28625\n",
      "\n",
      "    accuracy                           1.00     56709\n",
      "   macro avg       1.00      1.00      1.00     56709\n",
      "weighted avg       1.00      1.00      1.00     56709\n",
      "\n"
     ]
    }
   ],
   "source": [
    "myfilter = stopwords.words('russian') + p\n",
    "vec = TfidfVectorizer(ngram_range=(1, 1), tokenizer=word_tokenize, stop_words= myfilter)\n",
    "bow = vec.fit_transform(x_train)\n",
    "clf = LogisticRegression(random_state=42)\n",
    "clf.fit(bow, y_train)\n",
    "pred = clf.predict(vec.transform(x_test))\n",
    "print(classification_report(pred, y_test))"
   ]
  },
  {
   "cell_type": "code",
   "execution_count": 27,
   "id": "f09dcc2c",
   "metadata": {},
   "outputs": [
    {
     "name": "stdout",
     "output_type": "stream",
     "text": [
      "              precision    recall  f1-score   support\n",
      "\n",
      "    negative       1.00      0.86      0.92     32961\n",
      "    positive       0.83      1.00      0.91     23748\n",
      "\n",
      "    accuracy                           0.92     56709\n",
      "   macro avg       0.92      0.93      0.92     56709\n",
      "weighted avg       0.93      0.92      0.92     56709\n",
      "\n",
      "              precision    recall  f1-score   support\n",
      "\n",
      "    negative       1.00      0.86      0.92     32961\n",
      "    positive       0.83      1.00      0.91     23748\n",
      "\n",
      "    accuracy                           0.92     56709\n",
      "   macro avg       0.92      0.93      0.92     56709\n",
      "weighted avg       0.93      0.92      0.92     56709\n",
      "\n"
     ]
    }
   ],
   "source": [
    "cool_token = ')'\n",
    "pred = ['positive' if cool_token in tweet else 'negative' for tweet in x_test]\n",
    "print(classification_report(pred, y_test))"
   ]
  },
  {
   "cell_type": "code",
   "execution_count": 28,
   "id": "a601c124",
   "metadata": {},
   "outputs": [
    {
     "name": "stdout",
     "output_type": "stream",
     "text": [
      "[('!', 0.5199527411874658), ('\"', 0.5096545521874835), ('#', 0.5065157206087217), ('$', 0.4973637341515456), ('%', 0.49933872930222717), ('&', 0.49701105644606675), (\"'\", 0.4970992258724365), ('(', 0.026468461796187556), (')', 0.9158863672432948), ('*', 0.5161261880830204), ('+', 0.49725793083990194), (',', 0.5045230915727662), ('-', 0.5116824489939868), ('.', 0.5096898199580313), ('/', 0.5456805798021478), (':', 0.5427357209613994), (';', 0.5006436368124989), ('<', 0.4971168597577104), ('=', 0.4981925267594209), ('>', 0.4971168597577104), ('?', 0.5062159445590647), ('@', 0.5694686910366961), ('[', 0.4972755647251759), ('\\\\', 0.49713449364298434), (']', 0.4973284663809977), ('^', 0.5035003262268776), ('_', 0.519917473416918), ('`', 0.49676418205223155), ('{', 0.4970639581018886), ('|', 0.49247914793066355), ('}', 0.4970992258724365), ('~', 0.4970639581018886)]\n",
      "[('!', 0.5199527411874658), ('\"', 0.5096545521874835), ('#', 0.5065157206087217), ('$', 0.4973637341515456), ('%', 0.49933872930222717), ('&', 0.49701105644606675), (\"'\", 0.4970992258724365), ('(', 0.026468461796187556), (')', 0.9158863672432948), ('*', 0.5161261880830204), ('+', 0.49725793083990194), (',', 0.5045230915727662), ('-', 0.5116824489939868), ('.', 0.5096898199580313), ('/', 0.5456805798021478), (':', 0.5427357209613994), (';', 0.5006436368124989), ('<', 0.4971168597577104), ('=', 0.4981925267594209), ('>', 0.4971168597577104), ('?', 0.5062159445590647), ('@', 0.5694686910366961), ('[', 0.4972755647251759), ('\\\\', 0.49713449364298434), (']', 0.4973284663809977), ('^', 0.5035003262268776), ('_', 0.519917473416918), ('`', 0.49676418205223155), ('{', 0.4970639581018886), ('|', 0.49247914793066355), ('}', 0.4970992258724365), ('~', 0.4970639581018886)]\n"
     ]
    }
   ],
   "source": [
    "pp = []\n",
    "for i in punctuation:\n",
    "    cool_token = i\n",
    "    pred = ['positive' if cool_token in tweet else 'negative' for tweet in x_test]\n",
    "    pp.append((i,accuracy_score(pred, y_test)))\n",
    "print(pp)"
   ]
  },
  {
   "cell_type": "code",
   "execution_count": 29,
   "id": "7352019a",
   "metadata": {},
   "outputs": [
    {
     "name": "stdout",
     "output_type": "stream",
     "text": [
      ")   -    0.9158863672432948\n",
      "@   -    0.5694686910366961\n",
      "/   -    0.5456805798021478\n",
      ":   -    0.5427357209613994\n",
      "!   -    0.5199527411874658\n",
      "_   -    0.519917473416918\n",
      "*   -    0.5161261880830204\n",
      "-   -    0.5116824489939868\n",
      ".   -    0.5096898199580313\n",
      "\"   -    0.5096545521874835\n",
      ")   -    0.9158863672432948\n",
      "@   -    0.5694686910366961\n",
      "/   -    0.5456805798021478\n",
      ":   -    0.5427357209613994\n",
      "!   -    0.5199527411874658\n",
      "_   -    0.519917473416918\n",
      "*   -    0.5161261880830204\n",
      "-   -    0.5116824489939868\n",
      ".   -    0.5096898199580313\n",
      "\"   -    0.5096545521874835\n"
     ]
    }
   ],
   "source": [
    "for i in sorted(pp, key=lambda x: -x[1])[:10]:\n",
    "    print(i[0],'  -   ' ,i[1])"
   ]
  },
  {
   "cell_type": "code",
   "execution_count": null,
   "id": "93806022",
   "metadata": {},
   "outputs": [],
   "source": []
  }
 ],
 "metadata": {
  "kernelspec": {
   "display_name": "Python 3 (ipykernel)",
   "language": "python",
   "name": "python3"
  },
  "language_info": {
   "codemirror_mode": {
    "name": "ipython",
    "version": 3
   },
   "file_extension": ".py",
   "mimetype": "text/x-python",
   "name": "python",
   "nbconvert_exporter": "python",
   "pygments_lexer": "ipython3",
   "version": "3.8.13"
  }
 },
 "nbformat": 4,
 "nbformat_minor": 5
}
