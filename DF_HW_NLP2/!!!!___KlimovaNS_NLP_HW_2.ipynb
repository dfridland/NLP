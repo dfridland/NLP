{
 "cells": [
  {
   "cell_type": "markdown",
   "id": "LsMhWXe8GH4r",
   "metadata": {
    "id": "LsMhWXe8GH4r"
   },
   "source": [
    "# Занятие 1. Предобработка текста"
   ]
  },
  {
   "cell_type": "markdown",
   "id": "o838t7mWGOFH",
   "metadata": {
    "id": "o838t7mWGOFH"
   },
   "source": [
    "# Задание"
   ]
  },
  {
   "cell_type": "markdown",
   "id": "nom2EZsLKNhj",
   "metadata": {
    "id": "nom2EZsLKNhj"
   },
   "source": [
    "Данные:\n",
    "\n",
    "https://disk.yandex.ru/i/v5HM-ENiGXZVpQ\n",
    "\n",
    "https://disk.yandex.ru/i/koR5eMCToCZS2Q\n",
    "\n",
    "Задание 1.\n",
    "Задание: обучите три классификатора:\n",
    "\n",
    "1) на токенах с высокой частотой\n",
    "\n",
    "2) на токенах со средней частотой\n",
    "\n",
    "3) на токенах с низкой частотой\n",
    "\n",
    "Сравните полученные результаты, оцените какие токены наиболее важные для классификации.\n",
    "\n",
    "Задание 2.\n",
    "найти фичи с наибольшей значимостью, и вывести их\n",
    "\n",
    "Задание 3.\n",
    "\n",
    "1) сравнить count/tf-idf/hashing векторайзеры/полносвязанную сетку (построить classification_report)\n",
    "\n",
    "2) подобрать оптимальный размер для hashing векторайзера\n",
    "\n",
    "3) убедиться что для сетки нет переобучения"
   ]
  },
  {
   "cell_type": "code",
   "execution_count": 1,
   "id": "mcXSMZL_HRBN",
   "metadata": {
    "colab": {
     "base_uri": "https://localhost:8080/"
    },
    "id": "mcXSMZL_HRBN",
    "outputId": "92bd55d4-49c1-40f0-cc75-011f0f64bca6"
   },
   "outputs": [
    {
     "name": "stderr",
     "output_type": "stream",
     "text": [
      "[nltk_data] Downloading package punkt to\n",
      "[nltk_data]     /Users/evamelissatasdemir/nltk_data...\n",
      "[nltk_data]   Package punkt is already up-to-date!\n"
     ]
    },
    {
     "data": {
      "text/plain": [
       "True"
      ]
     },
     "execution_count": 1,
     "metadata": {},
     "output_type": "execute_result"
    }
   ],
   "source": [
    "import pandas as pd\n",
    "import numpy as np\n",
    "import re\n",
    "from sklearn.metrics import *\n",
    "from sklearn.model_selection import train_test_split\n",
    "from nltk import word_tokenize\n",
    "from sklearn.linear_model import LogisticRegression\n",
    "from sklearn.feature_extraction.text import CountVectorizer, TfidfVectorizer, HashingVectorizer\n",
    "from collections import Counter\n",
    "from string import punctuation\n",
    "import matplotlib.pyplot as plt\n",
    "%matplotlib inline\n",
    "import nltk\n",
    "nltk.download('punkt')"
   ]
  },
  {
   "cell_type": "code",
   "execution_count": 2,
   "id": "7xtpCOrX8Nkq",
   "metadata": {
    "colab": {
     "base_uri": "https://localhost:8080/"
    },
    "id": "7xtpCOrX8Nkq",
    "outputId": "051bde20-d521-4370-a1f7-6048378f1a9c"
   },
   "outputs": [
    {
     "ename": "ModuleNotFoundError",
     "evalue": "No module named 'google.colab'",
     "output_type": "error",
     "traceback": [
      "\u001b[0;31m---------------------------------------------------------------------------\u001b[0m",
      "\u001b[0;31mModuleNotFoundError\u001b[0m                       Traceback (most recent call last)",
      "Input \u001b[0;32mIn [2]\u001b[0m, in \u001b[0;36m<cell line: 1>\u001b[0;34m()\u001b[0m\n\u001b[0;32m----> 1\u001b[0m \u001b[38;5;28;01mfrom\u001b[39;00m \u001b[38;5;21;01mgoogle\u001b[39;00m\u001b[38;5;21;01m.\u001b[39;00m\u001b[38;5;21;01mcolab\u001b[39;00m \u001b[38;5;28;01mimport\u001b[39;00m drive\n\u001b[1;32m      2\u001b[0m drive\u001b[38;5;241m.\u001b[39mmount(\u001b[38;5;124m'\u001b[39m\u001b[38;5;124m/content/drive\u001b[39m\u001b[38;5;124m'\u001b[39m)\n",
      "\u001b[0;31mModuleNotFoundError\u001b[0m: No module named 'google.colab'"
     ]
    }
   ],
   "source": [
    "from google.colab import drive\n",
    "drive.mount('/content/drive')"
   ]
  },
  {
   "cell_type": "code",
   "execution_count": null,
   "id": "xu87Chct9g9P",
   "metadata": {
    "colab": {
     "base_uri": "https://localhost:8080/"
    },
    "id": "xu87Chct9g9P",
    "outputId": "461b5595-8340-4c09-a89b-195f9c682391"
   },
   "outputs": [],
   "source": [
    "# считываем данные и заполняем общий датасет\n",
    "positive = pd.read_csv('drive/MyDrive/data_for_NLP_course_GB/NLP_data_for_HW_2/positive.csv', sep=';', usecols=[3], names=['text'])\n",
    "positive['label'] = ['positive'] * len(positive)\n",
    "negative = pd.read_csv('drive/MyDrive/data_for_NLP_course_GB/NLP_data_for_HW_2/negative.csv', sep=';', usecols=[3], names=['text'])\n",
    "negative['label'] = ['negative'] * len(negative)\n",
    "df = positive.append(negative)"
   ]
  },
  {
   "cell_type": "code",
   "execution_count": null,
   "id": "O4cXfWbRLPVl",
   "metadata": {
    "id": "O4cXfWbRLPVl"
   },
   "outputs": [],
   "source": [
    "def delete_pattern(text, pattern):\n",
    "  return re.sub(pattern, ' ', text)"
   ]
  },
  {
   "cell_type": "code",
   "execution_count": null,
   "id": "MeXJMGF_KgzH",
   "metadata": {
    "id": "MeXJMGF_KgzH"
   },
   "outputs": [],
   "source": [
    "df['text'] = df['text'].apply(lambda x: x.lower())\n",
    "# Замена пунктуации на пробелы\n",
    "pattern_for_punctuation = r'[^\\w\\s]'\n",
    "df['text'] = df['text'].apply(lambda x: delete_pattern(x, pattern_for_punctuation))\n",
    "# Замена спец. символов на пробелы \n",
    "pattern_for_special_symb = r'[^a-zA-Z0-9]'\n",
    "df['text'] = df['text'].apply(lambda x: delete_pattern(x, pattern_for_special_symb))\n",
    "# Замена чисел на пробелы \n",
    "pattern_for_numbers = r'[^a-zA-Z]'\n",
    "df['text'] = df['text'].apply(lambda x: delete_pattern(x, pattern_for_numbers))\n",
    "# Удаление лишних пробелов\n",
    "df['text'] = df['text'].apply(lambda x: ' '.join(x.split()))"
   ]
  },
  {
   "cell_type": "code",
   "execution_count": null,
   "id": "FHKlZcfe9gxq",
   "metadata": {
    "id": "FHKlZcfe9gxq"
   },
   "outputs": [],
   "source": [
    "x_train, x_test, y_train, y_test = train_test_split(df.text, df.label, \n",
    "                                                    test_size=0.25,\n",
    "                                                    stratify=df.label)"
   ]
  },
  {
   "cell_type": "code",
   "execution_count": 3,
   "id": "ZXtZd-icMxjC",
   "metadata": {
    "id": "ZXtZd-icMxjC"
   },
   "outputs": [
    {
     "ename": "NameError",
     "evalue": "name 'x_train' is not defined",
     "output_type": "error",
     "traceback": [
      "\u001b[0;31m---------------------------------------------------------------------------\u001b[0m",
      "\u001b[0;31mNameError\u001b[0m                                 Traceback (most recent call last)",
      "Input \u001b[0;32mIn [3]\u001b[0m, in \u001b[0;36m<cell line: 1>\u001b[0;34m()\u001b[0m\n\u001b[0;32m----> 1\u001b[0m x_train \u001b[38;5;241m=\u001b[39m \u001b[43mx_train\u001b[49m\u001b[38;5;241m.\u001b[39mreset_index(drop\u001b[38;5;241m=\u001b[39m\u001b[38;5;28;01mTrue\u001b[39;00m)\n\u001b[1;32m      2\u001b[0m x_test \u001b[38;5;241m=\u001b[39m x_test\u001b[38;5;241m.\u001b[39mreset_index(drop\u001b[38;5;241m=\u001b[39m\u001b[38;5;28;01mTrue\u001b[39;00m)\n\u001b[1;32m      3\u001b[0m y_train \u001b[38;5;241m=\u001b[39m y_train\u001b[38;5;241m.\u001b[39mreset_index(drop\u001b[38;5;241m=\u001b[39m\u001b[38;5;28;01mTrue\u001b[39;00m)\n",
      "\u001b[0;31mNameError\u001b[0m: name 'x_train' is not defined"
     ]
    }
   ],
   "source": [
    "x_train = x_train.reset_index(drop=True)\n",
    "x_test = x_test.reset_index(drop=True)\n",
    "y_train = y_train.reset_index(drop=True)\n",
    "y_test = y_test.reset_index(drop=True)"
   ]
  },
  {
   "cell_type": "code",
   "execution_count": 4,
   "id": "p-Y84EYHgK4d",
   "metadata": {
    "id": "p-Y84EYHgK4d"
   },
   "outputs": [
    {
     "ename": "NameError",
     "evalue": "name 'y_train' is not defined",
     "output_type": "error",
     "traceback": [
      "\u001b[0;31m---------------------------------------------------------------------------\u001b[0m",
      "\u001b[0;31mNameError\u001b[0m                                 Traceback (most recent call last)",
      "Input \u001b[0;32mIn [4]\u001b[0m, in \u001b[0;36m<cell line: 1>\u001b[0;34m()\u001b[0m\n\u001b[0;32m----> 1\u001b[0m y_train_word \u001b[38;5;241m=\u001b[39m \u001b[43my_train\u001b[49m\u001b[38;5;241m.\u001b[39mcopy()\n\u001b[1;32m      2\u001b[0m y_train \u001b[38;5;241m=\u001b[39m [\u001b[38;5;241m1\u001b[39m \u001b[38;5;28;01mif\u001b[39;00m elem \u001b[38;5;241m==\u001b[39m \u001b[38;5;124m'\u001b[39m\u001b[38;5;124mpositive\u001b[39m\u001b[38;5;124m'\u001b[39m \u001b[38;5;28;01melse\u001b[39;00m \u001b[38;5;241m0\u001b[39m \u001b[38;5;28;01mfor\u001b[39;00m elem \u001b[38;5;129;01min\u001b[39;00m y_train]\n\u001b[1;32m      3\u001b[0m y_test_word \u001b[38;5;241m=\u001b[39m y_test\u001b[38;5;241m.\u001b[39mcopy()\n",
      "\u001b[0;31mNameError\u001b[0m: name 'y_train' is not defined"
     ]
    }
   ],
   "source": [
    "y_train_word = y_train.copy()\n",
    "y_train = [1 if elem == 'positive' else 0 for elem in y_train]\n",
    "y_test_word = y_test.copy()\n",
    "y_test = [1 if elem == 'positive' else 0 for elem in y_test]"
   ]
  },
  {
   "cell_type": "code",
   "execution_count": null,
   "id": "gMzwhBw2-VSu",
   "metadata": {
    "colab": {
     "base_uri": "https://localhost:8080/",
     "height": 35
    },
    "id": "gMzwhBw2-VSu",
    "outputId": "3de4fada-7d8f-4fab-9941-42e33d30494a"
   },
   "outputs": [
    {
     "data": {
      "application/vnd.google.colaboratory.intrinsic+json": {
       "type": "string"
      },
      "text/plain": [
       "'!\"#$%&\\'()*+,-./:;<=>?@[\\\\]^_`{|}~'"
      ]
     },
     "execution_count": 9,
     "metadata": {},
     "output_type": "execute_result"
    }
   ],
   "source": [
    "punctuation"
   ]
  },
  {
   "cell_type": "code",
   "execution_count": null,
   "id": "5dWIfZEr-O5R",
   "metadata": {
    "colab": {
     "base_uri": "https://localhost:8080/"
    },
    "id": "5dWIfZEr-O5R",
    "outputId": "654c6bb0-da25-4cb2-d5ed-2fce22638e79"
   },
   "outputs": [
    {
     "name": "stdout",
     "output_type": "stream",
     "text": [
      "467845\n"
     ]
    },
    {
     "data": {
      "text/plain": [
       "['first', 'timee', 'd', 'd', 'rt', 'katiacheh', 'rt', 'digger', 'dd', 'http']"
      ]
     },
     "execution_count": 10,
     "metadata": {},
     "output_type": "execute_result"
    }
   ],
   "source": [
    "corpus = [token for tweet in df.text for token in word_tokenize(tweet) if token not in punctuation]\n",
    "print(len(corpus))\n",
    "corpus[:10]"
   ]
  },
  {
   "cell_type": "code",
   "execution_count": null,
   "id": "BgxI3ZgN-Ovn",
   "metadata": {
    "colab": {
     "base_uri": "https://localhost:8080/"
    },
    "id": "BgxI3ZgN-Ovn",
    "outputId": "2d677768-1a07-48d8-d907-7a01350fc8f9"
   },
   "outputs": [
    {
     "data": {
      "text/plain": [
       "[('rt', 38168),\n",
       " ('t', 34166),\n",
       " ('http', 33076),\n",
       " ('co', 33071),\n",
       " ('d', 19449),\n",
       " ('o', 3501),\n",
       " ('a', 2299),\n",
       " ('s', 1603),\n",
       " ('i', 1553),\n",
       " ('dd', 1311)]"
      ]
     },
     "execution_count": 11,
     "metadata": {},
     "output_type": "execute_result"
    }
   ],
   "source": [
    "freq_dict = Counter(corpus)\n",
    "freq_dict_sorted= sorted(freq_dict.items(), key=lambda x: -x[1])\n",
    "list(freq_dict_sorted)[:10]"
   ]
  },
  {
   "cell_type": "code",
   "execution_count": null,
   "id": "uRwMHNK1ChwF",
   "metadata": {
    "colab": {
     "base_uri": "https://localhost:8080/",
     "height": 435
    },
    "id": "uRwMHNK1ChwF",
    "outputId": "de61abc1-42c5-41e4-cdd1-e5183198ea6f"
   },
   "outputs": [
    {
     "data": {
      "image/png": "[encoded data removed]",
      "text/plain": [
       "<Figure size 640x480 with 1 Axes>"
      ]
     },
     "metadata": {},
     "output_type": "display_data"
    }
   ],
   "source": [
    "first_100_freqs = [freq for word, freq in freq_dict_sorted[:100]]\n",
    "plt.plot(first_100_freqs)\n",
    "plt.show()"
   ]
  },
  {
   "cell_type": "code",
   "execution_count": null,
   "id": "gz01vPUIC0kM",
   "metadata": {
    "colab": {
     "base_uri": "https://localhost:8080/",
     "height": 430
    },
    "id": "gz01vPUIC0kM",
    "outputId": "430b0d0b-adad-4b42-8123-b80c0e3bd5d8"
   },
   "outputs": [
    {
     "data": {
      "image/png": "[encoded data removed]",
      "text/plain": [
       "<Figure size 640x480 with 1 Axes>"
      ]
     },
     "metadata": {},
     "output_type": "display_data"
    }
   ],
   "source": [
    "low_freq = [freq for word, freq in freq_dict_sorted if freq < 10]\n",
    "plt.plot(low_freq)\n",
    "plt.show()"
   ]
  },
  {
   "cell_type": "code",
   "execution_count": null,
   "id": "P4JGqNGziyAs",
   "metadata": {
    "id": "P4JGqNGziyAs"
   },
   "outputs": [],
   "source": [
    "very_low_freq = [freq for word, freq in freq_dict_sorted if freq <= 10]"
   ]
  },
  {
   "cell_type": "code",
   "execution_count": null,
   "id": "bLNAVrBVDd9n",
   "metadata": {
    "colab": {
     "base_uri": "https://localhost:8080/",
     "height": 430
    },
    "id": "bLNAVrBVDd9n",
    "outputId": "0d74177e-a693-41ad-9fe3-8b1d6dd8a379"
   },
   "outputs": [
    {
     "data": {
      "image/png": "[encoded data removed]",
      "text/plain": [
       "<Figure size 640x480 with 1 Axes>"
      ]
     },
     "metadata": {},
     "output_type": "display_data"
    }
   ],
   "source": [
    "mean_freq = [freq for word, freq in freq_dict_sorted[100:-len(low_freq)]]\n",
    "plt.plot(mean_freq)\n",
    "plt.show()"
   ]
  },
  {
   "cell_type": "code",
   "execution_count": null,
   "id": "s0TRqoO0DJQP",
   "metadata": {
    "colab": {
     "base_uri": "https://localhost:8080/"
    },
    "id": "s0TRqoO0DJQP",
    "outputId": "5aabbf32-9324-4cf5-fff2-d21c66ccd08d"
   },
   "outputs": [
    {
     "data": {
      "text/plain": [
       "112197"
      ]
     },
     "execution_count": 16,
     "metadata": {},
     "output_type": "execute_result"
    }
   ],
   "source": [
    "len(freq_dict_sorted)"
   ]
  },
  {
   "cell_type": "code",
   "execution_count": null,
   "id": "paAAkP97DFAZ",
   "metadata": {
    "colab": {
     "base_uri": "https://localhost:8080/"
    },
    "id": "paAAkP97DFAZ",
    "outputId": "f7c2a04a-ebc8-4b71-aba7-5ff193101b49"
   },
   "outputs": [
    {
     "data": {
      "text/plain": [
       "(108611, 3486, 100)"
      ]
     },
     "execution_count": 17,
     "metadata": {},
     "output_type": "execute_result"
    }
   ],
   "source": [
    "len(low_freq), len(mean_freq), len(first_100_freqs)"
   ]
  },
  {
   "cell_type": "code",
   "execution_count": null,
   "id": "6bSsh5umF1hA",
   "metadata": {
    "id": "6bSsh5umF1hA"
   },
   "outputs": [],
   "source": [
    "vectorizer_high_freq = TfidfVectorizer(vocabulary=list(dict(freq_dict_sorted[:100]).keys()))\n",
    "\n",
    "# Создаем the Bag-of-Words модель\n",
    "bag_of_words_high_freq = vectorizer_high_freq.fit_transform(x_train.values)\n",
    "\n",
    "# Отобразим Bag-of-Words модель как DataFrame\n",
    "feature_names_high_freq = vectorizer_high_freq.get_feature_names_out()\n",
    "df_high_freq_train = pd.DataFrame(bag_of_words_high_freq.toarray(), columns = feature_names_high_freq)\n",
    "bag_of_words_high_freq_test = vectorizer_high_freq.transform(x_test.values)\n",
    "df_high_freq_test = pd.DataFrame(bag_of_words_high_freq_test.toarray(), columns = feature_names_high_freq)"
   ]
  },
  {
   "cell_type": "code",
   "execution_count": null,
   "id": "MgUPtqTZNDiB",
   "metadata": {
    "id": "MgUPtqTZNDiB"
   },
   "outputs": [],
   "source": [
    "classifier_high_freq = LogisticRegression(solver='lbfgs', max_iter=1000)\n",
    "classifier_high_freq.fit(df_high_freq_train, y_train)\n",
    "predictions_high_freq_train = classifier_high_freq.predict(df_high_freq_train)\n",
    "predictions_high_freq_test = classifier_high_freq.predict(df_high_freq_test)"
   ]
  },
  {
   "cell_type": "code",
   "execution_count": null,
   "id": "WYlUPkIsZT4D",
   "metadata": {
    "colab": {
     "base_uri": "https://localhost:8080/"
    },
    "id": "WYlUPkIsZT4D",
    "outputId": "cf864009-a8eb-4efa-9061-2844fe3fd3d0"
   },
   "outputs": [
    {
     "name": "stdout",
     "output_type": "stream",
     "text": [
      "              precision    recall  f1-score   support\n",
      "\n",
      "           0       0.77      0.55      0.64    118640\n",
      "           1       0.37      0.63      0.47     51485\n",
      "\n",
      "    accuracy                           0.57    170125\n",
      "   macro avg       0.57      0.59      0.55    170125\n",
      "weighted avg       0.65      0.57      0.59    170125\n",
      "\n"
     ]
    }
   ],
   "source": [
    "print(classification_report(predictions_high_freq_train, y_train))"
   ]
  },
  {
   "cell_type": "code",
   "execution_count": null,
   "id": "DgpcKk15ZFTH",
   "metadata": {
    "colab": {
     "base_uri": "https://localhost:8080/"
    },
    "id": "DgpcKk15ZFTH",
    "outputId": "502776d8-3807-4298-c48d-b3b2b6313400"
   },
   "outputs": [
    {
     "name": "stdout",
     "output_type": "stream",
     "text": [
      "              precision    recall  f1-score   support\n",
      "\n",
      "           0       0.77      0.54      0.64     39623\n",
      "           1       0.37      0.62      0.46     17086\n",
      "\n",
      "    accuracy                           0.57     56709\n",
      "   macro avg       0.57      0.58      0.55     56709\n",
      "weighted avg       0.65      0.57      0.58     56709\n",
      "\n"
     ]
    }
   ],
   "source": [
    "print(classification_report(predictions_high_freq_test, y_test))"
   ]
  },
  {
   "cell_type": "code",
   "execution_count": null,
   "id": "cxD_EOYwZWqj",
   "metadata": {
    "id": "cxD_EOYwZWqj"
   },
   "outputs": [],
   "source": [
    "vectorizer_low_freq = TfidfVectorizer(vocabulary=list(dict(freq_dict_sorted[-len(low_freq):]).keys()))\n",
    "\n",
    "# Создаем the Bag-of-Words модель\n",
    "bag_of_words_low_freq = vectorizer_low_freq.fit_transform(x_train.values)\n",
    "\n",
    "# Отобразим Bag-of-Words модель как DataFrame\n",
    "feature_names_low_freq = vectorizer_low_freq.get_feature_names_out()\n",
    "df_low_freq_train = pd.DataFrame(bag_of_words_low_freq.toarray(), columns = feature_names_low_freq)\n",
    "bag_of_words_low_freq_test = vectorizer_low_freq.transform(x_test.values)\n",
    "df_low_freq_test = pd.DataFrame(bag_of_words_low_freq_test.toarray(), columns = feature_names_low_freq)"
   ]
  },
  {
   "cell_type": "code",
   "execution_count": null,
   "id": "lyh-lsyObgL3",
   "metadata": {
    "id": "lyh-lsyObgL3"
   },
   "outputs": [],
   "source": [
    "classifier_low_freq = LogisticRegression(solver='lbfgs', max_iter=1000)\n",
    "classifier_low_freq.fit(df_low_freq_train, y_train)\n",
    "predictions_low_freq_train = classifier_low_freq.predict(df_low_freq_train)\n",
    "predictions_low_freq_test = classifier_low_freq.predict(df_low_freq_test)"
   ]
  },
  {
   "cell_type": "code",
   "execution_count": null,
   "id": "rsv4j_zVbqCs",
   "metadata": {
    "colab": {
     "base_uri": "https://localhost:8080/"
    },
    "id": "rsv4j_zVbqCs",
    "outputId": "5fda5b5b-1b97-4fb0-a10f-92da736184d9"
   },
   "outputs": [
    {
     "name": "stdout",
     "output_type": "stream",
     "text": [
      "              precision    recall  f1-score   support\n",
      "\n",
      "           0       0.97      0.69      0.80    118493\n",
      "           1       0.57      0.95      0.71     51632\n",
      "\n",
      "    accuracy                           0.77    170125\n",
      "   macro avg       0.77      0.82      0.76    170125\n",
      "weighted avg       0.85      0.77      0.78    170125\n",
      "\n"
     ]
    }
   ],
   "source": [
    "print(classification_report(predictions_low_freq_train, y_train))"
   ]
  },
  {
   "cell_type": "code",
   "execution_count": null,
   "id": "0QoE5H13btvs",
   "metadata": {
    "colab": {
     "base_uri": "https://localhost:8080/"
    },
    "id": "0QoE5H13btvs",
    "outputId": "e3101506-8207-4993-f5b4-5af2602d9b42"
   },
   "outputs": [
    {
     "name": "stdout",
     "output_type": "stream",
     "text": [
      "              precision    recall  f1-score   support\n",
      "\n",
      "           0       0.91      0.53      0.67     47711\n",
      "           1       0.22      0.71      0.34      8998\n",
      "\n",
      "    accuracy                           0.56     56709\n",
      "   macro avg       0.56      0.62      0.50     56709\n",
      "weighted avg       0.80      0.56      0.62     56709\n",
      "\n"
     ]
    }
   ],
   "source": [
    "print(classification_report(predictions_low_freq_test, y_test))"
   ]
  },
  {
   "cell_type": "code",
   "execution_count": null,
   "id": "m2nFLeMAb3B2",
   "metadata": {
    "id": "m2nFLeMAb3B2"
   },
   "outputs": [],
   "source": [
    "vectorizer_mean_freq = TfidfVectorizer(vocabulary=list(dict(freq_dict_sorted[100:-len(low_freq)]).keys()))\n",
    "\n",
    "# Создаем the Bag-of-Words модель\n",
    "bag_of_words_mean_freq = vectorizer_mean_freq.fit_transform(x_train.values)\n",
    "\n",
    "# Отобразим Bag-of-Words модель как DataFrame\n",
    "feature_names_mean_freq = vectorizer_mean_freq.get_feature_names_out()\n",
    "df_mean_freq_train = pd.DataFrame(bag_of_words_mean_freq.toarray(), columns = feature_names_mean_freq)\n",
    "bag_of_words_mean_freq_test = vectorizer_mean_freq.transform(x_test.values)\n",
    "df_mean_freq_test = pd.DataFrame(bag_of_words_mean_freq_test.toarray(), columns = feature_names_mean_freq)"
   ]
  },
  {
   "cell_type": "code",
   "execution_count": null,
   "id": "LbXIcDZ6bzdW",
   "metadata": {
    "id": "LbXIcDZ6bzdW"
   },
   "outputs": [],
   "source": [
    "classifier_mean_freq = LogisticRegression(solver='lbfgs', max_iter=1000)\n",
    "classifier_mean_freq.fit(df_mean_freq_train, y_train)\n",
    "predictions_mean_freq_train = classifier_mean_freq.predict(df_mean_freq_train)\n",
    "predictions_mean_freq_test = classifier_mean_freq.predict(df_mean_freq_test)"
   ]
  },
  {
   "cell_type": "code",
   "execution_count": null,
   "id": "IBxCtK0acsnA",
   "metadata": {
    "colab": {
     "base_uri": "https://localhost:8080/"
    },
    "id": "IBxCtK0acsnA",
    "outputId": "aa161459-31c5-4bc5-f59a-6aa43092b051"
   },
   "outputs": [
    {
     "name": "stdout",
     "output_type": "stream",
     "text": [
      "              precision    recall  f1-score   support\n",
      "\n",
      "           0       0.89      0.54      0.67    138246\n",
      "           1       0.26      0.70      0.38     31879\n",
      "\n",
      "    accuracy                           0.57    170125\n",
      "   macro avg       0.57      0.62      0.52    170125\n",
      "weighted avg       0.77      0.57      0.62    170125\n",
      "\n"
     ]
    }
   ],
   "source": [
    "print(classification_report(predictions_mean_freq_train, y_train))"
   ]
  },
  {
   "cell_type": "code",
   "execution_count": null,
   "id": "gi7FFEJXcvL_",
   "metadata": {
    "colab": {
     "base_uri": "https://localhost:8080/"
    },
    "id": "gi7FFEJXcvL_",
    "outputId": "1d5f0014-8773-4ad7-953e-f52e01e4f556"
   },
   "outputs": [
    {
     "name": "stdout",
     "output_type": "stream",
     "text": [
      "              precision    recall  f1-score   support\n",
      "\n",
      "           0       0.87      0.53      0.66     46163\n",
      "           1       0.24      0.65      0.35     10546\n",
      "\n",
      "    accuracy                           0.55     56709\n",
      "   macro avg       0.56      0.59      0.50     56709\n",
      "weighted avg       0.75      0.55      0.60     56709\n",
      "\n"
     ]
    }
   ],
   "source": [
    "print(classification_report(predictions_mean_freq_test, y_test))"
   ]
  },
  {
   "cell_type": "code",
   "execution_count": null,
   "id": "v65tq5GhenOx",
   "metadata": {
    "colab": {
     "base_uri": "https://localhost:8080/"
    },
    "id": "v65tq5GhenOx",
    "outputId": "6bd05edb-97ff-4748-b1cb-fe4f2348e7fe"
   },
   "outputs": [
    {
     "data": {
      "text/plain": [
       "array([ 0.17996935,  0.49218446,  0.09350429, -0.08485994,  0.03808744,\n",
       "        0.19893818,  0.56528072,  0.10826245,  0.49880473,  0.45527236])"
      ]
     },
     "execution_count": 30,
     "metadata": {},
     "output_type": "execute_result"
    }
   ],
   "source": [
    "classifier_mean_freq.coef_[0][:10]"
   ]
  },
  {
   "cell_type": "code",
   "execution_count": null,
   "id": "Iw-Z9ayPcw2C",
   "metadata": {
    "colab": {
     "base_uri": "https://localhost:8080/"
    },
    "id": "Iw-Z9ayPcw2C",
    "outputId": "b97e344f-05e8-484d-99e2-4ff32ee9c5f6"
   },
   "outputs": [
    {
     "data": {
      "text/plain": [
       "array(['styles', 'olga', 'na', 'green', 'sobchak', 'masha', 'and', 'way',\n",
       "       'lol', 'killjoy'], dtype=object)"
      ]
     },
     "execution_count": 31,
     "metadata": {},
     "output_type": "execute_result"
    }
   ],
   "source": [
    "classifier_mean_freq.feature_names_in_[0:10]"
   ]
  },
  {
   "cell_type": "code",
   "execution_count": null,
   "id": "hkNsrc-akHhI",
   "metadata": {
    "id": "hkNsrc-akHhI"
   },
   "outputs": [],
   "source": [
    "df_feature_importance = pd.DataFrame({'feature': list(classifier_mean_freq.feature_names_in_),\n",
    "                                      'weight': list(classifier_mean_freq.coef_[0]),\n",
    "                                      'abs_weight': [abs(elem) for elem in list(classifier_mean_freq.coef_[0])]})"
   ]
  },
  {
   "cell_type": "code",
   "execution_count": null,
   "id": "npKvX-RbkoOJ",
   "metadata": {
    "id": "npKvX-RbkoOJ"
   },
   "outputs": [],
   "source": [
    "df_feature_importance = df_feature_importance.sort_values(by='abs_weight', ascending=False)"
   ]
  },
  {
   "cell_type": "code",
   "execution_count": null,
   "id": "opr88xT6enqO",
   "metadata": {
    "colab": {
     "base_uri": "https://localhost:8080/",
     "height": 381
    },
    "id": "opr88xT6enqO",
    "outputId": "2b352a31-dd0d-48c9-bfc3-aa841358d8e9"
   },
   "outputs": [
    {
     "name": "stdout",
     "output_type": "stream",
     "text": [
      "Признаки с наибольшей значимостью\n"
     ]
    },
    {
     "data": {
      "text/html": [
       "\n",
       "  <div id=\"df-271772c8-c9f4-4a31-9dd1-21d10fb9221a\">\n",
       "    <div class=\"colab-df-container\">\n",
       "      <div>\n",
       "<style scoped>\n",
       "    .dataframe tbody tr th:only-of-type {\n",
       "        vertical-align: middle;\n",
       "    }\n",
       "\n",
       "    .dataframe tbody tr th {\n",
       "        vertical-align: top;\n",
       "    }\n",
       "\n",
       "    .dataframe thead th {\n",
       "        text-align: right;\n",
       "    }\n",
       "</style>\n",
       "<table border=\"1\" class=\"dataframe\">\n",
       "  <thead>\n",
       "    <tr style=\"text-align: right;\">\n",
       "      <th></th>\n",
       "      <th>feature</th>\n",
       "      <th>weight</th>\n",
       "      <th>abs_weight</th>\n",
       "    </tr>\n",
       "  </thead>\n",
       "  <tbody>\n",
       "    <tr>\n",
       "      <th>70</th>\n",
       "      <td>prisonero</td>\n",
       "      <td>-3.733190</td>\n",
       "      <td>3.733190</td>\n",
       "    </tr>\n",
       "    <tr>\n",
       "      <th>235</th>\n",
       "      <td>horanso</td>\n",
       "      <td>-3.150681</td>\n",
       "      <td>3.150681</td>\n",
       "    </tr>\n",
       "    <tr>\n",
       "      <th>301</th>\n",
       "      <td>ohoo</td>\n",
       "      <td>-3.011245</td>\n",
       "      <td>3.011245</td>\n",
       "    </tr>\n",
       "    <tr>\n",
       "      <th>105</th>\n",
       "      <td>oppa</td>\n",
       "      <td>-2.742810</td>\n",
       "      <td>2.742810</td>\n",
       "    </tr>\n",
       "    <tr>\n",
       "      <th>377</th>\n",
       "      <td>juljulianapai</td>\n",
       "      <td>2.741996</td>\n",
       "      <td>2.741996</td>\n",
       "    </tr>\n",
       "    <tr>\n",
       "      <th>428</th>\n",
       "      <td>lponomarenko</td>\n",
       "      <td>-2.688815</td>\n",
       "      <td>2.688815</td>\n",
       "    </tr>\n",
       "    <tr>\n",
       "      <th>144</th>\n",
       "      <td>ddddd</td>\n",
       "      <td>2.677302</td>\n",
       "      <td>2.677302</td>\n",
       "    </tr>\n",
       "    <tr>\n",
       "      <th>381</th>\n",
       "      <td>obnulyay</td>\n",
       "      <td>-2.638456</td>\n",
       "      <td>2.638456</td>\n",
       "    </tr>\n",
       "    <tr>\n",
       "      <th>68</th>\n",
       "      <td>gmelsgmiuw</td>\n",
       "      <td>2.590066</td>\n",
       "      <td>2.590066</td>\n",
       "    </tr>\n",
       "    <tr>\n",
       "      <th>1080</th>\n",
       "      <td>bernar</td>\n",
       "      <td>2.524658</td>\n",
       "      <td>2.524658</td>\n",
       "    </tr>\n",
       "  </tbody>\n",
       "</table>\n",
       "</div>\n",
       "      <button class=\"colab-df-convert\" onclick=\"convertToInteractive('df-271772c8-c9f4-4a31-9dd1-21d10fb9221a')\"\n",
       "              title=\"Convert this dataframe to an interactive table.\"\n",
       "              style=\"display:none;\">\n",
       "        \n",
       "  <svg xmlns=\"http://www.w3.org/2000/svg\" height=\"24px\"viewBox=\"0 0 24 24\"\n",
       "       width=\"24px\">\n",
       "    <path d=\"M0 0h24v24H0V0z\" fill=\"none\"/>\n",
       "    <path d=\"M18.56 5.44l.94 2.06.94-2.06 2.06-.94-2.06-.94-.94-2.06-.94 2.06-2.06.94zm-11 1L8.5 8.5l.94-2.06 2.06-.94-2.06-.94L8.5 2.5l-.94 2.06-2.06.94zm10 10l.94 2.06.94-2.06 2.06-.94-2.06-.94-.94-2.06-.94 2.06-2.06.94z\"/><path d=\"M17.41 7.96l-1.37-1.37c-.4-.4-.92-.59-1.43-.59-.52 0-1.04.2-1.43.59L10.3 9.45l-7.72 7.72c-.78.78-.78 2.05 0 2.83L4 21.41c.39.39.9.59 1.41.59.51 0 1.02-.2 1.41-.59l7.78-7.78 2.81-2.81c.8-.78.8-2.07 0-2.86zM5.41 20L4 18.59l7.72-7.72 1.47 1.35L5.41 20z\"/>\n",
       "  </svg>\n",
       "      </button>\n",
       "      \n",
       "  <style>\n",
       "    .colab-df-container {\n",
       "      display:flex;\n",
       "      flex-wrap:wrap;\n",
       "      gap: 12px;\n",
       "    }\n",
       "\n",
       "    .colab-df-convert {\n",
       "      background-color: #E8F0FE;\n",
       "      border: none;\n",
       "      border-radius: 50%;\n",
       "      cursor: pointer;\n",
       "      display: none;\n",
       "      fill: #1967D2;\n",
       "      height: 32px;\n",
       "      padding: 0 0 0 0;\n",
       "      width: 32px;\n",
       "    }\n",
       "\n",
       "    .colab-df-convert:hover {\n",
       "      background-color: #E2EBFA;\n",
       "      box-shadow: 0px 1px 2px rgba(60, 64, 67, 0.3), 0px 1px 3px 1px rgba(60, 64, 67, 0.15);\n",
       "      fill: #174EA6;\n",
       "    }\n",
       "\n",
       "    [theme=dark] .colab-df-convert {\n",
       "      background-color: #3B4455;\n",
       "      fill: #D2E3FC;\n",
       "    }\n",
       "\n",
       "    [theme=dark] .colab-df-convert:hover {\n",
       "      background-color: #434B5C;\n",
       "      box-shadow: 0px 1px 3px 1px rgba(0, 0, 0, 0.15);\n",
       "      filter: drop-shadow(0px 1px 2px rgba(0, 0, 0, 0.3));\n",
       "      fill: #FFFFFF;\n",
       "    }\n",
       "  </style>\n",
       "\n",
       "      <script>\n",
       "        const buttonEl =\n",
       "          document.querySelector('#df-271772c8-c9f4-4a31-9dd1-21d10fb9221a button.colab-df-convert');\n",
       "        buttonEl.style.display =\n",
       "          google.colab.kernel.accessAllowed ? 'block' : 'none';\n",
       "\n",
       "        async function convertToInteractive(key) {\n",
       "          const element = document.querySelector('#df-271772c8-c9f4-4a31-9dd1-21d10fb9221a');\n",
       "          const dataTable =\n",
       "            await google.colab.kernel.invokeFunction('convertToInteractive',\n",
       "                                                     [key], {});\n",
       "          if (!dataTable) return;\n",
       "\n",
       "          const docLinkHtml = 'Like what you see? Visit the ' +\n",
       "            '<a target=\"_blank\" href=https://colab.research.google.com/notebooks/data_table.ipynb>data table notebook</a>'\n",
       "            + ' to learn more about interactive tables.';\n",
       "          element.innerHTML = '';\n",
       "          dataTable['output_type'] = 'display_data';\n",
       "          await google.colab.output.renderOutput(dataTable, element);\n",
       "          const docLink = document.createElement('div');\n",
       "          docLink.innerHTML = docLinkHtml;\n",
       "          element.appendChild(docLink);\n",
       "        }\n",
       "      </script>\n",
       "    </div>\n",
       "  </div>\n",
       "  "
      ],
      "text/plain": [
       "            feature    weight  abs_weight\n",
       "70        prisonero -3.733190    3.733190\n",
       "235         horanso -3.150681    3.150681\n",
       "301            ohoo -3.011245    3.011245\n",
       "105            oppa -2.742810    2.742810\n",
       "377   juljulianapai  2.741996    2.741996\n",
       "428    lponomarenko -2.688815    2.688815\n",
       "144           ddddd  2.677302    2.677302\n",
       "381        obnulyay -2.638456    2.638456\n",
       "68       gmelsgmiuw  2.590066    2.590066\n",
       "1080         bernar  2.524658    2.524658"
      ]
     },
     "execution_count": 34,
     "metadata": {},
     "output_type": "execute_result"
    }
   ],
   "source": [
    "print('Признаки с наибольшей значимостью')\n",
    "df_feature_importance.head(10)"
   ]
  },
  {
   "cell_type": "code",
   "execution_count": null,
   "id": "R7h-GZ76GXsO",
   "metadata": {
    "colab": {
     "base_uri": "https://localhost:8080/"
    },
    "id": "R7h-GZ76GXsO",
    "outputId": "25df51a5-194a-4517-81a1-724ec3cb4ed9"
   },
   "outputs": [
    {
     "data": {
      "text/plain": [
       "6569"
      ]
     },
     "execution_count": 35,
     "metadata": {},
     "output_type": "execute_result"
    }
   ],
   "source": [
    "words_with_normal_freq = [word for word, freq in freq_dict_sorted if freq > 5]\n",
    "len(words_with_normal_freq)"
   ]
  },
  {
   "cell_type": "code",
   "execution_count": null,
   "id": "3E81tyqxks6O",
   "metadata": {
    "id": "3E81tyqxks6O"
   },
   "outputs": [],
   "source": [
    "count_vectorizer = CountVectorizer(vocabulary = words_with_normal_freq)\n",
    "x_train_count = count_vectorizer.fit_transform(x_train.values)\n",
    "x_test_count = count_vectorizer.transform(x_test.values)\n",
    "classifier_count_vect = LogisticRegression(solver='lbfgs', max_iter=1000)\n",
    "classifier_count_vect.fit(x_train_count, y_train)\n",
    "predictions_train_count = classifier_count_vect.predict(x_train_count)\n",
    "predictions_test_count = classifier_count_vect.predict(x_test_count)"
   ]
  },
  {
   "cell_type": "code",
   "execution_count": null,
   "id": "2rBaN45Izh7q",
   "metadata": {
    "colab": {
     "base_uri": "https://localhost:8080/"
    },
    "id": "2rBaN45Izh7q",
    "outputId": "6511cb49-abb4-41a3-984c-fd64fc0e542c"
   },
   "outputs": [
    {
     "name": "stdout",
     "output_type": "stream",
     "text": [
      "              precision    recall  f1-score   support\n",
      "\n",
      "           0       0.78      0.59      0.67    110396\n",
      "           1       0.48      0.69      0.56     59729\n",
      "\n",
      "    accuracy                           0.62    170125\n",
      "   macro avg       0.63      0.64      0.62    170125\n",
      "weighted avg       0.67      0.62      0.63    170125\n",
      "\n"
     ]
    }
   ],
   "source": [
    "print(classification_report(predictions_train_count, y_train))"
   ]
  },
  {
   "cell_type": "code",
   "execution_count": null,
   "id": "pwa6Pu5Czf4S",
   "metadata": {
    "colab": {
     "base_uri": "https://localhost:8080/"
    },
    "id": "pwa6Pu5Czf4S",
    "outputId": "8f114f0f-72b1-4440-d998-75814049191d"
   },
   "outputs": [
    {
     "name": "stdout",
     "output_type": "stream",
     "text": [
      "              precision    recall  f1-score   support\n",
      "\n",
      "           0       0.75      0.57      0.65     36942\n",
      "           1       0.45      0.65      0.53     19767\n",
      "\n",
      "    accuracy                           0.60     56709\n",
      "   macro avg       0.60      0.61      0.59     56709\n",
      "weighted avg       0.65      0.60      0.61     56709\n",
      "\n"
     ]
    }
   ],
   "source": [
    "print(classification_report(predictions_test_count, y_test))"
   ]
  },
  {
   "cell_type": "code",
   "execution_count": null,
   "id": "F_0mqj4Zl5Cx",
   "metadata": {
    "id": "F_0mqj4Zl5Cx"
   },
   "outputs": [],
   "source": [
    "tfidf_vectorizer = TfidfVectorizer(vocabulary = words_with_normal_freq)\n",
    "x_train_tfidf = tfidf_vectorizer.fit_transform(x_train.values)\n",
    "x_test_tfidf = tfidf_vectorizer.transform(x_test.values)\n",
    "classifier_tfidf_vect = LogisticRegression(solver='lbfgs', max_iter=1000)\n",
    "classifier_tfidf_vect.fit(x_train_tfidf, y_train)\n",
    "predictions_train_tfidf = classifier_tfidf_vect.predict(x_train_tfidf)\n",
    "predictions_test_tfidf = classifier_tfidf_vect.predict(x_test_tfidf)"
   ]
  },
  {
   "cell_type": "code",
   "execution_count": null,
   "id": "OnBolojZmBmY",
   "metadata": {
    "colab": {
     "base_uri": "https://localhost:8080/"
    },
    "id": "OnBolojZmBmY",
    "outputId": "169bc64d-ed6a-400c-b34f-f90b62e6509a"
   },
   "outputs": [
    {
     "name": "stdout",
     "output_type": "stream",
     "text": [
      "              precision    recall  f1-score   support\n",
      "\n",
      "           0       0.77      0.59      0.67    109352\n",
      "           1       0.48      0.68      0.57     60773\n",
      "\n",
      "    accuracy                           0.62    170125\n",
      "   macro avg       0.63      0.64      0.62    170125\n",
      "weighted avg       0.67      0.62      0.63    170125\n",
      "\n"
     ]
    }
   ],
   "source": [
    "print(classification_report(predictions_train_tfidf, y_train))"
   ]
  },
  {
   "cell_type": "code",
   "execution_count": null,
   "id": "VJwo_bSPz0YM",
   "metadata": {
    "colab": {
     "base_uri": "https://localhost:8080/"
    },
    "id": "VJwo_bSPz0YM",
    "outputId": "c67bad2c-743f-4f70-b624-dbc29fce923f"
   },
   "outputs": [
    {
     "name": "stdout",
     "output_type": "stream",
     "text": [
      "              precision    recall  f1-score   support\n",
      "\n",
      "           0       0.75      0.57      0.65     36606\n",
      "           1       0.45      0.65      0.53     20103\n",
      "\n",
      "    accuracy                           0.60     56709\n",
      "   macro avg       0.60      0.61      0.59     56709\n",
      "weighted avg       0.64      0.60      0.61     56709\n",
      "\n"
     ]
    }
   ],
   "source": [
    "print(classification_report(predictions_test_tfidf, y_test))"
   ]
  },
  {
   "cell_type": "code",
   "execution_count": null,
   "id": "du3ZL61dMVpw",
   "metadata": {
    "id": "du3ZL61dMVpw"
   },
   "outputs": [],
   "source": [
    "n_features_for_hash = [2 ** i for i in range(18)]"
   ]
  },
  {
   "cell_type": "code",
   "execution_count": null,
   "id": "oYz-NaD4Fh4z",
   "metadata": {
    "colab": {
     "base_uri": "https://localhost:8080/"
    },
    "id": "oYz-NaD4Fh4z",
    "outputId": "db91802e-624f-4490-986f-5e26b52b6ebb"
   },
   "outputs": [
    {
     "name": "stdout",
     "output_type": "stream",
     "text": [
      "n_features = 1\n",
      "              precision    recall  f1-score   support\n",
      "\n",
      "           0       0.20      0.43      0.27     13009\n",
      "           1       0.74      0.49      0.59     43700\n",
      "\n",
      "    accuracy                           0.47     56709\n",
      "   macro avg       0.47      0.46      0.43     56709\n",
      "weighted avg       0.62      0.47      0.52     56709\n",
      "\n",
      "\n",
      "n_features = 2\n",
      "              precision    recall  f1-score   support\n",
      "\n",
      "           0       0.69      0.55      0.61     35309\n",
      "           1       0.44      0.59      0.51     21400\n",
      "\n",
      "    accuracy                           0.56     56709\n",
      "   macro avg       0.56      0.57      0.56     56709\n",
      "weighted avg       0.59      0.56      0.57     56709\n",
      "\n",
      "\n",
      "n_features = 4\n",
      "              precision    recall  f1-score   support\n",
      "\n",
      "           0       0.70      0.54      0.61     35863\n",
      "           1       0.43      0.59      0.50     20846\n",
      "\n",
      "    accuracy                           0.56     56709\n",
      "   macro avg       0.56      0.57      0.56     56709\n",
      "weighted avg       0.60      0.56      0.57     56709\n",
      "\n",
      "\n",
      "n_features = 8\n",
      "              precision    recall  f1-score   support\n",
      "\n",
      "           0       0.74      0.54      0.62     38315\n",
      "           1       0.38      0.60      0.47     18394\n",
      "\n",
      "    accuracy                           0.56     56709\n",
      "   macro avg       0.56      0.57      0.55     56709\n",
      "weighted avg       0.62      0.56      0.57     56709\n",
      "\n",
      "\n",
      "n_features = 16\n",
      "              precision    recall  f1-score   support\n",
      "\n",
      "           0       0.74      0.54      0.62     38761\n",
      "           1       0.37      0.60      0.46     17948\n",
      "\n",
      "    accuracy                           0.56     56709\n",
      "   macro avg       0.56      0.57      0.54     56709\n",
      "weighted avg       0.63      0.56      0.57     56709\n",
      "\n",
      "\n",
      "n_features = 32\n",
      "              precision    recall  f1-score   support\n",
      "\n",
      "           0       0.75      0.54      0.63     38882\n",
      "           1       0.38      0.61      0.46     17827\n",
      "\n",
      "    accuracy                           0.56     56709\n",
      "   macro avg       0.56      0.57      0.55     56709\n",
      "weighted avg       0.63      0.56      0.58     56709\n",
      "\n",
      "\n",
      "n_features = 64\n",
      "              precision    recall  f1-score   support\n",
      "\n",
      "           0       0.74      0.54      0.63     38135\n",
      "           1       0.39      0.61      0.48     18574\n",
      "\n",
      "    accuracy                           0.56     56709\n",
      "   macro avg       0.57      0.57      0.55     56709\n",
      "weighted avg       0.63      0.56      0.58     56709\n",
      "\n",
      "\n",
      "n_features = 128\n",
      "              precision    recall  f1-score   support\n",
      "\n",
      "           0       0.74      0.55      0.63     37665\n",
      "           1       0.41      0.61      0.49     19044\n",
      "\n",
      "    accuracy                           0.57     56709\n",
      "   macro avg       0.57      0.58      0.56     56709\n",
      "weighted avg       0.62      0.57      0.58     56709\n",
      "\n",
      "\n",
      "n_features = 256\n",
      "              precision    recall  f1-score   support\n",
      "\n",
      "           0       0.73      0.55      0.63     37392\n",
      "           1       0.41      0.61      0.49     19317\n",
      "\n",
      "    accuracy                           0.57     56709\n",
      "   macro avg       0.57      0.58      0.56     56709\n",
      "weighted avg       0.62      0.57      0.58     56709\n",
      "\n",
      "\n",
      "n_features = 512\n",
      "              precision    recall  f1-score   support\n",
      "\n",
      "           0       0.73      0.55      0.63     36742\n",
      "           1       0.43      0.62      0.50     19967\n",
      "\n",
      "    accuracy                           0.57     56709\n",
      "   macro avg       0.58      0.58      0.57     56709\n",
      "weighted avg       0.62      0.57      0.58     56709\n",
      "\n",
      "\n",
      "n_features = 1024\n",
      "              precision    recall  f1-score   support\n",
      "\n",
      "           0       0.72      0.56      0.63     36110\n",
      "           1       0.44      0.62      0.52     20599\n",
      "\n",
      "    accuracy                           0.58     56709\n",
      "   macro avg       0.58      0.59      0.57     56709\n",
      "weighted avg       0.62      0.58      0.59     56709\n",
      "\n",
      "\n",
      "n_features = 2048\n",
      "              precision    recall  f1-score   support\n",
      "\n",
      "           0       0.72      0.56      0.63     35676\n",
      "           1       0.46      0.62      0.53     21033\n",
      "\n",
      "    accuracy                           0.59     56709\n",
      "   macro avg       0.59      0.59      0.58     56709\n",
      "weighted avg       0.62      0.59      0.59     56709\n",
      "\n",
      "\n",
      "n_features = 4096\n",
      "              precision    recall  f1-score   support\n",
      "\n",
      "           0       0.72      0.57      0.63     35450\n",
      "           1       0.47      0.63      0.54     21259\n",
      "\n",
      "    accuracy                           0.59     56709\n",
      "   macro avg       0.59      0.60      0.59     56709\n",
      "weighted avg       0.62      0.59      0.60     56709\n",
      "\n",
      "\n",
      "n_features = 8192\n",
      "              precision    recall  f1-score   support\n",
      "\n",
      "           0       0.72      0.57      0.64     35224\n",
      "           1       0.47      0.63      0.54     21485\n",
      "\n",
      "    accuracy                           0.60     56709\n",
      "   macro avg       0.60      0.60      0.59     56709\n",
      "weighted avg       0.63      0.60      0.60     56709\n",
      "\n",
      "\n",
      "n_features = 16384\n",
      "              precision    recall  f1-score   support\n",
      "\n",
      "           0       0.72      0.57      0.64     35200\n",
      "           1       0.48      0.64      0.55     21509\n",
      "\n",
      "    accuracy                           0.60     56709\n",
      "   macro avg       0.60      0.61      0.59     56709\n",
      "weighted avg       0.63      0.60      0.60     56709\n",
      "\n",
      "\n",
      "n_features = 32768\n",
      "              precision    recall  f1-score   support\n",
      "\n",
      "           0       0.73      0.58      0.64     35125\n",
      "           1       0.49      0.65      0.55     21584\n",
      "\n",
      "    accuracy                           0.60     56709\n",
      "   macro avg       0.61      0.61      0.60     56709\n",
      "weighted avg       0.64      0.60      0.61     56709\n",
      "\n",
      "\n",
      "n_features = 65536\n",
      "              precision    recall  f1-score   support\n",
      "\n",
      "           0       0.73      0.58      0.65     35204\n",
      "           1       0.49      0.65      0.56     21505\n",
      "\n",
      "    accuracy                           0.61     56709\n",
      "   macro avg       0.61      0.61      0.60     56709\n",
      "weighted avg       0.64      0.61      0.61     56709\n",
      "\n",
      "\n",
      "n_features = 131072\n",
      "              precision    recall  f1-score   support\n",
      "\n",
      "           0       0.74      0.58      0.65     35339\n",
      "           1       0.49      0.65      0.56     21370\n",
      "\n",
      "    accuracy                           0.61     56709\n",
      "   macro avg       0.61      0.62      0.60     56709\n",
      "weighted avg       0.64      0.61      0.62     56709\n",
      "\n",
      "\n"
     ]
    }
   ],
   "source": [
    "for numb in n_features_for_hash:\n",
    "    print('n_features =', numb)\n",
    "    hash_vectorizer = HashingVectorizer(n_features=numb)\n",
    "    x_train_hash = hash_vectorizer.fit_transform(x_train.values)\n",
    "    x_test_hash = hash_vectorizer.transform(x_test.values)\n",
    "    classifier_hash_vect = LogisticRegression(solver='lbfgs', max_iter=1000)\n",
    "    classifier_hash_vect.fit(x_train_hash, y_train)\n",
    "    predictions_train_hash = classifier_hash_vect.predict(x_train_hash)\n",
    "    predictions_test_hash = classifier_hash_vect.predict(x_test_hash)\n",
    "    print(classification_report(predictions_test_hash, y_test))\n",
    "    print()"
   ]
  },
  {
   "cell_type": "code",
   "execution_count": null,
   "id": "xvx9-QVUrRXp",
   "metadata": {
    "id": "xvx9-QVUrRXp"
   },
   "outputs": [],
   "source": [
    "from nltk.tokenize import WordPunctTokenizer"
   ]
  },
  {
   "cell_type": "code",
   "execution_count": null,
   "id": "IQgbmGHurWxn",
   "metadata": {
    "id": "IQgbmGHurWxn"
   },
   "outputs": [],
   "source": [
    "tokenizer = WordPunctTokenizer()"
   ]
  },
  {
   "cell_type": "code",
   "execution_count": null,
   "id": "TYyi5PyHMkNl",
   "metadata": {
    "id": "TYyi5PyHMkNl"
   },
   "outputs": [],
   "source": [
    "train_corpus = \" \".join(x_train.values)\n",
    "train_corpus = train_corpus.lower()\n",
    "tokens = word_tokenize(train_corpus)"
   ]
  },
  {
   "cell_type": "code",
   "execution_count": null,
   "id": "6mAsQ0IYrslA",
   "metadata": {
    "id": "6mAsQ0IYrslA"
   },
   "outputs": [],
   "source": [
    "from collections import Counter"
   ]
  },
  {
   "cell_type": "code",
   "execution_count": null,
   "id": "-a7Te2TGaThN",
   "metadata": {
    "id": "-a7Te2TGaThN"
   },
   "outputs": [],
   "source": [
    "tokens_filtered = [word for word in tokens]"
   ]
  },
  {
   "cell_type": "code",
   "execution_count": null,
   "id": "uMCRG30QGRd6",
   "metadata": {
    "id": "uMCRG30QGRd6"
   },
   "outputs": [],
   "source": [
    "index_count = 0\n",
    "vocabulary_inv = {}\n",
    "vocabulary = {}\n",
    "for key in dict(Counter(tokens_filtered).most_common(3000)).keys():\n",
    "  vocabulary_inv[index_count] = key\n",
    "  vocabulary[key] = index_count\n",
    "  index_count += 1"
   ]
  },
  {
   "cell_type": "code",
   "execution_count": null,
   "id": "clgj6oNpbZt4",
   "metadata": {
    "id": "clgj6oNpbZt4"
   },
   "outputs": [],
   "source": [
    "import numpy as np\n",
    "def text_to_sequence(text, maxlen):\n",
    "    result = []\n",
    "    tokens = word_tokenize(text.lower())\n",
    "    tokens_filtered = [word for word in tokens if word.isalnum()]\n",
    "    for word in tokens_filtered:\n",
    "        if word in vocabulary:\n",
    "            result.append(vocabulary[word])\n",
    "    padding = [0]*(maxlen-len(result))\n",
    "    return padding + result[-maxlen:]"
   ]
  },
  {
   "cell_type": "code",
   "execution_count": null,
   "id": "_agzDpfIb3O7",
   "metadata": {
    "id": "_agzDpfIb3O7"
   },
   "outputs": [],
   "source": [
    "max_len = len(vocabulary)"
   ]
  },
  {
   "cell_type": "code",
   "execution_count": null,
   "id": "l4sa_qPqba8q",
   "metadata": {
    "id": "l4sa_qPqba8q"
   },
   "outputs": [],
   "source": [
    "x_train_for_nn = np.array([text_to_sequence(text, max_len) for text in x_train.values], dtype=np.int32)\n",
    "x_test_for_nn = np.array([text_to_sequence(text, max_len) for text in x_test.values], dtype=np.int32)"
   ]
  },
  {
   "cell_type": "code",
   "execution_count": null,
   "id": "ZJqLU-ljb17v",
   "metadata": {
    "id": "ZJqLU-ljb17v"
   },
   "outputs": [],
   "source": [
    "import random\n",
    "import torch\n",
    "import torch.nn as nn\n",
    "\n",
    "seed = 0\n",
    "\n",
    "random.seed(seed)\n",
    "np.random.seed(seed)\n",
    "torch.manual_seed(seed)\n",
    "torch.cuda.manual_seed(seed)\n",
    "torch.backends.cudnn.deterministic = True"
   ]
  },
  {
   "cell_type": "code",
   "execution_count": null,
   "id": "3XohQ3b7kPgC",
   "metadata": {
    "colab": {
     "base_uri": "https://localhost:8080/",
     "height": 35
    },
    "id": "3XohQ3b7kPgC",
    "outputId": "77f91c61-d206-4934-fad9-6715db65c423"
   },
   "outputs": [
    {
     "data": {
      "application/vnd.google.colaboratory.intrinsic+json": {
       "type": "string"
      },
      "text/plain": [
       "'cuda'"
      ]
     },
     "execution_count": 20,
     "metadata": {},
     "output_type": "execute_result"
    }
   ],
   "source": [
    "device = 'cuda' if torch.cuda.is_available() else 'cpu'\n",
    "device"
   ]
  },
  {
   "cell_type": "code",
   "execution_count": null,
   "id": "GLRyytjJcCFM",
   "metadata": {
    "id": "GLRyytjJcCFM"
   },
   "outputs": [],
   "source": [
    "class Net(nn.Module):\n",
    "    def __init__(self, vocab_size=3000, embedding_dim = 256, out_channel = 128, num_classes = 1):\n",
    "        super().__init__()\n",
    "        self.embedding = nn.Embedding(vocab_size, embedding_dim)\n",
    "        self.conv = nn.Conv1d(embedding_dim, out_channel, kernel_size=3)\n",
    "        self.relu = nn.ReLU()\n",
    "        self.linear = nn.Linear(out_channel, num_classes)\n",
    "        \n",
    "    def forward(self, x):        \n",
    "        output = self.embedding(x)\n",
    "        #                       B  F  L         \n",
    "        output = output.permute(0, 2, 1)\n",
    "        output = self.conv(output)\n",
    "        output = self.relu(output)\n",
    "        output = torch.max(output, axis=2).values\n",
    "        output = self.linear(output)\n",
    "        \n",
    "        return output"
   ]
  },
  {
   "cell_type": "code",
   "execution_count": null,
   "id": "om0TN4n1cG5t",
   "metadata": {
    "id": "om0TN4n1cG5t"
   },
   "outputs": [],
   "source": [
    "from torch.utils.data import DataLoader, Dataset\n",
    "\n",
    "class DataWrapper(Dataset):\n",
    "    def __init__(self, data, target=None, transform=None):\n",
    "        self.data = torch.from_numpy(data).long()\n",
    "        if target is not None:\n",
    "            self.target = torch.from_numpy(target).long()\n",
    "        self.transform = transform\n",
    "        \n",
    "    def __getitem__(self, index):\n",
    "        x = self.data[index]\n",
    "        y = self.target[index] if self.target is not None else None\n",
    "        \n",
    "        if self.transform:\n",
    "            x = self.transform(x)\n",
    "            \n",
    "        return x, y\n",
    "    \n",
    "    def __len__(self):\n",
    "        return len(self.data)"
   ]
  },
  {
   "cell_type": "code",
   "execution_count": null,
   "id": "WVg5B8bbcS4K",
   "metadata": {
    "colab": {
     "base_uri": "https://localhost:8080/"
    },
    "id": "WVg5B8bbcS4K",
    "outputId": "4823fbac-a7ba-4b8f-ee21-5c5048e3fd99"
   },
   "outputs": [
    {
     "name": "stdout",
     "output_type": "stream",
     "text": [
      "Net(\n",
      "  (embedding): Embedding(3000, 256)\n",
      "  (conv): Conv1d(256, 128, kernel_size=(3,), stride=(1,))\n",
      "  (relu): ReLU()\n",
      "  (linear): Linear(in_features=128, out_features=1, bias=True)\n",
      ")\n",
      "Parameters: 866561\n",
      "Train epoch 1/2\n",
      "Step 0: loss=0.7289072871208191\n",
      "Step 400: loss=0.6412545442581177\n",
      "Step 800: loss=0.6087639927864075\n",
      "Step 1200: loss=0.6410707831382751\n",
      "Train epoch 2/2\n",
      "Step 0: loss=0.6498821973800659\n",
      "Step 400: loss=0.6265659332275391\n",
      "Step 800: loss=0.6565002202987671\n",
      "Step 1200: loss=0.6472164392471313\n"
     ]
    }
   ],
   "source": [
    "batch_size = 128\n",
    "max_words = 50\n",
    "epochs = 2\n",
    "\n",
    "model = Net(vocab_size=len(vocabulary)).to(device)\n",
    "\n",
    "print(model)\n",
    "print(\"Parameters:\", sum([param.nelement() for param in model.parameters()]))\n",
    "\n",
    "model.train()\n",
    "#model = model.cuda()\n",
    "\n",
    "optimizer = torch.optim.Adam(model.parameters(), lr=10e-3)\n",
    "criterion = nn.BCEWithLogitsLoss()\n",
    "    \n",
    "train_dataset = DataWrapper(x_train_for_nn, np.array(y_train))\n",
    "train_loader = DataLoader(train_dataset, batch_size=batch_size, shuffle=True)\n",
    "\n",
    "loss_history = []\n",
    "\n",
    "for epoch in range(1, epochs + 1):\n",
    "    print(f\"Train epoch {epoch}/{epochs}\")\n",
    "    for i, (data, target) in enumerate(train_loader):\n",
    "        data = data.to(device)\n",
    "        target = target.to(device)\n",
    "        optimizer.zero_grad()\n",
    "        \n",
    "        # data = data.cuda()\n",
    "        # target = target.cuda()\n",
    "        \n",
    "        # compute output\n",
    "        output = model(data)\n",
    "        \n",
    "        # compute gradient and do SGD step\n",
    "        loss = criterion(output, target.float().view(-1, 1))\n",
    "        loss.backward()\n",
    "        \n",
    "        optimizer.step()\n",
    "        \n",
    "        if i%400 == 0:\n",
    "            loss = loss.float().item()\n",
    "            print(\"Step {}: loss={}\".format(i, loss))\n",
    "            loss_history.append(loss)"
   ]
  },
  {
   "cell_type": "code",
   "execution_count": null,
   "id": "xCas2cV5cVg4",
   "metadata": {
    "id": "xCas2cV5cVg4"
   },
   "outputs": [],
   "source": [
    "test_dataset = DataWrapper(x_test_for_nn, np.array(y_test))\n",
    "test_loader = DataLoader(test_dataset, batch_size=batch_size, shuffle=True)"
   ]
  },
  {
   "cell_type": "code",
   "execution_count": null,
   "id": "hC03JbMFjSj8",
   "metadata": {
    "colab": {
     "base_uri": "https://localhost:8080/"
    },
    "id": "hC03JbMFjSj8",
    "outputId": "de8b35e7-0437-4c22-fbd3-ebde9f5f7f9c"
   },
   "outputs": [
    {
     "name": "stdout",
     "output_type": "stream",
     "text": [
      "              precision    recall  f1-score   support\n",
      "\n",
      "           0       1.00      0.50      0.67       128\n",
      "           1       0.00      0.00      0.00         0\n",
      "\n",
      "    accuracy                           0.50       128\n",
      "   macro avg       0.50      0.25      0.33       128\n",
      "weighted avg       1.00      0.50      0.67       128\n",
      "\n"
     ]
    },
    {
     "name": "stderr",
     "output_type": "stream",
     "text": [
      "/usr/local/lib/python3.9/dist-packages/sklearn/metrics/_classification.py:1344: UndefinedMetricWarning: Recall and F-score are ill-defined and being set to 0.0 in labels with no true samples. Use `zero_division` parameter to control this behavior.\n",
      "  _warn_prf(average, modifier, msg_start, len(result))\n",
      "/usr/local/lib/python3.9/dist-packages/sklearn/metrics/_classification.py:1344: UndefinedMetricWarning: Recall and F-score are ill-defined and being set to 0.0 in labels with no true samples. Use `zero_division` parameter to control this behavior.\n",
      "  _warn_prf(average, modifier, msg_start, len(result))\n",
      "/usr/local/lib/python3.9/dist-packages/sklearn/metrics/_classification.py:1344: UndefinedMetricWarning: Recall and F-score are ill-defined and being set to 0.0 in labels with no true samples. Use `zero_division` parameter to control this behavior.\n",
      "  _warn_prf(average, modifier, msg_start, len(result))\n"
     ]
    }
   ],
   "source": [
    "model.eval()\n",
    "list_accuracy = []\n",
    "for data in test_loader:\n",
    "  test_outputs = model(data[0].to(device))\n",
    "  label = data[1].to(device)\n",
    "  predict = torch.max(test_outputs, 1)[1]\n",
    "  break\n",
    "print(classification_report(predict.cpu(), label.cpu()))"
   ]
  },
  {
   "cell_type": "code",
   "execution_count": null,
   "id": "K_-xh9zFmqXe",
   "metadata": {
    "colab": {
     "base_uri": "https://localhost:8080/"
    },
    "id": "K_-xh9zFmqXe",
    "outputId": "eb398ab5-efeb-4bcd-e1dc-e8166494df05"
   },
   "outputs": [
    {
     "data": {
      "text/plain": [
       "0.4940773"
      ]
     },
     "execution_count": 26,
     "metadata": {},
     "output_type": "execute_result"
    }
   ],
   "source": [
    "list_accuracy = []\n",
    "for data in test_loader:\n",
    "  test_outputs = model(data[0].to(device))\n",
    "  label = data[1].to(device)\n",
    "  predict = torch.max(test_outputs, 1)[1]\n",
    "  list_accuracy.append((predict == label).sum()/predict.shape[0])\n",
    "np.mean([elem.cpu() for elem in list_accuracy])"
   ]
  }
 ],
 "metadata": {
  "colab": {
   "provenance": []
  },
  "gpuClass": "standard",
  "kernelspec": {
   "display_name": "Python 3 (ipykernel)",
   "language": "python",
   "name": "python3"
  },
  "language_info": {
   "codemirror_mode": {
    "name": "ipython",
    "version": 3
   },
   "file_extension": ".py",
   "mimetype": "text/x-python",
   "name": "python",
   "nbconvert_exporter": "python",
   "pygments_lexer": "ipython3",
   "version": "3.8.13"
  }
 },
 "nbformat": 4,
 "nbformat_minor": 5
}
