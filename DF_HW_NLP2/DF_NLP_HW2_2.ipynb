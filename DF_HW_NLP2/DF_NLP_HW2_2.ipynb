{
 "cells": [
  {
   "cell_type": "markdown",
   "id": "382a8b1f-563a-4e2c-8b84-23fe95ae77e2",
   "metadata": {},
   "source": [
    "Задание\n",
    "Данные:\n",
    "\n",
    "https://disk.yandex.ru/i/v5HM-ENiGXZVpQ\n",
    "\n",
    "https://disk.yandex.ru/i/koR5eMCToCZS2Q\n",
    "\n",
    "Задание 1. Задание: обучите три классификатора:\n",
    "\n",
    "на токенах с высокой частотой\n",
    "\n",
    "на токенах со средней частотой\n",
    "\n",
    "на токенах с низкой частотой\n",
    "\n",
    "Сравните полученные результаты, оцените какие токены наиболее важные для классификации.\n",
    "\n",
    "Задание 2. найти фичи с наибольшей значимостью, и вывести их\n",
    "\n",
    "Задание 3.\n",
    "\n",
    "сравнить count/tf-idf/hashing векторайзеры/полносвязанную сетку (построить classification_report)\n",
    "\n",
    "подобрать оптимальный размер для hashing векторайзера\n",
    "\n",
    "убедиться что для сетки нет переобучения"
   ]
  },
  {
   "cell_type": "code",
   "execution_count": 1,
   "id": "9868d3ae-70bc-49a0-8483-91a9859f998e",
   "metadata": {},
   "outputs": [
    {
     "name": "stderr",
     "output_type": "stream",
     "text": [
      "[nltk_data] Downloading package stopwords to\n",
      "[nltk_data]     /Users/evamelissatasdemir/nltk_data...\n",
      "[nltk_data]   Package stopwords is already up-to-date!\n",
      "[nltk_data] Downloading package punkt to\n",
      "[nltk_data]     /Users/evamelissatasdemir/nltk_data...\n",
      "[nltk_data]   Package punkt is already up-to-date!\n",
      "[nltk_data] Downloading package wordnet to\n",
      "[nltk_data]     /Users/evamelissatasdemir/nltk_data...\n",
      "[nltk_data]   Package wordnet is already up-to-date!\n",
      "[nltk_data] Downloading package omw-1.4 to\n",
      "[nltk_data]     /Users/evamelissatasdemir/nltk_data...\n",
      "[nltk_data]   Package omw-1.4 is already up-to-date!\n"
     ]
    },
    {
     "data": {
      "text/plain": [
       "True"
      ]
     },
     "execution_count": 1,
     "metadata": {},
     "output_type": "execute_result"
    }
   ],
   "source": [
    "import pandas as pd\n",
    "import numpy as np\n",
    "import re\n",
    "\n",
    "import nltk\n",
    "from nltk.corpus import stopwords\n",
    "from nltk import tokenize as tknz\n",
    "from nltk import ngrams\n",
    "from nltk.stem import WordNetLemmatizer\n",
    "from nltk.tokenize import WordPunctTokenizer\n",
    "from nltk.corpus import wordnet\n",
    "from nltk.corpus.reader.tagged import word_tokenize\n",
    "from nltk.probability import FreqDist\n",
    "from pymorphy2 import MorphAnalyzer\n",
    "import re\n",
    "from tqdm import tqdm \n",
    "\n",
    "from string import punctuation\n",
    "from html import unescape\n",
    "\n",
    "from sklearn.metrics import *\n",
    "from sklearn.model_selection import train_test_split\n",
    "from sklearn.pipeline import Pipeline\n",
    "\n",
    "from sklearn.linear_model import LogisticRegression \n",
    "from collections import Counter\n",
    "\n",
    "from sklearn import model_selection, preprocessing, linear_model\n",
    "from sklearn.feature_extraction.text import CountVectorizer, TfidfVectorizer, HashingVectorizer\n",
    "\n",
    "import torch\n",
    "import torch.nn as nn\n",
    "from torch.nn import functional as F\n",
    "\n",
    "from torch.utils.data import DataLoader, Dataset\n",
    "from tqdm import tqdm\n",
    "import warnings\n",
    "warnings.filterwarnings(\"ignore\")\n",
    "\n",
    "nltk.download('stopwords')\n",
    "nltk.download('punkt')\n",
    "nltk.download('wordnet')\n",
    "nltk.download('omw-1.4')"
   ]
  },
  {
   "cell_type": "code",
   "execution_count": 2,
   "id": "3944aa32-9eba-4eec-9ecc-9d917c3e3834",
   "metadata": {},
   "outputs": [
    {
     "data": {
      "text/html": [
       "<div>\n",
       "<style scoped>\n",
       "    .dataframe tbody tr th:only-of-type {\n",
       "        vertical-align: middle;\n",
       "    }\n",
       "\n",
       "    .dataframe tbody tr th {\n",
       "        vertical-align: top;\n",
       "    }\n",
       "\n",
       "    .dataframe thead th {\n",
       "        text-align: right;\n",
       "    }\n",
       "</style>\n",
       "<table border=\"1\" class=\"dataframe\">\n",
       "  <thead>\n",
       "    <tr style=\"text-align: right;\">\n",
       "      <th></th>\n",
       "      <th>text</th>\n",
       "      <th>label</th>\n",
       "    </tr>\n",
       "  </thead>\n",
       "  <tbody>\n",
       "    <tr>\n",
       "      <th>226824</th>\n",
       "      <td>@ivanenko14 и у меня также, только будильник е...</td>\n",
       "      <td>negative</td>\n",
       "    </tr>\n",
       "    <tr>\n",
       "      <th>226825</th>\n",
       "      <td>Когда же я вернусь к тебе(( http://t.co/36qnCO...</td>\n",
       "      <td>negative</td>\n",
       "    </tr>\n",
       "    <tr>\n",
       "      <th>226826</th>\n",
       "      <td>RT @qelasocadij: Скажите пожалуйста, как у чел...</td>\n",
       "      <td>negative</td>\n",
       "    </tr>\n",
       "    <tr>\n",
       "      <th>226827</th>\n",
       "      <td>У нас физ ра на улице\\nПака линт:(\\nЧерез 45 м...</td>\n",
       "      <td>negative</td>\n",
       "    </tr>\n",
       "    <tr>\n",
       "      <th>226828</th>\n",
       "      <td>Нас сегодня отказались принять в сад, типа мы ...</td>\n",
       "      <td>negative</td>\n",
       "    </tr>\n",
       "    <tr>\n",
       "      <th>226829</th>\n",
       "      <td>Но не каждый хочет что то исправлять:( http://...</td>\n",
       "      <td>negative</td>\n",
       "    </tr>\n",
       "    <tr>\n",
       "      <th>226830</th>\n",
       "      <td>скучаю так :-( только @taaannyaaa вправляет мо...</td>\n",
       "      <td>negative</td>\n",
       "    </tr>\n",
       "    <tr>\n",
       "      <th>226831</th>\n",
       "      <td>Вот и в школу, в говно это идти уже надо(</td>\n",
       "      <td>negative</td>\n",
       "    </tr>\n",
       "    <tr>\n",
       "      <th>226832</th>\n",
       "      <td>RT @_Them__: @LisaBeroud Тауриэль, не грусти :...</td>\n",
       "      <td>negative</td>\n",
       "    </tr>\n",
       "    <tr>\n",
       "      <th>226833</th>\n",
       "      <td>Такси везет меня на работу. Раздумываю приплат...</td>\n",
       "      <td>negative</td>\n",
       "    </tr>\n",
       "  </tbody>\n",
       "</table>\n",
       "</div>"
      ],
      "text/plain": [
       "                                                     text     label\n",
       "226824  @ivanenko14 и у меня также, только будильник е...  negative\n",
       "226825  Когда же я вернусь к тебе(( http://t.co/36qnCO...  negative\n",
       "226826  RT @qelasocadij: Скажите пожалуйста, как у чел...  negative\n",
       "226827  У нас физ ра на улице\\nПака линт:(\\nЧерез 45 м...  negative\n",
       "226828  Нас сегодня отказались принять в сад, типа мы ...  negative\n",
       "226829  Но не каждый хочет что то исправлять:( http://...  negative\n",
       "226830  скучаю так :-( только @taaannyaaa вправляет мо...  negative\n",
       "226831          Вот и в школу, в говно это идти уже надо(  negative\n",
       "226832  RT @_Them__: @LisaBeroud Тауриэль, не грусти :...  negative\n",
       "226833  Такси везет меня на работу. Раздумываю приплат...  negative"
      ]
     },
     "execution_count": 2,
     "metadata": {},
     "output_type": "execute_result"
    }
   ],
   "source": [
    "positive = pd.read_csv('positive.csv', sep=';', usecols=[3], names=['text'])\n",
    "positive['label'] = ['positive'] * len(positive)\n",
    "negative = pd.read_csv('negative.csv', sep=';', usecols=[3], names=['text'])\n",
    "negative['label'] = ['negative'] * len(negative)\n",
    "data = pd.concat([positive, negative]).reset_index(drop=True)\n",
    "data.tail(10)"
   ]
  },
  {
   "cell_type": "code",
   "execution_count": 3,
   "id": "8c60ee53-4734-486d-90b8-6cddaaf142c8",
   "metadata": {},
   "outputs": [
    {
     "name": "stdout",
     "output_type": "stream",
     "text": [
      "<class 'pandas.core.frame.DataFrame'>\n",
      "RangeIndex: 226834 entries, 0 to 226833\n",
      "Data columns (total 2 columns):\n",
      " #   Column  Non-Null Count   Dtype \n",
      "---  ------  --------------   ----- \n",
      " 0   text    226834 non-null  object\n",
      " 1   label   226834 non-null  object\n",
      "dtypes: object(2)\n",
      "memory usage: 3.5+ MB\n"
     ]
    }
   ],
   "source": [
    "data.info()"
   ]
  },
  {
   "cell_type": "code",
   "execution_count": 4,
   "id": "4425abf3-2a27-4f33-bbc4-4a287aa879e6",
   "metadata": {},
   "outputs": [
    {
     "data": {
      "text/plain": [
       "'@first_timee хоть я и школота, но поверь, у нас то же самое :D общество профилирующий предмет типа)'"
      ]
     },
     "execution_count": 4,
     "metadata": {},
     "output_type": "execute_result"
    }
   ],
   "source": [
    "def remove_word_user(input_txt):\n",
    "    pattern = \"@[\\w]*\"\n",
    "    lst = re.findall(pattern, input_txt)\n",
    "    result = input_txt\n",
    "    for el in lst:\n",
    "        result = re.sub(el, ' ', result)\n",
    "    return result\n",
    "\n",
    "data.text[0]"
   ]
  },
  {
   "cell_type": "code",
   "execution_count": 5,
   "id": "e85d7018-424e-482b-85f7-efd13942a175",
   "metadata": {},
   "outputs": [],
   "source": [
    "noise = stopwords.words('russian') + list(punctuation)"
   ]
  },
  {
   "cell_type": "code",
   "execution_count": 6,
   "id": "72431d34-80c6-4ac3-be21-9e3df95329c8",
   "metadata": {},
   "outputs": [
    {
     "data": {
      "text/html": [
       "<div>\n",
       "<style scoped>\n",
       "    .dataframe tbody tr th:only-of-type {\n",
       "        vertical-align: middle;\n",
       "    }\n",
       "\n",
       "    .dataframe tbody tr th {\n",
       "        vertical-align: top;\n",
       "    }\n",
       "\n",
       "    .dataframe thead th {\n",
       "        text-align: right;\n",
       "    }\n",
       "</style>\n",
       "<table border=\"1\" class=\"dataframe\">\n",
       "  <thead>\n",
       "    <tr style=\"text-align: right;\">\n",
       "      <th></th>\n",
       "      <th>text</th>\n",
       "      <th>label</th>\n",
       "    </tr>\n",
       "  </thead>\n",
       "  <tbody>\n",
       "    <tr>\n",
       "      <th>0</th>\n",
       "      <td>хоть я и школота, но поверь, у нас то же сам...</td>\n",
       "      <td>positive</td>\n",
       "    </tr>\n",
       "    <tr>\n",
       "      <th>1</th>\n",
       "      <td>Да, все-таки он немного похож на него. Но мой ...</td>\n",
       "      <td>positive</td>\n",
       "    </tr>\n",
       "    <tr>\n",
       "      <th>2</th>\n",
       "      <td>RT  : Ну ты идиотка) я испугалась за тебя!!!</td>\n",
       "      <td>positive</td>\n",
       "    </tr>\n",
       "    <tr>\n",
       "      <th>3</th>\n",
       "      <td>RT  : \"Кто то в углу сидит и погибает от голод...</td>\n",
       "      <td>positive</td>\n",
       "    </tr>\n",
       "    <tr>\n",
       "      <th>4</th>\n",
       "      <td>Вот что значит страшилка :D\\nНо блин,посмотр...</td>\n",
       "      <td>positive</td>\n",
       "    </tr>\n",
       "  </tbody>\n",
       "</table>\n",
       "</div>"
      ],
      "text/plain": [
       "                                                text     label\n",
       "0    хоть я и школота, но поверь, у нас то же сам...  positive\n",
       "1  Да, все-таки он немного похож на него. Но мой ...  positive\n",
       "2       RT  : Ну ты идиотка) я испугалась за тебя!!!  positive\n",
       "3  RT  : \"Кто то в углу сидит и погибает от голод...  positive\n",
       "4    Вот что значит страшилка :D\\nНо блин,посмотр...  positive"
      ]
     },
     "execution_count": 6,
     "metadata": {},
     "output_type": "execute_result"
    }
   ],
   "source": [
    "data['text'] = np.vectorize(remove_word_user)(data['text'])\n",
    "data.head()"
   ]
  },
  {
   "cell_type": "code",
   "execution_count": 7,
   "id": "5dac1aa5-3987-45af-976d-c5788eca3d64",
   "metadata": {},
   "outputs": [],
   "source": [
    "def remove_noise(token, noise):\n",
    "    \"\"\" \n",
    "    Removing noise from tokens.\n",
    "    \"\"\"\n",
    "    remove_sw = [word for word in token if not word in noise]\n",
    "    return  remove_sw"
   ]
  },
  {
   "cell_type": "code",
   "execution_count": 8,
   "id": "f738bd5f-dc31-452a-984a-0884d4114b6d",
   "metadata": {},
   "outputs": [],
   "source": [
    "def get_lemmatizer(words, lemmatizer, pos):\n",
    "    \"\"\"\n",
    "    lemmitization\n",
    "    \"\"\"\n",
    "    lemmas = []\n",
    "    for word in words:\n",
    "        lemmas.append(lemmatizer.lemmatize(word, pos = nltk.corpus.wordnet.VERB) )\n",
    "         \n",
    "    return lemmas  "
   ]
  },
  {
   "cell_type": "code",
   "execution_count": 9,
   "id": "b26ad3c1-92d2-40c3-b345-87102eb649dd",
   "metadata": {},
   "outputs": [
    {
     "name": "stdout",
     "output_type": "stream",
     "text": [
      "CPU times: user 53.1 s, sys: 857 ms, total: 53.9 s\n",
      "Wall time: 58.2 s\n"
     ]
    },
    {
     "data": {
      "text/html": [
       "<div>\n",
       "<style scoped>\n",
       "    .dataframe tbody tr th:only-of-type {\n",
       "        vertical-align: middle;\n",
       "    }\n",
       "\n",
       "    .dataframe tbody tr th {\n",
       "        vertical-align: top;\n",
       "    }\n",
       "\n",
       "    .dataframe thead th {\n",
       "        text-align: right;\n",
       "    }\n",
       "</style>\n",
       "<table border=\"1\" class=\"dataframe\">\n",
       "  <thead>\n",
       "    <tr style=\"text-align: right;\">\n",
       "      <th></th>\n",
       "      <th>text</th>\n",
       "      <th>label</th>\n",
       "      <th>text_tokens</th>\n",
       "    </tr>\n",
       "  </thead>\n",
       "  <tbody>\n",
       "    <tr>\n",
       "      <th>0</th>\n",
       "      <td>хоть я и школота, но поверь, у нас то же сам...</td>\n",
       "      <td>positive</td>\n",
       "      <td>[школота, поверь, самое, D, общество, профилир...</td>\n",
       "    </tr>\n",
       "    <tr>\n",
       "      <th>1</th>\n",
       "      <td>Да, все-таки он немного похож на него. Но мой ...</td>\n",
       "      <td>positive</td>\n",
       "      <td>[Да, все-таки, немного, похож, Но, мальчик, ра...</td>\n",
       "    </tr>\n",
       "    <tr>\n",
       "      <th>2</th>\n",
       "      <td>RT  : Ну ты идиотка) я испугалась за тебя!!!</td>\n",
       "      <td>positive</td>\n",
       "      <td>[RT, Ну, идиотка, испугалась]</td>\n",
       "    </tr>\n",
       "  </tbody>\n",
       "</table>\n",
       "</div>"
      ],
      "text/plain": [
       "                                                text     label  \\\n",
       "0    хоть я и школота, но поверь, у нас то же сам...  positive   \n",
       "1  Да, все-таки он немного похож на него. Но мой ...  positive   \n",
       "2       RT  : Ну ты идиотка) я испугалась за тебя!!!  positive   \n",
       "\n",
       "                                         text_tokens  \n",
       "0  [школота, поверь, самое, D, общество, профилир...  \n",
       "1  [Да, все-таки, немного, похож, Но, мальчик, ра...  \n",
       "2                      [RT, Ну, идиотка, испугалась]  "
      ]
     },
     "execution_count": 9,
     "metadata": {},
     "output_type": "execute_result"
    }
   ],
   "source": [
    "%%time\n",
    "\n",
    "# Tokenizing\n",
    "# Removing stop-words and punctuation\n",
    "# Lemmatization\n",
    "\n",
    "data['text_tokens'] = data['text'].apply(tknz.word_tokenize)\n",
    "data['text_tokens'] = data['text_tokens'].apply(remove_noise, noise=noise)\n",
    "data['text_tokens'] = \\\n",
    "        data['text_tokens'].apply(get_lemmatizer, lemmatizer = WordNetLemmatizer(), pos = wordnet.VERB)\n",
    "data.head(3)"
   ]
  },
  {
   "cell_type": "code",
   "execution_count": 10,
   "id": "91260326-d9a2-4b59-a797-fdfc8b29de57",
   "metadata": {},
   "outputs": [],
   "source": [
    "x_train, x_test, y_train, y_test = train_test_split(data.text, data.label)"
   ]
  },
  {
   "cell_type": "code",
   "execution_count": 69,
   "id": "0b647560-e9a4-45d9-9e95-afb276d1dc5f",
   "metadata": {},
   "outputs": [],
   "source": [
    "x_train = x_train.reset_index(drop=True)\n",
    "x_test = x_test.reset_index(drop=True)\n",
    "y_train = y_train.reset_index(drop=True)\n",
    "y_test = y_test.reset_index(drop=True)"
   ]
  },
  {
   "cell_type": "code",
   "execution_count": 70,
   "id": "8f601e61-3201-401b-947b-8c82f2b01e02",
   "metadata": {},
   "outputs": [],
   "source": [
    "y_train_word = y_train.copy()\n",
    "y_train = [1 if elem == 'positive' else 0 for elem in y_train]\n",
    "y_test_word = y_test.copy()\n",
    "y_test = [1 if elem == 'positive' else 0 for elem in y_test]"
   ]
  },
  {
   "cell_type": "code",
   "execution_count": 11,
   "id": "89eaa540-5c34-4e14-a03c-9936a8d0ed00",
   "metadata": {},
   "outputs": [
    {
     "name": "stdout",
     "output_type": "stream",
     "text": [
      "2721599\n"
     ]
    },
    {
     "data": {
      "text/plain": [
       "['хоть', 'я', 'и', 'школота', 'но', 'поверь', 'у', 'нас', 'то', 'же']"
      ]
     },
     "execution_count": 11,
     "metadata": {},
     "output_type": "execute_result"
    }
   ],
   "source": [
    "corpus = [token for text in data.text for token in word_tokenize(text) if token not in punctuation]\n",
    "print(len(corpus))\n",
    "corpus[:10]"
   ]
  },
  {
   "cell_type": "code",
   "execution_count": 12,
   "id": "f389a9ab-bb20-4b1d-af8c-0924cb27fbed",
   "metadata": {},
   "outputs": [
    {
     "data": {
      "text/plain": [
       "[('не', 69472),\n",
       " ('и', 55166),\n",
       " ('в', 52902),\n",
       " ('я', 52818),\n",
       " ('RT', 38070),\n",
       " ('на', 35759),\n",
       " ('http', 32998),\n",
       " ('что', 31541),\n",
       " ('с', 27217),\n",
       " ('а', 26860)]"
      ]
     },
     "execution_count": 12,
     "metadata": {},
     "output_type": "execute_result"
    }
   ],
   "source": [
    "freq_dict = Counter(corpus)\n",
    "freq_dict_sorted= sorted(freq_dict.items(), key=lambda x: -x[1])\n",
    "list(freq_dict_sorted)[:10]"
   ]
  },
  {
   "cell_type": "code",
   "execution_count": 13,
   "id": "77f9973f-6c4c-48df-9f00-db89b37bf304",
   "metadata": {},
   "outputs": [
    {
     "data": {
      "image/png": "[encoded data removed]",
      "text/plain": [
       "<Figure size 640x480 with 1 Axes>"
      ]
     },
     "metadata": {},
     "output_type": "display_data"
    }
   ],
   "source": [
    "import matplotlib.pyplot as plt\n",
    "%matplotlib inline\n",
    "first_100_freqs = [freq for word, freq in freq_dict_sorted[:100]]\n",
    "plt.plot(first_100_freqs)\n",
    "plt.show()"
   ]
  },
  {
   "cell_type": "code",
   "execution_count": 14,
   "id": "413687fe-baa3-4844-9281-d7c19ef1f412",
   "metadata": {},
   "outputs": [
    {
     "data": {
      "image/png": "[encoded data removed]",
      "text/plain": [
       "<Figure size 640x480 with 1 Axes>"
      ]
     },
     "metadata": {},
     "output_type": "display_data"
    }
   ],
   "source": [
    "less_than_10_freq = [freq for word, freq in freq_dict_sorted if freq < 10]\n",
    "plt.plot(less_than_10_freq)\n",
    "plt.show()"
   ]
  },
  {
   "cell_type": "code",
   "execution_count": 15,
   "id": "e665f4c3-6456-4c92-b715-e5012c373587",
   "metadata": {},
   "outputs": [
    {
     "data": {
      "image/png": "[encoded data removed]",
      "text/plain": [
       "<Figure size 640x480 with 1 Axes>"
      ]
     },
     "metadata": {},
     "output_type": "display_data"
    }
   ],
   "source": [
    "medium_freq = [freq for word, freq in freq_dict_sorted[100:-len(less_than_10_freq)]]\n",
    "plt.plot(medium_freq)\n",
    "plt.show()"
   ]
  },
  {
   "cell_type": "code",
   "execution_count": 16,
   "id": "4fdf6b89-8172-4ba9-a478-cffd6a8b46bb",
   "metadata": {},
   "outputs": [
    {
     "name": "stdout",
     "output_type": "stream",
     "text": [
      "Dictionary length: 270108, high frequency: 100, medium frequency: 18968, low frequency: 251040\n"
     ]
    }
   ],
   "source": [
    "print(f'Dictionary length: {len(freq_dict_sorted)}, high frequency: {len(first_100_freqs)},\\\n",
    " medium frequency: {len(medium_freq)}, low frequency: {len(less_than_10_freq)}')"
   ]
  },
  {
   "cell_type": "code",
   "execution_count": 17,
   "id": "74645528-09d8-4e62-9613-4b8b2d0dd68c",
   "metadata": {},
   "outputs": [],
   "source": [
    "noise = stopwords.words('russian') + list(punctuation)\n",
    "tok_cnt_high = CountVectorizer(min_df=1, max_df=0.9, tokenizer=word_tokenize, stop_words=noise)\n",
    "tok_cnt_mid = CountVectorizer(min_df=1e-3, max_df=0.7, tokenizer=word_tokenize, stop_words=noise)\n",
    "tok_cnt_low = CountVectorizer(min_df=1e-5, max_df=0.3, tokenizer=word_tokenize, stop_words=noise)     "
   ]
  },
  {
   "cell_type": "code",
   "execution_count": 18,
   "id": "fe8bff8f-4690-4118-9a2e-91423735b6c3",
   "metadata": {},
   "outputs": [
    {
     "name": "stdout",
     "output_type": "stream",
     "text": [
      "              precision    recall  f1-score   support\n",
      "\n",
      "    negative       0.79      0.75      0.77     29204\n",
      "    positive       0.75      0.78      0.76     27505\n",
      "\n",
      "    accuracy                           0.77     56709\n",
      "   macro avg       0.77      0.77      0.77     56709\n",
      "weighted avg       0.77      0.77      0.77     56709\n",
      "\n"
     ]
    }
   ],
   "source": [
    "bow_cnt_high = tok_cnt_high.fit_transform(x_train)\n",
    "lr = LogisticRegression(random_state=42)\n",
    "lr.fit(bow_cnt_high, y_train)\n",
    "pred_high = lr.predict(tok_cnt_high.transform(x_test))\n",
    "print(classification_report(pred_high, y_test))"
   ]
  },
  {
   "cell_type": "code",
   "execution_count": 19,
   "id": "9a33b34d-ba9a-413a-bf0d-5598bcb577ca",
   "metadata": {},
   "outputs": [
    {
     "name": "stdout",
     "output_type": "stream",
     "text": [
      "              precision    recall  f1-score   support\n",
      "\n",
      "    negative       0.74      0.69      0.72     29901\n",
      "    positive       0.68      0.73      0.70     26808\n",
      "\n",
      "    accuracy                           0.71     56709\n",
      "   macro avg       0.71      0.71      0.71     56709\n",
      "weighted avg       0.71      0.71      0.71     56709\n",
      "\n"
     ]
    }
   ],
   "source": [
    "bow_cnt_mid = tok_cnt_mid.fit_transform(x_train)\n",
    "lr.fit(bow_cnt_mid, y_train)\n",
    "pred_mid = lr.predict(tok_cnt_mid.transform(x_test))\n",
    "print(classification_report(pred_mid, y_test))"
   ]
  },
  {
   "cell_type": "code",
   "execution_count": 20,
   "id": "6b5890f0-e9d7-4c2c-bbeb-95b05bbd952a",
   "metadata": {},
   "outputs": [
    {
     "name": "stdout",
     "output_type": "stream",
     "text": [
      "              precision    recall  f1-score   support\n",
      "\n",
      "    negative       0.78      0.75      0.77     28986\n",
      "    positive       0.75      0.78      0.76     27723\n",
      "\n",
      "    accuracy                           0.76     56709\n",
      "   macro avg       0.76      0.76      0.76     56709\n",
      "weighted avg       0.76      0.76      0.76     56709\n",
      "\n"
     ]
    }
   ],
   "source": [
    "bow_cnt_low = tok_cnt_low.fit_transform(x_train)\n",
    "lr.fit(bow_cnt_low, y_train)\n",
    "pred_low = lr.predict(tok_cnt_low.transform(x_test))\n",
    "print(classification_report(pred_low, y_test))"
   ]
  },
  {
   "cell_type": "code",
   "execution_count": 21,
   "id": "a03765e8-eb04-44ed-ac8f-6e7eef9ec711",
   "metadata": {},
   "outputs": [],
   "source": [
    "tok_tfidf_high = TfidfVectorizer(min_df=1, max_df=0.9, tokenizer=word_tokenize, stop_words=noise)\n",
    "tok_tfidf_mid = TfidfVectorizer(min_df=1e-3, max_df=0.7, tokenizer=word_tokenize, stop_words=noise)\n",
    "tok_tfidf_low = TfidfVectorizer(min_df=1e-5, max_df=0.3, tokenizer=word_tokenize, stop_words=noise)     "
   ]
  },
  {
   "cell_type": "code",
   "execution_count": 22,
   "id": "2964575b-ccca-495d-9a91-ac249684428f",
   "metadata": {},
   "outputs": [
    {
     "name": "stdout",
     "output_type": "stream",
     "text": [
      "              precision    recall  f1-score   support\n",
      "\n",
      "    negative       0.76      0.77      0.76     27672\n",
      "    positive       0.77      0.77      0.77     29037\n",
      "\n",
      "    accuracy                           0.77     56709\n",
      "   macro avg       0.77      0.77      0.77     56709\n",
      "weighted avg       0.77      0.77      0.77     56709\n",
      "\n"
     ]
    }
   ],
   "source": [
    "bow_tfidf_high = tok_tfidf_high.fit_transform(x_train)\n",
    "lr = LogisticRegression(random_state=42)\n",
    "lr.fit(bow_tfidf_high, y_train)\n",
    "pred_high = lr.predict(tok_tfidf_high.transform(x_test))\n",
    "print(classification_report(pred_high, y_test))"
   ]
  },
  {
   "cell_type": "code",
   "execution_count": 23,
   "id": "12698e90-1e5f-4f34-b4c5-5284595dfaa8",
   "metadata": {},
   "outputs": [
    {
     "name": "stdout",
     "output_type": "stream",
     "text": [
      "              precision    recall  f1-score   support\n",
      "\n",
      "    negative       0.72      0.70      0.71     28873\n",
      "    positive       0.70      0.72      0.71     27836\n",
      "\n",
      "    accuracy                           0.71     56709\n",
      "   macro avg       0.71      0.71      0.71     56709\n",
      "weighted avg       0.71      0.71      0.71     56709\n",
      "\n"
     ]
    }
   ],
   "source": [
    "bow_tfidf_mid = tok_tfidf_mid.fit_transform(x_train)\n",
    "lr.fit(bow_tfidf_mid, y_train)\n",
    "pred_mid = lr.predict(tok_tfidf_mid.transform(x_test))\n",
    "print(classification_report(pred_mid, y_test))"
   ]
  },
  {
   "cell_type": "code",
   "execution_count": 24,
   "id": "0d5a1a91-b498-4c8e-9fd8-2148396c495b",
   "metadata": {},
   "outputs": [
    {
     "name": "stdout",
     "output_type": "stream",
     "text": [
      "              precision    recall  f1-score   support\n",
      "\n",
      "    negative       0.76      0.76      0.76     28044\n",
      "    positive       0.77      0.77      0.77     28665\n",
      "\n",
      "    accuracy                           0.77     56709\n",
      "   macro avg       0.77      0.77      0.77     56709\n",
      "weighted avg       0.77      0.77      0.77     56709\n",
      "\n"
     ]
    }
   ],
   "source": [
    "bow_tfidf_low = tok_tfidf_low.fit_transform(x_train)\n",
    "lr.fit(bow_tfidf_low, y_train)\n",
    "pred_low = lr.predict(tok_tfidf_low.transform(x_test))\n",
    "print(classification_report(pred_low, y_test))"
   ]
  },
  {
   "cell_type": "code",
   "execution_count": 25,
   "id": "09c37445-22f3-42c0-a702-46738d6a9b97",
   "metadata": {},
   "outputs": [],
   "source": [
    "vec_hash_2 = HashingVectorizer(analyzer='char', n_features=2, stop_words=noise)\n",
    "vec_hash_4 = HashingVectorizer(analyzer='char', n_features=4, stop_words=noise)\n",
    "vec_hash_16 = HashingVectorizer(analyzer='char', n_features=16, stop_words=noise)"
   ]
  },
  {
   "cell_type": "code",
   "execution_count": 26,
   "id": "cab7f571-71f4-46fd-96dd-8a64a5c7fe92",
   "metadata": {},
   "outputs": [
    {
     "name": "stdout",
     "output_type": "stream",
     "text": [
      "              precision    recall  f1-score   support\n",
      "\n",
      "    negative       0.54      0.61      0.57     24691\n",
      "    positive       0.67      0.60      0.63     32018\n",
      "\n",
      "    accuracy                           0.60     56709\n",
      "   macro avg       0.60      0.61      0.60     56709\n",
      "weighted avg       0.61      0.60      0.61     56709\n",
      "\n"
     ]
    }
   ],
   "source": [
    "#bow_hash = HashingVectorizer(n_features=4)\n",
    "bow_hash_2 = vec_hash_2.fit_transform(x_train)\n",
    "clf = LogisticRegression(random_state=42)\n",
    "clf.fit(bow_hash_2, y_train)\n",
    "pred = clf.predict(vec_hash_2.transform(x_test))\n",
    "print(classification_report(pred, y_test))"
   ]
  },
  {
   "cell_type": "code",
   "execution_count": 27,
   "id": "d4f0e82f-5e3b-4cf9-9f7f-8a69bb57ba82",
   "metadata": {},
   "outputs": [
    {
     "name": "stdout",
     "output_type": "stream",
     "text": [
      "              precision    recall  f1-score   support\n",
      "\n",
      "    negative       0.56      0.62      0.59     25555\n",
      "    positive       0.66      0.61      0.63     31154\n",
      "\n",
      "    accuracy                           0.61     56709\n",
      "   macro avg       0.61      0.61      0.61     56709\n",
      "weighted avg       0.62      0.61      0.61     56709\n",
      "\n"
     ]
    }
   ],
   "source": [
    "bow_hash_4 = vec_hash_4.fit_transform(x_train)\n",
    "clf = LogisticRegression(random_state=42)\n",
    "clf.fit(bow_hash_4, y_train)\n",
    "pred = clf.predict(vec_hash_4.transform(x_test))\n",
    "print(classification_report(pred, y_test))"
   ]
  },
  {
   "cell_type": "code",
   "execution_count": 28,
   "id": "d47a637d-67d3-4e02-b91d-92f781f4a5df",
   "metadata": {},
   "outputs": [
    {
     "name": "stdout",
     "output_type": "stream",
     "text": [
      "              precision    recall  f1-score   support\n",
      "\n",
      "    negative       0.83      0.79      0.81     29286\n",
      "    positive       0.79      0.83      0.81     27423\n",
      "\n",
      "    accuracy                           0.81     56709\n",
      "   macro avg       0.81      0.81      0.81     56709\n",
      "weighted avg       0.81      0.81      0.81     56709\n",
      "\n"
     ]
    }
   ],
   "source": [
    "bow_hash_16 = vec_hash_16.fit_transform(x_train)\n",
    "clf = LogisticRegression(random_state=42)\n",
    "clf.fit(bow_hash_16, y_train)\n",
    "pred = clf.predict(vec_hash_16.transform(x_test))\n",
    "print(classification_report(pred, y_test))"
   ]
  },
  {
   "cell_type": "code",
   "execution_count": 29,
   "id": "9d191bb0-b773-4b8a-9ac7-5e6153b18f8f",
   "metadata": {},
   "outputs": [
    {
     "name": "stdout",
     "output_type": "stream",
     "text": [
      "n_features = 1\n",
      "              precision    recall  f1-score   support\n",
      "\n",
      "    negative       0.73      0.56      0.63     36757\n",
      "    positive       0.43      0.62      0.51     19952\n",
      "\n",
      "    accuracy                           0.58     56709\n",
      "   macro avg       0.58      0.59      0.57     56709\n",
      "weighted avg       0.63      0.58      0.59     56709\n",
      "\n",
      "\n",
      "n_features = 2\n",
      "              precision    recall  f1-score   support\n",
      "\n",
      "    negative       0.54      0.61      0.57     24691\n",
      "    positive       0.67      0.60      0.63     32018\n",
      "\n",
      "    accuracy                           0.60     56709\n",
      "   macro avg       0.60      0.61      0.60     56709\n",
      "weighted avg       0.61      0.60      0.61     56709\n",
      "\n",
      "\n",
      "n_features = 4\n",
      "              precision    recall  f1-score   support\n",
      "\n",
      "    negative       0.56      0.62      0.59     25555\n",
      "    positive       0.66      0.61      0.63     31154\n",
      "\n",
      "    accuracy                           0.61     56709\n",
      "   macro avg       0.61      0.61      0.61     56709\n",
      "weighted avg       0.62      0.61      0.61     56709\n",
      "\n",
      "\n",
      "n_features = 8\n",
      "              precision    recall  f1-score   support\n",
      "\n",
      "    negative       0.63      0.66      0.64     26388\n",
      "    positive       0.69      0.65      0.67     30321\n",
      "\n",
      "    accuracy                           0.66     56709\n",
      "   macro avg       0.66      0.66      0.66     56709\n",
      "weighted avg       0.66      0.66      0.66     56709\n",
      "\n",
      "\n",
      "n_features = 16\n",
      "              precision    recall  f1-score   support\n",
      "\n",
      "    negative       0.83      0.79      0.81     29286\n",
      "    positive       0.79      0.83      0.81     27423\n",
      "\n",
      "    accuracy                           0.81     56709\n",
      "   macro avg       0.81      0.81      0.81     56709\n",
      "weighted avg       0.81      0.81      0.81     56709\n",
      "\n",
      "\n",
      "n_features = 32\n",
      "              precision    recall  f1-score   support\n",
      "\n",
      "    negative       0.91      0.94      0.92     26937\n",
      "    positive       0.94      0.91      0.93     29772\n",
      "\n",
      "    accuracy                           0.93     56709\n",
      "   macro avg       0.93      0.93      0.93     56709\n",
      "weighted avg       0.93      0.93      0.93     56709\n",
      "\n",
      "\n",
      "n_features = 64\n",
      "              precision    recall  f1-score   support\n",
      "\n",
      "    negative       0.94      0.97      0.95     27284\n",
      "    positive       0.97      0.94      0.96     29425\n",
      "\n",
      "    accuracy                           0.95     56709\n",
      "   macro avg       0.95      0.96      0.95     56709\n",
      "weighted avg       0.96      0.95      0.95     56709\n",
      "\n",
      "\n",
      "n_features = 128\n",
      "              precision    recall  f1-score   support\n",
      "\n",
      "    negative       0.97      0.98      0.97     27664\n",
      "    positive       0.98      0.97      0.98     29045\n",
      "\n",
      "    accuracy                           0.97     56709\n",
      "   macro avg       0.97      0.97      0.97     56709\n",
      "weighted avg       0.97      0.97      0.97     56709\n",
      "\n",
      "\n",
      "n_features = 256\n",
      "              precision    recall  f1-score   support\n",
      "\n",
      "    negative       0.97      1.00      0.98     27176\n",
      "    positive       1.00      0.97      0.98     29533\n",
      "\n",
      "    accuracy                           0.98     56709\n",
      "   macro avg       0.98      0.98      0.98     56709\n",
      "weighted avg       0.98      0.98      0.98     56709\n",
      "\n",
      "\n",
      "n_features = 512\n",
      "              precision    recall  f1-score   support\n",
      "\n",
      "    negative       0.97      1.00      0.98     27170\n",
      "    positive       1.00      0.97      0.98     29539\n",
      "\n",
      "    accuracy                           0.98     56709\n",
      "   macro avg       0.98      0.98      0.98     56709\n",
      "weighted avg       0.98      0.98      0.98     56709\n",
      "\n",
      "\n",
      "n_features = 1024\n",
      "              precision    recall  f1-score   support\n",
      "\n",
      "    negative       0.97      1.00      0.98     27174\n",
      "    positive       1.00      0.97      0.98     29535\n",
      "\n",
      "    accuracy                           0.98     56709\n",
      "   macro avg       0.98      0.98      0.98     56709\n",
      "weighted avg       0.98      0.98      0.98     56709\n",
      "\n",
      "\n",
      "n_features = 2048\n",
      "              precision    recall  f1-score   support\n",
      "\n",
      "    negative       0.98      1.00      0.99     27474\n",
      "    positive       1.00      0.98      0.99     29235\n",
      "\n",
      "    accuracy                           0.99     56709\n",
      "   macro avg       0.99      0.99      0.99     56709\n",
      "weighted avg       0.99      0.99      0.99     56709\n",
      "\n",
      "\n",
      "n_features = 4096\n",
      "              precision    recall  f1-score   support\n",
      "\n",
      "    negative       0.98      1.00      0.99     27473\n",
      "    positive       1.00      0.98      0.99     29236\n",
      "\n",
      "    accuracy                           0.99     56709\n",
      "   macro avg       0.99      0.99      0.99     56709\n",
      "weighted avg       0.99      0.99      0.99     56709\n",
      "\n",
      "\n",
      "n_features = 8192\n",
      "              precision    recall  f1-score   support\n",
      "\n",
      "    negative       0.99      1.00      0.99     27727\n",
      "    positive       1.00      0.99      0.99     28982\n",
      "\n",
      "    accuracy                           0.99     56709\n",
      "   macro avg       0.99      0.99      0.99     56709\n",
      "weighted avg       0.99      0.99      0.99     56709\n",
      "\n",
      "\n",
      "n_features = 16384\n",
      "              precision    recall  f1-score   support\n",
      "\n",
      "    negative       0.99      1.00      0.99     27726\n",
      "    positive       1.00      0.99      0.99     28983\n",
      "\n",
      "    accuracy                           0.99     56709\n",
      "   macro avg       0.99      0.99      0.99     56709\n",
      "weighted avg       0.99      0.99      0.99     56709\n",
      "\n",
      "\n",
      "n_features = 32768\n",
      "              precision    recall  f1-score   support\n",
      "\n",
      "    negative       0.99      1.00      0.99     27727\n",
      "    positive       1.00      0.99      0.99     28982\n",
      "\n",
      "    accuracy                           0.99     56709\n",
      "   macro avg       0.99      0.99      0.99     56709\n",
      "weighted avg       0.99      0.99      0.99     56709\n",
      "\n",
      "\n",
      "n_features = 65536\n",
      "              precision    recall  f1-score   support\n",
      "\n",
      "    negative       0.99      1.00      0.99     27727\n",
      "    positive       1.00      0.99      0.99     28982\n",
      "\n",
      "    accuracy                           0.99     56709\n",
      "   macro avg       0.99      0.99      0.99     56709\n",
      "weighted avg       0.99      0.99      0.99     56709\n",
      "\n",
      "\n",
      "n_features = 131072\n",
      "              precision    recall  f1-score   support\n",
      "\n",
      "    negative       0.99      1.00      0.99     27726\n",
      "    positive       1.00      0.99      0.99     28983\n",
      "\n",
      "    accuracy                           0.99     56709\n",
      "   macro avg       0.99      0.99      0.99     56709\n",
      "weighted avg       0.99      0.99      0.99     56709\n",
      "\n",
      "\n"
     ]
    }
   ],
   "source": [
    "# or in the cycle:\n",
    "hash_features = [2 ** i for i in range(18)]\n",
    "for num in hash_features:\n",
    "    print('n_features =', num)\n",
    "    vec_hash = HashingVectorizer(analyzer='char', n_features=num, stop_words=noise)\n",
    "    bow_hash = vec_hash.fit_transform(x_train)\n",
    "    x_test_hash = vec_hash.transform(x_test)\n",
    "    clf = LogisticRegression(random_state=42)\n",
    "    clf.fit(bow_hash, y_train)\n",
    "    pred = clf.predict(vec_hash.transform(x_test))\n",
    "    print(classification_report(pred, y_test))\n",
    "    print()"
   ]
  },
  {
   "cell_type": "code",
   "execution_count": 30,
   "id": "a65ec561-0bdc-4583-a746-80f8bfa7d546",
   "metadata": {},
   "outputs": [
    {
     "data": {
      "text/plain": [
       "device(type='cpu')"
      ]
     },
     "execution_count": 30,
     "metadata": {},
     "output_type": "execute_result"
    }
   ],
   "source": [
    "device = torch.device('cuda' if torch.cuda.is_available() else 'cpu')\n",
    "device"
   ]
  },
  {
   "cell_type": "code",
   "execution_count": 31,
   "id": "1c223d28-70ff-423f-8c91-c48be61d77ae",
   "metadata": {},
   "outputs": [],
   "source": [
    "tokenizer = WordPunctTokenizer()"
   ]
  },
  {
   "cell_type": "code",
   "execution_count": 37,
   "id": "ad79b61c-8d8c-4efd-825e-b5101babfa1a",
   "metadata": {},
   "outputs": [],
   "source": [
    "train_corpus = \" \".join(x_train.values)\n",
    "train_corpus = train_corpus.lower()\n"
   ]
  },
  {
   "cell_type": "code",
   "execution_count": 39,
   "id": "f1203d6e-8398-4834-a94b-8f9bcfb2983a",
   "metadata": {},
   "outputs": [
    {
     "name": "stdout",
     "output_type": "stream",
     "text": [
      "CPU times: user 8min 26s, sys: 3min 16s, total: 11min 42s\n",
      "Wall time: 12min 51s\n"
     ]
    }
   ],
   "source": [
    "%%time\n",
    "tokens = word_tokenize(train_corpus)\n",
    "tokens_filtered = [word for word in tokens]"
   ]
  },
  {
   "cell_type": "code",
   "execution_count": 41,
   "id": "0e1175a1-882a-4706-81c2-379c23853616",
   "metadata": {},
   "outputs": [],
   "source": [
    "index_count= 0\n",
    "voc_inv = {}\n",
    "vocabulary = {}\n",
    "for key in dict(Counter(tokens_filtered).most_common(2000)).keys():\n",
    "    voc_inv[index_count] = key\n",
    "    vocabulary[key] = index_count\n",
    "    index_count += 1\n",
    "# vocabulary"
   ]
  },
  {
   "cell_type": "code",
   "execution_count": 42,
   "id": "6cee1223-f1b9-47f4-9daa-71911a9d063f",
   "metadata": {},
   "outputs": [],
   "source": [
    "def text_to_sequence(text, maxlen):\n",
    "  result=[]\n",
    "  tokens = word_tokenize(text.lower())\n",
    "  tokens_filtered = [word for word in tokens if word.isalnum()]\n",
    "  for word in tokens_filtered:\n",
    "    if word in vocabulary:\n",
    "      result.append(vocabulary[word])\n",
    "  padding = [0] * (maxlen - len(result))\n",
    "  return result[-maxlen:] + padding"
   ]
  },
  {
   "cell_type": "code",
   "execution_count": 66,
   "id": "814058cb-e4b5-4b31-9895-fa0abcd9e805",
   "metadata": {},
   "outputs": [],
   "source": [
    "\n",
    "max_len = len(vocabulary)\n",
    "num_classes = 1\n"
   ]
  },
  {
   "cell_type": "code",
   "execution_count": 71,
   "id": "2b97a4a5-2e0b-4aa1-82b5-31ba52a68ff6",
   "metadata": {},
   "outputs": [
    {
     "name": "stdout",
     "output_type": "stream",
     "text": [
      "CPU times: user 1min 3s, sys: 4.68 s, total: 1min 8s\n",
      "Wall time: 1min 11s\n"
     ]
    }
   ],
   "source": [
    "%%time\n",
    "x_train_for_nn = np.array([text_to_sequence(text, max_len) for text in x_train.values], dtype=np.int32)\n",
    "x_test_for_nn = np.array([text_to_sequence(text, max_len) for text in x_test.values], dtype=np.int32)"
   ]
  },
  {
   "cell_type": "code",
   "execution_count": 72,
   "id": "4a86cd7a-eb1b-451b-ae7a-1b7c7c04efa8",
   "metadata": {},
   "outputs": [
    {
     "data": {
      "text/plain": [
       "(170125, 2000)"
      ]
     },
     "execution_count": 72,
     "metadata": {},
     "output_type": "execute_result"
    }
   ],
   "source": [
    "x_train_for_nn.shape"
   ]
  },
  {
   "cell_type": "code",
   "execution_count": 73,
   "id": "08ecafd6-b732-43e7-911a-ffc28f30013e",
   "metadata": {},
   "outputs": [
    {
     "data": {
      "text/plain": [
       "array([[  11,    6,  548, ...,    0,    0,    0],\n",
       "       [  13,   17,   20, ...,    0,    0,    0],\n",
       "       [  13,    6,  149, ...,    0,    0,    0],\n",
       "       [  43,  141,  207, ...,    0,    0,    0],\n",
       "       [  11, 1269,  158, ...,    0,    0,    0]], dtype=int32)"
      ]
     },
     "execution_count": 73,
     "metadata": {},
     "output_type": "execute_result"
    }
   ],
   "source": [
    "x_train_for_nn[:5]"
   ]
  },
  {
   "cell_type": "code",
   "execution_count": 75,
   "id": "671c161d-cbcc-4278-801b-f968031d5399",
   "metadata": {},
   "outputs": [
    {
     "data": {
      "text/plain": [
       "0              RT  : Я думал Надеко, а это не она. :-(\n",
       "1      а у меня настолько наоборот %) я долго не мо...\n",
       "2           а я ее, похоже, только завтра посмотрю...(\n",
       "3    Только один человек может меня подбодрить и вс...\n",
       "4    RT  : Группа Внутренних Войск взята под охрану...\n",
       "Name: text, dtype: object"
      ]
     },
     "execution_count": 75,
     "metadata": {},
     "output_type": "execute_result"
    }
   ],
   "source": [
    "x_train.iloc[:5]"
   ]
  },
  {
   "cell_type": "code",
   "execution_count": 76,
   "id": "7c2b12d9-e191-4005-85e4-9e015d2f76f7",
   "metadata": {},
   "outputs": [],
   "source": [
    "import random\n",
    "seed = 0\n",
    "random.seed(seed)\n",
    "np.random.seed(seed)\n",
    "torch.manual_seed(seed)\n",
    "torch.cuda.manual_seed(seed)\n",
    "torch.backends.cudnn.deterministic = True"
   ]
  },
  {
   "cell_type": "code",
   "execution_count": 78,
   "id": "ff261c6c-4283-4e17-bd0b-c67ebd936b5b",
   "metadata": {},
   "outputs": [],
   "source": [
    "from torch.utils.data import DataLoader, Dataset\n",
    "\n",
    "class DataWrapper(Dataset):\n",
    "    def __init__(self, data, target=None, transform=None):\n",
    "        self.data = torch.from_numpy(data).long()\n",
    "        if target is not None:\n",
    "            self.target = torch.from_numpy(target).long()\n",
    "        self.transform = transform\n",
    "        \n",
    "    def __getitem__(self, index):\n",
    "        x = self.data[index]\n",
    "        y = self.target[index] if self.target is not None else None\n",
    "        \n",
    "        if self.transform:\n",
    "            x = self.transform(x)\n",
    "            \n",
    "        return x, y\n",
    "    \n",
    "    def __len__(self):\n",
    "        return len(self.data)"
   ]
  },
  {
   "cell_type": "code",
   "execution_count": null,
   "id": "0d9a320c-6826-41df-a1a4-2fe8103cb504",
   "metadata": {},
   "outputs": [
    {
     "name": "stdout",
     "output_type": "stream",
     "text": [
      "LSTMFixedLen(\n",
      "  (embeddings): Embedding(2000, 128, padding_idx=0)\n",
      "  (lstm): LSTM(128, 128, num_layers=2, batch_first=True)\n",
      "  (linear): Linear(in_features=128, out_features=1, bias=True)\n",
      "  (dropout): Dropout(p=0.2, inplace=False)\n",
      ")\n",
      "Parameters: 520321\n",
      "Train epoch 1/2\n",
      "Step 0: loss=0.6882001161575317\n"
     ]
    }
   ],
   "source": [
    "batch_size = 128\n",
    "max_words = 50\n",
    "epochs = 2\n",
    "\n",
    "model = Net(vocab_size=len(vocabulary)).to(device)\n",
    "\n",
    "print(model)\n",
    "print(\"Parameters:\", sum([param.nelement() for param in model.parameters()]))\n",
    "\n",
    "model.train()\n",
    "#model = model.cuda()\n",
    "\n",
    "optimizer = torch.optim.Adam(model.parameters(), lr=10e-3)\n",
    "criterion = nn.BCEWithLogitsLoss()\n",
    "    \n",
    "train_dataset = DataWrapper(x_train_for_nn, np.array(y_train))\n",
    "train_loader = DataLoader(train_dataset, batch_size=batch_size, shuffle=True)\n",
    "\n",
    "loss_history = []\n",
    "\n",
    "for epoch in range(1, epochs + 1):\n",
    "    print(f\"Train epoch {epoch}/{epochs}\")\n",
    "    for i, (data, target) in enumerate(train_loader):\n",
    "        data = data.to(device)\n",
    "        target = target.to(device)\n",
    "        optimizer.zero_grad()\n",
    "        \n",
    "        # data = data.cuda()\n",
    "        # target = target.cuda()\n",
    "        \n",
    "        # compute output\n",
    "        output = model(data)\n",
    "        \n",
    "        # compute gradient and do SGD step\n",
    "        loss = criterion(output, target.float().view(-1, 1))\n",
    "        loss.backward()\n",
    "        \n",
    "        optimizer.step()\n",
    "        \n",
    "        if i%400 == 0:\n",
    "            loss = loss.float().item()\n",
    "            print(\"Step {}: loss={}\".format(i, loss))\n",
    "            loss_history.append(loss)"
   ]
  },
  {
   "cell_type": "code",
   "execution_count": null,
   "id": "6684cd90-8946-4988-ac00-852d7856ea5b",
   "metadata": {},
   "outputs": [],
   "source": [
    "# train_dataset = DataWrapper(x_train_for_nn, np.array(y_train))\n",
    "# train_loader = DataLoader(train_dataset, batch_size=batch_size, shuffle=True)\n",
    "\n",
    "test_dataset = DataWrapper(x_test_for_nn, np.array(y_test))\n",
    "test_loader = DataLoader(test_dataset, batch_size=batch_size, shuffle=True)"
   ]
  },
  {
   "cell_type": "code",
   "execution_count": null,
   "id": "f7949fcc-9037-4ddf-870e-4354b98c300e",
   "metadata": {},
   "outputs": [],
   "source": [
    "for x, l in train_loader:\n",
    "    print(x.shape)\n",
    "    print(l.shape)\n",
    "    print(l[0])\n",
    "    break"
   ]
  },
  {
   "cell_type": "code",
   "execution_count": null,
   "id": "7258b8a7-4d3c-489f-a76d-9ad8cda96088",
   "metadata": {},
   "outputs": [],
   "source": [
    "batch_size = 128\n",
    "max_words = 50\n",
    "epochs = 2"
   ]
  },
  {
   "cell_type": "code",
   "execution_count": null,
   "id": "f64ccbf9-c4eb-4967-afa2-fc8d847d0897",
   "metadata": {},
   "outputs": [],
   "source": [
    "lstm_init =LSTMFixedLen(max_words, 128, 20, use_last=False)\n",
    "optimizer = torch.optim.Adam(lstm_init.parameters(), lr = 0.001)\n",
    "criterion = nn.BCELoss()"
   ]
  },
  {
   "cell_type": "code",
   "execution_count": null,
   "id": "7022e05b-fb4a-42f9-80f9-ae463090a385",
   "metadata": {},
   "outputs": [],
   "source": [
    "print(lstm_init)\n",
    "print(\"Parameters:\", sum([param.nelement() for param in lstm_init.parameters()]))"
   ]
  },
  {
   "cell_type": "code",
   "execution_count": null,
   "id": "6fd942ce-71e8-414e-96a5-d3396cc0c61b",
   "metadata": {},
   "outputs": [],
   "source": [
    "lstm_init = lstm_init.to(device)\n",
    "lstm_init.train()\n",
    "th = 0.5\n",
    "\n",
    "train_loss_history = []\n",
    "test_loss_history = []\n",
    "\n",
    "\n",
    "for epoch in range(epochs):  \n",
    "    lstm_init.train()\n",
    "    running_items, running_right = 0.0, 0.0\n",
    "    for i, data in enumerate(train_loader, 0):\n",
    "        inputs, labels = data[0].to(device), data[1].to(device)\n",
    "\n",
    "        # обнуляем градиент\n",
    "        optimizer.zero_grad()\n",
    "        outputs = lstm_init(inputs)\n",
    "        \n",
    "        loss = criterion(outputs, labels.float().view(-1, 1))\n",
    "        loss.backward()\n",
    "        optimizer.step()\n",
    "\n",
    "        # подсчет ошибки на обучении\n",
    "        loss = loss.item()\n",
    "        running_items += len(labels)\n",
    "        # подсчет метрики на обучении\n",
    "        pred_labels = torch.squeeze((outputs > th).int())\n",
    "        running_right += (labels == pred_labels).sum()\n",
    "        \n",
    "    # выводим статистику о процессе обучения\n",
    "    lstm_init.eval()\n",
    "    \n",
    "    print(f'Epoch [{epoch + 1}/{epochs}]. ' \\\n",
    "            f'Step [{i + 1}/{len(train_loader)}]. ' \\\n",
    "            f'Loss: {loss:.3f}. ' \\\n",
    "            f'Acc: {running_right / running_items:.3f}', end='. ')\n",
    "    running_loss, running_items, running_right = 0.0, 0.0, 0.0\n",
    "    train_loss_history.append(loss)\n",
    "\n",
    "    # выводим статистику на тестовых данных\n",
    "    test_running_right, test_running_total, test_loss = 0.0, 0.0, 0.0\n",
    "    for j, data in enumerate(val_loader):\n",
    "        test_labels = data[1].to(device)\n",
    "        test_outputs = lstm_init(data[0].to(device))\n",
    "        \n",
    "        # подсчет ошибки на тесте\n",
    "        test_loss = criterion(test_outputs, test_labels.float().view(-1, 1))\n",
    "        # подсчет метрики на тесте\n",
    "        test_running_total += len(data[1])\n",
    "        pred_test_labels = torch.squeeze((test_outputs > th).int())\n",
    "        test_running_right += (test_labels == pred_test_labels).sum()\n",
    "    \n",
    "    test_loss_history.append(test_loss.item())\n",
    "    print(f'Test loss: {test_loss:.3f}. Test acc: {test_running_right / test_running_total:.3f}')\n",
    "        \n",
    "print('Training is finished!')"
   ]
  },
  {
   "cell_type": "code",
   "execution_count": null,
   "id": "1ff06352-1f2b-472e-b877-f068c6c651b3",
   "metadata": {},
   "outputs": [],
   "source": [
    "plt.title('lstm Loss history')\n",
    "plt.grid(True)\n",
    "plt.ylabel('Loss')\n",
    "plt.xlabel('Epoch')\n",
    "plt.plot(train_loss_history, label='train')\n",
    "plt.plot(test_loss_history, label='test')\n",
    "plt.legend()"
   ]
  },
  {
   "cell_type": "code",
   "execution_count": null,
   "id": "cf8764c9-5b46-4818-919e-457cff747a70",
   "metadata": {},
   "outputs": [],
   "source": [
    "model.eval()\n",
    "list_accuracy = []\n",
    "for data in test_loader:\n",
    "  test_outputs = model(data[0].to(device))\n",
    "  label = data[1].to(device)\n",
    "  predict = torch.max(test_outputs, 1)[1]\n",
    "  break\n",
    "print(classification_report(predict.cpu(), label.cpu())"
   ]
  },
  {
   "cell_type": "code",
   "execution_count": null,
   "id": "48783c56-bd4d-4d4c-9123-6a57618e98f2",
   "metadata": {},
   "outputs": [],
   "source": [
    "list_accuracy = []\n",
    "for data in test_loader:\n",
    "  test_outputs = model(data[0].to(device))\n",
    "  label = data[1].to(device)\n",
    "  predict = torch.max(test_outputs, 1)[1]\n",
    "  list_accuracy.append((predict == label).sum()/predict.shape[0])\n",
    "np.mean([elem.cpu() for elem in list_accuracy])"
   ]
  }
 ],
 "metadata": {
  "kernelspec": {
   "display_name": "Python 3 (ipykernel)",
   "language": "python",
   "name": "python3"
  },
  "language_info": {
   "codemirror_mode": {
    "name": "ipython",
    "version": 3
   },
   "file_extension": ".py",
   "mimetype": "text/x-python",
   "name": "python",
   "nbconvert_exporter": "python",
   "pygments_lexer": "ipython3",
   "version": "3.8.13"
  }
 },
 "nbformat": 4,
 "nbformat_minor": 5
}
