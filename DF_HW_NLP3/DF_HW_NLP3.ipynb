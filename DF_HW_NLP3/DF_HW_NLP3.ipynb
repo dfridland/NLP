{
 "cells": [
  {
   "cell_type": "code",
   "execution_count": 13,
   "id": "4d590b90-ac1f-42e8-a63e-19c43f6f000e",
   "metadata": {},
   "outputs": [],
   "source": [
    "import pandas as pd\n",
    "import numpy as np\n",
    "import re\n",
    "from tqdm import tqdm\n",
    "\n",
    "import string\n",
    "from pymorphy2 import MorphAnalyzer\n",
    "from stop_words import get_stop_words\n",
    "import annoy\n",
    "from gensim.models import Word2Vec, FastText\n",
    "import pickle\n",
    "from tqdm import notebook"
   ]
  },
  {
   "cell_type": "code",
   "execution_count": 2,
   "id": "14995101-5774-4745-a1d6-8ffd78b55001",
   "metadata": {},
   "outputs": [
    {
     "data": {
      "text/html": [
       "<div>\n",
       "<style scoped>\n",
       "    .dataframe tbody tr th:only-of-type {\n",
       "        vertical-align: middle;\n",
       "    }\n",
       "\n",
       "    .dataframe tbody tr th {\n",
       "        vertical-align: top;\n",
       "    }\n",
       "\n",
       "    .dataframe thead th {\n",
       "        text-align: right;\n",
       "    }\n",
       "</style>\n",
       "<table border=\"1\" class=\"dataframe\">\n",
       "  <thead>\n",
       "    <tr style=\"text-align: right;\">\n",
       "      <th></th>\n",
       "      <th>text</th>\n",
       "      <th>label</th>\n",
       "    </tr>\n",
       "  </thead>\n",
       "  <tbody>\n",
       "    <tr>\n",
       "      <th>226824</th>\n",
       "      <td>@ivanenko14 и у меня также, только будильник е...</td>\n",
       "      <td>negative</td>\n",
       "    </tr>\n",
       "    <tr>\n",
       "      <th>226825</th>\n",
       "      <td>Когда же я вернусь к тебе(( http://t.co/36qnCO...</td>\n",
       "      <td>negative</td>\n",
       "    </tr>\n",
       "    <tr>\n",
       "      <th>226826</th>\n",
       "      <td>RT @qelasocadij: Скажите пожалуйста, как у чел...</td>\n",
       "      <td>negative</td>\n",
       "    </tr>\n",
       "    <tr>\n",
       "      <th>226827</th>\n",
       "      <td>У нас физ ра на улице\\nПака линт:(\\nЧерез 45 м...</td>\n",
       "      <td>negative</td>\n",
       "    </tr>\n",
       "    <tr>\n",
       "      <th>226828</th>\n",
       "      <td>Нас сегодня отказались принять в сад, типа мы ...</td>\n",
       "      <td>negative</td>\n",
       "    </tr>\n",
       "    <tr>\n",
       "      <th>226829</th>\n",
       "      <td>Но не каждый хочет что то исправлять:( http://...</td>\n",
       "      <td>negative</td>\n",
       "    </tr>\n",
       "    <tr>\n",
       "      <th>226830</th>\n",
       "      <td>скучаю так :-( только @taaannyaaa вправляет мо...</td>\n",
       "      <td>negative</td>\n",
       "    </tr>\n",
       "    <tr>\n",
       "      <th>226831</th>\n",
       "      <td>Вот и в школу, в говно это идти уже надо(</td>\n",
       "      <td>negative</td>\n",
       "    </tr>\n",
       "    <tr>\n",
       "      <th>226832</th>\n",
       "      <td>RT @_Them__: @LisaBeroud Тауриэль, не грусти :...</td>\n",
       "      <td>negative</td>\n",
       "    </tr>\n",
       "    <tr>\n",
       "      <th>226833</th>\n",
       "      <td>Такси везет меня на работу. Раздумываю приплат...</td>\n",
       "      <td>negative</td>\n",
       "    </tr>\n",
       "  </tbody>\n",
       "</table>\n",
       "</div>"
      ],
      "text/plain": [
       "                                                     text     label\n",
       "226824  @ivanenko14 и у меня также, только будильник е...  negative\n",
       "226825  Когда же я вернусь к тебе(( http://t.co/36qnCO...  negative\n",
       "226826  RT @qelasocadij: Скажите пожалуйста, как у чел...  negative\n",
       "226827  У нас физ ра на улице\\nПака линт:(\\nЧерез 45 м...  negative\n",
       "226828  Нас сегодня отказались принять в сад, типа мы ...  negative\n",
       "226829  Но не каждый хочет что то исправлять:( http://...  negative\n",
       "226830  скучаю так :-( только @taaannyaaa вправляет мо...  negative\n",
       "226831          Вот и в школу, в говно это идти уже надо(  negative\n",
       "226832  RT @_Them__: @LisaBeroud Тауриэль, не грусти :...  negative\n",
       "226833  Такси везет меня на работу. Раздумываю приплат...  negative"
      ]
     },
     "execution_count": 2,
     "metadata": {},
     "output_type": "execute_result"
    }
   ],
   "source": [
    "positive = pd.read_csv('positive.csv', sep=';', usecols=[3], names=['text'])\n",
    "positive['label'] = ['positive'] * len(positive)\n",
    "negative = pd.read_csv('negative.csv', sep=';', usecols=[3], names=['text'])\n",
    "negative['label'] = ['negative'] * len(negative)\n",
    "data = pd.concat([positive, negative]).reset_index(drop=True)\n",
    "data.tail(10)"
   ]
  },
  {
   "cell_type": "code",
   "execution_count": 3,
   "id": "7832146a-a10c-40b5-b850-4523e4012bcc",
   "metadata": {},
   "outputs": [
    {
     "data": {
      "text/plain": [
       "0     хоть я и школота, но поверь, у нас то же само...\n",
       "1    Да, все-таки он немного похож на него. Но мой ...\n",
       "2          RT : Ну ты идиотка) я испугалась за тебя!!!\n",
       "3    RT : \"Кто то в углу сидит и погибает от голода...\n",
       "4     Вот что значит страшилка :D\\nНо блин,посмотре...\n",
       "Name: text, dtype: object"
      ]
     },
     "execution_count": 3,
     "metadata": {},
     "output_type": "execute_result"
    }
   ],
   "source": [
    "def remove_user(pattern, repl, string):\n",
    "    return re.sub(pattern, repl, string)\n",
    "data.text = np.vectorize(remove_user)('@[\\w]*', '', data.text)\n",
    "data.text.head()"
   ]
  },
  {
   "cell_type": "code",
   "execution_count": 4,
   "id": "d7d263a8-2921-462c-904b-8f36a8547783",
   "metadata": {},
   "outputs": [],
   "source": [
    "data['text'] = data['text'].apply(str)\n"
   ]
  },
  {
   "cell_type": "code",
   "execution_count": 5,
   "id": "18fde0a3-ee55-470c-8a74-41f7ca95c0b5",
   "metadata": {},
   "outputs": [],
   "source": [
    "data.to_csv(\"text_in.txt\", header=None, index=None, sep=',', mode='w', encoding='utf-8')"
   ]
  },
  {
   "cell_type": "code",
   "execution_count": 6,
   "id": "8f30fdab-49af-496c-8c65-43bed71b6f39",
   "metadata": {},
   "outputs": [],
   "source": [
    "text_in = open('text_in.txt','r', encoding='utf-8')"
   ]
  },
  {
   "cell_type": "code",
   "execution_count": 10,
   "id": "def162e7-c034-461d-9014-03408f00ff46",
   "metadata": {},
   "outputs": [
    {
     "name": "stdout",
     "output_type": "stream",
     "text": [
      "0.8323495\n",
      "0.5288512\n",
      "0.21199903\n"
     ]
    }
   ],
   "source": []
  },
  {
   "cell_type": "code",
   "execution_count": 7,
   "id": "b3765e51-3e68-4563-91d3-9480b1c50ca0",
   "metadata": {},
   "outputs": [],
   "source": [
    "import gensim.downloader as api"
   ]
  },
  {
   "cell_type": "code",
   "execution_count": 8,
   "id": "5ccd85ee-da8b-41b8-9be4-04ff3a8fcc48",
   "metadata": {},
   "outputs": [
    {
     "data": {
      "text/plain": [
       "dict_keys(['fasttext-wiki-news-subwords-300', 'conceptnet-numberbatch-17-06-300', 'word2vec-ruscorpora-300', 'word2vec-google-news-300', 'glove-wiki-gigaword-50', 'glove-wiki-gigaword-100', 'glove-wiki-gigaword-200', 'glove-wiki-gigaword-300', 'glove-twitter-25', 'glove-twitter-50', 'glove-twitter-100', 'glove-twitter-200', '__testing_word2vec-matrix-synopsis'])"
      ]
     },
     "execution_count": 8,
     "metadata": {},
     "output_type": "execute_result"
    }
   ],
   "source": [
    "api.info()['models'].keys()"
   ]
  },
  {
   "cell_type": "code",
   "execution_count": 9,
   "id": "7d6ce886-597a-401b-8e78-6667cf6e2413",
   "metadata": {},
   "outputs": [
    {
     "name": "stdout",
     "output_type": "stream",
     "text": [
      "queen: 0.7699\n"
     ]
    }
   ],
   "source": [
    "word_vectors = api.load(\"glove-wiki-gigaword-100\")  # download pre-trained words vectors from gensim-data\n",
    "# lets get the nearest to  'woman', 'king' and the farest from 'man'\n",
    "result = word_vectors.most_similar(positive=['woman', 'king'], negative=['man'])\n",
    "print(\"{}: {:.4f}\".format(*result[0]))"
   ]
  },
  {
   "cell_type": "code",
   "execution_count": 17,
   "id": "15331d52-df82-41d2-b5ad-d912996c7da8",
   "metadata": {},
   "outputs": [
    {
     "name": "stdout",
     "output_type": "stream",
     "text": [
      "0.8323495\n",
      "0.5288512\n",
      "0.21199903\n"
     ]
    }
   ],
   "source": [
    "# determine the words similarity\n",
    "similarity = word_vectors.similarity('woman', 'man')\n",
    "print(similarity)\n",
    "\n",
    "similarity = word_vectors.similarity('human', 'man')\n",
    "print(similarity)\n",
    "\n",
    "similarity = word_vectors.similarity('bee', 'man')\n",
    "print(similarity)"
   ]
  },
  {
   "cell_type": "code",
   "execution_count": 11,
   "id": "2d09db4f-d94f-4a7e-a673-846a8e5da849",
   "metadata": {},
   "outputs": [
    {
     "name": "stdout",
     "output_type": "stream",
     "text": [
      "[('woman', 0.8323495388031006), ('boy', 0.7914870977401733), ('one', 0.7788748741149902)]\n",
      "[('dog', 0.8798074722290039), ('rabbit', 0.7424427270889282), ('cats', 0.732300341129303)]\n",
      "[('tongue', 0.7366125583648682), ('mouths', 0.6877489686012268), ('ear', 0.6811771392822266)]\n"
     ]
    }
   ],
   "source": [
    "# get the top-3 the closest words\n",
    "result = word_vectors.similar_by_word(\"man\", topn=3)\n",
    "print(result)\n",
    "\n",
    "result = word_vectors.similar_by_word(\"cat\", topn=3)\n",
    "print(result)\n",
    "\n",
    "result = word_vectors.similar_by_word(\"mouth\", topn=3)\n",
    "print(result)"
   ]
  },
  {
   "cell_type": "code",
   "execution_count": 14,
   "id": "88ccec07-b301-4ee0-88a6-2976f494a28e",
   "metadata": {},
   "outputs": [
    {
     "data": {
      "application/vnd.jupyter.widget-view+json": {
       "model_id": "af9b52e8b21d40398ccc85292e53f356",
       "version_major": 2,
       "version_minor": 0
      },
      "text/plain": [
       "0it [00:00, ?it/s]"
      ]
     },
     "metadata": {},
     "output_type": "display_data"
    }
   ],
   "source": [
    "assert True\n",
    "\n",
    "#Small preprocess of the answers\n",
    "\n",
    "question = None\n",
    "written = False\n",
    "\n",
    "with open(\"prepared_answers.txt\", \"w\") as fout:\n",
    "    with open(\"text_in.txt\", \"r\", encoding='utf-8') as fin:\n",
    "        for line in notebook.tqdm(fin):\n",
    "            if line.startswith(\"---\"):\n",
    "                written = False\n",
    "                continue\n",
    "            if not written and question is not None:\n",
    "                fout.write(question.replace(\"\\t\", \" \").strip() + \"\\t\" + line.replace(\"\\t\", \" \"))\n",
    "                written = True\n",
    "                question = None\n",
    "                continue\n",
    "            if not written:\n",
    "                question = line.strip()\n",
    "                continue"
   ]
  },
  {
   "cell_type": "code",
   "execution_count": 15,
   "id": "17b5dd02-9742-47fe-845b-2a4c0614f224",
   "metadata": {},
   "outputs": [],
   "source": [
    "def preprocess_txt(line):\n",
    "    spls = \"\".join(i for i in line.strip() if i not in exclude).split()\n",
    "    spls = [morpher.parse(i.lower())[0].normal_form for i in spls]\n",
    "    spls = [i for i in spls if i not in sw and i != \"\"]\n",
    "    return spls"
   ]
  },
  {
   "cell_type": "code",
   "execution_count": 16,
   "id": "b75cf3c8-9d51-43c3-91a3-cfb5dcb6d531",
   "metadata": {},
   "outputs": [
    {
     "data": {
      "application/vnd.jupyter.widget-view+json": {
       "model_id": "14f675c599334843a8b3bfbc816fca63",
       "version_major": 2,
       "version_minor": 0
      },
      "text/plain": [
       "0it [00:00, ?it/s]"
      ]
     },
     "metadata": {},
     "output_type": "display_data"
    }
   ],
   "source": [
    "assert True\n",
    "\n",
    "# Preprocess for models fitting\n",
    "\n",
    "sentences = []\n",
    "\n",
    "morpher = MorphAnalyzer()\n",
    "sw = set(get_stop_words(\"ru\"))\n",
    "exclude = set(string.punctuation)\n",
    "c = 0\n",
    "\n",
    "with open(\"text_in.txt\", \"r\",  encoding='utf-8') as fin:\n",
    "    for line in notebook.tqdm(fin):\n",
    "        spls = preprocess_txt(line)\n",
    "        sentences.append(spls)\n",
    "        c += 1\n",
    "        if c > 100000:\n",
    "            break"
   ]
  },
  {
   "cell_type": "code",
   "execution_count": 18,
   "id": "fd3c37b2-4e1c-4af6-9917-93264c9b39a6",
   "metadata": {},
   "outputs": [],
   "source": [
    "sentences = [i for i in sentences if len(i) > 2]"
   ]
  },
  {
   "cell_type": "code",
   "execution_count": 19,
   "id": "d1e986b5-d573-459a-9ab5-6291c42bc552",
   "metadata": {},
   "outputs": [
    {
     "data": {
      "text/plain": [
       "['школотый',\n",
       " 'поверь',\n",
       " 'самый',\n",
       " 'd',\n",
       " 'общество',\n",
       " 'профилировать',\n",
       " 'предмет',\n",
       " 'типаpositive']"
      ]
     },
     "execution_count": 19,
     "metadata": {},
     "output_type": "execute_result"
    }
   ],
   "source": [
    "sentences[0]"
   ]
  },
  {
   "cell_type": "code",
   "execution_count": 21,
   "id": "7f31c43a-e037-4665-a225-67b71db2e8d9",
   "metadata": {},
   "outputs": [],
   "source": [
    "modelW2V = Word2Vec(sentences=sentences, vector_size=300, window=5, min_count=1)\n",
    "modelFT = FastText(sentences=sentences, vector_size=300, min_count=1, window=5, workers=0)"
   ]
  },
  {
   "cell_type": "code",
   "execution_count": 22,
   "id": "669f942e-704a-4bc8-ab9e-18c8bd687ea8",
   "metadata": {},
   "outputs": [
    {
     "data": {
      "application/vnd.jupyter.widget-view+json": {
       "model_id": "65ba624048c649c89c65073e8b6b11f9",
       "version_major": 2,
       "version_minor": 0
      },
      "text/plain": [
       "0it [00:00, ?it/s]"
      ]
     },
     "metadata": {},
     "output_type": "display_data"
    },
    {
     "data": {
      "text/plain": [
       "True"
      ]
     },
     "execution_count": 22,
     "metadata": {},
     "output_type": "execute_result"
    }
   ],
   "source": [
    "w2v_index = annoy.AnnoyIndex(300 ,'angular')\n",
    "ft_index = annoy.AnnoyIndex(300 ,'angular')\n",
    "\n",
    "index_map = {}\n",
    "counter = 0\n",
    "\n",
    "with open(\"prepared_answers.txt\", \"r\") as f:\n",
    "    for line in notebook.tqdm(f):\n",
    "        n_w2v = 0\n",
    "        n_ft = 0\n",
    "        spls = line.split(\"\\t\")\n",
    "        index_map[counter] = spls[1]\n",
    "        question = preprocess_txt(spls[0])\n",
    "        \n",
    "        vector_w2v = np.zeros(300)\n",
    "        vector_ft = np.zeros(300)\n",
    "        for word in question:\n",
    "            if word in modelW2V.wv:\n",
    "                vector_w2v += modelW2V.wv[word]\n",
    "                n_w2v += 1\n",
    "            if word in modelFT.wv:\n",
    "                vector_ft += modelFT.wv[word]\n",
    "                n_ft += 1\n",
    "        if n_w2v > 0:\n",
    "            vector_w2v = vector_w2v / n_w2v\n",
    "        if n_ft > 0:\n",
    "            vector_ft = vector_ft / n_ft\n",
    "        w2v_index.add_item(counter, vector_w2v)\n",
    "        ft_index.add_item(counter, vector_ft)\n",
    "            \n",
    "        counter += 1\n",
    "        \n",
    "        if counter > 100000:\n",
    "            break\n",
    "\n",
    "w2v_index.build(10)\n",
    "ft_index.build(10)"
   ]
  },
  {
   "cell_type": "code",
   "execution_count": 23,
   "id": "70056308-c875-44ce-9f72-ee537a632f62",
   "metadata": {},
   "outputs": [],
   "source": [
    "def get_response(question, index, model, index_map):\n",
    "    question = preprocess_txt(question)\n",
    "    vector = np.zeros(300)\n",
    "    norm = 0\n",
    "    for word in question:\n",
    "        if word in model.wv:\n",
    "            vector += model.wv[word]\n",
    "            norm += 1\n",
    "    if norm > 0:\n",
    "        vector = vector / norm\n",
    "    answers = index.get_nns_by_vector(vector, 5, ) #return 5 nearest vectors\n",
    "    return [index_map[i] for i in answers]"
   ]
  },
  {
   "cell_type": "code",
   "execution_count": 24,
   "id": "e7e9558e-97ef-430e-90c6-bd972980d48f",
   "metadata": {},
   "outputs": [],
   "source": [
    "TEXT = \"хоть я и школота, но поверь, у нас то же самое общество профилирующий предмет типа\" "
   ]
  },
  {
   "cell_type": "code",
   "execution_count": 25,
   "id": "216de4e3-d270-48a7-9290-303cbac2badd",
   "metadata": {},
   "outputs": [
    {
     "data": {
      "text/plain": [
       "['\"Да, все-таки он немного похож на него. Но мой мальчик все равно лучше:D\",positive\\n',\n",
       " '\"Надеялась, что я добавлю ее в друзья,лохушка :D http://t.co/36k6ADyASA\",positive\\n',\n",
       " '\"с утра романтик, засевший глубоко среди извилин мозга, получил суровым кирпичом действительности по голове) и вас с добры\",positive\\n',\n",
       " '\"Кто круче - 1,2,3,4 ?) #Suri http://t.co/jZ0INfN4tx\",positive\\n',\n",
       " '\"И вот я сижу .. А он передо мной ..в трусах , а я засыпаю :D\",positive\\n']"
      ]
     },
     "execution_count": 25,
     "metadata": {},
     "output_type": "execute_result"
    }
   ],
   "source": [
    "get_response(TEXT, w2v_index, modelW2V, index_map)"
   ]
  },
  {
   "cell_type": "code",
   "execution_count": 26,
   "id": "2eb42d5f-0b8e-4864-8d11-b2adf909c6ed",
   "metadata": {},
   "outputs": [
    {
     "data": {
      "text/plain": [
       "['\"Да, все-таки он немного похож на него. Но мой мальчик все равно лучше:D\",positive\\n',\n",
       " '\"с утра романтик, засевший глубоко среди извилин мозга, получил суровым кирпичом действительности по голове) и вас с добры\",positive\\n',\n",
       " '\"RT : По телеку показывали \"\"Квартал-95\"\". Они пригласили Чайф! =)) Наконец-то догадались, что Киркоров и Моисеев не нужны. Вообщ\",positive\\n',\n",
       " '\"Кто круче - 1,2,3,4 ?) #Suri http://t.co/jZ0INfN4tx\",positive\\n',\n",
       " '\"И вот я сижу .. А он передо мной ..в трусах , а я засыпаю :D\",positive\\n']"
      ]
     },
     "execution_count": 26,
     "metadata": {},
     "output_type": "execute_result"
    }
   ],
   "source": [
    "get_response(TEXT, ft_index, modelFT, index_map)"
   ]
  },
  {
   "cell_type": "code",
   "execution_count": 30,
   "id": "c1d22b7e-b197-4466-864b-3f93369c02f4",
   "metadata": {},
   "outputs": [],
   "source": [
    "TEXT = \"Да, все-таки он немного похож на него. Но мой мальчик все равно лучше:D\""
   ]
  },
  {
   "cell_type": "code",
   "execution_count": 32,
   "id": "359f9c68-5ba5-42b6-83fd-83ff5389b52f",
   "metadata": {},
   "outputs": [
    {
     "data": {
      "text/plain": [
       "['\"с утра романтик, засевший глубоко среди извилин мозга, получил суровым кирпичом действительности по голове) и вас с добры\",positive\\n',\n",
       " '\"Кто круче - 1,2,3,4 ?) #Suri http://t.co/jZ0INfN4tx\",positive\\n',\n",
       " '\"И вот я сижу .. А он передо мной ..в трусах , а я засыпаю :D\",positive\\n',\n",
       " '\"время двенадцати нету, а я уже дома:)\\n',\n",
       " '\"Надеялась, что я добавлю ее в друзья,лохушка :D http://t.co/36k6ADyASA\",positive\\n']"
      ]
     },
     "execution_count": 32,
     "metadata": {},
     "output_type": "execute_result"
    }
   ],
   "source": [
    "get_response(TEXT, w2v_index, modelW2V, index_map)"
   ]
  },
  {
   "cell_type": "code",
   "execution_count": 31,
   "id": "a2702038-d743-4ed4-bc67-1652b8673711",
   "metadata": {},
   "outputs": [
    {
     "data": {
      "text/plain": [
       "['\"Надеялась, что я добавлю ее в друзья,лохушка :D http://t.co/36k6ADyASA\",positive\\n',\n",
       " ':(((\",negative\\n',\n",
       " '\"с утра романтик, засевший глубоко среди извилин мозга, получил суровым кирпичом действительности по голове) и вас с добры\",positive\\n',\n",
       " 'НАДОЕЛО!!!\",negative\\n',\n",
       " '\"RT : По телеку показывали \"\"Квартал-95\"\". Они пригласили Чайф! =)) Наконец-то догадались, что Киркоров и Моисеев не нужны. Вообщ\",positive\\n']"
      ]
     },
     "execution_count": 31,
     "metadata": {},
     "output_type": "execute_result"
    }
   ],
   "source": [
    "get_response(TEXT, ft_index, modelFT, index_map)"
   ]
  },
  {
   "cell_type": "code",
   "execution_count": null,
   "id": "669ee986-766a-47ce-baca-2b359620d234",
   "metadata": {},
   "outputs": [],
   "source": []
  }
 ],
 "metadata": {
  "kernelspec": {
   "display_name": "Python 3 (ipykernel)",
   "language": "python",
   "name": "python3"
  },
  "language_info": {
   "codemirror_mode": {
    "name": "ipython",
    "version": 3
   },
   "file_extension": ".py",
   "mimetype": "text/x-python",
   "name": "python",
   "nbconvert_exporter": "python",
   "pygments_lexer": "ipython3",
   "version": "3.8.13"
  }
 },
 "nbformat": 4,
 "nbformat_minor": 5
}
