{
  "cells": [
    {
      "cell_type": "markdown",
      "metadata": {
        "id": "view-in-github",
        "colab_type": "text"
      },
      "source": [
        "<a href=\"https://colab.research.google.com/github/dfridland/NLP/blob/HW13/NLP_DF_HW13_paraphrase.ipynb\" target=\"_parent\"><img src=\"https://colab.research.google.com/assets/colab-badge.svg\" alt=\"Open In Colab\"/></a>"
      ]
    },
    {
      "cell_type": "markdown",
      "id": "8ebee920",
      "metadata": {
        "id": "8ebee920"
      },
      "source": [
        "Задание\n",
        "Взять датасет https://huggingface.co/datasets/merionum/ru_paraphraser решить задачу парафраза\n",
        "(дополнительно необязательная задача)на выбор взять https://huggingface.co/datasets/sberquad https://huggingface.co/datasets/blinoff/medical_qa_ru_data натренировать любую модель для вопросно ответной системы как альтернатива можно взять любой NER датасет из https://github.com/natasha/corus#reference и обучить NER"
      ]
    },
    {
      "cell_type": "code",
      "execution_count": null,
      "id": "f3ba58c3",
      "metadata": {
        "id": "f3ba58c3"
      },
      "outputs": [],
      "source": [
        "#!pip install transformers sentencepiece"
      ]
    },
    {
      "cell_type": "code",
      "execution_count": null,
      "id": "2f9cc1da",
      "metadata": {
        "id": "2f9cc1da",
        "outputId": "fe25f94c-df0a-439e-a7f3-18da88c3edf6",
        "colab": {
          "referenced_widgets": [
            "1f89229e3ce64a9d86c8c8b142c79650"
          ]
        }
      },
      "outputs": [
        {
          "name": "stderr",
          "output_type": "stream",
          "text": [
            "Found cached dataset json (/Users/evamelissatasdemir/.cache/huggingface/datasets/merionum___json/merionum--ru_paraphraser-8471dca11b8f9d26/0.0.0/e347ab1c932092252e717ff3f949105a4dd28b27e842dd53157d2f72e276c2e4)\n"
          ]
        },
        {
          "data": {
            "application/vnd.jupyter.widget-view+json": {
              "model_id": "1f89229e3ce64a9d86c8c8b142c79650",
              "version_major": 2,
              "version_minor": 0
            },
            "text/plain": [
              "  0%|          | 0/1 [00:00<?, ?it/s]"
            ]
          },
          "metadata": {},
          "output_type": "display_data"
        }
      ],
      "source": [
        "from datasets import load_dataset\n",
        "\n",
        "corpus = load_dataset('merionum/ru_paraphraser', data_files='plus.jsonl')"
      ]
    },
    {
      "cell_type": "code",
      "execution_count": null,
      "id": "bdf0a1af",
      "metadata": {
        "id": "bdf0a1af",
        "outputId": "d9a5fed6-ec48-4813-a1b0-b7a7c8c00bbc"
      },
      "outputs": [
        {
          "data": {
            "text/plain": [
              "DatasetDict({\n",
              "    train: Dataset({\n",
              "        features: ['id', 'paraphrases'],\n",
              "        num_rows: 1725393\n",
              "    })\n",
              "})"
            ]
          },
          "execution_count": 6,
          "metadata": {},
          "output_type": "execute_result"
        }
      ],
      "source": [
        "corpus"
      ]
    },
    {
      "cell_type": "code",
      "execution_count": null,
      "id": "26d7ed85",
      "metadata": {
        "id": "26d7ed85",
        "outputId": "35d50721-9545-49ec-ede9-cdafa178645e"
      },
      "outputs": [
        {
          "data": {
            "text/plain": [
              "Dataset({\n",
              "    features: ['id', 'paraphrases'],\n",
              "    num_rows: 1725393\n",
              "})"
            ]
          },
          "execution_count": 7,
          "metadata": {},
          "output_type": "execute_result"
        }
      ],
      "source": [
        "corpus['train']"
      ]
    },
    {
      "cell_type": "code",
      "execution_count": null,
      "id": "b8642aa9",
      "metadata": {
        "id": "b8642aa9",
        "outputId": "e1b508d1-5920-4b55-da8d-ce738d545779"
      },
      "outputs": [
        {
          "data": {
            "text/plain": [
              "['В Индии 5 млн женщин выстроились стеной в 620 км ради равенства (Фото)',\n",
              " 'Индийские женщины выстроили живую стену длиной 620 километров, требуя равенства',\n",
              " 'В Индии женщины встали живой стеной длиной 620 км']"
            ]
          },
          "execution_count": 8,
          "metadata": {},
          "output_type": "execute_result"
        }
      ],
      "source": [
        "corpus['train']['paraphrases'][1]"
      ]
    },
    {
      "cell_type": "code",
      "execution_count": null,
      "id": "f34df020",
      "metadata": {
        "id": "f34df020",
        "outputId": "74a9fc88-b5c9-4317-f564-93928d14b910"
      },
      "outputs": [
        {
          "data": {
            "text/plain": [
              "'Индийские женщины выстроили живую стену длиной 620 километров, требуя равенства'"
            ]
          },
          "execution_count": 9,
          "metadata": {},
          "output_type": "execute_result"
        }
      ],
      "source": [
        "corpus['train']['paraphrases'][1][1]"
      ]
    },
    {
      "cell_type": "code",
      "execution_count": null,
      "id": "74d23056",
      "metadata": {
        "id": "74d23056"
      },
      "outputs": [],
      "source": [
        "import torch\n",
        "\n",
        "@property\n",
        "def device(self) -> torch.device:\n",
        "        if torch.cuda.is_available():\n",
        "            return torch.device(\"cuda\")\n",
        "        elif torch.backends.mps.is_available():\n",
        "            return torch.device(\"mps\")\n",
        "        else:\n",
        "\n",
        "            return torch.device(\"cpu\")"
      ]
    },
    {
      "cell_type": "code",
      "execution_count": null,
      "id": "e96a0ca1",
      "metadata": {
        "scrolled": true,
        "id": "e96a0ca1",
        "outputId": "7f23930a-caf5-4b71-e5a1-26ff3f75f649"
      },
      "outputs": [
        {
          "name": "stdout",
          "output_type": "stream",
          "text": [
            "Все охотники хотят знать где фазан сидит.\n"
          ]
        }
      ],
      "source": [
        "\n",
        "from transformers import T5ForConditionalGeneration, T5Tokenizer\n",
        "MODEL_NAME = 'cointegrated/rut5-base-paraphraser'\n",
        "model = T5ForConditionalGeneration.from_pretrained(MODEL_NAME)\n",
        "tokenizer = T5Tokenizer.from_pretrained(MODEL_NAME)\n",
        "model.to('mps');\n",
        "model.eval();\n",
        "\n",
        "\n",
        "\n",
        "def paraphrase(text, beams=5, grams=4, do_sample=False):\n",
        "    x = tokenizer(text, return_tensors='pt', padding=True).to(model.device)\n",
        "    max_size = int(x.input_ids.shape[1] * 1.5 + 10)\n",
        "    out = model.generate(**x, encoder_no_repeat_ngram_size=grams, num_beams=beams, max_length=max_size, do_sample=do_sample)\n",
        "    return tokenizer.decode(out[0], skip_special_tokens=True)\n",
        "\n",
        "print(paraphrase('Каждый охотник желает знать, где сидит фазан.'))"
      ]
    },
    {
      "cell_type": "code",
      "execution_count": null,
      "id": "7726efce",
      "metadata": {
        "id": "7726efce",
        "outputId": "3b71f1cf-9fbe-4828-9ee5-806f40e1b39d"
      },
      "outputs": [
        {
          "name": "stdout",
          "output_type": "stream",
          "text": [
            "['Сегодня на улице хорошая погода', 'Сегодня на улице отвратительная погода', 0.70562273, 0.29437733, 'non']\n",
            "['Сегодня на улице хорошая погода', 'Отличная погодка сегодня выдалась', 0.16524401, 0.83475596, 'paraphrase']\n"
          ]
        }
      ],
      "source": [
        "\n",
        "from transformers import AutoModelForSequenceClassification, BertTokenizer\n",
        "model_name = 'cointegrated/rubert-base-cased-dp-paraphrase-detection'\n",
        "\n",
        "model = AutoModelForSequenceClassification.from_pretrained(model_name)\n",
        "tokenizer = BertTokenizer.from_pretrained(model_name)\n",
        "\n",
        "def compare_texts(text1, text2):\n",
        "    batch = tokenizer(text1, text2, return_tensors='pt').to(model.device)\n",
        "    with torch.inference_mode():\n",
        "        proba = torch.softmax(model(**batch).logits, -1).cpu().numpy()\n",
        "\n",
        "    p = proba[0]  # p(non-paraphrase), p(paraphrase)\n",
        "    if p[1] > 0.5:\n",
        "        paraphrase = \"paraphrase\"\n",
        "    else:\n",
        "        paraphrase = \"non\"\n",
        "\n",
        "    return [text1, text2, p[0], p[1], paraphrase]\n",
        "\n",
        "\n",
        "print(compare_texts('Сегодня на улице хорошая погода', 'Сегодня на улице отвратительная погода'))\n",
        "\n",
        "print(compare_texts('Сегодня на улице хорошая погода', 'Отличная погодка сегодня выдалась'))\n"
      ]
    },
    {
      "cell_type": "code",
      "execution_count": null,
      "id": "3d7e05e7",
      "metadata": {
        "id": "3d7e05e7"
      },
      "outputs": [],
      "source": [
        "def compare(text1, text2):\n",
        "    \"\"\"  \"\"\"\n",
        "\n",
        "    batch = tokenizer(text1, text2, return_tensors='pt').to(model.device)\n",
        "    with torch.inference_mode():\n",
        "        proba = torch.softmax(model(**batch).logits, -1).cpu().numpy()\n",
        "\n",
        "    p = proba[0]  # p(non-paraphrase), p(paraphrase)\n",
        "    paraphrase = \"non\"\n",
        "\n",
        "    if p[1] > 0.5:\n",
        "        paraphrase = \"paraphrase\"\n",
        "\n",
        "    return [text1, text2, p[0], p[1], paraphrase]"
      ]
    },
    {
      "cell_type": "code",
      "execution_count": null,
      "id": "a5df043d",
      "metadata": {
        "id": "a5df043d"
      },
      "outputs": [],
      "source": [
        "import pandas as pd\n",
        "\n",
        "pd.set_option('display.max_colwidth', 100)"
      ]
    },
    {
      "cell_type": "code",
      "execution_count": null,
      "id": "6445d648",
      "metadata": {
        "id": "6445d648",
        "outputId": "43468f96-774e-420c-d320-0635788a9be5"
      },
      "outputs": [
        {
          "data": {
            "text/html": [
              "<div>\n",
              "<style scoped>\n",
              "    .dataframe tbody tr th:only-of-type {\n",
              "        vertical-align: middle;\n",
              "    }\n",
              "\n",
              "    .dataframe tbody tr th {\n",
              "        vertical-align: top;\n",
              "    }\n",
              "\n",
              "    .dataframe thead th {\n",
              "        text-align: right;\n",
              "    }\n",
              "</style>\n",
              "<table border=\"1\" class=\"dataframe\">\n",
              "  <thead>\n",
              "    <tr style=\"text-align: right;\">\n",
              "      <th></th>\n",
              "      <th>текст1</th>\n",
              "      <th>текст2</th>\n",
              "      <th>вероятность non-paraphrase</th>\n",
              "      <th>вероятность paraphrase</th>\n",
              "      <th>paraphrase</th>\n",
              "    </tr>\n",
              "  </thead>\n",
              "  <tbody>\n",
              "    <tr>\n",
              "      <th>0</th>\n",
              "      <td>Сегодня на улице хорошая погода</td>\n",
              "      <td>Сегодня на улице отвратительная погода</td>\n",
              "      <td>0.705623</td>\n",
              "      <td>0.294377</td>\n",
              "      <td>non</td>\n",
              "    </tr>\n",
              "    <tr>\n",
              "      <th>1</th>\n",
              "      <td>Цены на нефть восстанавливаются</td>\n",
              "      <td>Парламент Словакии поблагодарил народы</td>\n",
              "      <td>0.944955</td>\n",
              "      <td>0.055045</td>\n",
              "      <td>non</td>\n",
              "    </tr>\n",
              "    <tr>\n",
              "      <th>2</th>\n",
              "      <td>Сегодня на улице хорошая погода</td>\n",
              "      <td>Сегодня на улице прекрасная погода</td>\n",
              "      <td>0.035242</td>\n",
              "      <td>0.964758</td>\n",
              "      <td>paraphrase</td>\n",
              "    </tr>\n",
              "    <tr>\n",
              "      <th>3</th>\n",
              "      <td>Птичий праздник: Что такое \"куриное рождество\" и кто его отмечает</td>\n",
              "      <td>Куриное Рождество в 2019 году: что это за праздник и как стать его главным героем</td>\n",
              "      <td>0.157878</td>\n",
              "      <td>0.842122</td>\n",
              "      <td>paraphrase</td>\n",
              "    </tr>\n",
              "    <tr>\n",
              "      <th>4</th>\n",
              "      <td>В Индии 5 млн женщин выстроились стеной в 620 км ради равенства (Фото)</td>\n",
              "      <td>Индийские женщины выстроили живую стену длиной 620 километров, требуя равенства</td>\n",
              "      <td>0.018209</td>\n",
              "      <td>0.981791</td>\n",
              "      <td>paraphrase</td>\n",
              "    </tr>\n",
              "    <tr>\n",
              "      <th>5</th>\n",
              "      <td>Томас Бах: \"Олимпийский комитет России понес достаточное наказание\"</td>\n",
              "      <td>Президент МОК Бах: Россия уже достаточно наказана за допинг</td>\n",
              "      <td>0.028516</td>\n",
              "      <td>0.971484</td>\n",
              "      <td>paraphrase</td>\n",
              "    </tr>\n",
              "    <tr>\n",
              "      <th>6</th>\n",
              "      <td>Россия не представила WADA данные по пробам в срок и может быть наказана</td>\n",
              "      <td>WADA: Россия не предоставила нам доступ к допинг-пробам</td>\n",
              "      <td>0.058580</td>\n",
              "      <td>0.941420</td>\n",
              "      <td>paraphrase</td>\n",
              "    </tr>\n",
              "    <tr>\n",
              "      <th>7</th>\n",
              "      <td>Антидопинговое агентство США призвало ВАДА отстранить российских спортсменов от соревнований</td>\n",
              "      <td>Комиссия спортсменов WADA потребовала отстранить РУСАДА</td>\n",
              "      <td>0.428032</td>\n",
              "      <td>0.571968</td>\n",
              "      <td>paraphrase</td>\n",
              "    </tr>\n",
              "  </tbody>\n",
              "</table>\n",
              "</div>"
            ],
            "text/plain": [
              "                                                                                         текст1   \n",
              "0                                                               Сегодня на улице хорошая погода  \\\n",
              "1                                                               Цены на нефть восстанавливаются   \n",
              "2                                                               Сегодня на улице хорошая погода   \n",
              "3                             Птичий праздник: Что такое \"куриное рождество\" и кто его отмечает   \n",
              "4                        В Индии 5 млн женщин выстроились стеной в 620 км ради равенства (Фото)   \n",
              "5                           Томас Бах: \"Олимпийский комитет России понес достаточное наказание\"   \n",
              "6                      Россия не представила WADA данные по пробам в срок и может быть наказана   \n",
              "7  Антидопинговое агентство США призвало ВАДА отстранить российских спортсменов от соревнований   \n",
              "\n",
              "                                                                              текст2   \n",
              "0                                             Сегодня на улице отвратительная погода  \\\n",
              "1                                             Парламент Словакии поблагодарил народы   \n",
              "2                                                 Сегодня на улице прекрасная погода   \n",
              "3  Куриное Рождество в 2019 году: что это за праздник и как стать его главным героем   \n",
              "4    Индийские женщины выстроили живую стену длиной 620 километров, требуя равенства   \n",
              "5                        Президент МОК Бах: Россия уже достаточно наказана за допинг   \n",
              "6                            WADA: Россия не предоставила нам доступ к допинг-пробам   \n",
              "7                            Комиссия спортсменов WADA потребовала отстранить РУСАДА   \n",
              "\n",
              "   вероятность non-paraphrase  вероятность paraphrase  paraphrase  \n",
              "0                    0.705623                0.294377         non  \n",
              "1                    0.944955                0.055045         non  \n",
              "2                    0.035242                0.964758  paraphrase  \n",
              "3                    0.157878                0.842122  paraphrase  \n",
              "4                    0.018209                0.981791  paraphrase  \n",
              "5                    0.028516                0.971484  paraphrase  \n",
              "6                    0.058580                0.941420  paraphrase  \n",
              "7                    0.428032                0.571968  paraphrase  "
            ]
          },
          "execution_count": 15,
          "metadata": {},
          "output_type": "execute_result"
        }
      ],
      "source": [
        "result = []\n",
        "\n",
        "result.append(compare('Сегодня на улице хорошая погода', 'Сегодня на улице отвратительная погода'))\n",
        "result.append(compare('Цены на нефть восстанавливаются', 'Парламент Словакии поблагодарил народы'))\n",
        "result.append(compare('Сегодня на улице хорошая погода', 'Сегодня на улице прекрасная погода'))\n",
        "n=5\n",
        "for i in range(n):\n",
        "  text1 = corpus['train']['paraphrases'][i][0]\n",
        "  text2 =corpus['train']['paraphrases'][i][1]\n",
        "  result.append(compare(text1, text2))\n",
        "\n",
        "\n",
        "\n",
        "col_names =  ['текст1', 'текст2', 'вероятность non-paraphrase', 'вероятность paraphrase', 'paraphrase']\n",
        "df = pd.DataFrame(result, columns=col_names)\n",
        "df.head(10)"
      ]
    }
  ],
  "metadata": {
    "kernelspec": {
      "display_name": "Python 3 (ipykernel)",
      "language": "python",
      "name": "python3"
    },
    "language_info": {
      "codemirror_mode": {
        "name": "ipython",
        "version": 3
      },
      "file_extension": ".py",
      "mimetype": "text/x-python",
      "name": "python",
      "nbconvert_exporter": "python",
      "pygments_lexer": "ipython3",
      "version": "3.10.10"
    },
    "colab": {
      "provenance": [],
      "include_colab_link": true
    }
  },
  "nbformat": 4,
  "nbformat_minor": 5
}