{
  "cells": [
    {
      "cell_type": "markdown",
      "metadata": {
        "id": "view-in-github",
        "colab_type": "text"
      },
      "source": [
        "<a href=\"https://colab.research.google.com/github/dfridland/NLP/blob/HW1/HW1exipynb.ipynb\" target=\"_parent\"><img src=\"https://colab.research.google.com/assets/colab-badge.svg\" alt=\"Open In Colab\"/></a>"
      ]
    },
    {
      "cell_type": "markdown",
      "id": "58842e70",
      "metadata": {
        "id": "58842e70"
      },
      "source": [
        "Формат именования файла домашней работы: FIO_NLP_HW_N.ipynb, где N - номер домашнего задания\n",
        "\n",
        "**\n",
        "\n",
        "Осуществим предобработку данных с Твиттера, чтобы отчищенный данные в дальнейшем использовать для задачи классификации. Данный датасет содержит негативные (label = 1) и нейтральные (label = 0) высказывания.\n",
        "Для работы объединим train_df и test_df.\n",
        "\n",
        "Задания:\n",
        "\n",
        "1) Удалим @user из всех твитов с помощью паттерна \"@[\\w]*\". Для этого создадим функцию:\n",
        "- для того, чтобы найти все вхождения паттерна в тексте, необходимо использовать re.findall(pattern, input_txt)\n",
        "- для для замены @user на пробел, необходимо использовать re.sub()\n",
        "\n",
        "2) Изменим регистр твитов на нижний с помощью .lower().\n",
        "\n",
        "3) Заменим сокращения с апострофами (пример: ain't, can't) на пробел, используя apostrophe_dict. Для этого необходимо сделать функцию: для каждого слова в тексте проверить (for word in text.split()), если слово есть в словаре apostrophe_dict в качестве ключа (сокращенного слова), то заменить ключ на значение (полную версию слова).\n",
        "\n",
        "4) Заменим сокращения на их полные формы, используя short_word_dict. Для этого воспользуемся функцией, используемой в предыдущем пункте.\n",
        "\n",
        "5) Заменим эмотиконы (пример: \":)\" = \"happy\") на пробелы, используя emoticon_dict. Для этого воспользуемся функцией, используемой в предыдущем пункте.\n",
        "\n",
        "6) Заменим пунктуацию на пробелы, используя re.sub() и паттерн r'[^\\w\\s]'.\n",
        "\n",
        "7) Заменим спец. символы на пробелы, используя re.sub() и паттерн r'[^a-zA-Z0-9]'.\n",
        "\n",
        "8) Заменим числа на пробелы, используя re.sub() и паттерн r'[^a-zA-Z]'.\n",
        "\n",
        "9) Удалим из текста слова длиной в 1 символ, используя ' '.join([w for w in x.split() if len(w)>1]).\n",
        "\n",
        "10) Поделим твиты на токены с помощью nltk.tokenize.word_tokenize, создав новый столбец 'tweet_token'.\n",
        "\n",
        "11) Удалим стоп-слова из токенов, используя nltk.corpus.stopwords. Создадим столбец 'tweet_token_filtered' без стоп-слов.\n",
        "\n",
        "12) Применим стемминг к токенам с помощью nltk.stem.PorterStemmer. Создадим столбец 'tweet_stemmed' после применения стемминга.\n",
        "\n",
        "13) Применим лемматизацию к токенам с помощью nltk.stem.wordnet.WordNetLemmatizer. Создадим столбец 'tweet_lemmatized' после применения лемматизации.\n",
        "\n",
        "14) Сохраним результат предобработки в pickle-файл."
      ]
    },
    {
      "cell_type": "code",
      "execution_count": null,
      "id": "570c7e4d",
      "metadata": {
        "id": "570c7e4d"
      },
      "outputs": [],
      "source": [
        "import numpy as np\n",
        "import pandas as pd\n",
        "import re\n",
        "import matplotlib.pyplot as plt\n",
        "import seaborn as sns\n",
        "import html\n",
        "import nltk\n",
        "import warnings \n",
        "warnings.filterwarnings(\"ignore\", category=DeprecationWarning)\n",
        "import pickle"
      ]
    },
    {
      "cell_type": "code",
      "execution_count": null,
      "id": "c186e881",
      "metadata": {
        "id": "c186e881",
        "outputId": "f4dd70ec-8350-4155-c802-4952825c627e"
      },
      "outputs": [
        {
          "data": {
            "text/html": [
              "<div>\n",
              "<style scoped>\n",
              "    .dataframe tbody tr th:only-of-type {\n",
              "        vertical-align: middle;\n",
              "    }\n",
              "\n",
              "    .dataframe tbody tr th {\n",
              "        vertical-align: top;\n",
              "    }\n",
              "\n",
              "    .dataframe thead th {\n",
              "        text-align: right;\n",
              "    }\n",
              "</style>\n",
              "<table border=\"1\" class=\"dataframe\">\n",
              "  <thead>\n",
              "    <tr style=\"text-align: right;\">\n",
              "      <th></th>\n",
              "      <th>id</th>\n",
              "      <th>label</th>\n",
              "      <th>tweet</th>\n",
              "    </tr>\n",
              "  </thead>\n",
              "  <tbody>\n",
              "    <tr>\n",
              "      <th>0</th>\n",
              "      <td>1</td>\n",
              "      <td>0</td>\n",
              "      <td>@user when a father is dysfunctional and is s...</td>\n",
              "    </tr>\n",
              "    <tr>\n",
              "      <th>1</th>\n",
              "      <td>2</td>\n",
              "      <td>0</td>\n",
              "      <td>@user @user thanks for #lyft credit i can't us...</td>\n",
              "    </tr>\n",
              "    <tr>\n",
              "      <th>2</th>\n",
              "      <td>3</td>\n",
              "      <td>0</td>\n",
              "      <td>bihday your majesty</td>\n",
              "    </tr>\n",
              "    <tr>\n",
              "      <th>3</th>\n",
              "      <td>4</td>\n",
              "      <td>0</td>\n",
              "      <td>#model   i love u take with u all the time in ...</td>\n",
              "    </tr>\n",
              "    <tr>\n",
              "      <th>4</th>\n",
              "      <td>5</td>\n",
              "      <td>0</td>\n",
              "      <td>factsguide: society now    #motivation</td>\n",
              "    </tr>\n",
              "  </tbody>\n",
              "</table>\n",
              "</div>"
            ],
            "text/plain": [
              "   id  label                                              tweet\n",
              "0   1      0   @user when a father is dysfunctional and is s...\n",
              "1   2      0  @user @user thanks for #lyft credit i can't us...\n",
              "2   3      0                                bihday your majesty\n",
              "3   4      0  #model   i love u take with u all the time in ...\n",
              "4   5      0             factsguide: society now    #motivation"
            ]
          },
          "execution_count": 3,
          "metadata": {},
          "output_type": "execute_result"
        }
      ],
      "source": [
        "train_df = pd.read_csv('./train_tweets.csv')\n",
        "train_df.head()"
      ]
    },
    {
      "cell_type": "code",
      "execution_count": null,
      "id": "6362f467",
      "metadata": {
        "id": "6362f467",
        "outputId": "19a7855a-c232-41b6-97bc-34056e123ef5"
      },
      "outputs": [
        {
          "data": {
            "text/html": [
              "<div>\n",
              "<style scoped>\n",
              "    .dataframe tbody tr th:only-of-type {\n",
              "        vertical-align: middle;\n",
              "    }\n",
              "\n",
              "    .dataframe tbody tr th {\n",
              "        vertical-align: top;\n",
              "    }\n",
              "\n",
              "    .dataframe thead th {\n",
              "        text-align: right;\n",
              "    }\n",
              "</style>\n",
              "<table border=\"1\" class=\"dataframe\">\n",
              "  <thead>\n",
              "    <tr style=\"text-align: right;\">\n",
              "      <th></th>\n",
              "      <th>id</th>\n",
              "      <th>tweet</th>\n",
              "    </tr>\n",
              "  </thead>\n",
              "  <tbody>\n",
              "    <tr>\n",
              "      <th>0</th>\n",
              "      <td>31963</td>\n",
              "      <td>#studiolife #aislife #requires #passion #dedic...</td>\n",
              "    </tr>\n",
              "    <tr>\n",
              "      <th>1</th>\n",
              "      <td>31964</td>\n",
              "      <td>@user #white #supremacists want everyone to s...</td>\n",
              "    </tr>\n",
              "    <tr>\n",
              "      <th>2</th>\n",
              "      <td>31965</td>\n",
              "      <td>safe ways to heal your #acne!!    #altwaystohe...</td>\n",
              "    </tr>\n",
              "    <tr>\n",
              "      <th>3</th>\n",
              "      <td>31966</td>\n",
              "      <td>is the hp and the cursed child book up for res...</td>\n",
              "    </tr>\n",
              "    <tr>\n",
              "      <th>4</th>\n",
              "      <td>31967</td>\n",
              "      <td>3rd #bihday to my amazing, hilarious #nephew...</td>\n",
              "    </tr>\n",
              "  </tbody>\n",
              "</table>\n",
              "</div>"
            ],
            "text/plain": [
              "      id                                              tweet\n",
              "0  31963  #studiolife #aislife #requires #passion #dedic...\n",
              "1  31964   @user #white #supremacists want everyone to s...\n",
              "2  31965  safe ways to heal your #acne!!    #altwaystohe...\n",
              "3  31966  is the hp and the cursed child book up for res...\n",
              "4  31967    3rd #bihday to my amazing, hilarious #nephew..."
            ]
          },
          "execution_count": 4,
          "metadata": {},
          "output_type": "execute_result"
        }
      ],
      "source": [
        "test_df = pd.read_csv('./test_tweets.csv')\n",
        "test_df.head()"
      ]
    },
    {
      "cell_type": "code",
      "execution_count": null,
      "id": "7609d27f",
      "metadata": {
        "id": "7609d27f",
        "outputId": "9f993e80-6668-46bb-c70b-5f662ed0e7e6"
      },
      "outputs": [
        {
          "data": {
            "text/html": [
              "<div>\n",
              "<style scoped>\n",
              "    .dataframe tbody tr th:only-of-type {\n",
              "        vertical-align: middle;\n",
              "    }\n",
              "\n",
              "    .dataframe tbody tr th {\n",
              "        vertical-align: top;\n",
              "    }\n",
              "\n",
              "    .dataframe thead th {\n",
              "        text-align: right;\n",
              "    }\n",
              "</style>\n",
              "<table border=\"1\" class=\"dataframe\">\n",
              "  <thead>\n",
              "    <tr style=\"text-align: right;\">\n",
              "      <th></th>\n",
              "      <th>id</th>\n",
              "      <th>label</th>\n",
              "      <th>tweet</th>\n",
              "    </tr>\n",
              "  </thead>\n",
              "  <tbody>\n",
              "    <tr>\n",
              "      <th>0</th>\n",
              "      <td>1</td>\n",
              "      <td>0.0</td>\n",
              "      <td>@user when a father is dysfunctional and is s...</td>\n",
              "    </tr>\n",
              "    <tr>\n",
              "      <th>1</th>\n",
              "      <td>2</td>\n",
              "      <td>0.0</td>\n",
              "      <td>@user @user thanks for #lyft credit i can't us...</td>\n",
              "    </tr>\n",
              "    <tr>\n",
              "      <th>2</th>\n",
              "      <td>3</td>\n",
              "      <td>0.0</td>\n",
              "      <td>bihday your majesty</td>\n",
              "    </tr>\n",
              "    <tr>\n",
              "      <th>3</th>\n",
              "      <td>4</td>\n",
              "      <td>0.0</td>\n",
              "      <td>#model   i love u take with u all the time in ...</td>\n",
              "    </tr>\n",
              "    <tr>\n",
              "      <th>4</th>\n",
              "      <td>5</td>\n",
              "      <td>0.0</td>\n",
              "      <td>factsguide: society now    #motivation</td>\n",
              "    </tr>\n",
              "  </tbody>\n",
              "</table>\n",
              "</div>"
            ],
            "text/plain": [
              "   id  label                                              tweet\n",
              "0   1    0.0   @user when a father is dysfunctional and is s...\n",
              "1   2    0.0  @user @user thanks for #lyft credit i can't us...\n",
              "2   3    0.0                                bihday your majesty\n",
              "3   4    0.0  #model   i love u take with u all the time in ...\n",
              "4   5    0.0             factsguide: society now    #motivation"
            ]
          },
          "execution_count": 5,
          "metadata": {},
          "output_type": "execute_result"
        }
      ],
      "source": [
        "combine_df = train_df.append(test_df, ignore_index = True, sort = False)\n",
        "combine_df.head()"
      ]
    },
    {
      "cell_type": "code",
      "execution_count": null,
      "id": "178e0089",
      "metadata": {
        "scrolled": true,
        "id": "178e0089",
        "outputId": "a92eb115-2600-488f-c0d6-ac7503d211fa"
      },
      "outputs": [
        {
          "name": "stdout",
          "output_type": "stream",
          "text": [
            "<class 'pandas.core.frame.DataFrame'>\n",
            "RangeIndex: 49159 entries, 0 to 49158\n",
            "Data columns (total 3 columns):\n",
            " #   Column  Non-Null Count  Dtype  \n",
            "---  ------  --------------  -----  \n",
            " 0   id      49159 non-null  int64  \n",
            " 1   label   31962 non-null  float64\n",
            " 2   tweet   49159 non-null  object \n",
            "dtypes: float64(1), int64(1), object(1)\n",
            "memory usage: 1.1+ MB\n",
            "None\n"
          ]
        }
      ],
      "source": [
        "print(combine_df.info())"
      ]
    },
    {
      "cell_type": "markdown",
      "id": "c9b8e3a6",
      "metadata": {
        "id": "c9b8e3a6"
      },
      "source": [
        "***1) Удалим @user из всех твитов с помощью паттерна \"@[\\w]*\". Для этого создадим функцию:***\n",
        "***- для того, чтобы найти все вхождения паттерна в тексте, необходимо использовать re.findall(pattern, input_txt)***\n",
        "***- для для замены @user на пробел, необходимо использовать re.sub()***"
      ]
    },
    {
      "cell_type": "code",
      "execution_count": null,
      "id": "79ba7a95",
      "metadata": {
        "id": "79ba7a95"
      },
      "outputs": [],
      "source": [
        "def reg_sub(x, pattern, sub_to = ''):\n",
        "    regs = re.findall(pattern, x)\n",
        "    for reg in regs:\n",
        "        x = re.sub(reg, sub_to, x).strip()\n",
        "    return x\n",
        "\n",
        "x = np.vectorize(reg_sub)\n",
        "\n",
        "combine_df['clean_tweet'] = x(combine_df['tweet'], \"@[\\w]*\")"
      ]
    },
    {
      "cell_type": "code",
      "execution_count": null,
      "id": "c3151ee0",
      "metadata": {
        "id": "c3151ee0",
        "outputId": "9c36d8dc-06e8-4c7c-e85e-2b303716dc04"
      },
      "outputs": [
        {
          "data": {
            "text/html": [
              "<div>\n",
              "<style scoped>\n",
              "    .dataframe tbody tr th:only-of-type {\n",
              "        vertical-align: middle;\n",
              "    }\n",
              "\n",
              "    .dataframe tbody tr th {\n",
              "        vertical-align: top;\n",
              "    }\n",
              "\n",
              "    .dataframe thead th {\n",
              "        text-align: right;\n",
              "    }\n",
              "</style>\n",
              "<table border=\"1\" class=\"dataframe\">\n",
              "  <thead>\n",
              "    <tr style=\"text-align: right;\">\n",
              "      <th></th>\n",
              "      <th>id</th>\n",
              "      <th>label</th>\n",
              "      <th>tweet</th>\n",
              "      <th>clean_tweet</th>\n",
              "    </tr>\n",
              "  </thead>\n",
              "  <tbody>\n",
              "    <tr>\n",
              "      <th>0</th>\n",
              "      <td>1</td>\n",
              "      <td>0.0</td>\n",
              "      <td>@user when a father is dysfunctional and is s...</td>\n",
              "      <td>when a father is dysfunctional and is so selfi...</td>\n",
              "    </tr>\n",
              "    <tr>\n",
              "      <th>1</th>\n",
              "      <td>2</td>\n",
              "      <td>0.0</td>\n",
              "      <td>@user @user thanks for #lyft credit i can't us...</td>\n",
              "      <td>thanks for #lyft credit i can't use cause they...</td>\n",
              "    </tr>\n",
              "    <tr>\n",
              "      <th>2</th>\n",
              "      <td>3</td>\n",
              "      <td>0.0</td>\n",
              "      <td>bihday your majesty</td>\n",
              "      <td>bihday your majesty</td>\n",
              "    </tr>\n",
              "    <tr>\n",
              "      <th>3</th>\n",
              "      <td>4</td>\n",
              "      <td>0.0</td>\n",
              "      <td>#model   i love u take with u all the time in ...</td>\n",
              "      <td>#model   i love u take with u all the time in ...</td>\n",
              "    </tr>\n",
              "    <tr>\n",
              "      <th>4</th>\n",
              "      <td>5</td>\n",
              "      <td>0.0</td>\n",
              "      <td>factsguide: society now    #motivation</td>\n",
              "      <td>factsguide: society now    #motivation</td>\n",
              "    </tr>\n",
              "  </tbody>\n",
              "</table>\n",
              "</div>"
            ],
            "text/plain": [
              "   id  label                                              tweet  \\\n",
              "0   1    0.0   @user when a father is dysfunctional and is s...   \n",
              "1   2    0.0  @user @user thanks for #lyft credit i can't us...   \n",
              "2   3    0.0                                bihday your majesty   \n",
              "3   4    0.0  #model   i love u take with u all the time in ...   \n",
              "4   5    0.0             factsguide: society now    #motivation   \n",
              "\n",
              "                                         clean_tweet  \n",
              "0  when a father is dysfunctional and is so selfi...  \n",
              "1  thanks for #lyft credit i can't use cause they...  \n",
              "2                                bihday your majesty  \n",
              "3  #model   i love u take with u all the time in ...  \n",
              "4             factsguide: society now    #motivation  "
            ]
          },
          "execution_count": 8,
          "metadata": {},
          "output_type": "execute_result"
        }
      ],
      "source": [
        "combine_df.head()"
      ]
    },
    {
      "cell_type": "markdown",
      "id": "be7ec559",
      "metadata": {
        "id": "be7ec559"
      },
      "source": [
        "***2) Изменим регистр твитов на нижний с помощью .lower().***"
      ]
    },
    {
      "cell_type": "code",
      "execution_count": null,
      "id": "1f465d29",
      "metadata": {
        "id": "1f465d29"
      },
      "outputs": [],
      "source": [
        "combine_df['clean_tweet'] = combine_df['clean_tweet'].str.lower()"
      ]
    },
    {
      "cell_type": "markdown",
      "id": "35873915",
      "metadata": {
        "id": "35873915"
      },
      "source": [
        "***3) Заменим сокращения с апострофами (пример: ain't, can't) на пробел, используя apostrophe_dict. Для этого необходимо сделать функцию: для каждого слова в тексте проверить (for word in text.split()), если слово есть в словаре apostrophe_dict в качестве ключа (сокращенного слова), то заменить ключ на значение (полную версию слова).***"
      ]
    },
    {
      "cell_type": "code",
      "execution_count": null,
      "id": "34dc9e6f",
      "metadata": {
        "id": "34dc9e6f"
      },
      "outputs": [],
      "source": [
        "apostrophe_dict = {\n",
        "\"ain't\": \"am not / are not\",\n",
        "\"aren't\": \"are not / am not\",\n",
        "\"can't\": \"cannot\",\n",
        "\"can't've\": \"cannot have\",\n",
        "\"'cause\": \"because\",\n",
        "\"could've\": \"could have\",\n",
        "\"couldn't\": \"could not\",\n",
        "\"couldn't've\": \"could not have\",\n",
        "\"didn't\": \"did not\",\n",
        "\"doesn't\": \"does not\",\n",
        "\"don't\": \"do not\",\n",
        "\"hadn't\": \"had not\",\n",
        "\"hadn't've\": \"had not have\",\n",
        "\"hasn't\": \"has not\",\n",
        "\"haven't\": \"have not\",\n",
        "\"he'd\": \"he had / he would\",\n",
        "\"he'd've\": \"he would have\",\n",
        "\"he'll\": \"he shall / he will\",\n",
        "\"he'll've\": \"he shall have / he will have\",\n",
        "\"he's\": \"he has / he is\",\n",
        "\"how'd\": \"how did\",\n",
        "\"how'd'y\": \"how do you\",\n",
        "\"how'll\": \"how will\",\n",
        "\"how's\": \"how has / how is\",\n",
        "\"i'd\": \"I had / I would\",\n",
        "\"i'd've\": \"I would have\",\n",
        "\"i'll\": \"I shall / I will\",\n",
        "\"i'll've\": \"I shall have / I will have\",\n",
        "\"i'm\": \"I am\",\n",
        "\"i've\": \"I have\",\n",
        "\"isn't\": \"is not\",\n",
        "\"it'd\": \"it had / it would\",\n",
        "\"it'd've\": \"it would have\",\n",
        "\"it'll\": \"it shall / it will\",\n",
        "\"it'll've\": \"it shall have / it will have\",\n",
        "\"it's\": \"it has / it is\",\n",
        "\"let's\": \"let us\",\n",
        "\"ma'am\": \"madam\",\n",
        "\"mayn't\": \"may not\",\n",
        "\"might've\": \"might have\",\n",
        "\"mightn't\": \"might not\",\n",
        "\"mightn't've\": \"might not have\",\n",
        "\"must've\": \"must have\",\n",
        "\"mustn't\": \"must not\",\n",
        "\"mustn't've\": \"must not have\",\n",
        "\"needn't\": \"need not\",\n",
        "\"needn't've\": \"need not have\",\n",
        "\"o'clock\": \"of the clock\",\n",
        "\"oughtn't\": \"ought not\",\n",
        "\"oughtn't've\": \"ought not have\",\n",
        "\"shan't\": \"shall not\",\n",
        "\"sha'n't\": \"shall not\",\n",
        "\"shan't've\": \"shall not have\",\n",
        "\"she'd\": \"she had / she would\",\n",
        "\"she'd've\": \"she would have\",\n",
        "\"she'll\": \"she shall / she will\",\n",
        "\"she'll've\": \"she shall have / she will have\",\n",
        "\"she's\": \"she has / she is\",\n",
        "\"should've\": \"should have\",\n",
        "\"shouldn't\": \"should not\",\n",
        "\"shouldn't've\": \"should not have\",\n",
        "\"so've\": \"so have\",\n",
        "\"so's\": \"so as / so is\",\n",
        "\"that'd\": \"that would / that had\",\n",
        "\"that'd've\": \"that would have\",\n",
        "\"that's\": \"that has / that is\",\n",
        "\"there'd\": \"there had / there would\",\n",
        "\"there'd've\": \"there would have\",\n",
        "\"there's\": \"there has / there is\",\n",
        "\"they'd\": \"they had / they would\",\n",
        "\"they'd've\": \"they would have\",\n",
        "\"they'll\": \"they shall / they will\",\n",
        "\"they'll've\": \"they shall have / they will have\",\n",
        "\"they're\": \"they are\",\n",
        "\"they've\": \"they have\",\n",
        "\"to've\": \"to have\",\n",
        "\"wasn't\": \"was not\",\n",
        "\"we'd\": \"we had / we would\",\n",
        "\"we'd've\": \"we would have\",\n",
        "\"we'll\": \"we will\",\n",
        "\"we'll've\": \"we will have\",\n",
        "\"we're\": \"we are\",\n",
        "\"we've\": \"we have\",\n",
        "\"weren't\": \"were not\",\n",
        "\"what'll\": \"what shall / what will\",\n",
        "\"what'll've\": \"what shall have / what will have\",\n",
        "\"what're\": \"what are\",\n",
        "\"what's\": \"what has / what is\",\n",
        "\"what've\": \"what have\",\n",
        "\"when's\": \"when has / when is\",\n",
        "\"when've\": \"when have\",\n",
        "\"where'd\": \"where did\",\n",
        "\"where's\": \"where has / where is\",\n",
        "\"where've\": \"where have\",\n",
        "\"who'll\": \"who shall / who will\",\n",
        "\"who'll've\": \"who shall have / who will have\",\n",
        "\"who's\": \"who has / who is\",\n",
        "\"who've\": \"who have\",\n",
        "\"why's\": \"why has / why is\",\n",
        "\"why've\": \"why have\",\n",
        "\"will've\": \"will have\",\n",
        "\"won't\": \"will not\",\n",
        "\"won't've\": \"will not have\",\n",
        "\"would've\": \"would have\",\n",
        "\"wouldn't\": \"would not\",\n",
        "\"wouldn't've\": \"would not have\",\n",
        "\"y'all\": \"you all\",\n",
        "\"y'all'd\": \"you all would\",\n",
        "\"y'all'd've\": \"you all would have\",\n",
        "\"y'all're\": \"you all are\",\n",
        "\"y'all've\": \"you all have\",\n",
        "\"you'd\": \"you had / you would\",\n",
        "\"you'd've\": \"you would have\",\n",
        "\"you'll\": \"you shall / you will\",\n",
        "\"you'll've\": \"you shall have / you will have\",\n",
        "\"you're\": \"you are\",\n",
        "\"you've\": \"you have\"\n",
        "}\n",
        "\n",
        "\n",
        "\n",
        "short_word_dict = {\n",
        "\"121\": \"one to one\",\n",
        "\"a/s/l\": \"age, sex, location\",\n",
        "\"adn\": \"any day now\",\n",
        "\"afaik\": \"as far as I know\",\n",
        "\"afk\": \"away from keyboard\",\n",
        "\"aight\": \"alright\",\n",
        "\"alol\": \"actually laughing out loud\",\n",
        "\"b4\": \"before\",\n",
        "\"b4n\": \"bye for now\",\n",
        "\"bak\": \"back at the keyboard\",\n",
        "\"bf\": \"boyfriend\",\n",
        "\"bff\": \"best friends forever\",\n",
        "\"bfn\": \"bye for now\",\n",
        "\"bg\": \"big grin\",\n",
        "\"bta\": \"but then again\",\n",
        "\"btw\": \"by the way\",\n",
        "\"cid\": \"crying in disgrace\",\n",
        "\"cnp\": \"continued in my next post\",\n",
        "\"cp\": \"chat post\",\n",
        "\"cu\": \"see you\",\n",
        "\"cul\": \"see you later\",\n",
        "\"cul8r\": \"see you later\",\n",
        "\"cya\": \"bye\",\n",
        "\"cyo\": \"see you online\",\n",
        "\"dbau\": \"doing business as usual\",\n",
        "\"fud\": \"fear, uncertainty, and doubt\",\n",
        "\"fwiw\": \"for what it's worth\",\n",
        "\"fyi\": \"for your information\",\n",
        "\"g\": \"grin\",\n",
        "\"g2g\": \"got to go\",\n",
        "\"ga\": \"go ahead\",\n",
        "\"gal\": \"get a life\",\n",
        "\"gf\": \"girlfriend\",\n",
        "\"gfn\": \"gone for now\",\n",
        "\"gmbo\": \"giggling my butt off\",\n",
        "\"gmta\": \"great minds think alike\",\n",
        "\"h8\": \"hate\",\n",
        "\"hagn\": \"have a good night\",\n",
        "\"hdop\": \"help delete online predators\",\n",
        "\"hhis\": \"hanging head in shame\",\n",
        "\"iac\": \"in any case\",\n",
        "\"ianal\": \"I am not a lawyer\",\n",
        "\"ic\": \"I see\",\n",
        "\"idk\": \"I don't know\",\n",
        "\"imao\": \"in my arrogant opinion\",\n",
        "\"imnsho\": \"in my not so humble opinion\",\n",
        "\"imo\": \"in my opinion\",\n",
        "\"iow\": \"in other words\",\n",
        "\"ipn\": \"I’m posting naked\",\n",
        "\"irl\": \"in real life\",\n",
        "\"jk\": \"just kidding\",\n",
        "\"l8r\": \"later\",\n",
        "\"ld\": \"later, dude\",\n",
        "\"ldr\": \"long distance relationship\",\n",
        "\"llta\": \"lots and lots of thunderous applause\",\n",
        "\"lmao\": \"laugh my ass off\",\n",
        "\"lmirl\": \"let's meet in real life\",\n",
        "\"lol\": \"laugh out loud\",\n",
        "\"ltr\": \"longterm relationship\",\n",
        "\"lulab\": \"love you like a brother\",\n",
        "\"lulas\": \"love you like a sister\",\n",
        "\"luv\": \"love\",\n",
        "\"m/f\": \"male or female\",\n",
        "\"m8\": \"mate\",\n",
        "\"milf\": \"mother I would like to fuck\",\n",
        "\"oll\": \"online love\",\n",
        "\"omg\": \"oh my god\",\n",
        "\"otoh\": \"on the other hand\",\n",
        "\"pir\": \"parent in room\",\n",
        "\"ppl\": \"people\",\n",
        "\"r\": \"are\",\n",
        "\"rofl\": \"roll on the floor laughing\",\n",
        "\"rpg\": \"role playing games\",\n",
        "\"ru\": \"are you\",\n",
        "\"shid\": \"slaps head in disgust\",\n",
        "\"somy\": \"sick of me yet\",\n",
        "\"sot\": \"short of time\",\n",
        "\"thanx\": \"thanks\",\n",
        "\"thx\": \"thanks\",\n",
        "\"ttyl\": \"talk to you later\",\n",
        "\"u\": \"you\",\n",
        "\"ur\": \"you are\",\n",
        "\"uw\": \"you’re welcome\",\n",
        "\"wb\": \"welcome back\",\n",
        "\"wfm\": \"works for me\",\n",
        "\"wibni\": \"wouldn't it be nice if\",\n",
        "\"wtf\": \"what the fuck\",\n",
        "\"wtg\": \"way to go\",\n",
        "\"wtgp\": \"want to go private\",\n",
        "\"ym\": \"young man\",\n",
        "\"gr8\": \"great\"\n",
        "}\n",
        "\n",
        "\n",
        "emoticon_dict = {\n",
        "\":)\": \"happy\",\n",
        "\":‑)\": \"happy\",\n",
        "\":-]\": \"happy\",\n",
        "\":-3\": \"happy\",\n",
        "\":->\": \"happy\",\n",
        "\"8-)\": \"happy\",\n",
        "\":-}\": \"happy\",\n",
        "\":o)\": \"happy\",\n",
        "\":c)\": \"happy\",\n",
        "\":^)\": \"happy\",\n",
        "\"=]\": \"happy\",\n",
        "\"=)\": \"happy\",\n",
        "\"<3\": \"happy\",\n",
        "\":-(\": \"sad\",\n",
        "\":(\": \"sad\",\n",
        "\":c\": \"sad\",\n",
        "\":<\": \"sad\",\n",
        "\":[\": \"sad\",\n",
        "\">:[\": \"sad\",\n",
        "\":{\": \"sad\",\n",
        "\">:(\": \"sad\",\n",
        "\":-c\": \"sad\",\n",
        "\":-< \": \"sad\",\n",
        "\":-[\": \"sad\",\n",
        "\":-||\": \"sad\"\n",
        "}"
      ]
    },
    {
      "cell_type": "code",
      "execution_count": null,
      "id": "093224f5",
      "metadata": {
        "id": "093224f5"
      },
      "outputs": [],
      "source": [
        "def reduce(function, iterable, initializer=None):\n",
        "    it = iter(iterable)\n",
        "    if initializer is None:\n",
        "        try:\n",
        "            initializer = next(it)\n",
        "        except StopIteration:\n",
        "            raise TypeError('reduce() of empty sequence with no initial value')\n",
        "    accum_value = initializer\n",
        "    for x in it:\n",
        "        accum_value = function(accum_value, x)\n",
        "    return accum_value\n",
        "\n",
        "def replace_from_dict(s, dict, prefix = ''):\n",
        "    return reduce(lambda x, y: x.replace(y, prefix+dict[y]), dict, s)\n",
        "\n",
        "x = np.vectorize(replace_from_dict)\n",
        "\n",
        "combine_df['clean_tweet'] = x(combine_df['clean_tweet'], apostrophe_dict)"
      ]
    },
    {
      "cell_type": "markdown",
      "id": "a00c764a",
      "metadata": {
        "id": "a00c764a"
      },
      "source": [
        "***4) Заменим сокращения на их полные формы, используя short_word_dict. Для этого воспользуемся функцией, используемой в предыдущем пункте.***"
      ]
    },
    {
      "cell_type": "code",
      "execution_count": null,
      "id": "b752ab06",
      "metadata": {
        "id": "b752ab06"
      },
      "outputs": [],
      "source": [
        "x = np.vectorize(replace_from_dict)\n",
        "combine_df['clean_tweet'] = x(combine_df['clean_tweet'], short_word_dict)"
      ]
    },
    {
      "cell_type": "markdown",
      "id": "ac699172",
      "metadata": {
        "id": "ac699172"
      },
      "source": [
        "***5) Заменим эмотиконы (пример: \":)\" = \"happy\") на пробелы, используя emoticon_dict. Для этого воспользуемся функцией, используемой в предыдущем пункте.***"
      ]
    },
    {
      "cell_type": "code",
      "execution_count": null,
      "id": "97d044f5",
      "metadata": {
        "id": "97d044f5"
      },
      "outputs": [],
      "source": [
        "x = np.vectorize(replace_from_dict)\n",
        "combine_df['clean_tweet'] = x(combine_df['clean_tweet'], emoticon_dict, prefix=' ')"
      ]
    },
    {
      "cell_type": "markdown",
      "id": "8c4dbd72",
      "metadata": {
        "id": "8c4dbd72"
      },
      "source": [
        "***6) Заменим пунктуацию на пробелы, используя re.sub() и паттерн r'[^\\w\\s]'.***"
      ]
    },
    {
      "cell_type": "code",
      "execution_count": null,
      "id": "633cfdc9",
      "metadata": {
        "id": "633cfdc9",
        "outputId": "0a72451c-e973-4898-c2d9-3c36770065fc"
      },
      "outputs": [
        {
          "name": "stderr",
          "output_type": "stream",
          "text": [
            "<ipython-input-15-50073a41cc29>:1: FutureWarning: The default value of regex will change from True to False in a future version.\n",
            "  combine_df['clean_tweet'] = combine_df['clean_tweet'].str.replace(r'[^\\w\\s]+', ' ')\n"
          ]
        }
      ],
      "source": [
        "combine_df['clean_tweet'] = combine_df['clean_tweet'].str.replace(r'[^\\w\\s]+', ' ')"
      ]
    },
    {
      "cell_type": "markdown",
      "id": "e6cf35f6",
      "metadata": {
        "id": "e6cf35f6"
      },
      "source": [
        "***7) Заменим спец. символы на пробелы, используя re.sub() и паттерн r'[^a-zA-Z0-9]'.***"
      ]
    },
    {
      "cell_type": "code",
      "execution_count": null,
      "id": "0b00b90b",
      "metadata": {
        "id": "0b00b90b",
        "outputId": "93a7d74d-528c-4946-c704-60bd8c9e5f70"
      },
      "outputs": [
        {
          "name": "stderr",
          "output_type": "stream",
          "text": [
            "<ipython-input-16-1b530a30731b>:1: FutureWarning: The default value of regex will change from True to False in a future version.\n",
            "  combine_df['clean_tweet'] = combine_df['clean_tweet'].str.replace(r'[^a-zA-Z0-9]', ' ')\n"
          ]
        }
      ],
      "source": [
        "combine_df['clean_tweet'] = combine_df['clean_tweet'].str.replace(r'[^a-zA-Z0-9]', ' ')"
      ]
    },
    {
      "cell_type": "markdown",
      "id": "3bf236ab",
      "metadata": {
        "id": "3bf236ab"
      },
      "source": [
        "***8) Заменим числа на пробелы, используя re.sub() и паттерн r'[^a-zA-Z]'.***"
      ]
    },
    {
      "cell_type": "code",
      "execution_count": null,
      "id": "1f28955b",
      "metadata": {
        "id": "1f28955b",
        "outputId": "24c62148-0b92-435a-fbc3-2f697419642d"
      },
      "outputs": [
        {
          "name": "stderr",
          "output_type": "stream",
          "text": [
            "<ipython-input-17-d51a6337e2d8>:1: FutureWarning: The default value of regex will change from True to False in a future version.\n",
            "  combine_df['clean_tweet'] = combine_df['clean_tweet'].str.replace(r'[^a-zA-Z]', ' ')\n"
          ]
        }
      ],
      "source": [
        "combine_df['clean_tweet'] = combine_df['clean_tweet'].str.replace(r'[^a-zA-Z]', ' ')"
      ]
    },
    {
      "cell_type": "markdown",
      "id": "f1e798a1",
      "metadata": {
        "id": "f1e798a1"
      },
      "source": [
        "***9) Удалим из текста слова длиной в 1 символ, используя ' '.join([w for w in x.split() if len(w)>1]).***"
      ]
    },
    {
      "cell_type": "code",
      "execution_count": null,
      "id": "254cf933",
      "metadata": {
        "id": "254cf933"
      },
      "outputs": [],
      "source": [
        "def delete_words_by_len(s, length = 1):\n",
        "    return ' '.join([w for w in s.split() if len(w)>length])\n",
        "\n",
        "x = np.vectorize(delete_words_by_len)\n",
        "combine_df['clean_tweet'] = x(combine_df['clean_tweet'], length = 1)"
      ]
    },
    {
      "cell_type": "markdown",
      "id": "f4e0af0d",
      "metadata": {
        "id": "f4e0af0d"
      },
      "source": [
        "***10) Поделим твиты на токены с помощью nltk.tokenize.word_tokenize, создав новый столбец 'tweet_token'.***"
      ]
    },
    {
      "cell_type": "code",
      "execution_count": null,
      "id": "aa2dffe4",
      "metadata": {
        "id": "aa2dffe4",
        "outputId": "da0b010c-bb11-432e-dbbf-5f143ab1f1b2"
      },
      "outputs": [
        {
          "name": "stderr",
          "output_type": "stream",
          "text": [
            "[nltk_data] Downloading package wordnet to\n",
            "[nltk_data]     C:\\Users\\reshe\\AppData\\Roaming\\nltk_data...\n",
            "[nltk_data]   Package wordnet is already up-to-date!\n",
            "[nltk_data] Downloading package punkt to\n",
            "[nltk_data]     C:\\Users\\reshe\\AppData\\Roaming\\nltk_data...\n",
            "[nltk_data]   Package punkt is already up-to-date!\n"
          ]
        },
        {
          "data": {
            "text/plain": [
              "True"
            ]
          },
          "execution_count": 19,
          "metadata": {},
          "output_type": "execute_result"
        }
      ],
      "source": [
        "nltk.download('wordnet')\n",
        "nltk.download('punkt')"
      ]
    },
    {
      "cell_type": "code",
      "execution_count": null,
      "id": "9242abb0",
      "metadata": {
        "id": "9242abb0"
      },
      "outputs": [],
      "source": [
        "import json\n",
        "import os"
      ]
    },
    {
      "cell_type": "code",
      "execution_count": null,
      "id": "517da3c9",
      "metadata": {
        "id": "517da3c9"
      },
      "outputs": [],
      "source": [
        "def tokinize(s):\n",
        "    return json.dumps(nltk.tokenize.word_tokenize(s))\n",
        "\n",
        "x = np.vectorize(tokinize)\n",
        "combine_df['tweet_token'] = x(combine_df['clean_tweet'])"
      ]
    },
    {
      "cell_type": "markdown",
      "id": "8b658748",
      "metadata": {
        "id": "8b658748"
      },
      "source": [
        "***11) Удалим стоп-слова из токенов, используя nltk.corpus.stopwords. Создадим столбец 'tweet_token_filtered' без стоп-слов.***"
      ]
    },
    {
      "cell_type": "code",
      "execution_count": null,
      "id": "82801b69",
      "metadata": {
        "id": "82801b69"
      },
      "outputs": [],
      "source": [
        "stop_words = set(nltk.corpus.stopwords.words('english'))\n",
        "\n",
        "def delete_stop_words(s, stoplist):\n",
        "    tokens = json.loads(s)\n",
        "    clean_list = [w for w in tokens if not w in stoplist]\n",
        "    return json.dumps(clean_list)\n",
        "\n",
        "x = np.vectorize(delete_stop_words)\n",
        "combine_df['tweet_token_filtered'] = x(combine_df['tweet_token'], stop_words)"
      ]
    },
    {
      "cell_type": "markdown",
      "id": "2ed18377",
      "metadata": {
        "id": "2ed18377"
      },
      "source": [
        "***12) Применим стемминг к токенам с помощью nltk.stem.PorterStemmer. Создадим столбец 'tweet_stemmed' после применения стемминга.***"
      ]
    },
    {
      "cell_type": "code",
      "execution_count": null,
      "id": "089b3ccc",
      "metadata": {
        "id": "089b3ccc",
        "outputId": "900f6d52-ff84-40d8-e4c3-b1fc6a2a81a3"
      },
      "outputs": [
        {
          "name": "stdout",
          "output_type": "stream",
          "text": [
            "Wall time: 16.7 s\n"
          ]
        }
      ],
      "source": [
        "%%time\n",
        "stemmer = nltk.stem.PorterStemmer()\n",
        "\n",
        "def get_stemmer_list(s, stemmer = stemmer):\n",
        "    tokens = json.loads(s)\n",
        "    stemm_list = [stemmer.stem(w) for w in tokens]\n",
        "    return json.dumps(stemm_list)\n",
        "\n",
        "x = np.vectorize(get_stemmer_list)\n",
        "\n",
        "combine_df['tweet_stemmed'] = x(combine_df['tweet_token_filtered'], stemmer)"
      ]
    },
    {
      "cell_type": "markdown",
      "id": "1e06feda",
      "metadata": {
        "id": "1e06feda"
      },
      "source": [
        "***13) Применим лемматизацию к токенам с помощью nltk.stem.wordnet.WordNetLemmatizer. Создадим столбец 'tweet_lemmatized' после применения лемматизации.***"
      ]
    },
    {
      "cell_type": "code",
      "execution_count": null,
      "id": "c2659894",
      "metadata": {
        "id": "c2659894",
        "outputId": "5d67c044-f80b-4bad-c94c-7e8fee4d182d"
      },
      "outputs": [
        {
          "name": "stdout",
          "output_type": "stream",
          "text": [
            "Wall time: 4.21 s\n"
          ]
        }
      ],
      "source": [
        "%%time\n",
        "lemmatizer = nltk.stem.WordNetLemmatizer()\n",
        "\n",
        "def get_lemmatizer_list(s, lemmatizer = lemmatizer):\n",
        "    tokens = json.loads(s)\n",
        "    lemm_list = [lemmatizer.lemmatize(w, pos = nltk.corpus.wordnet.VERB) for w in tokens]\n",
        "    return json.dumps(lemm_list)\n",
        "\n",
        "x = np.vectorize(get_lemmatizer_list)\n",
        "combine_df['tweet_lemmatized'] = x(combine_df['tweet_token_filtered'], lemmatizer)"
      ]
    },
    {
      "cell_type": "markdown",
      "id": "96b0a3da",
      "metadata": {
        "id": "96b0a3da"
      },
      "source": [
        "***14) Сохраним результат предобработки в pickle-файл.***"
      ]
    },
    {
      "cell_type": "code",
      "execution_count": null,
      "id": "5a1db3b8",
      "metadata": {
        "id": "5a1db3b8"
      },
      "outputs": [],
      "source": [
        "coding: 'utf-8'\n",
        "combine_df.to_pickle(\"./result.pkl\")"
      ]
    },
    {
      "cell_type": "code",
      "execution_count": null,
      "id": "e3fbf11f",
      "metadata": {
        "id": "e3fbf11f"
      },
      "outputs": [],
      "source": [
        "df = pd.read_pickle(\"result.pkl\")"
      ]
    },
    {
      "cell_type": "code",
      "execution_count": null,
      "id": "c6f80453",
      "metadata": {
        "id": "c6f80453",
        "outputId": "5ce7e2ad-5fdd-4721-9370-648dde6f54e4"
      },
      "outputs": [
        {
          "data": {
            "text/plain": [
              "<bound method DataFrame.info of           id  label                                              tweet  \\\n",
              "0          1    0.0   @user when a father is dysfunctional and is s...   \n",
              "1          2    0.0  @user @user thanks for #lyft credit i can't us...   \n",
              "2          3    0.0                                bihday your majesty   \n",
              "3          4    0.0  #model   i love u take with u all the time in ...   \n",
              "4          5    0.0             factsguide: society now    #motivation   \n",
              "...      ...    ...                                                ...   \n",
              "49154  49155    NaN  thought factory: left-right polarisation! #tru...   \n",
              "49155  49156    NaN  feeling like a mermaid ð #hairflip #neverre...   \n",
              "49156  49157    NaN  #hillary #campaigned today in #ohio((omg)) &am...   \n",
              "49157  49158    NaN  happy, at work conference: right mindset leads...   \n",
              "49158  49159    NaN  my   song \"so glad\" free download!  #shoegaze ...   \n",
              "\n",
              "                                             clean_tweet  \\\n",
              "0      when fatheaaree is dysfyoyounctional and is so...   \n",
              "1      thanks foaaree lyft caareeedit cannot yoyouse ...   \n",
              "2                            bihday yoyoyouaaree majesty   \n",
              "3      model love yoyou take with yoyou all the time ...   \n",
              "4      factsgareinaareeinyoyouide society now motivation   \n",
              "...                                                  ...   \n",
              "49154  thoyoyougareinaareeinht factoaareey left aaree...   \n",
              "49155  feelingareinaareein like meaareemaid haiaareef...   \n",
              "49156  hillaaareey campaigareinaareeinned today in oh...   \n",
              "49157  happy at woaareek confeaareeence aareeigareina...   \n",
              "49158  my songareinaareein so gareinaareeinlad faaree...   \n",
              "\n",
              "                                             tweet_token  \\\n",
              "0      [\"when\", \"fatheaaree\", \"is\", \"dysfyoyounctiona...   \n",
              "1      [\"thanks\", \"foaaree\", \"lyft\", \"caareeedit\", \"c...   \n",
              "2                  [\"bihday\", \"yoyoyouaaree\", \"majesty\"]   \n",
              "3      [\"model\", \"love\", \"yoyou\", \"take\", \"with\", \"yo...   \n",
              "4      [\"factsgareinaareeinyoyouide\", \"society\", \"now...   \n",
              "...                                                  ...   \n",
              "49154  [\"thoyoyougareinaareeinht\", \"factoaareey\", \"le...   \n",
              "49155  [\"feelingareinaareein\", \"like\", \"meaareemaid\",...   \n",
              "49156  [\"hillaaareey\", \"campaigareinaareeinned\", \"tod...   \n",
              "49157  [\"happy\", \"at\", \"woaareek\", \"confeaareeence\", ...   \n",
              "49158  [\"my\", \"songareinaareein\", \"so\", \"gareinaareei...   \n",
              "\n",
              "                                    tweet_token_filtered  \\\n",
              "0      [\"fatheaaree\", \"dysfyoyounctional\", \"selfish\",...   \n",
              "1      [\"thanks\", \"foaaree\", \"lyft\", \"caareeedit\", \"y...   \n",
              "2                  [\"bihday\", \"yoyoyouaaree\", \"majesty\"]   \n",
              "3      [\"model\", \"love\", \"yoyou\", \"take\", \"yoyou\", \"t...   \n",
              "4      [\"factsgareinaareeinyoyouide\", \"society\", \"mot...   \n",
              "...                                                  ...   \n",
              "49154  [\"thoyoyougareinaareeinht\", \"factoaareey\", \"le...   \n",
              "49155  [\"feelingareinaareein\", \"like\", \"meaareemaid\",...   \n",
              "49156  [\"hillaaareey\", \"campaigareinaareeinned\", \"tod...   \n",
              "49157  [\"happy\", \"woaareek\", \"confeaareeence\", \"aaree...   \n",
              "49158  [\"songareinaareein\", \"gareinaareeinlad\", \"faar...   \n",
              "\n",
              "                                           tweet_stemmed  \\\n",
              "0      [\"fatheaare\", \"dysfyoyounct\", \"selfish\", \"daar...   \n",
              "1      [\"thank\", \"foaare\", \"lyft\", \"caareeedit\", \"yoy...   \n",
              "2                   [\"bihday\", \"yoyoyouaare\", \"majesti\"]   \n",
              "3      [\"model\", \"love\", \"yoyou\", \"take\", \"yoyou\", \"t...   \n",
              "4      [\"factsgareinaareeinyoyouid\", \"societi\", \"motiv\"]   \n",
              "...                                                  ...   \n",
              "49154  [\"thoyoyougareinaareeinht\", \"factoaareey\", \"le...   \n",
              "49155  [\"feelingareinaareein\", \"like\", \"meaareemaid\",...   \n",
              "49156  [\"hillaaareey\", \"campaigareinaareein\", \"today\"...   \n",
              "49157  [\"happi\", \"woaareek\", \"confeaare\", \"aareeigare...   \n",
              "49158  [\"songareinaareein\", \"gareinaareeinlad\", \"faar...   \n",
              "\n",
              "                                        tweet_lemmatized  \n",
              "0      [\"fatheaaree\", \"dysfyoyounctional\", \"selfish\",...  \n",
              "1      [\"thank\", \"foaaree\", \"lyft\", \"caareeedit\", \"yo...  \n",
              "2                  [\"bihday\", \"yoyoyouaaree\", \"majesty\"]  \n",
              "3      [\"model\", \"love\", \"yoyou\", \"take\", \"yoyou\", \"t...  \n",
              "4      [\"factsgareinaareeinyoyouide\", \"society\", \"mot...  \n",
              "...                                                  ...  \n",
              "49154  [\"thoyoyougareinaareeinht\", \"factoaareey\", \"le...  \n",
              "49155  [\"feelingareinaareein\", \"like\", \"meaareemaid\",...  \n",
              "49156  [\"hillaaareey\", \"campaigareinaareeinned\", \"tod...  \n",
              "49157  [\"happy\", \"woaareek\", \"confeaareeence\", \"aaree...  \n",
              "49158  [\"songareinaareein\", \"gareinaareeinlad\", \"faar...  \n",
              "\n",
              "[49159 rows x 8 columns]>"
            ]
          },
          "execution_count": 54,
          "metadata": {},
          "output_type": "execute_result"
        }
      ],
      "source": [
        "df.info"
      ]
    }
  ],
  "metadata": {
    "kernelspec": {
      "display_name": "Python 3",
      "language": "python",
      "name": "python3"
    },
    "language_info": {
      "codemirror_mode": {
        "name": "ipython",
        "version": 3
      },
      "file_extension": ".py",
      "mimetype": "text/x-python",
      "name": "python",
      "nbconvert_exporter": "python",
      "pygments_lexer": "ipython3",
      "version": "3.8.8"
    },
    "colab": {
      "provenance": [],
      "include_colab_link": true
    }
  },
  "nbformat": 4,
  "nbformat_minor": 5
}