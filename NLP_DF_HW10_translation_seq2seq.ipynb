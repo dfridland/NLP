{
  "cells": [
    {
      "cell_type": "markdown",
      "metadata": {
        "id": "view-in-github",
        "colab_type": "text"
      },
      "source": [
        "<a href=\"https://colab.research.google.com/github/dfridland/NLP/blob/HW10/NLP_DF_HW10_translation_seq2seq.ipynb\" target=\"_parent\"><img src=\"https://colab.research.google.com/assets/colab-badge.svg\" alt=\"Open In Colab\"/></a>"
      ]
    },
    {
      "cell_type": "code",
      "execution_count": null,
      "id": "66528172",
      "metadata": {
        "id": "66528172"
      },
      "outputs": [],
      "source": [
        "import tensorflow as tf\n",
        "\n",
        "import matplotlib.pyplot as plt\n",
        "import matplotlib.ticker as ticker\n",
        "from sklearn.model_selection import train_test_split\n",
        "\n",
        "import unicodedata\n",
        "import re\n",
        "import numpy as np\n",
        "import os\n",
        "import io\n",
        "import time"
      ]
    },
    {
      "cell_type": "code",
      "execution_count": null,
      "id": "c2c83506",
      "metadata": {
        "id": "c2c83506",
        "outputId": "9aceaab1-d047-40d2-8e3a-9669c4ad3adb"
      },
      "outputs": [
        {
          "name": "stdout",
          "output_type": "stream",
          "text": [
            "--2023-06-05 21:07:30--  http://www.manythings.org/anki/tur-eng.zip\n",
            "Resolving www.manythings.org (www.manythings.org)... 173.254.30.110\n",
            "Connecting to www.manythings.org (www.manythings.org)|173.254.30.110|:80... connected.\n",
            "HTTP request sent, awaiting response... 200 OK\n",
            "Length: 5349274 (5.1M) [application/zip]\n",
            "Saving to: ‘tur-eng.zip’\n",
            "\n",
            "tur-eng.zip         100%[===================>]   5.10M  1.82MB/s    in 2.8s    \n",
            "\n",
            "2023-06-05 21:07:33 (1.82 MB/s) - ‘tur-eng.zip’ saved [5349274/5349274]\n",
            "\n"
          ]
        }
      ],
      "source": [
        "!wget http://www.manythings.org/anki/tur-eng.zip"
      ]
    },
    {
      "cell_type": "code",
      "execution_count": null,
      "id": "bfaf2765",
      "metadata": {
        "id": "bfaf2765",
        "outputId": "3d09892b-1f33-4d75-b7d9-7f79bbd4d3fa"
      },
      "outputs": [
        {
          "name": "stdout",
          "output_type": "stream",
          "text": [
            "Archive:  tur-eng.zip\n",
            "  inflating: tur-eng/tur.txt         \n",
            "  inflating: tur-eng/_about.txt      \n"
          ]
        }
      ],
      "source": [
        "!mkdir tur-eng\n",
        "!unzip tur-eng.zip -d tur-eng/"
      ]
    },
    {
      "cell_type": "code",
      "execution_count": null,
      "id": "0dc2f7eb",
      "metadata": {
        "id": "0dc2f7eb",
        "outputId": "f8a941df-29ff-4ec6-b57a-97c49d7fe25c"
      },
      "outputs": [
        {
          "name": "stdout",
          "output_type": "stream",
          "text": [
            "ls: -lah: No such file or directory\r\n",
            "./tur-eng/:\r\n",
            "_about.txt tur.txt\r\n"
          ]
        }
      ],
      "source": [
        "!ls ./tur-eng/ -lah"
      ]
    },
    {
      "cell_type": "code",
      "execution_count": null,
      "id": "1b66aac2",
      "metadata": {
        "id": "1b66aac2"
      },
      "outputs": [],
      "source": [
        "# Download the file\n",
        "path_to_file = \"./tur-eng/tur.txt\""
      ]
    },
    {
      "cell_type": "code",
      "execution_count": null,
      "id": "f0962623",
      "metadata": {
        "id": "f0962623"
      },
      "outputs": [],
      "source": [
        "def preprocess_sentence(w):\n",
        "  w = w.lower().strip()\n",
        "\n",
        "  # creating a space between a word and the punctuation following it\n",
        "  # eg: \"he is a boy.\" => \"he is a boy .\"\n",
        "  # Reference:- https://stackoverflow.com/questions/3645931/python-padding-punctuation-with-white-spaces-keeping-punctuation\n",
        "  w = re.sub(r\"([?.!,])\", r\" \\1 \", w)\n",
        "  w = re.sub(r'[\" \"]+', \" \", w)\n",
        "\n",
        "  # replacing everything with space except (a-z, A-Z, \".\", \"?\", \"!\", \",\")\n",
        "  w = re.sub(r\"[^a-zA-Z0-9ğüşöçİĞÜŞÖÇ?.!,']+\", \" \", w)\n",
        "    # I could try matching ^\\p{L}+$, which is the shorthand for any letter\n",
        "\n",
        "  w = w.strip()\n",
        "\n",
        "  # adding a start and an end token to the sentence\n",
        "  # so that the model know when to start and stop predicting.\n",
        "  w = '<start> ' + w + ' <end>'\n",
        "  return w"
      ]
    },
    {
      "cell_type": "code",
      "execution_count": null,
      "id": "a4f929e6",
      "metadata": {
        "id": "a4f929e6",
        "outputId": "f9a4c08c-e9b3-4224-b728-c905ab910b24"
      },
      "outputs": [
        {
          "data": {
            "text/plain": [
              "\"<start> i can't go . <end>\""
            ]
          },
          "execution_count": 23,
          "metadata": {},
          "output_type": "execute_result"
        }
      ],
      "source": [
        "preprocess_sentence(\"I can't go.\")"
      ]
    },
    {
      "cell_type": "code",
      "execution_count": null,
      "id": "9a285ffb",
      "metadata": {
        "id": "9a285ffb"
      },
      "outputs": [],
      "source": [
        "# 1. Remove the accents\n",
        "# 2. Clean the sentences\n",
        "# 3. Return word pairs in the format: [ENG, TUR]\n",
        "def create_dataset(path, num_examples):\n",
        "  lines = io.open(path, encoding='UTF-8').read().strip().split('\\n')\n",
        "\n",
        "  word_pairs = [[preprocess_sentence(w) for w in l.split('\\t')[:2]]  for l in lines[:num_examples]]\n",
        "\n",
        "  return zip(*word_pairs)"
      ]
    },
    {
      "cell_type": "code",
      "execution_count": null,
      "id": "75191e8e",
      "metadata": {
        "id": "75191e8e",
        "outputId": "0339dc6f-08d7-4e10-ca0e-de367d182000"
      },
      "outputs": [
        {
          "name": "stdout",
          "output_type": "stream",
          "text": [
            "<start> hi . <end>\n",
            "<start> merhaba . <end>\n"
          ]
        }
      ],
      "source": [
        "en, tr = create_dataset(path_to_file, None)\n",
        "print(en[0])\n",
        "print(tr[0])"
      ]
    },
    {
      "cell_type": "code",
      "execution_count": null,
      "id": "a26dd0cc",
      "metadata": {
        "id": "a26dd0cc"
      },
      "outputs": [],
      "source": [
        "def tokenize(lang):\n",
        "  lang_tokenizer = tf.keras.preprocessing.text.Tokenizer(\n",
        "      filters='')\n",
        "  lang_tokenizer.fit_on_texts(lang)\n",
        "\n",
        "  tensor = lang_tokenizer.texts_to_sequences(lang)\n",
        "\n",
        "  tensor = tf.keras.preprocessing.sequence.pad_sequences(tensor,\n",
        "                                                         padding='post')\n",
        "\n",
        "  return tensor, lang_tokenizer"
      ]
    },
    {
      "cell_type": "code",
      "execution_count": null,
      "id": "c4bd32dc",
      "metadata": {
        "id": "c4bd32dc"
      },
      "outputs": [],
      "source": [
        "def load_dataset(path, num_examples=None):\n",
        "  # creating cleaned input, output pairs\n",
        "  targ_lang, inp_lang = create_dataset(path, num_examples)\n",
        "\n",
        "  input_tensor, inp_lang_tokenizer = tokenize(inp_lang)\n",
        "  target_tensor, targ_lang_tokenizer = tokenize(targ_lang)\n",
        "\n",
        "  return input_tensor, target_tensor, inp_lang_tokenizer, targ_lang_tokenizer"
      ]
    },
    {
      "cell_type": "markdown",
      "id": "55d30601",
      "metadata": {
        "id": "55d30601"
      },
      "source": [
        "### Limit the size of the dataset to experiment faster (optional)"
      ]
    },
    {
      "cell_type": "code",
      "execution_count": null,
      "id": "5ded0439",
      "metadata": {
        "id": "5ded0439",
        "outputId": "dc1af515-eeb9-41ec-bab7-9ff96985eea5"
      },
      "outputs": [
        {
          "data": {
            "text/plain": [
              "(141527, 141527)"
            ]
          },
          "execution_count": 28,
          "metadata": {},
          "output_type": "execute_result"
        }
      ],
      "source": [
        "len(en), len(tr)"
      ]
    },
    {
      "cell_type": "code",
      "execution_count": null,
      "id": "01d48b9e",
      "metadata": {
        "id": "01d48b9e"
      },
      "outputs": [],
      "source": [
        "# Try experimenting with the size of that dataset\n",
        "num_examples = 100000\n",
        "input_tensor, target_tensor, inp_lang, targ_lang = load_dataset(path_to_file, num_examples)\n",
        "\n",
        "# Calculate max_length of the target tensors\n",
        "max_length_targ, max_length_inp = target_tensor.shape[1], input_tensor.shape[1]"
      ]
    },
    {
      "cell_type": "code",
      "execution_count": null,
      "id": "27ec8db7",
      "metadata": {
        "id": "27ec8db7",
        "outputId": "3ba16785-cae9-4ff2-da32-38c809f2c4be"
      },
      "outputs": [
        {
          "name": "stdout",
          "output_type": "stream",
          "text": [
            "80000 80000 20000 20000\n"
          ]
        }
      ],
      "source": [
        "# Creating training and validation sets using an 80-20 split\n",
        "input_tensor_train, input_tensor_val, target_tensor_train, target_tensor_val = train_test_split(input_tensor, target_tensor, test_size=0.2)\n",
        "\n",
        "# Show length\n",
        "print(len(input_tensor_train), len(target_tensor_train), len(input_tensor_val), len(target_tensor_val))"
      ]
    },
    {
      "cell_type": "code",
      "execution_count": null,
      "id": "fd5a939d",
      "metadata": {
        "id": "fd5a939d"
      },
      "outputs": [],
      "source": [
        "def convert(lang, tensor):\n",
        "  for t in tensor:\n",
        "    if t!=0:\n",
        "      print (\"%d ----> %s\" % (t, lang.index_word[t]))"
      ]
    },
    {
      "cell_type": "code",
      "execution_count": null,
      "id": "d3ed9ba4",
      "metadata": {
        "id": "d3ed9ba4",
        "outputId": "0966c8b5-0100-4322-cbf6-febe3f8b8a2f"
      },
      "outputs": [
        {
          "name": "stdout",
          "output_type": "stream",
          "text": [
            "Input Language; index to word mapping\n",
            "1 ----> <start>\n",
            "19 ----> ben\n",
            "401 ----> yapm\n",
            "70 ----> şt\n",
            "6 ----> m\n",
            "3 ----> .\n",
            "4 ----> tom\n",
            "86 ----> da\n",
            "401 ----> yapm\n",
            "30 ----> ş\n",
            "3 ----> .\n",
            "2 ----> <end>\n",
            "\n",
            "Target Language; index to word mapping\n",
            "1 ----> <start>\n",
            "74 ----> i've\n",
            "171 ----> done\n",
            "12 ----> that\n",
            "32 ----> ,\n",
            "50 ----> and\n",
            "94 ----> so\n",
            "44 ----> has\n",
            "4 ----> tom\n",
            "3 ----> .\n",
            "2 ----> <end>\n"
          ]
        }
      ],
      "source": [
        "print (\"Input Language; index to word mapping\")\n",
        "convert(inp_lang, input_tensor_train[0])\n",
        "print ()\n",
        "print (\"Target Language; index to word mapping\")\n",
        "convert(targ_lang, target_tensor_train[0])"
      ]
    },
    {
      "cell_type": "markdown",
      "id": "12ec8e30",
      "metadata": {
        "id": "12ec8e30"
      },
      "source": [
        "### Create a tf.data dataset"
      ]
    },
    {
      "cell_type": "code",
      "execution_count": null,
      "id": "e55ecb74",
      "metadata": {
        "id": "e55ecb74",
        "outputId": "b8a5e5bc-4a47-4019-ea30-6d2817fb33b1"
      },
      "outputs": [
        {
          "name": "stdout",
          "output_type": "stream",
          "text": [
            "Metal device set to: Apple M2 Pro\n"
          ]
        }
      ],
      "source": [
        "BUFFER_SIZE = len(input_tensor_train)\n",
        "BATCH_SIZE = 64\n",
        "steps_per_epoch = len(input_tensor_train)//BATCH_SIZE\n",
        "embedding_dim = 256\n",
        "units = 1024\n",
        "vocab_inp_size = len(inp_lang.word_index)+1\n",
        "vocab_tar_size = len(targ_lang.word_index)+1\n",
        "\n",
        "dataset = tf.data.Dataset.from_tensor_slices((input_tensor_train, target_tensor_train)).shuffle(BUFFER_SIZE)\n",
        "dataset = dataset.batch(BATCH_SIZE, drop_remainder=True)"
      ]
    },
    {
      "cell_type": "code",
      "execution_count": null,
      "id": "cc159df3",
      "metadata": {
        "id": "cc159df3",
        "outputId": "098da01d-7a11-458e-89d8-5b3837a01489"
      },
      "outputs": [
        {
          "data": {
            "text/plain": [
              "(TensorShape([64, 19]), TensorShape([64, 14]))"
            ]
          },
          "execution_count": 34,
          "metadata": {},
          "output_type": "execute_result"
        }
      ],
      "source": [
        "example_input_batch, example_target_batch = next(iter(dataset))\n",
        "example_input_batch.shape, example_target_batch.shape"
      ]
    },
    {
      "cell_type": "code",
      "execution_count": null,
      "id": "d0a58617",
      "metadata": {
        "id": "d0a58617"
      },
      "outputs": [],
      "source": [
        "class Encoder(tf.keras.Model):\n",
        "  def __init__(self, vocab_size, embedding_dim, enc_units, batch_sz):\n",
        "    super(Encoder, self).__init__()\n",
        "    self.batch_sz = batch_sz\n",
        "    self.enc_units = enc_units\n",
        "    self.embedding = tf.keras.layers.Embedding(vocab_size, embedding_dim)\n",
        "    self.gru = tf.keras.layers.GRU(self.enc_units,\n",
        "                                   return_sequences=True,\n",
        "                                   return_state=True,\n",
        "                                   recurrent_initializer='glorot_uniform')\n",
        "\n",
        "  def call(self, x, hidden):\n",
        "    x = self.embedding(x)\n",
        "    output, state = self.gru(x, initial_state = hidden)\n",
        "    return output, state\n",
        "\n",
        "  def initialize_hidden_state(self):\n",
        "    return tf.zeros((self.batch_sz, self.enc_units))"
      ]
    },
    {
      "cell_type": "code",
      "execution_count": null,
      "id": "5676f4dc",
      "metadata": {
        "id": "5676f4dc",
        "outputId": "ceeeb748-b327-478a-a878-44efe3433b00"
      },
      "outputs": [
        {
          "name": "stdout",
          "output_type": "stream",
          "text": [
            "Encoder output shape: (batch size, sequence length, units) (64, 19, 1024)\n",
            "Encoder Hidden state shape: (batch size, units) (64, 1024)\n"
          ]
        }
      ],
      "source": [
        "encoder = Encoder(vocab_inp_size, embedding_dim, units, BATCH_SIZE)\n",
        "\n",
        "# sample input\n",
        "sample_hidden = encoder.initialize_hidden_state()\n",
        "sample_output, sample_hidden = encoder(example_input_batch, sample_hidden)\n",
        "print ('Encoder output shape: (batch size, sequence length, units) {}'.format(sample_output.shape))\n",
        "print ('Encoder Hidden state shape: (batch size, units) {}'.format(sample_hidden.shape))"
      ]
    },
    {
      "cell_type": "code",
      "execution_count": null,
      "id": "ffc138ac",
      "metadata": {
        "id": "ffc138ac"
      },
      "outputs": [],
      "source": [
        "class BahdanauAttention(tf.keras.layers.Layer):\n",
        "  def __init__(self, units):\n",
        "    super(BahdanauAttention, self).__init__()\n",
        "    self.W1 = tf.keras.layers.Dense(units)\n",
        "    self.W2 = tf.keras.layers.Dense(units)\n",
        "    self.V = tf.keras.layers.Dense(1)\n",
        "\n",
        "  def call(self, query, values):\n",
        "    # query hidden state shape == (batch_size, hidden size)\n",
        "    # query_with_time_axis shape == (batch_size, 1, hidden size)\n",
        "    # values shape == (batch_size, max_len, hidden size)\n",
        "    # we are doing this to broadcast addition along the time axis to calculate the score\n",
        "    query_with_time_axis = tf.expand_dims(query, 1)\n",
        "\n",
        "    # score shape == (batch_size, max_length, 1)\n",
        "    # we get 1 at the last axis because we are applying score to self.V\n",
        "    # the shape of the tensor before applying self.V is (batch_size, max_length, units)\n",
        "    score = self.V(tf.nn.tanh(\n",
        "        self.W1(query_with_time_axis) + self.W2(values)))\n",
        "\n",
        "    # attention_weights shape == (batch_size, max_length, 1)\n",
        "    attention_weights = tf.nn.softmax(score, axis=1)\n",
        "\n",
        "    # context_vector shape after sum == (batch_size, hidden_size)\n",
        "    context_vector = attention_weights * values\n",
        "    context_vector = tf.reduce_sum(context_vector, axis=1)\n",
        "\n",
        "    return context_vector, attention_weights"
      ]
    },
    {
      "cell_type": "code",
      "execution_count": null,
      "id": "894731b5",
      "metadata": {
        "id": "894731b5",
        "outputId": "7d9b021e-f58f-4157-a663-6a7e4a06e41d"
      },
      "outputs": [
        {
          "name": "stdout",
          "output_type": "stream",
          "text": [
            "Attention result shape: (batch size, units) (64, 1024)\n",
            "Attention weights shape: (batch_size, sequence_length, 1) (64, 19, 1)\n"
          ]
        }
      ],
      "source": [
        "attention_layer = BahdanauAttention(10)\n",
        "attention_result, attention_weights = attention_layer(sample_hidden, sample_output)\n",
        "\n",
        "print(\"Attention result shape: (batch size, units) {}\".format(attention_result.shape))\n",
        "print(\"Attention weights shape: (batch_size, sequence_length, 1) {}\".format(attention_weights.shape))"
      ]
    },
    {
      "cell_type": "code",
      "execution_count": null,
      "id": "8aeeda25",
      "metadata": {
        "id": "8aeeda25"
      },
      "outputs": [],
      "source": [
        "class Decoder(tf.keras.Model):\n",
        "  def __init__(self, vocab_size, embedding_dim, dec_units, batch_sz):\n",
        "    super(Decoder, self).__init__()\n",
        "    self.batch_sz = batch_sz\n",
        "    self.dec_units = dec_units\n",
        "    self.embedding = tf.keras.layers.Embedding(vocab_size, embedding_dim)\n",
        "    self.gru = tf.keras.layers.GRU(self.dec_units,\n",
        "                                   return_sequences=True,\n",
        "                                   return_state=True,\n",
        "                                   recurrent_initializer='glorot_uniform')\n",
        "    self.fc = tf.keras.layers.Dense(vocab_size)\n",
        "\n",
        "    # used for attention\n",
        "    self.attention = BahdanauAttention(self.dec_units)\n",
        "\n",
        "  def call(self, x, hidden, enc_output):\n",
        "    # enc_output shape == (batch_size, max_length, hidden_size)\n",
        "    context_vector, attention_weights = self.attention(hidden, enc_output)\n",
        "\n",
        "    # x shape after passing through embedding == (batch_size, 1, embedding_dim)\n",
        "    x = self.embedding(x)\n",
        "\n",
        "    # x shape after concatenation == (batch_size, 1, embedding_dim + hidden_size)\n",
        "    x = tf.concat([tf.expand_dims(context_vector, 1), x], axis=-1)\n",
        "\n",
        "    # passing the concatenated vector to the GRU\n",
        "    output, state = self.gru(x)\n",
        "\n",
        "    # output shape == (batch_size * 1, hidden_size)\n",
        "    output = tf.reshape(output, (-1, output.shape[2]))\n",
        "\n",
        "    # output shape == (batch_size, vocab)\n",
        "    x = self.fc(output)\n",
        "\n",
        "    return x, state, attention_weights"
      ]
    },
    {
      "cell_type": "code",
      "execution_count": null,
      "id": "bd495fb2",
      "metadata": {
        "id": "bd495fb2",
        "outputId": "6aa232b4-235d-4ae2-e70a-c12668240050"
      },
      "outputs": [
        {
          "name": "stdout",
          "output_type": "stream",
          "text": [
            "Decoder output shape: (batch_size, vocab size) (64, 11335)\n"
          ]
        }
      ],
      "source": [
        "decoder = Decoder(vocab_tar_size, embedding_dim, units, BATCH_SIZE)\n",
        "\n",
        "sample_decoder_output, _, _ = decoder(tf.random.uniform((BATCH_SIZE, 1)),\n",
        "                                      sample_hidden, sample_output)\n",
        "\n",
        "print ('Decoder output shape: (batch_size, vocab size) {}'.format(sample_decoder_output.shape))"
      ]
    },
    {
      "cell_type": "markdown",
      "id": "b841e011",
      "metadata": {
        "id": "b841e011"
      },
      "source": [
        "## Define the optimizer and the loss function"
      ]
    },
    {
      "cell_type": "code",
      "execution_count": null,
      "id": "ca4af369",
      "metadata": {
        "id": "ca4af369"
      },
      "outputs": [],
      "source": [
        "optimizer = tf.keras.optimizers.legacy.Adam()\n",
        "loss_object = tf.keras.losses.SparseCategoricalCrossentropy(\n",
        "    from_logits=True, reduction='none')\n",
        "\n",
        "def loss_function(real, pred):\n",
        "  mask = tf.math.logical_not(tf.math.equal(real, 0))\n",
        "  loss_ = loss_object(real, pred)\n",
        "\n",
        "  mask = tf.cast(mask, dtype=loss_.dtype)\n",
        "  loss_ *= mask\n",
        "\n",
        "  return tf.reduce_mean(loss_)"
      ]
    },
    {
      "cell_type": "markdown",
      "id": "98abffea",
      "metadata": {
        "id": "98abffea"
      },
      "source": [
        "## Checkpoints (Object-based saving)"
      ]
    },
    {
      "cell_type": "code",
      "execution_count": null,
      "id": "5bb6c44c",
      "metadata": {
        "id": "5bb6c44c"
      },
      "outputs": [],
      "source": [
        "checkpoint_dir = './training_attention_checkpoints'\n",
        "checkpoint_prefix = os.path.join(checkpoint_dir, \"ckpt\")\n",
        "checkpoint = tf.train.Checkpoint(optimizer=optimizer,\n",
        "                                 encoder=encoder,\n",
        "                                 decoder=decoder)"
      ]
    },
    {
      "cell_type": "code",
      "execution_count": null,
      "id": "4a301977",
      "metadata": {
        "id": "4a301977"
      },
      "outputs": [],
      "source": [
        "@tf.function\n",
        "def train_step(inp, targ, enc_hidden):\n",
        "  loss = 0\n",
        "\n",
        "  with tf.GradientTape() as tape:\n",
        "    enc_output, enc_hidden = encoder(inp, enc_hidden)\n",
        "\n",
        "    dec_hidden = enc_hidden\n",
        "\n",
        "    dec_input = tf.expand_dims([targ_lang.word_index['<start>']] * BATCH_SIZE, 1)\n",
        "\n",
        "    # Teacher forcing - feeding the target as the next input\n",
        "    for t in range(1, targ.shape[1]):\n",
        "      # passing enc_output to the decoder\n",
        "      predictions, dec_hidden, _ = decoder(dec_input, dec_hidden, enc_output)\n",
        "\n",
        "      loss += loss_function(targ[:, t], predictions)\n",
        "\n",
        "      # using teacher forcing\n",
        "      dec_input = tf.expand_dims(targ[:, t], 1)\n",
        "\n",
        "  batch_loss = (loss / int(targ.shape[1]))\n",
        "\n",
        "  variables = encoder.trainable_variables + decoder.trainable_variables\n",
        "\n",
        "  gradients = tape.gradient(loss, variables)\n",
        "\n",
        "  optimizer.apply_gradients(zip(gradients, variables))\n",
        "\n",
        "  return batch_loss"
      ]
    },
    {
      "cell_type": "code",
      "execution_count": null,
      "id": "ec8dcdf3",
      "metadata": {
        "id": "ec8dcdf3",
        "outputId": "262c2336-d540-48bb-f625-7a8eac6d80f3"
      },
      "outputs": [
        {
          "name": "stdout",
          "output_type": "stream",
          "text": [
            "Epoch 1 Batch 0 Loss 0.0663\n",
            "Epoch 1 Batch 100 Loss 0.0421\n",
            "Epoch 1 Batch 200 Loss 0.0647\n",
            "Epoch 1 Batch 300 Loss 0.0521\n",
            "Epoch 1 Batch 400 Loss 0.0450\n",
            "Epoch 1 Batch 500 Loss 0.0753\n",
            "Epoch 1 Batch 600 Loss 0.0420\n",
            "Epoch 1 Batch 700 Loss 0.0631\n",
            "Epoch 1 Batch 800 Loss 0.0491\n",
            "Epoch 1 Batch 900 Loss 0.0297\n",
            "Epoch 1 Batch 1000 Loss 0.0693\n",
            "Epoch 1 Batch 1100 Loss 0.0665\n",
            "Epoch 1 Batch 1200 Loss 0.0765\n",
            "Epoch 1 Loss 0.0591\n",
            "Time taken for 1 epoch 183.9663519859314 sec\n",
            "\n",
            "Epoch 2 Batch 0 Loss 0.0415\n",
            "Epoch 2 Batch 100 Loss 0.0409\n",
            "Epoch 2 Batch 200 Loss 0.0537\n",
            "Epoch 2 Batch 300 Loss 0.0512\n",
            "Epoch 2 Batch 400 Loss 0.0355\n",
            "Epoch 2 Batch 500 Loss 0.0654\n",
            "Epoch 2 Batch 600 Loss 0.0820\n",
            "Epoch 2 Batch 700 Loss 0.0726\n",
            "Epoch 2 Batch 800 Loss 0.0512\n",
            "Epoch 2 Batch 900 Loss 0.0622\n",
            "Epoch 2 Batch 1000 Loss 0.0530\n",
            "Epoch 2 Batch 1100 Loss 0.0577\n",
            "Epoch 2 Batch 1200 Loss 0.0678\n",
            "Epoch 2 Loss 0.0568\n",
            "Time taken for 1 epoch 182.51702308654785 sec\n",
            "\n",
            "Epoch 3 Batch 0 Loss 0.0449\n",
            "Epoch 3 Batch 100 Loss 0.0652\n",
            "Epoch 3 Batch 200 Loss 0.0634\n",
            "Epoch 3 Batch 300 Loss 0.0393\n",
            "Epoch 3 Batch 400 Loss 0.0656\n",
            "Epoch 3 Batch 500 Loss 0.0532\n",
            "Epoch 3 Batch 600 Loss 0.0791\n",
            "Epoch 3 Batch 700 Loss 0.0379\n",
            "Epoch 3 Batch 800 Loss 0.0500\n",
            "Epoch 3 Batch 900 Loss 0.0456\n",
            "Epoch 3 Batch 1000 Loss 0.0616\n",
            "Epoch 3 Batch 1100 Loss 0.0510\n",
            "Epoch 3 Batch 1200 Loss 0.0850\n",
            "Epoch 3 Loss 0.0534\n",
            "Time taken for 1 epoch 181.6143081188202 sec\n",
            "\n",
            "Epoch 4 Batch 0 Loss 0.0387\n",
            "Epoch 4 Batch 100 Loss 0.0307\n",
            "Epoch 4 Batch 200 Loss 0.0405\n",
            "Epoch 4 Batch 300 Loss 0.0417\n",
            "Epoch 4 Batch 400 Loss 0.0324\n",
            "Epoch 4 Batch 500 Loss 0.0542\n",
            "Epoch 4 Batch 600 Loss 0.0579\n",
            "Epoch 4 Batch 700 Loss 0.0264\n",
            "Epoch 4 Batch 800 Loss 0.0405\n",
            "Epoch 4 Batch 900 Loss 0.0692\n",
            "Epoch 4 Batch 1000 Loss 0.0463\n",
            "Epoch 4 Batch 1100 Loss 0.0693\n",
            "Epoch 4 Batch 1200 Loss 0.0884\n",
            "Epoch 4 Loss 0.0528\n",
            "Time taken for 1 epoch 185.59885025024414 sec\n",
            "\n",
            "Epoch 5 Batch 0 Loss 0.0772\n",
            "Epoch 5 Batch 100 Loss 0.0304\n",
            "Epoch 5 Batch 200 Loss 0.0147\n",
            "Epoch 5 Batch 300 Loss 0.0738\n",
            "Epoch 5 Batch 400 Loss 0.0516\n",
            "Epoch 5 Batch 500 Loss 0.0355\n",
            "Epoch 5 Batch 600 Loss 0.0517\n",
            "Epoch 5 Batch 700 Loss 0.0577\n",
            "Epoch 5 Batch 800 Loss 0.0256\n",
            "Epoch 5 Batch 900 Loss 0.0462\n",
            "Epoch 5 Batch 1000 Loss 0.0661\n",
            "Epoch 5 Batch 1100 Loss 0.0452\n",
            "Epoch 5 Batch 1200 Loss 0.0780\n",
            "Epoch 5 Loss 0.0513\n",
            "Time taken for 1 epoch 187.7342882156372 sec\n",
            "\n",
            "Epoch 6 Batch 0 Loss 0.0401\n",
            "Epoch 6 Batch 100 Loss 0.0424\n",
            "Epoch 6 Batch 200 Loss 0.0705\n",
            "Epoch 6 Batch 300 Loss 0.0674\n",
            "Epoch 6 Batch 400 Loss 0.0692\n",
            "Epoch 6 Batch 500 Loss 0.0515\n",
            "Epoch 6 Batch 600 Loss 0.0427\n",
            "Epoch 6 Batch 700 Loss 0.0452\n",
            "Epoch 6 Batch 800 Loss 0.0441\n",
            "Epoch 6 Batch 900 Loss 0.0334\n",
            "Epoch 6 Batch 1000 Loss 0.0622\n",
            "Epoch 6 Batch 1100 Loss 0.0509\n",
            "Epoch 6 Batch 1200 Loss 0.0750\n",
            "Epoch 6 Loss 0.0511\n",
            "Time taken for 1 epoch 189.51867508888245 sec\n",
            "\n",
            "Epoch 7 Batch 0 Loss 0.0926\n",
            "Epoch 7 Batch 100 Loss 0.0549\n",
            "Epoch 7 Batch 200 Loss 0.0300\n",
            "Epoch 7 Batch 300 Loss 0.0291\n",
            "Epoch 7 Batch 400 Loss 0.0485\n",
            "Epoch 7 Batch 500 Loss 0.0399\n",
            "Epoch 7 Batch 600 Loss 0.0382\n",
            "Epoch 7 Batch 700 Loss 0.0431\n",
            "Epoch 7 Batch 800 Loss 0.0444\n",
            "Epoch 7 Batch 900 Loss 0.0596\n",
            "Epoch 7 Batch 1000 Loss 0.0615\n",
            "Epoch 7 Batch 1100 Loss 0.0368\n",
            "Epoch 7 Batch 1200 Loss 0.0485\n",
            "Epoch 7 Loss 0.0493\n",
            "Time taken for 1 epoch 185.49486422538757 sec\n",
            "\n",
            "Epoch 8 Batch 0 Loss 0.0303\n",
            "Epoch 8 Batch 100 Loss 0.0776\n",
            "Epoch 8 Batch 200 Loss 0.0573\n",
            "Epoch 8 Batch 300 Loss 0.0371\n",
            "Epoch 8 Batch 400 Loss 0.0380\n",
            "Epoch 8 Batch 500 Loss 0.0423\n",
            "Epoch 8 Batch 600 Loss 0.0722\n",
            "Epoch 8 Batch 700 Loss 0.0344\n",
            "Epoch 8 Batch 800 Loss 0.0485\n",
            "Epoch 8 Batch 900 Loss 0.0559\n",
            "Epoch 8 Batch 1000 Loss 0.0350\n",
            "Epoch 8 Batch 1100 Loss 0.0631\n",
            "Epoch 8 Batch 1200 Loss 0.0607\n",
            "Epoch 8 Loss 0.0481\n",
            "Time taken for 1 epoch 184.2389760017395 sec\n",
            "\n",
            "Epoch 9 Batch 0 Loss 0.0223\n",
            "Epoch 9 Batch 100 Loss 0.0248\n",
            "Epoch 9 Batch 200 Loss 0.0355\n",
            "Epoch 9 Batch 300 Loss 0.0361\n",
            "Epoch 9 Batch 400 Loss 0.0428\n",
            "Epoch 9 Batch 500 Loss 0.0504\n",
            "Epoch 9 Batch 600 Loss 0.0577\n",
            "Epoch 9 Batch 700 Loss 0.0538\n",
            "Epoch 9 Batch 800 Loss 0.0727\n",
            "Epoch 9 Batch 900 Loss 0.0453\n",
            "Epoch 9 Batch 1000 Loss 0.0580\n",
            "Epoch 9 Batch 1100 Loss 0.0456\n",
            "Epoch 9 Batch 1200 Loss 0.0650\n",
            "Epoch 9 Loss 0.0467\n",
            "Time taken for 1 epoch 183.208327293396 sec\n",
            "\n",
            "Epoch 10 Batch 0 Loss 0.0431\n",
            "Epoch 10 Batch 100 Loss 0.0529\n",
            "Epoch 10 Batch 200 Loss 0.0706\n",
            "Epoch 10 Batch 300 Loss 0.0352\n",
            "Epoch 10 Batch 400 Loss 0.0348\n",
            "Epoch 10 Batch 500 Loss 0.0636\n",
            "Epoch 10 Batch 600 Loss 0.0378\n",
            "Epoch 10 Batch 700 Loss 0.0358\n",
            "Epoch 10 Batch 800 Loss 0.0445\n",
            "Epoch 10 Batch 900 Loss 0.0802\n",
            "Epoch 10 Batch 1000 Loss 0.0710\n",
            "Epoch 10 Batch 1100 Loss 0.0819\n",
            "Epoch 10 Batch 1200 Loss 0.0456\n",
            "Epoch 10 Loss 0.0468\n",
            "Time taken for 1 epoch 183.8575849533081 sec\n",
            "\n",
            "Epoch 11 Batch 0 Loss 0.0271\n",
            "Epoch 11 Batch 100 Loss 0.0485\n",
            "Epoch 11 Batch 200 Loss 0.0304\n",
            "Epoch 11 Batch 300 Loss 0.0452\n",
            "Epoch 11 Batch 400 Loss 0.0352\n",
            "Epoch 11 Batch 500 Loss 0.0639\n",
            "Epoch 11 Batch 600 Loss 0.0509\n",
            "Epoch 11 Batch 700 Loss 0.0252\n",
            "Epoch 11 Batch 800 Loss 0.0377\n",
            "Epoch 11 Batch 900 Loss 0.0575\n",
            "Epoch 11 Batch 1000 Loss 0.0352\n",
            "Epoch 11 Batch 1100 Loss 0.0531\n",
            "Epoch 11 Batch 1200 Loss 0.0408\n",
            "Epoch 11 Loss 0.0464\n",
            "Time taken for 1 epoch 181.9284861087799 sec\n",
            "\n",
            "Epoch 12 Batch 0 Loss 0.0317\n",
            "Epoch 12 Batch 100 Loss 0.0199\n",
            "Epoch 12 Batch 200 Loss 0.0492\n",
            "Epoch 12 Batch 300 Loss 0.0337\n",
            "Epoch 12 Batch 400 Loss 0.0431\n",
            "Epoch 12 Batch 500 Loss 0.0610\n",
            "Epoch 12 Batch 600 Loss 0.0611\n",
            "Epoch 12 Batch 700 Loss 0.0747\n",
            "Epoch 12 Batch 800 Loss 0.0292\n",
            "Epoch 12 Batch 900 Loss 0.0395\n",
            "Epoch 12 Batch 1000 Loss 0.0506\n",
            "Epoch 12 Batch 1100 Loss 0.0744\n",
            "Epoch 12 Batch 1200 Loss 0.0642\n",
            "Epoch 12 Loss 0.0458\n",
            "Time taken for 1 epoch 181.50722527503967 sec\n",
            "\n",
            "Epoch 13 Batch 0 Loss 0.0437\n",
            "Epoch 13 Batch 100 Loss 0.0347\n",
            "Epoch 13 Batch 200 Loss 0.0458\n",
            "Epoch 13 Batch 300 Loss 0.0366\n",
            "Epoch 13 Batch 400 Loss 0.0450\n",
            "Epoch 13 Batch 500 Loss 0.0338\n",
            "Epoch 13 Batch 600 Loss 0.0437\n",
            "Epoch 13 Batch 700 Loss 0.0588\n",
            "Epoch 13 Batch 800 Loss 0.0475\n",
            "Epoch 13 Batch 900 Loss 0.0569\n",
            "Epoch 13 Batch 1000 Loss 0.0615\n",
            "Epoch 13 Batch 1100 Loss 0.0406\n",
            "Epoch 13 Batch 1200 Loss 0.0877\n",
            "Epoch 13 Loss 0.0446\n",
            "Time taken for 1 epoch 736.8581671714783 sec\n",
            "\n",
            "Epoch 14 Batch 0 Loss 0.0539\n",
            "Epoch 14 Batch 100 Loss 0.0181\n",
            "Epoch 14 Batch 200 Loss 0.0551\n",
            "Epoch 14 Batch 300 Loss 0.0206\n",
            "Epoch 14 Batch 400 Loss 0.0672\n",
            "Epoch 14 Batch 500 Loss 0.0372\n",
            "Epoch 14 Batch 600 Loss 0.0396\n",
            "Epoch 14 Batch 700 Loss 0.0614\n",
            "Epoch 14 Batch 800 Loss 0.0479\n",
            "Epoch 14 Batch 900 Loss 0.0411\n",
            "Epoch 14 Batch 1000 Loss 0.0421\n",
            "Epoch 14 Batch 1100 Loss 0.0713\n",
            "Epoch 14 Batch 1200 Loss 0.0653\n",
            "Epoch 14 Loss 0.0454\n",
            "Time taken for 1 epoch 568.8920030593872 sec\n",
            "\n",
            "Epoch 15 Batch 0 Loss 0.0346\n",
            "Epoch 15 Batch 100 Loss 0.0428\n",
            "Epoch 15 Batch 200 Loss 0.0286\n",
            "Epoch 15 Batch 300 Loss 0.0355\n",
            "Epoch 15 Batch 400 Loss 0.0467\n",
            "Epoch 15 Batch 500 Loss 0.0388\n",
            "Epoch 15 Batch 600 Loss 0.0627\n",
            "Epoch 15 Batch 700 Loss 0.0347\n",
            "Epoch 15 Batch 800 Loss 0.0458\n",
            "Epoch 15 Batch 900 Loss 0.0358\n",
            "Epoch 15 Batch 1000 Loss 0.0394\n",
            "Epoch 15 Batch 1100 Loss 0.0286\n",
            "Epoch 15 Batch 1200 Loss 0.0543\n",
            "Epoch 15 Loss 0.0434\n",
            "Time taken for 1 epoch 179.7800738811493 sec\n",
            "\n",
            "Epoch 16 Batch 0 Loss 0.0216\n",
            "Epoch 16 Batch 100 Loss 0.0458\n",
            "Epoch 16 Batch 200 Loss 0.0456\n",
            "Epoch 16 Batch 300 Loss 0.0321\n",
            "Epoch 16 Batch 400 Loss 0.0346\n",
            "Epoch 16 Batch 500 Loss 0.0467\n",
            "Epoch 16 Batch 600 Loss 0.0395\n",
            "Epoch 16 Batch 700 Loss 0.0335\n",
            "Epoch 16 Batch 800 Loss 0.0576\n",
            "Epoch 16 Batch 900 Loss 0.0542\n",
            "Epoch 16 Batch 1000 Loss 0.0442\n",
            "Epoch 16 Batch 1100 Loss 0.0465\n",
            "Epoch 16 Batch 1200 Loss 0.0300\n",
            "Epoch 16 Loss 0.0414\n",
            "Time taken for 1 epoch 183.1161549091339 sec\n",
            "\n",
            "Epoch 17 Batch 0 Loss 0.0378\n",
            "Epoch 17 Batch 100 Loss 0.0500\n",
            "Epoch 17 Batch 200 Loss 0.0450\n",
            "Epoch 17 Batch 300 Loss 0.0328\n",
            "Epoch 17 Batch 400 Loss 0.0374\n",
            "Epoch 17 Batch 500 Loss 0.0206\n",
            "Epoch 17 Batch 600 Loss 0.0485\n",
            "Epoch 17 Batch 700 Loss 0.0264\n",
            "Epoch 17 Batch 800 Loss 0.0418\n",
            "Epoch 17 Batch 900 Loss 0.0504\n",
            "Epoch 17 Batch 1000 Loss 0.0448\n",
            "Epoch 17 Batch 1100 Loss 0.0490\n",
            "Epoch 17 Batch 1200 Loss 0.0457\n",
            "Epoch 17 Loss 0.0421\n",
            "Time taken for 1 epoch 182.4835650920868 sec\n",
            "\n",
            "Epoch 18 Batch 0 Loss 0.0563\n",
            "Epoch 18 Batch 100 Loss 0.0502\n",
            "Epoch 18 Batch 200 Loss 0.0312\n",
            "Epoch 18 Batch 300 Loss 0.0425\n",
            "Epoch 18 Batch 400 Loss 0.0245\n",
            "Epoch 18 Batch 500 Loss 0.0329\n",
            "Epoch 18 Batch 600 Loss 0.0453\n",
            "Epoch 18 Batch 700 Loss 0.0455\n",
            "Epoch 18 Batch 800 Loss 0.0499\n",
            "Epoch 18 Batch 900 Loss 0.0546\n"
          ]
        },
        {
          "name": "stdout",
          "output_type": "stream",
          "text": [
            "Epoch 18 Batch 1000 Loss 0.0534\n",
            "Epoch 18 Batch 1100 Loss 0.0626\n",
            "Epoch 18 Batch 1200 Loss 0.0520\n",
            "Epoch 18 Loss 0.0427\n",
            "Time taken for 1 epoch 183.53111720085144 sec\n",
            "\n",
            "Epoch 19 Batch 0 Loss 0.0283\n",
            "Epoch 19 Batch 100 Loss 0.0354\n",
            "Epoch 19 Batch 200 Loss 0.0418\n",
            "Epoch 19 Batch 300 Loss 0.0323\n",
            "Epoch 19 Batch 400 Loss 0.0375\n",
            "Epoch 19 Batch 500 Loss 0.0280\n",
            "Epoch 19 Batch 600 Loss 0.0470\n",
            "Epoch 19 Batch 700 Loss 0.0642\n",
            "Epoch 19 Batch 800 Loss 0.0402\n",
            "Epoch 19 Batch 900 Loss 0.0354\n",
            "Epoch 19 Batch 1000 Loss 0.0476\n",
            "Epoch 19 Batch 1100 Loss 0.0513\n",
            "Epoch 19 Batch 1200 Loss 0.0407\n",
            "Epoch 19 Loss 0.0416\n",
            "Time taken for 1 epoch 179.7268888950348 sec\n",
            "\n",
            "Epoch 20 Batch 0 Loss 0.0434\n",
            "Epoch 20 Batch 100 Loss 0.0296\n",
            "Epoch 20 Batch 200 Loss 0.0449\n",
            "Epoch 20 Batch 300 Loss 0.0393\n",
            "Epoch 20 Batch 400 Loss 0.0318\n",
            "Epoch 20 Batch 500 Loss 0.0477\n",
            "Epoch 20 Batch 600 Loss 0.0300\n",
            "Epoch 20 Batch 700 Loss 0.0566\n",
            "Epoch 20 Batch 800 Loss 0.0489\n",
            "Epoch 20 Batch 900 Loss 0.0384\n",
            "Epoch 20 Batch 1000 Loss 0.0335\n",
            "Epoch 20 Batch 1100 Loss 0.0566\n",
            "Epoch 20 Batch 1200 Loss 0.0433\n",
            "Epoch 20 Loss 0.0413\n",
            "Time taken for 1 epoch 181.23992538452148 sec\n",
            "\n",
            "Epoch 21 Batch 0 Loss 0.0293\n",
            "Epoch 21 Batch 100 Loss 0.0455\n",
            "Epoch 21 Batch 200 Loss 0.0300\n",
            "Epoch 21 Batch 300 Loss 0.0120\n",
            "Epoch 21 Batch 400 Loss 0.0429\n",
            "Epoch 21 Batch 500 Loss 0.0255\n",
            "Epoch 21 Batch 600 Loss 0.0255\n",
            "Epoch 21 Batch 700 Loss 0.0656\n",
            "Epoch 21 Batch 800 Loss 0.0700\n",
            "Epoch 21 Batch 900 Loss 0.0636\n",
            "Epoch 21 Batch 1000 Loss 0.0624\n",
            "Epoch 21 Batch 1100 Loss 0.0309\n",
            "Epoch 21 Batch 1200 Loss 0.0413\n",
            "Epoch 21 Loss 0.0400\n",
            "Time taken for 1 epoch 180.75454831123352 sec\n",
            "\n",
            "Epoch 22 Batch 0 Loss 0.0155\n",
            "Epoch 22 Batch 100 Loss 0.0612\n",
            "Epoch 22 Batch 200 Loss 0.0295\n",
            "Epoch 22 Batch 300 Loss 0.0475\n",
            "Epoch 22 Batch 400 Loss 0.0221\n",
            "Epoch 22 Batch 500 Loss 0.0441\n",
            "Epoch 22 Batch 600 Loss 0.0438\n",
            "Epoch 22 Batch 700 Loss 0.0431\n",
            "Epoch 22 Batch 800 Loss 0.0256\n",
            "Epoch 22 Batch 900 Loss 0.0703\n",
            "Epoch 22 Batch 1000 Loss 0.0526\n",
            "Epoch 22 Batch 1100 Loss 0.0150\n",
            "Epoch 22 Batch 1200 Loss 0.0386\n",
            "Epoch 22 Loss 0.0400\n",
            "Time taken for 1 epoch 180.33823108673096 sec\n",
            "\n",
            "Epoch 23 Batch 0 Loss 0.0274\n",
            "Epoch 23 Batch 100 Loss 0.0515\n",
            "Epoch 23 Batch 200 Loss 0.0242\n",
            "Epoch 23 Batch 300 Loss 0.0254\n",
            "Epoch 23 Batch 400 Loss 0.0304\n",
            "Epoch 23 Batch 500 Loss 0.0495\n",
            "Epoch 23 Batch 600 Loss 0.0253\n",
            "Epoch 23 Batch 700 Loss 0.0430\n",
            "Epoch 23 Batch 800 Loss 0.0371\n",
            "Epoch 23 Batch 900 Loss 0.0405\n",
            "Epoch 23 Batch 1000 Loss 0.0438\n",
            "Epoch 23 Batch 1100 Loss 0.0746\n",
            "Epoch 23 Batch 1200 Loss 0.0620\n",
            "Epoch 23 Loss 0.0396\n",
            "Time taken for 1 epoch 180.7514500617981 sec\n",
            "\n",
            "Epoch 24 Batch 0 Loss 0.0171\n",
            "Epoch 24 Batch 100 Loss 0.0328\n",
            "Epoch 24 Batch 200 Loss 0.0271\n",
            "Epoch 24 Batch 300 Loss 0.0608\n",
            "Epoch 24 Batch 400 Loss 0.0226\n",
            "Epoch 24 Batch 500 Loss 0.0521\n",
            "Epoch 24 Batch 600 Loss 0.0658\n",
            "Epoch 24 Batch 700 Loss 0.0293\n",
            "Epoch 24 Batch 800 Loss 0.0181\n",
            "Epoch 24 Batch 900 Loss 0.0616\n",
            "Epoch 24 Batch 1000 Loss 0.0469\n",
            "Epoch 24 Batch 1100 Loss 0.1127\n",
            "Epoch 24 Batch 1200 Loss 0.0485\n",
            "Epoch 24 Loss 0.0399\n",
            "Time taken for 1 epoch 1675.3694121837616 sec\n",
            "\n",
            "Epoch 25 Batch 0 Loss 0.0234\n",
            "Epoch 25 Batch 100 Loss 0.0274\n",
            "Epoch 25 Batch 200 Loss 0.0346\n",
            "Epoch 25 Batch 300 Loss 0.0303\n",
            "Epoch 25 Batch 400 Loss 0.0352\n",
            "Epoch 25 Batch 500 Loss 0.0336\n",
            "Epoch 25 Batch 600 Loss 0.0400\n",
            "Epoch 25 Batch 700 Loss 0.0379\n",
            "Epoch 25 Batch 800 Loss 0.0383\n",
            "Epoch 25 Batch 900 Loss 0.0429\n",
            "Epoch 25 Batch 1000 Loss 0.0524\n",
            "Epoch 25 Batch 1100 Loss 0.0559\n",
            "Epoch 25 Batch 1200 Loss 0.0779\n",
            "Epoch 25 Loss 0.0395\n",
            "Time taken for 1 epoch 468.28155612945557 sec\n",
            "\n",
            "Epoch 26 Batch 0 Loss 0.0470\n",
            "Epoch 26 Batch 100 Loss 0.0259\n",
            "Epoch 26 Batch 200 Loss 0.0369\n",
            "Epoch 26 Batch 300 Loss 0.0223\n",
            "Epoch 26 Batch 400 Loss 0.0300\n",
            "Epoch 26 Batch 500 Loss 0.0360\n",
            "Epoch 26 Batch 600 Loss 0.0304\n",
            "Epoch 26 Batch 700 Loss 0.0369\n",
            "Epoch 26 Batch 800 Loss 0.0571\n",
            "Epoch 26 Batch 900 Loss 0.0283\n",
            "Epoch 26 Batch 1000 Loss 0.0620\n",
            "Epoch 26 Batch 1100 Loss 0.0317\n",
            "Epoch 26 Batch 1200 Loss 0.0861\n",
            "Epoch 26 Loss 0.0392\n",
            "Time taken for 1 epoch 2060.1613969802856 sec\n",
            "\n",
            "Epoch 27 Batch 0 Loss 0.0408\n",
            "Epoch 27 Batch 100 Loss 0.0288\n",
            "Epoch 27 Batch 200 Loss 0.0342\n",
            "Epoch 27 Batch 300 Loss 0.0425\n",
            "Epoch 27 Batch 400 Loss 0.0157\n",
            "Epoch 27 Batch 500 Loss 0.0401\n",
            "Epoch 27 Batch 600 Loss 0.0343\n",
            "Epoch 27 Batch 700 Loss 0.0315\n",
            "Epoch 27 Batch 800 Loss 0.0318\n",
            "Epoch 27 Batch 900 Loss 0.0339\n",
            "Epoch 27 Batch 1000 Loss 0.0247\n",
            "Epoch 27 Batch 1100 Loss 0.0516\n",
            "Epoch 27 Batch 1200 Loss 0.0380\n",
            "Epoch 27 Loss 0.0391\n",
            "Time taken for 1 epoch 197.59103512763977 sec\n",
            "\n",
            "Epoch 28 Batch 0 Loss 0.0198\n",
            "Epoch 28 Batch 100 Loss 0.0171\n",
            "Epoch 28 Batch 200 Loss 0.0185\n",
            "Epoch 28 Batch 300 Loss 0.0186\n",
            "Epoch 28 Batch 400 Loss 0.0310\n",
            "Epoch 28 Batch 500 Loss 0.0319\n",
            "Epoch 28 Batch 600 Loss 0.0320\n",
            "Epoch 28 Batch 700 Loss 0.0373\n",
            "Epoch 28 Batch 800 Loss 0.0859\n",
            "Epoch 28 Batch 900 Loss 0.0283\n",
            "Epoch 28 Batch 1000 Loss 0.0454\n",
            "Epoch 28 Batch 1100 Loss 0.0263\n",
            "Epoch 28 Batch 1200 Loss 0.0321\n",
            "Epoch 28 Loss 0.0382\n",
            "Time taken for 1 epoch 1452.8199591636658 sec\n",
            "\n",
            "Epoch 29 Batch 0 Loss 0.0333\n",
            "Epoch 29 Batch 100 Loss 0.0519\n",
            "Epoch 29 Batch 200 Loss 0.0364\n",
            "Epoch 29 Batch 300 Loss 0.0213\n",
            "Epoch 29 Batch 400 Loss 0.0406\n",
            "Epoch 29 Batch 500 Loss 0.0198\n",
            "Epoch 29 Batch 600 Loss 0.0454\n",
            "Epoch 29 Batch 700 Loss 0.0351\n",
            "Epoch 29 Batch 800 Loss 0.0133\n",
            "Epoch 29 Batch 900 Loss 0.0483\n",
            "Epoch 29 Batch 1000 Loss 0.0573\n",
            "Epoch 29 Batch 1100 Loss 0.0342\n",
            "Epoch 29 Batch 1200 Loss 0.0261\n",
            "Epoch 29 Loss 0.0376\n",
            "Time taken for 1 epoch 1201.730938911438 sec\n",
            "\n",
            "Epoch 30 Batch 0 Loss 0.0242\n",
            "Epoch 30 Batch 100 Loss 0.0358\n",
            "Epoch 30 Batch 200 Loss 0.0142\n",
            "Epoch 30 Batch 300 Loss 0.0291\n",
            "Epoch 30 Batch 400 Loss 0.0337\n",
            "Epoch 30 Batch 500 Loss 0.0391\n",
            "Epoch 30 Batch 600 Loss 0.0254\n",
            "Epoch 30 Batch 700 Loss 0.0366\n",
            "Epoch 30 Batch 800 Loss 0.0510\n",
            "Epoch 30 Batch 900 Loss 0.0354\n",
            "Epoch 30 Batch 1000 Loss 0.0538\n",
            "Epoch 30 Batch 1100 Loss 0.0476\n",
            "Epoch 30 Batch 1200 Loss 0.0519\n",
            "Epoch 30 Loss 0.0381\n",
            "Time taken for 1 epoch 180.3863661289215 sec\n",
            "\n",
            "Epoch 31 Batch 0 Loss 0.0116\n",
            "Epoch 31 Batch 100 Loss 0.0227\n",
            "Epoch 31 Batch 200 Loss 0.0182\n",
            "Epoch 31 Batch 300 Loss 0.0700\n",
            "Epoch 31 Batch 400 Loss 0.0481\n",
            "Epoch 31 Batch 500 Loss 0.0371\n",
            "Epoch 31 Batch 600 Loss 0.0283\n",
            "Epoch 31 Batch 700 Loss 0.0250\n",
            "Epoch 31 Batch 800 Loss 0.0400\n",
            "Epoch 31 Batch 900 Loss 0.0511\n",
            "Epoch 31 Batch 1000 Loss 0.0460\n",
            "Epoch 31 Batch 1100 Loss 0.0609\n",
            "Epoch 31 Batch 1200 Loss 0.0498\n",
            "Epoch 31 Loss 0.0385\n",
            "Time taken for 1 epoch 180.06465101242065 sec\n",
            "\n",
            "Epoch 32 Batch 0 Loss 0.0180\n",
            "Epoch 32 Batch 100 Loss 0.0510\n",
            "Epoch 32 Batch 200 Loss 0.0360\n",
            "Epoch 32 Batch 300 Loss 0.0248\n",
            "Epoch 32 Batch 400 Loss 0.0396\n",
            "Epoch 32 Batch 500 Loss 0.0224\n",
            "Epoch 32 Batch 600 Loss 0.0361\n",
            "Epoch 32 Batch 700 Loss 0.0234\n",
            "Epoch 32 Batch 800 Loss 0.0335\n",
            "Epoch 32 Batch 900 Loss 0.0419\n",
            "Epoch 32 Batch 1000 Loss 0.0545\n",
            "Epoch 32 Batch 1100 Loss 0.0611\n",
            "Epoch 32 Batch 1200 Loss 0.0529\n",
            "Epoch 32 Loss 0.0367\n",
            "Time taken for 1 epoch 181.13634610176086 sec\n",
            "\n",
            "Epoch 33 Batch 0 Loss 0.0285\n",
            "Epoch 33 Batch 100 Loss 0.0113\n",
            "Epoch 33 Batch 200 Loss 0.0417\n",
            "Epoch 33 Batch 300 Loss 0.0175\n",
            "Epoch 33 Batch 400 Loss 0.0421\n",
            "Epoch 33 Batch 500 Loss 0.0370\n",
            "Epoch 33 Batch 600 Loss 0.0214\n",
            "Epoch 33 Batch 700 Loss 0.0286\n",
            "Epoch 33 Batch 800 Loss 0.0274\n",
            "Epoch 33 Batch 900 Loss 0.0281\n",
            "Epoch 33 Batch 1000 Loss 0.0599\n",
            "Epoch 33 Batch 1100 Loss 0.0384\n",
            "Epoch 33 Batch 1200 Loss 0.0618\n",
            "Epoch 33 Loss 0.0374\n",
            "Time taken for 1 epoch 182.40628290176392 sec\n",
            "\n",
            "Epoch 34 Batch 0 Loss 0.0309\n",
            "Epoch 34 Batch 100 Loss 0.0181\n",
            "Epoch 34 Batch 200 Loss 0.0571\n",
            "Epoch 34 Batch 300 Loss 0.0343\n",
            "Epoch 34 Batch 400 Loss 0.0516\n",
            "Epoch 34 Batch 500 Loss 0.0510\n",
            "Epoch 34 Batch 600 Loss 0.0310\n",
            "Epoch 34 Batch 700 Loss 0.0351\n",
            "Epoch 34 Batch 800 Loss 0.0216\n",
            "Epoch 34 Batch 900 Loss 0.0325\n",
            "Epoch 34 Batch 1000 Loss 0.0451\n",
            "Epoch 34 Batch 1100 Loss 0.0467\n",
            "Epoch 34 Batch 1200 Loss 0.0421\n",
            "Epoch 34 Loss 0.0381\n",
            "Time taken for 1 epoch 182.49471306800842 sec\n",
            "\n",
            "Epoch 35 Batch 0 Loss 0.0227\n",
            "Epoch 35 Batch 100 Loss 0.0521\n",
            "Epoch 35 Batch 200 Loss 0.0185\n",
            "Epoch 35 Batch 300 Loss 0.0279\n",
            "Epoch 35 Batch 400 Loss 0.0197\n",
            "Epoch 35 Batch 500 Loss 0.0274\n",
            "Epoch 35 Batch 600 Loss 0.0422\n",
            "Epoch 35 Batch 700 Loss 0.0342\n",
            "Epoch 35 Batch 800 Loss 0.0384\n",
            "Epoch 35 Batch 900 Loss 0.0501\n",
            "Epoch 35 Batch 1000 Loss 0.0264\n",
            "Epoch 35 Batch 1100 Loss 0.0566\n",
            "Epoch 35 Batch 1200 Loss 0.0516\n",
            "Epoch 35 Loss 0.0372\n",
            "Time taken for 1 epoch 180.28899312019348 sec\n",
            "\n",
            "Epoch 36 Batch 0 Loss 0.0312\n"
          ]
        },
        {
          "name": "stdout",
          "output_type": "stream",
          "text": [
            "Epoch 36 Batch 100 Loss 0.0256\n",
            "Epoch 36 Batch 200 Loss 0.0354\n",
            "Epoch 36 Batch 300 Loss 0.0348\n",
            "Epoch 36 Batch 400 Loss 0.0321\n",
            "Epoch 36 Batch 500 Loss 0.0433\n",
            "Epoch 36 Batch 600 Loss 0.0275\n",
            "Epoch 36 Batch 700 Loss 0.0369\n",
            "Epoch 36 Batch 800 Loss 0.0340\n",
            "Epoch 36 Batch 900 Loss 0.0460\n",
            "Epoch 36 Batch 1000 Loss 0.0252\n",
            "Epoch 36 Batch 1100 Loss 0.0542\n",
            "Epoch 36 Batch 1200 Loss 0.0745\n",
            "Epoch 36 Loss 0.0361\n",
            "Time taken for 1 epoch 180.4172179698944 sec\n",
            "\n",
            "Epoch 37 Batch 0 Loss 0.0376\n",
            "Epoch 37 Batch 100 Loss 0.0280\n",
            "Epoch 37 Batch 200 Loss 0.0186\n",
            "Epoch 37 Batch 300 Loss 0.0413\n",
            "Epoch 37 Batch 400 Loss 0.0405\n",
            "Epoch 37 Batch 500 Loss 0.0421\n",
            "Epoch 37 Batch 600 Loss 0.0361\n",
            "Epoch 37 Batch 700 Loss 0.0293\n",
            "Epoch 37 Batch 800 Loss 0.0218\n",
            "Epoch 37 Batch 900 Loss 0.0436\n",
            "Epoch 37 Batch 1000 Loss 0.0503\n",
            "Epoch 37 Batch 1100 Loss 0.0405\n",
            "Epoch 37 Batch 1200 Loss 0.0664\n",
            "Epoch 37 Loss 0.0364\n",
            "Time taken for 1 epoch 180.01415395736694 sec\n",
            "\n",
            "Epoch 38 Batch 0 Loss 0.0456\n",
            "Epoch 38 Batch 100 Loss 0.0120\n",
            "Epoch 38 Batch 200 Loss 0.0277\n",
            "Epoch 38 Batch 300 Loss 0.0244\n",
            "Epoch 38 Batch 400 Loss 0.0406\n",
            "Epoch 38 Batch 500 Loss 0.0272\n",
            "Epoch 38 Batch 600 Loss 0.0367\n",
            "Epoch 38 Batch 700 Loss 0.0418\n",
            "Epoch 38 Batch 800 Loss 0.0297\n",
            "Epoch 38 Batch 900 Loss 0.0650\n",
            "Epoch 38 Batch 1000 Loss 0.0315\n",
            "Epoch 38 Batch 1100 Loss 0.0407\n",
            "Epoch 38 Batch 1200 Loss 0.0250\n",
            "Epoch 38 Loss 0.0362\n",
            "Time taken for 1 epoch 1351.863263130188 sec\n",
            "\n",
            "Epoch 39 Batch 0 Loss 0.0296\n",
            "Epoch 39 Batch 100 Loss 0.0371\n",
            "Epoch 39 Batch 200 Loss 0.0382\n",
            "Epoch 39 Batch 300 Loss 0.0260\n",
            "Epoch 39 Batch 400 Loss 0.0330\n",
            "Epoch 39 Batch 500 Loss 0.0235\n",
            "Epoch 39 Batch 600 Loss 0.0332\n",
            "Epoch 39 Batch 700 Loss 0.0352\n",
            "Epoch 39 Batch 800 Loss 0.0269\n",
            "Epoch 39 Batch 900 Loss 0.0300\n",
            "Epoch 39 Batch 1000 Loss 0.0273\n",
            "Epoch 39 Batch 1100 Loss 0.0375\n",
            "Epoch 39 Batch 1200 Loss 0.0450\n",
            "Epoch 39 Loss 0.0367\n",
            "Time taken for 1 epoch 747.1592562198639 sec\n",
            "\n",
            "Epoch 40 Batch 0 Loss 0.0462\n",
            "Epoch 40 Batch 100 Loss 0.0323\n",
            "Epoch 40 Batch 200 Loss 0.0328\n",
            "Epoch 40 Batch 300 Loss 0.0266\n",
            "Epoch 40 Batch 400 Loss 0.0259\n",
            "Epoch 40 Batch 500 Loss 0.0244\n",
            "Epoch 40 Batch 600 Loss 0.0325\n",
            "Epoch 40 Batch 700 Loss 0.0231\n",
            "Epoch 40 Batch 800 Loss 0.0496\n",
            "Epoch 40 Batch 900 Loss 0.0360\n",
            "Epoch 40 Batch 1000 Loss 0.0282\n",
            "Epoch 40 Batch 1100 Loss 0.0361\n",
            "Epoch 40 Batch 1200 Loss 0.0362\n",
            "Epoch 40 Loss 0.0362\n",
            "Time taken for 1 epoch 190.6009979248047 sec\n",
            "\n",
            "Epoch 41 Batch 0 Loss 0.0148\n",
            "Epoch 41 Batch 100 Loss 0.0254\n",
            "Epoch 41 Batch 200 Loss 0.0246\n",
            "Epoch 41 Batch 300 Loss 0.0309\n",
            "Epoch 41 Batch 400 Loss 0.0211\n",
            "Epoch 41 Batch 500 Loss 0.0377\n",
            "Epoch 41 Batch 600 Loss 0.0325\n",
            "Epoch 41 Batch 700 Loss 0.0412\n",
            "Epoch 41 Batch 800 Loss 0.0319\n",
            "Epoch 41 Batch 900 Loss 0.0240\n",
            "Epoch 41 Batch 1000 Loss 0.0418\n",
            "Epoch 41 Batch 1100 Loss 0.0356\n",
            "Epoch 41 Batch 1200 Loss 0.0381\n",
            "Epoch 41 Loss 0.0362\n",
            "Time taken for 1 epoch 192.5122480392456 sec\n",
            "\n",
            "Epoch 42 Batch 0 Loss 0.0214\n",
            "Epoch 42 Batch 100 Loss 0.0208\n",
            "Epoch 42 Batch 200 Loss 0.0280\n",
            "Epoch 42 Batch 300 Loss 0.0183\n",
            "Epoch 42 Batch 400 Loss 0.0341\n",
            "Epoch 42 Batch 500 Loss 0.0346\n",
            "Epoch 42 Batch 600 Loss 0.0173\n",
            "Epoch 42 Batch 700 Loss 0.0721\n",
            "Epoch 42 Batch 800 Loss 0.0494\n",
            "Epoch 42 Batch 900 Loss 0.0256\n",
            "Epoch 42 Batch 1000 Loss 0.0454\n",
            "Epoch 42 Batch 1100 Loss 0.0354\n",
            "Epoch 42 Batch 1200 Loss 0.0676\n",
            "Epoch 42 Loss 0.0364\n",
            "Time taken for 1 epoch 179.56351494789124 sec\n",
            "\n",
            "Epoch 43 Batch 0 Loss 0.0142\n",
            "Epoch 43 Batch 100 Loss 0.0320\n",
            "Epoch 43 Batch 200 Loss 0.0426\n",
            "Epoch 43 Batch 300 Loss 0.0125\n",
            "Epoch 43 Batch 400 Loss 0.0391\n",
            "Epoch 43 Batch 500 Loss 0.0595\n",
            "Epoch 43 Batch 600 Loss 0.0518\n",
            "Epoch 43 Batch 700 Loss 0.0419\n",
            "Epoch 43 Batch 800 Loss 0.0347\n",
            "Epoch 43 Batch 900 Loss 0.0201\n",
            "Epoch 43 Batch 1000 Loss 0.0357\n",
            "Epoch 43 Batch 1100 Loss 0.0366\n",
            "Epoch 43 Batch 1200 Loss 0.0343\n",
            "Epoch 43 Loss 0.0368\n",
            "Time taken for 1 epoch 178.75104522705078 sec\n",
            "\n",
            "Epoch 44 Batch 0 Loss 0.0149\n",
            "Epoch 44 Batch 100 Loss 0.0170\n",
            "Epoch 44 Batch 200 Loss 0.0288\n",
            "Epoch 44 Batch 300 Loss 0.0316\n",
            "Epoch 44 Batch 400 Loss 0.0379\n",
            "Epoch 44 Batch 500 Loss 0.0424\n",
            "Epoch 44 Batch 600 Loss 0.0386\n",
            "Epoch 44 Batch 700 Loss 0.0568\n",
            "Epoch 44 Batch 800 Loss 0.0275\n",
            "Epoch 44 Batch 900 Loss 0.0228\n",
            "Epoch 44 Batch 1000 Loss 0.0357\n",
            "Epoch 44 Batch 1100 Loss 0.0288\n",
            "Epoch 44 Batch 1200 Loss 0.0646\n",
            "Epoch 44 Loss 0.0354\n",
            "Time taken for 1 epoch 179.61505007743835 sec\n",
            "\n",
            "Epoch 45 Batch 0 Loss 0.0209\n",
            "Epoch 45 Batch 100 Loss 0.0048\n",
            "Epoch 45 Batch 200 Loss 0.0449\n",
            "Epoch 45 Batch 300 Loss 0.0167\n",
            "Epoch 45 Batch 400 Loss 0.0222\n",
            "Epoch 45 Batch 500 Loss 0.0285\n",
            "Epoch 45 Batch 600 Loss 0.0305\n",
            "Epoch 45 Batch 700 Loss 0.0370\n",
            "Epoch 45 Batch 800 Loss 0.0284\n",
            "Epoch 45 Batch 900 Loss 0.0517\n",
            "Epoch 45 Batch 1000 Loss 0.0515\n",
            "Epoch 45 Batch 1100 Loss 0.0720\n",
            "Epoch 45 Batch 1200 Loss 0.0400\n",
            "Epoch 45 Loss 0.0355\n",
            "Time taken for 1 epoch 178.69867420196533 sec\n",
            "\n",
            "Epoch 46 Batch 0 Loss 0.0333\n",
            "Epoch 46 Batch 100 Loss 0.0225\n",
            "Epoch 46 Batch 200 Loss 0.0299\n",
            "Epoch 46 Batch 300 Loss 0.0263\n",
            "Epoch 46 Batch 400 Loss 0.0387\n",
            "Epoch 46 Batch 500 Loss 0.0277\n",
            "Epoch 46 Batch 600 Loss 0.0206\n",
            "Epoch 46 Batch 700 Loss 0.0353\n",
            "Epoch 46 Batch 800 Loss 0.0253\n",
            "Epoch 46 Batch 900 Loss 0.0482\n",
            "Epoch 46 Batch 1000 Loss 0.0509\n",
            "Epoch 46 Batch 1100 Loss 0.0418\n",
            "Epoch 46 Batch 1200 Loss 0.0628\n",
            "Epoch 46 Loss 0.0365\n",
            "Time taken for 1 epoch 179.21014499664307 sec\n",
            "\n",
            "Epoch 47 Batch 0 Loss 0.0152\n",
            "Epoch 47 Batch 100 Loss 0.0326\n",
            "Epoch 47 Batch 200 Loss 0.0182\n",
            "Epoch 47 Batch 300 Loss 0.0451\n",
            "Epoch 47 Batch 400 Loss 0.0323\n",
            "Epoch 47 Batch 500 Loss 0.0248\n",
            "Epoch 47 Batch 600 Loss 0.0402\n",
            "Epoch 47 Batch 700 Loss 0.0311\n",
            "Epoch 47 Batch 800 Loss 0.0431\n",
            "Epoch 47 Batch 900 Loss 0.0177\n",
            "Epoch 47 Batch 1000 Loss 0.0351\n",
            "Epoch 47 Batch 1100 Loss 0.0613\n",
            "Epoch 47 Batch 1200 Loss 0.0389\n",
            "Epoch 47 Loss 0.0366\n",
            "Time taken for 1 epoch 178.71594619750977 sec\n",
            "\n",
            "Epoch 48 Batch 0 Loss 0.0275\n",
            "Epoch 48 Batch 100 Loss 0.0182\n",
            "Epoch 48 Batch 200 Loss 0.0239\n",
            "Epoch 48 Batch 300 Loss 0.0553\n",
            "Epoch 48 Batch 400 Loss 0.0403\n",
            "Epoch 48 Batch 500 Loss 0.0403\n",
            "Epoch 48 Batch 600 Loss 0.0491\n",
            "Epoch 48 Batch 700 Loss 0.0426\n",
            "Epoch 48 Batch 800 Loss 0.0356\n",
            "Epoch 48 Batch 900 Loss 0.0286\n",
            "Epoch 48 Batch 1000 Loss 0.0420\n",
            "Epoch 48 Batch 1100 Loss 0.0537\n",
            "Epoch 48 Batch 1200 Loss 0.0511\n",
            "Epoch 48 Loss 0.0363\n",
            "Time taken for 1 epoch 179.53130984306335 sec\n",
            "\n",
            "Epoch 49 Batch 0 Loss 0.0221\n",
            "Epoch 49 Batch 100 Loss 0.0130\n",
            "Epoch 49 Batch 200 Loss 0.0201\n",
            "Epoch 49 Batch 300 Loss 0.0261\n",
            "Epoch 49 Batch 400 Loss 0.0174\n",
            "Epoch 49 Batch 500 Loss 0.0184\n",
            "Epoch 49 Batch 600 Loss 0.0424\n",
            "Epoch 49 Batch 700 Loss 0.0515\n",
            "Epoch 49 Batch 800 Loss 0.0346\n",
            "Epoch 49 Batch 900 Loss 0.0489\n",
            "Epoch 49 Batch 1000 Loss 0.0405\n",
            "Epoch 49 Batch 1100 Loss 0.0467\n",
            "Epoch 49 Batch 1200 Loss 0.0323\n",
            "Epoch 49 Loss 0.0337\n",
            "Time taken for 1 epoch 178.91146898269653 sec\n",
            "\n",
            "Epoch 50 Batch 0 Loss 0.0262\n",
            "Epoch 50 Batch 100 Loss 0.0266\n",
            "Epoch 50 Batch 200 Loss 0.0211\n",
            "Epoch 50 Batch 300 Loss 0.0286\n",
            "Epoch 50 Batch 400 Loss 0.0462\n",
            "Epoch 50 Batch 500 Loss 0.0288\n",
            "Epoch 50 Batch 600 Loss 0.0333\n",
            "Epoch 50 Batch 700 Loss 0.0371\n",
            "Epoch 50 Batch 800 Loss 0.0413\n",
            "Epoch 50 Batch 900 Loss 0.0290\n",
            "Epoch 50 Batch 1000 Loss 0.0484\n",
            "Epoch 50 Batch 1100 Loss 0.0427\n",
            "Epoch 50 Batch 1200 Loss 0.0481\n",
            "Epoch 50 Loss 0.0342\n",
            "Time taken for 1 epoch 179.34009504318237 sec\n",
            "\n"
          ]
        }
      ],
      "source": [
        "EPOCHS = 50\n",
        "\n",
        "for epoch in range(EPOCHS):\n",
        "  start = time.time()\n",
        "\n",
        "  enc_hidden = encoder.initialize_hidden_state()\n",
        "  total_loss = 0\n",
        "\n",
        "  for (batch, (inp, targ)) in enumerate(dataset.take(steps_per_epoch)):\n",
        "    batch_loss = train_step(inp, targ, enc_hidden)\n",
        "    total_loss += batch_loss\n",
        "\n",
        "    if batch % 100 == 0:\n",
        "      print('Epoch {} Batch {} Loss {:.4f}'.format(epoch + 1,\n",
        "                                                   batch,\n",
        "                                                   batch_loss.numpy()))\n",
        "  # saving (checkpoint) the model every 2 epochs\n",
        "  if (epoch + 1) % 2 == 0:\n",
        "    checkpoint.save(file_prefix = checkpoint_prefix)\n",
        "\n",
        "  print('Epoch {} Loss {:.4f}'.format(epoch + 1,\n",
        "                                      total_loss / steps_per_epoch))\n",
        "  print('Time taken for 1 epoch {} sec\\n'.format(time.time() - start))"
      ]
    },
    {
      "cell_type": "markdown",
      "id": "7357ab41",
      "metadata": {
        "id": "7357ab41"
      },
      "source": [
        "## Translate\n",
        "\n",
        "* The evaluate function is similar to the training loop, except we don't use *teacher forcing* here. The input to the decoder at each time step is its previous predictions along with the hidden state and the encoder output.\n",
        "* Stop predicting when the model predicts the *end token*.\n",
        "* And store the *attention weights for every time step*.\n",
        "\n",
        "Note: The encoder output is calculated only once for one input."
      ]
    },
    {
      "cell_type": "code",
      "execution_count": null,
      "id": "dda85c4c",
      "metadata": {
        "id": "dda85c4c"
      },
      "outputs": [],
      "source": [
        "def evaluate(sentence):\n",
        "  attention_plot = np.zeros((max_length_targ, max_length_inp))\n",
        "\n",
        "  sentence = preprocess_sentence(sentence)\n",
        "\n",
        "  inputs = [inp_lang.word_index[i] for i in sentence.split(' ')]\n",
        "  inputs = tf.keras.preprocessing.sequence.pad_sequences([inputs],\n",
        "                                                         maxlen=max_length_inp,\n",
        "                                                         padding='post')\n",
        "  inputs = tf.convert_to_tensor(inputs)\n",
        "\n",
        "  result = ''\n",
        "\n",
        "  hidden = [tf.zeros((1, units))]\n",
        "  enc_out, enc_hidden = encoder(inputs, hidden)\n",
        "\n",
        "  dec_hidden = enc_hidden\n",
        "  dec_input = tf.expand_dims([targ_lang.word_index['<start>']], 0)\n",
        "\n",
        "  for t in range(max_length_targ):\n",
        "    predictions, dec_hidden, attention_weights = decoder(dec_input,\n",
        "                                                         dec_hidden,\n",
        "                                                         enc_out)\n",
        "\n",
        "    # storing the attention weights to plot later on\n",
        "    attention_weights = tf.reshape(attention_weights, (-1, ))\n",
        "    attention_plot[t] = attention_weights.numpy()\n",
        "\n",
        "    predicted_id = tf.argmax(predictions[0]).numpy()\n",
        "\n",
        "    result += targ_lang.index_word[predicted_id] + ' '\n",
        "\n",
        "    if targ_lang.index_word[predicted_id] == '<end>':\n",
        "      return result, sentence, attention_plot\n",
        "\n",
        "    # the predicted ID is fed back into the model\n",
        "    dec_input = tf.expand_dims([predicted_id], 0)\n",
        "\n",
        "  return result, sentence, attention_plot"
      ]
    },
    {
      "cell_type": "code",
      "execution_count": null,
      "id": "67b73119",
      "metadata": {
        "id": "67b73119"
      },
      "outputs": [],
      "source": [
        "# function for plotting the attention weights\n",
        "def plot_attention(attention, sentence, predicted_sentence):\n",
        "  fig = plt.figure(figsize=(10,10))\n",
        "  ax = fig.add_subplot(1, 1, 1)\n",
        "  ax.matshow(attention, cmap='viridis')\n",
        "\n",
        "  fontdict = {'fontsize': 14}\n",
        "\n",
        "  ax.set_xticklabels([''] + sentence, fontdict=fontdict, rotation=90)\n",
        "  ax.set_yticklabels([''] + predicted_sentence, fontdict=fontdict)\n",
        "\n",
        "  ax.xaxis.set_major_locator(ticker.MultipleLocator(1))\n",
        "  ax.yaxis.set_major_locator(ticker.MultipleLocator(1))\n",
        "\n",
        "  plt.show()"
      ]
    },
    {
      "cell_type": "code",
      "execution_count": null,
      "id": "cc316a6e",
      "metadata": {
        "id": "cc316a6e"
      },
      "outputs": [],
      "source": [
        "def translate(sentence):\n",
        "  result, sentence, attention_plot = evaluate(sentence)\n",
        "\n",
        "  print('Input: %s' % (sentence))\n",
        "  print('Predicted translation: {}'.format(result))\n",
        "\n",
        "  attention_plot = attention_plot[:len(result.split(' ')), :len(sentence.split(' '))]\n",
        "  plot_attention(attention_plot, sentence.split(' '), result.split(' '))"
      ]
    },
    {
      "cell_type": "markdown",
      "id": "03ab2f6b",
      "metadata": {
        "id": "03ab2f6b"
      },
      "source": [
        "## Restore the latest checkpoint and test"
      ]
    },
    {
      "cell_type": "code",
      "execution_count": null,
      "id": "dbc305bb",
      "metadata": {
        "id": "dbc305bb",
        "outputId": "c4f19e1b-13af-47f0-b6d0-8b4670745422"
      },
      "outputs": [
        {
          "data": {
            "text/plain": [
              "<tensorflow.python.checkpoint.checkpoint.CheckpointLoadStatus at 0x3cc04f6a0>"
            ]
          },
          "execution_count": 58,
          "metadata": {},
          "output_type": "execute_result"
        }
      ],
      "source": [
        "# restoring the latest checkpoint in checkpoint_dir\n",
        "checkpoint.restore(tf.train.latest_checkpoint(checkpoint_dir))"
      ]
    },
    {
      "cell_type": "code",
      "execution_count": null,
      "id": "a6cdcc85",
      "metadata": {
        "id": "a6cdcc85",
        "outputId": "6bc9fac2-3667-48be-85ee-56fcabf33497"
      },
      "outputs": [
        {
          "name": "stdout",
          "output_type": "stream",
          "text": [
            "Requirement already satisfied: matplotlib in /Users/evamelissatasdemir/miniforge3/lib/python3.10/site-packages (3.7.1)\n",
            "Requirement already satisfied: contourpy>=1.0.1 in /Users/evamelissatasdemir/miniforge3/lib/python3.10/site-packages (from matplotlib) (1.0.7)\n",
            "Requirement already satisfied: cycler>=0.10 in /Users/evamelissatasdemir/miniforge3/lib/python3.10/site-packages (from matplotlib) (0.11.0)\n",
            "Requirement already satisfied: fonttools>=4.22.0 in /Users/evamelissatasdemir/miniforge3/lib/python3.10/site-packages (from matplotlib) (4.39.4)\n",
            "Requirement already satisfied: packaging>=20.0 in /Users/evamelissatasdemir/miniforge3/lib/python3.10/site-packages (from matplotlib) (23.1)\n",
            "Requirement already satisfied: python-dateutil>=2.7 in /Users/evamelissatasdemir/miniforge3/lib/python3.10/site-packages (from matplotlib) (2.8.2)\n",
            "Requirement already satisfied: kiwisolver>=1.0.1 in /Users/evamelissatasdemir/miniforge3/lib/python3.10/site-packages (from matplotlib) (1.4.4)\n",
            "Requirement already satisfied: pillow>=6.2.0 in /Users/evamelissatasdemir/miniforge3/lib/python3.10/site-packages (from matplotlib) (9.5.0)\n",
            "Requirement already satisfied: numpy>=1.20 in /Users/evamelissatasdemir/miniforge3/lib/python3.10/site-packages (from matplotlib) (1.23.2)\n",
            "Requirement already satisfied: pyparsing>=2.3.1 in /Users/evamelissatasdemir/miniforge3/lib/python3.10/site-packages (from matplotlib) (3.0.9)\n",
            "Requirement already satisfied: six>=1.5 in /Users/evamelissatasdemir/miniforge3/lib/python3.10/site-packages (from python-dateutil>=2.7->matplotlib) (1.16.0)\n"
          ]
        }
      ],
      "source": [
        "\n",
        "!pip install --upgrade matplotlib"
      ]
    },
    {
      "cell_type": "code",
      "execution_count": null,
      "id": "5f8eaad9",
      "metadata": {
        "id": "5f8eaad9",
        "outputId": "b554d06e-284d-4cf2-8df7-f4039a421ba2"
      },
      "outputs": [
        {
          "name": "stdout",
          "output_type": "stream",
          "text": [
            "Input: <start> buralar y k l yor benden y k l yor . <end>\n",
            "Predicted translation: it's about me out of around here . <end> \n"
          ]
        },
        {
          "name": "stderr",
          "output_type": "stream",
          "text": [
            "/var/folders/g_/9v3q8zfn4dj84j48wgjpsd7c0000gn/T/ipykernel_95270/282331986.py:9: UserWarning: FixedFormatter should only be used together with FixedLocator\n",
            "  ax.set_xticklabels([''] + sentence, fontdict=fontdict, rotation=90)\n",
            "/var/folders/g_/9v3q8zfn4dj84j48wgjpsd7c0000gn/T/ipykernel_95270/282331986.py:10: UserWarning: FixedFormatter should only be used together with FixedLocator\n",
            "  ax.set_yticklabels([''] + predicted_sentence, fontdict=fontdict)\n"
          ]
        },
        {
          "data": {
            "image/png": "[encoded data removed]",
            "text/plain": [
              "<Figure size 1000x1000 with 1 Axes>"
            ]
          },
          "metadata": {},
          "output_type": "display_data"
        }
      ],
      "source": [
        "translate('Buraları yıkılıyor benden yıkılıyor.')"
      ]
    },
    {
      "cell_type": "code",
      "execution_count": null,
      "id": "8f11022b",
      "metadata": {
        "id": "8f11022b",
        "outputId": "8e9851cd-6efb-4e7c-8169-f70cea19b23f"
      },
      "outputs": [
        {
          "name": "stdout",
          "output_type": "stream",
          "text": [
            "Input: <start> hepimiz arkadaşlar , hayvanlar da ! <end>\n",
            "Predicted translation: all of us are still animals . <end> \n"
          ]
        },
        {
          "name": "stderr",
          "output_type": "stream",
          "text": [
            "/var/folders/g_/9v3q8zfn4dj84j48wgjpsd7c0000gn/T/ipykernel_95270/282331986.py:9: UserWarning: FixedFormatter should only be used together with FixedLocator\n",
            "  ax.set_xticklabels([''] + sentence, fontdict=fontdict, rotation=90)\n",
            "/var/folders/g_/9v3q8zfn4dj84j48wgjpsd7c0000gn/T/ipykernel_95270/282331986.py:10: UserWarning: FixedFormatter should only be used together with FixedLocator\n",
            "  ax.set_yticklabels([''] + predicted_sentence, fontdict=fontdict)\n"
          ]
        },
        {
          "data": {
            "image/png": "[encoded data removed]",
            "text/plain": [
              "<Figure size 1000x1000 with 1 Axes>"
            ]
          },
          "metadata": {},
          "output_type": "display_data"
        }
      ],
      "source": [
        "translate('Hepimiz arkadaşlar, hayvanlar da!')"
      ]
    },
    {
      "cell_type": "code",
      "execution_count": null,
      "id": "b5802fba",
      "metadata": {
        "id": "b5802fba",
        "outputId": "e2f3a2e9-5636-4a07-a60e-330c1b489b04"
      },
      "outputs": [
        {
          "name": "stdout",
          "output_type": "stream",
          "text": [
            "Input: <start> sana sar çiçek ald m , pazar ndan . <end>\n",
            "Predicted translation: i bought you a hug , 000 yen . <end> \n"
          ]
        },
        {
          "name": "stderr",
          "output_type": "stream",
          "text": [
            "/var/folders/g_/9v3q8zfn4dj84j48wgjpsd7c0000gn/T/ipykernel_95270/282331986.py:9: UserWarning: FixedFormatter should only be used together with FixedLocator\n",
            "  ax.set_xticklabels([''] + sentence, fontdict=fontdict, rotation=90)\n",
            "/var/folders/g_/9v3q8zfn4dj84j48wgjpsd7c0000gn/T/ipykernel_95270/282331986.py:10: UserWarning: FixedFormatter should only be used together with FixedLocator\n",
            "  ax.set_yticklabels([''] + predicted_sentence, fontdict=fontdict)\n"
          ]
        },
        {
          "data": {
            "image/png": "[encoded data removed]",
            "text/plain": [
              "<Figure size 1000x1000 with 1 Axes>"
            ]
          },
          "metadata": {},
          "output_type": "display_data"
        }
      ],
      "source": [
        "translate('Sana sarı çiçek aldım, pazarından.')"
      ]
    },
    {
      "cell_type": "code",
      "execution_count": null,
      "id": "943d6d0a",
      "metadata": {
        "id": "943d6d0a",
        "outputId": "82a0920a-8190-4091-d8e0-d32d9556b16e"
      },
      "outputs": [
        {
          "name": "stdout",
          "output_type": "stream",
          "text": [
            "Input: <start> nas l bir aşk bu karş koyamam <end>\n",
            "Predicted translation: how come this the love like a baby . <end> \n"
          ]
        },
        {
          "name": "stderr",
          "output_type": "stream",
          "text": [
            "/var/folders/g_/9v3q8zfn4dj84j48wgjpsd7c0000gn/T/ipykernel_95270/282331986.py:9: UserWarning: FixedFormatter should only be used together with FixedLocator\n",
            "  ax.set_xticklabels([''] + sentence, fontdict=fontdict, rotation=90)\n",
            "/var/folders/g_/9v3q8zfn4dj84j48wgjpsd7c0000gn/T/ipykernel_95270/282331986.py:10: UserWarning: FixedFormatter should only be used together with FixedLocator\n",
            "  ax.set_yticklabels([''] + predicted_sentence, fontdict=fontdict)\n"
          ]
        },
        {
          "data": {
            "image/png": "[encoded data removed]",
            "text/plain": [
              "<Figure size 1000x1000 with 1 Axes>"
            ]
          },
          "metadata": {},
          "output_type": "display_data"
        }
      ],
      "source": [
        "translate('Nasıl bir aşk bu karşı koyamam')"
      ]
    },
    {
      "cell_type": "code",
      "execution_count": null,
      "id": "bb053028",
      "metadata": {
        "id": "bb053028",
        "outputId": "8e6a1509-d899-4f8e-ad57-b9b6a9a65ff1"
      },
      "outputs": [
        {
          "name": "stdout",
          "output_type": "stream",
          "text": [
            "Input: <start> seni dayanamam k skan r m <end>\n",
            "Predicted translation: i'd be surprised that noise . <end> \n"
          ]
        },
        {
          "name": "stderr",
          "output_type": "stream",
          "text": [
            "/var/folders/g_/9v3q8zfn4dj84j48wgjpsd7c0000gn/T/ipykernel_95270/282331986.py:9: UserWarning: FixedFormatter should only be used together with FixedLocator\n",
            "  ax.set_xticklabels([''] + sentence, fontdict=fontdict, rotation=90)\n",
            "/var/folders/g_/9v3q8zfn4dj84j48wgjpsd7c0000gn/T/ipykernel_95270/282331986.py:10: UserWarning: FixedFormatter should only be used together with FixedLocator\n",
            "  ax.set_yticklabels([''] + predicted_sentence, fontdict=fontdict)\n"
          ]
        },
        {
          "data": {
            "image/png": "[encoded data removed]",
            "text/plain": [
              "<Figure size 1000x1000 with 1 Axes>"
            ]
          },
          "metadata": {},
          "output_type": "display_data"
        }
      ],
      "source": [
        "translate('seni Dayanamam kıskanırım')"
      ]
    },
    {
      "cell_type": "code",
      "execution_count": null,
      "id": "d11f1dae",
      "metadata": {
        "id": "d11f1dae",
        "outputId": "9a3cb052-30a4-486b-c1eb-a1095829fcc6"
      },
      "outputs": [
        {
          "name": "stdout",
          "output_type": "stream",
          "text": [
            "Input: <start> sat rlar uçar gider akl mdan <end>\n",
            "Predicted translation: i need to have any need to have double success . <end> \n"
          ]
        },
        {
          "name": "stderr",
          "output_type": "stream",
          "text": [
            "/var/folders/g_/9v3q8zfn4dj84j48wgjpsd7c0000gn/T/ipykernel_95270/282331986.py:9: UserWarning: FixedFormatter should only be used together with FixedLocator\n",
            "  ax.set_xticklabels([''] + sentence, fontdict=fontdict, rotation=90)\n",
            "/var/folders/g_/9v3q8zfn4dj84j48wgjpsd7c0000gn/T/ipykernel_95270/282331986.py:10: UserWarning: FixedFormatter should only be used together with FixedLocator\n",
            "  ax.set_yticklabels([''] + predicted_sentence, fontdict=fontdict)\n"
          ]
        },
        {
          "data": {
            "image/png": "[encoded data removed]",
            "text/plain": [
              "<Figure size 1000x1000 with 1 Axes>"
            ]
          },
          "metadata": {},
          "output_type": "display_data"
        }
      ],
      "source": [
        "translate('Satırlar uçar gider aklımdan')"
      ]
    },
    {
      "cell_type": "code",
      "execution_count": null,
      "id": "02e386b2",
      "metadata": {
        "id": "02e386b2",
        "outputId": "66dda25c-e2d4-4ee4-df0e-77d66bc5e78e"
      },
      "outputs": [
        {
          "name": "stdout",
          "output_type": "stream",
          "text": [
            "Input: <start> ben evdeyim . <end>\n",
            "Predicted translation: i'm at home . <end> \n"
          ]
        },
        {
          "name": "stderr",
          "output_type": "stream",
          "text": [
            "/var/folders/g_/9v3q8zfn4dj84j48wgjpsd7c0000gn/T/ipykernel_95270/282331986.py:9: UserWarning: FixedFormatter should only be used together with FixedLocator\n",
            "  ax.set_xticklabels([''] + sentence, fontdict=fontdict, rotation=90)\n",
            "/var/folders/g_/9v3q8zfn4dj84j48wgjpsd7c0000gn/T/ipykernel_95270/282331986.py:10: UserWarning: FixedFormatter should only be used together with FixedLocator\n",
            "  ax.set_yticklabels([''] + predicted_sentence, fontdict=fontdict)\n"
          ]
        },
        {
          "data": {
            "image/png": "[encoded data removed]",
            "text/plain": [
              "<Figure size 1000x1000 with 1 Axes>"
            ]
          },
          "metadata": {},
          "output_type": "display_data"
        }
      ],
      "source": [
        "translate('Ben evdeyim.')"
      ]
    },
    {
      "cell_type": "code",
      "execution_count": null,
      "id": "23097930",
      "metadata": {
        "id": "23097930",
        "outputId": "6acfa14d-52af-4dfa-bd2c-c0059bdaba2c"
      },
      "outputs": [
        {
          "name": "stdout",
          "output_type": "stream",
          "text": [
            "Input: <start> seni seviyorum <end>\n",
            "Predicted translation: i love you . <end> \n"
          ]
        },
        {
          "name": "stderr",
          "output_type": "stream",
          "text": [
            "/var/folders/g_/9v3q8zfn4dj84j48wgjpsd7c0000gn/T/ipykernel_95270/282331986.py:9: UserWarning: FixedFormatter should only be used together with FixedLocator\n",
            "  ax.set_xticklabels([''] + sentence, fontdict=fontdict, rotation=90)\n",
            "/var/folders/g_/9v3q8zfn4dj84j48wgjpsd7c0000gn/T/ipykernel_95270/282331986.py:10: UserWarning: FixedFormatter should only be used together with FixedLocator\n",
            "  ax.set_yticklabels([''] + predicted_sentence, fontdict=fontdict)\n"
          ]
        },
        {
          "data": {
            "image/png": "[encoded data removed]",
            "text/plain": [
              "<Figure size 1000x1000 with 1 Axes>"
            ]
          },
          "metadata": {},
          "output_type": "display_data"
        }
      ],
      "source": [
        "translate('seni seviyorum')"
      ]
    },
    {
      "cell_type": "code",
      "execution_count": null,
      "id": "5c61ed21",
      "metadata": {
        "id": "5c61ed21",
        "outputId": "093448d3-80b5-463f-fef1-2c24a341c252"
      },
      "outputs": [
        {
          "name": "stdout",
          "output_type": "stream",
          "text": [
            "Input: <start> senden nefret ediyorum <end>\n",
            "Predicted translation: i hate you . <end> \n"
          ]
        },
        {
          "name": "stderr",
          "output_type": "stream",
          "text": [
            "/var/folders/g_/9v3q8zfn4dj84j48wgjpsd7c0000gn/T/ipykernel_95270/282331986.py:9: UserWarning: FixedFormatter should only be used together with FixedLocator\n",
            "  ax.set_xticklabels([''] + sentence, fontdict=fontdict, rotation=90)\n",
            "/var/folders/g_/9v3q8zfn4dj84j48wgjpsd7c0000gn/T/ipykernel_95270/282331986.py:10: UserWarning: FixedFormatter should only be used together with FixedLocator\n",
            "  ax.set_yticklabels([''] + predicted_sentence, fontdict=fontdict)\n"
          ]
        },
        {
          "data": {
            "image/png": "[encoded data removed]",
            "text/plain": [
              "<Figure size 1000x1000 with 1 Axes>"
            ]
          },
          "metadata": {},
          "output_type": "display_data"
        }
      ],
      "source": [
        "translate('senden nefret ediyorum')"
      ]
    },
    {
      "cell_type": "code",
      "execution_count": null,
      "id": "fbc4b024",
      "metadata": {
        "id": "fbc4b024",
        "outputId": "b1f72487-2484-478e-a50c-b430b745a973"
      },
      "outputs": [
        {
          "name": "stdout",
          "output_type": "stream",
          "text": [
            "Input: <start> ben eve geliyorum <end>\n",
            "Predicted translation: i'm coming home . <end> \n"
          ]
        },
        {
          "name": "stderr",
          "output_type": "stream",
          "text": [
            "/var/folders/g_/9v3q8zfn4dj84j48wgjpsd7c0000gn/T/ipykernel_95270/282331986.py:9: UserWarning: FixedFormatter should only be used together with FixedLocator\n",
            "  ax.set_xticklabels([''] + sentence, fontdict=fontdict, rotation=90)\n",
            "/var/folders/g_/9v3q8zfn4dj84j48wgjpsd7c0000gn/T/ipykernel_95270/282331986.py:10: UserWarning: FixedFormatter should only be used together with FixedLocator\n",
            "  ax.set_yticklabels([''] + predicted_sentence, fontdict=fontdict)\n"
          ]
        },
        {
          "data": {
            "image/png": "[encoded data removed]",
            "text/plain": [
              "<Figure size 1000x1000 with 1 Axes>"
            ]
          },
          "metadata": {},
          "output_type": "display_data"
        }
      ],
      "source": [
        "translate(\"ben eve geliyorum\")"
      ]
    },
    {
      "cell_type": "code",
      "execution_count": null,
      "id": "3b9f6718",
      "metadata": {
        "id": "3b9f6718"
      },
      "outputs": [],
      "source": []
    }
  ],
  "metadata": {
    "kernelspec": {
      "display_name": "Python 3 (ipykernel)",
      "language": "python",
      "name": "python3"
    },
    "language_info": {
      "codemirror_mode": {
        "name": "ipython",
        "version": 3
      },
      "file_extension": ".py",
      "mimetype": "text/x-python",
      "name": "python",
      "nbconvert_exporter": "python",
      "pygments_lexer": "ipython3",
      "version": "3.10.10"
    },
    "colab": {
      "provenance": [],
      "include_colab_link": true
    }
  },
  "nbformat": 4,
  "nbformat_minor": 5
}