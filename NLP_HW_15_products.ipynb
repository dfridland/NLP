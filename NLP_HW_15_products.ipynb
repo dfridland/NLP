{
  "cells": [
    {
      "cell_type": "markdown",
      "metadata": {
        "id": "view-in-github",
        "colab_type": "text"
      },
      "source": [
        "<a href=\"https://colab.research.google.com/github/dfridland/NLP/blob/HW15/NLP_HW_15_products.ipynb\" target=\"_parent\"><img src=\"https://colab.research.google.com/assets/colab-badge.svg\" alt=\"Open In Colab\"/></a>"
      ]
    },
    {
      "cell_type": "code",
      "execution_count": null,
      "metadata": {
        "id": "q4lpeW1FMrpI"
      },
      "outputs": [],
      "source": [
        "import os\n",
        "from telegram.ext  import Updater, CommandHandler, MessageHandler, filters\n",
        "import string\n",
        "from pymorphy2 import MorphAnalyzer\n",
        "from stop_words import get_stop_words\n",
        "import annoy\n",
        "from gensim.models import Word2Vec, FastText\n",
        "import pickle\n",
        "import numpy as np\n",
        "from tqdm import tqdm_notebook\n",
        "import pandas as pd"
      ]
    },
    {
      "cell_type": "code",
      "execution_count": null,
      "metadata": {
        "scrolled": true,
        "id": "hZwi9s8xMrpK"
      },
      "outputs": [],
      "source": [
        "#!ls ../2"
      ]
    },
    {
      "cell_type": "code",
      "execution_count": null,
      "metadata": {
        "id": "qjvckwXfMrpK",
        "outputId": "bb4584fc-f769-41d2-94ac-f62fdd4172c0",
        "colab": {
          "referenced_widgets": [
            "72f76e706e2d480493169e493a5cf4f2"
          ]
        }
      },
      "outputs": [
        {
          "name": "stderr",
          "output_type": "stream",
          "text": [
            "/var/folders/g_/9v3q8zfn4dj84j48wgjpsd7c0000gn/T/ipykernel_33158/882813330.py:10: TqdmDeprecationWarning: This function will be removed in tqdm==5.0.0\n",
            "Please use `tqdm.notebook.tqdm` instead of `tqdm.tqdm_notebook`\n",
            "  for line in tqdm_notebook(fin):\n"
          ]
        },
        {
          "data": {
            "application/vnd.jupyter.widget-view+json": {
              "model_id": "72f76e706e2d480493169e493a5cf4f2",
              "version_major": 2,
              "version_minor": 0
            },
            "text/plain": [
              "0it [00:00, ?it/s]"
            ]
          },
          "metadata": {},
          "output_type": "display_data"
        }
      ],
      "source": [
        "assert True\n",
        "\n",
        "#Small preprocess of the answers\n",
        "\n",
        "question = None\n",
        "written = False\n",
        "\n",
        "with open(\"./TelegramBot/Constance.py.txt\", \"w\") as fout:\n",
        "    with open(\"./TelegramBot/Responses.py\", \"r\") as fin:\n",
        "        for line in tqdm_notebook(fin):\n",
        "            if line.startswith(\"---\"):\n",
        "                written = False\n",
        "                continue\n",
        "            if not written and question is not None:\n",
        "                fout.write(question.replace(\"\\t\", \" \").strip() + \"\\t\" + line.replace(\"\\t\", \" \"))\n",
        "                written = True\n",
        "                question = None\n",
        "                continue\n",
        "            if not written:\n",
        "                question = line.strip()\n",
        "                continue"
      ]
    },
    {
      "cell_type": "code",
      "execution_count": null,
      "metadata": {
        "id": "7vtFAjEJMrpM"
      },
      "outputs": [],
      "source": [
        "def preprocess_txt(line):\n",
        "    spls = \"\".join(i for i in line.strip() if i not in exclude).split()\n",
        "    spls = [morpher.parse(i.lower())[0].normal_form for i in spls]\n",
        "    spls = [i for i in spls if i not in sw and i != \"\"]\n",
        "    return spls"
      ]
    },
    {
      "cell_type": "code",
      "execution_count": null,
      "metadata": {
        "id": "TeS5w-g9MrpM"
      },
      "outputs": [],
      "source": [
        "morpher = MorphAnalyzer()\n",
        "sw = set(get_stop_words(\"ru\"))\n",
        "exclude = set(string.punctuation)"
      ]
    },
    {
      "cell_type": "code",
      "execution_count": null,
      "metadata": {
        "id": "BrZitjojMrpM",
        "outputId": "5490ad4c-4607-4c1a-d496-7f61caf7646f",
        "colab": {
          "referenced_widgets": [
            "b736f8e370574bb791c6da12b2664de6"
          ]
        }
      },
      "outputs": [
        {
          "name": "stderr",
          "output_type": "stream",
          "text": [
            "/var/folders/g_/9v3q8zfn4dj84j48wgjpsd7c0000gn/T/ipykernel_33158/2311395522.py:13: TqdmDeprecationWarning: This function will be removed in tqdm==5.0.0\n",
            "Please use `tqdm.notebook.tqdm` instead of `tqdm.tqdm_notebook`\n",
            "  for line in tqdm_notebook(fin):\n"
          ]
        },
        {
          "data": {
            "application/vnd.jupyter.widget-view+json": {
              "model_id": "b736f8e370574bb791c6da12b2664de6",
              "version_major": 2,
              "version_minor": 0
            },
            "text/plain": [
              "0it [00:00, ?it/s]"
            ]
          },
          "metadata": {},
          "output_type": "display_data"
        }
      ],
      "source": [
        "assert True\n",
        "\n",
        "# Preprocess for models fitting\n",
        "\n",
        "sentences = []\n",
        "\n",
        "morpher = MorphAnalyzer()\n",
        "sw = set(get_stop_words(\"ru\"))\n",
        "exclude = set(string.punctuation)\n",
        "c = 0\n",
        "\n",
        "with open(\"./TelegramBot/Responses.py\", \"r\") as fin:\n",
        "    for line in tqdm_notebook(fin):\n",
        "        spls = preprocess_txt(line)\n",
        "        sentences.append(spls)\n",
        "        c += 1\n",
        "        if c > 500000:\n",
        "            break"
      ]
    },
    {
      "cell_type": "code",
      "execution_count": null,
      "metadata": {
        "id": "SKcsqaLPMrpN"
      },
      "outputs": [],
      "source": [
        "#!pip install fasttext"
      ]
    },
    {
      "cell_type": "code",
      "execution_count": null,
      "metadata": {
        "id": "Ne4t47LyMrpN",
        "outputId": "f0bc222b-cc78-4906-c69e-965bf4881bb3"
      },
      "outputs": [
        {
          "name": "stdout",
          "output_type": "stream",
          "text": [
            "start train fasttext\n"
          ]
        }
      ],
      "source": [
        "sentences = [i for i in sentences if len(i) > 2]\n",
        "print('start train fasttext')\n",
        "modelFT = FastText(sentences=sentences, vector_size=100, min_count=1, window=5, workers=8)\n",
        "modelFT.save(\"ft_model\")"
      ]
    },
    {
      "cell_type": "code",
      "execution_count": null,
      "metadata": {
        "id": "kM47WLIXMrpN"
      },
      "outputs": [],
      "source": [
        "modelFT = FastText.load(\"ft_model\")"
      ]
    },
    {
      "cell_type": "code",
      "execution_count": null,
      "metadata": {
        "id": "gKuuMRtJMrpN",
        "outputId": "d4a05f6f-5269-49a1-f20c-68ed8e958a1b",
        "colab": {
          "referenced_widgets": [
            "324e2df9dc024e3b90a4562813508b99"
          ]
        }
      },
      "outputs": [
        {
          "name": "stderr",
          "output_type": "stream",
          "text": [
            "/var/folders/g_/9v3q8zfn4dj84j48wgjpsd7c0000gn/T/ipykernel_33158/2613819939.py:8: TqdmDeprecationWarning: This function will be removed in tqdm==5.0.0\n",
            "Please use `tqdm.notebook.tqdm` instead of `tqdm.tqdm_notebook`\n",
            "  for line in tqdm_notebook(f):\n"
          ]
        },
        {
          "data": {
            "application/vnd.jupyter.widget-view+json": {
              "model_id": "324e2df9dc024e3b90a4562813508b99",
              "version_major": 2,
              "version_minor": 0
            },
            "text/plain": [
              "0it [00:00, ?it/s]"
            ]
          },
          "metadata": {},
          "output_type": "display_data"
        },
        {
          "data": {
            "text/plain": [
              "True"
            ]
          },
          "execution_count": 10,
          "metadata": {},
          "output_type": "execute_result"
        }
      ],
      "source": [
        "modelFT = FastText.load(\"ft_model\")\n",
        "ft_index = annoy.AnnoyIndex(100 ,'angular')\n",
        "\n",
        "index_map = {}\n",
        "counter = 0\n",
        "\n",
        "with open(\"./TelegramBot/Responses.py\", \"r\") as f:\n",
        "    for line in tqdm_notebook(f):\n",
        "        n_ft = 0\n",
        "        spls = line.split(\"\\t\")\n",
        "\n",
        "        index_map[counter] = spls[0]\n",
        "        question = preprocess_txt(spls[0])\n",
        "        vector_ft = np.zeros(100)\n",
        "        for word in question:\n",
        "            if word in modelFT.wv:\n",
        "                vector_ft += modelFT.wv[word]\n",
        "                n_ft += 1\n",
        "        if n_ft > 0:\n",
        "            vector_ft = vector_ft / n_ft\n",
        "        ft_index.add_item(counter, vector_ft)\n",
        "\n",
        "        counter += 1\n",
        "\n",
        "ft_index.build(10)\n",
        "ft_index.save('speaker.ann')"
      ]
    },
    {
      "cell_type": "code",
      "execution_count": null,
      "metadata": {
        "id": "5iBi8SWrMrpO"
      },
      "outputs": [],
      "source": [
        "modelFT = FastText.load(\"ft_model\")"
      ]
    },
    {
      "cell_type": "code",
      "execution_count": null,
      "metadata": {
        "id": "v9A9mwO5MrpO",
        "outputId": "26a2aedb-522d-4dce-da90-379b403b0ae7"
      },
      "outputs": [
        {
          "data": {
            "text/plain": [
              "True"
            ]
          },
          "execution_count": 12,
          "metadata": {},
          "output_type": "execute_result"
        }
      ],
      "source": [
        "ft_index = annoy.AnnoyIndex(100, 'angular')\n",
        "ft_index.load('speaker.ann')"
      ]
    },
    {
      "cell_type": "code",
      "execution_count": null,
      "metadata": {
        "id": "tTUCvoNWMrpO",
        "outputId": "dc8e925e-590e-49c3-9a3d-41867e47151f"
      },
      "outputs": [
        {
          "data": {
            "text/plain": [
              "[0, 1]"
            ]
          },
          "execution_count": 13,
          "metadata": {},
          "output_type": "execute_result"
        }
      ],
      "source": [
        "ft_index.get_nns_by_vector(np.zeros(100), 2)"
      ]
    },
    {
      "cell_type": "code",
      "execution_count": null,
      "metadata": {
        "id": "f0O2aWlWMrpP",
        "outputId": "5ebd98ce-6bc4-48ab-8e7e-014e5c42348f"
      },
      "outputs": [
        {
          "data": {
            "text/html": [
              "<div>\n",
              "<style scoped>\n",
              "    .dataframe tbody tr th:only-of-type {\n",
              "        vertical-align: middle;\n",
              "    }\n",
              "\n",
              "    .dataframe tbody tr th {\n",
              "        vertical-align: top;\n",
              "    }\n",
              "\n",
              "    .dataframe thead th {\n",
              "        text-align: right;\n",
              "    }\n",
              "</style>\n",
              "<table border=\"1\" class=\"dataframe\">\n",
              "  <thead>\n",
              "    <tr style=\"text-align: right;\">\n",
              "      <th></th>\n",
              "      <th>title</th>\n",
              "      <th>descrirption</th>\n",
              "      <th>product_id</th>\n",
              "      <th>category_id</th>\n",
              "      <th>subcategory_id</th>\n",
              "      <th>properties</th>\n",
              "      <th>image_links</th>\n",
              "      <th>text</th>\n",
              "    </tr>\n",
              "  </thead>\n",
              "  <tbody>\n",
              "    <tr>\n",
              "      <th>0</th>\n",
              "      <td>Юбка детская ORBY</td>\n",
              "      <td>Новая, не носили ни разу. В реале красивей чем...</td>\n",
              "      <td>58e3cfe6132ca50e053f5f82</td>\n",
              "      <td>22.0</td>\n",
              "      <td>2211</td>\n",
              "      <td>{'detskie_razmer_rost': '81-86 (1,5 года)'}</td>\n",
              "      <td>http://cache3.youla.io/files/images/360_360/58...</td>\n",
              "      <td>[юбка, детский, orby, новый, носить, реал, кра...</td>\n",
              "    </tr>\n",
              "    <tr>\n",
              "      <th>1</th>\n",
              "      <td>Ботильоны</td>\n",
              "      <td>Новые,привезены из Чехии ,указан размер 40,но ...</td>\n",
              "      <td>5667531b2b7f8d127d838c34</td>\n",
              "      <td>9.0</td>\n",
              "      <td>902</td>\n",
              "      <td>{'zhenskaya_odezhda_tzvet': 'Зеленый', 'visota...</td>\n",
              "      <td>http://cache3.youla.io/files/images/360_360/5b...</td>\n",
              "      <td>[ботильон, новыепривезти, чехия, указать, разм...</td>\n",
              "    </tr>\n",
              "    <tr>\n",
              "      <th>2</th>\n",
              "      <td>Брюки</td>\n",
              "      <td>Размер 40-42. Брюки почти новые - не знаю как ...</td>\n",
              "      <td>59534826aaab284cba337e06</td>\n",
              "      <td>9.0</td>\n",
              "      <td>906</td>\n",
              "      <td>{'zhenskaya_odezhda_dzhinsy_bryuki_tip': 'Брюк...</td>\n",
              "      <td>http://cache3.youla.io/files/images/360_360/59...</td>\n",
              "      <td>[брюки, размер, 4042, брюки, новый, знать, мер...</td>\n",
              "    </tr>\n",
              "    <tr>\n",
              "      <th>3</th>\n",
              "      <td>Продам детские шапки</td>\n",
              "      <td>Продам шапки,кажда 200р.Розовая и белая проданны.</td>\n",
              "      <td>57de544096ad842e26de8027</td>\n",
              "      <td>22.0</td>\n",
              "      <td>2217</td>\n",
              "      <td>{'detskie_pol': 'Девочкам', 'detskaya_odezhda_...</td>\n",
              "      <td>http://cache3.youla.io/files/images/360_360/57...</td>\n",
              "      <td>[продать, детский, шапка, продать, шапкикажда,...</td>\n",
              "    </tr>\n",
              "    <tr>\n",
              "      <th>4</th>\n",
              "      <td>Блузка</td>\n",
              "      <td>Темно-синяя, 42 размер,состояние отличное,как ...</td>\n",
              "      <td>5ad4d2626c86cb168d212022</td>\n",
              "      <td>9.0</td>\n",
              "      <td>907</td>\n",
              "      <td>{'zhenskaya_odezhda_tzvet': 'Синий', 'zhenskay...</td>\n",
              "      <td>http://cache3.youla.io/files/images/360_360/5a...</td>\n",
              "      <td>[блузка, темносиний, 42, размерсостояние, отли...</td>\n",
              "    </tr>\n",
              "  </tbody>\n",
              "</table>\n",
              "</div>"
            ],
            "text/plain": [
              "                  title                                       descrirption  \\\n",
              "0     Юбка детская ORBY  Новая, не носили ни разу. В реале красивей чем...   \n",
              "1             Ботильоны  Новые,привезены из Чехии ,указан размер 40,но ...   \n",
              "2                 Брюки  Размер 40-42. Брюки почти новые - не знаю как ...   \n",
              "3  Продам детские шапки  Продам шапки,кажда 200р.Розовая и белая проданны.   \n",
              "4                Блузка  Темно-синяя, 42 размер,состояние отличное,как ...   \n",
              "\n",
              "                 product_id  category_id subcategory_id  \\\n",
              "0  58e3cfe6132ca50e053f5f82         22.0           2211   \n",
              "1  5667531b2b7f8d127d838c34          9.0            902   \n",
              "2  59534826aaab284cba337e06          9.0            906   \n",
              "3  57de544096ad842e26de8027         22.0           2217   \n",
              "4  5ad4d2626c86cb168d212022          9.0            907   \n",
              "\n",
              "                                          properties  \\\n",
              "0        {'detskie_razmer_rost': '81-86 (1,5 года)'}   \n",
              "1  {'zhenskaya_odezhda_tzvet': 'Зеленый', 'visota...   \n",
              "2  {'zhenskaya_odezhda_dzhinsy_bryuki_tip': 'Брюк...   \n",
              "3  {'detskie_pol': 'Девочкам', 'detskaya_odezhda_...   \n",
              "4  {'zhenskaya_odezhda_tzvet': 'Синий', 'zhenskay...   \n",
              "\n",
              "                                         image_links  \\\n",
              "0  http://cache3.youla.io/files/images/360_360/58...   \n",
              "1  http://cache3.youla.io/files/images/360_360/5b...   \n",
              "2  http://cache3.youla.io/files/images/360_360/59...   \n",
              "3  http://cache3.youla.io/files/images/360_360/57...   \n",
              "4  http://cache3.youla.io/files/images/360_360/5a...   \n",
              "\n",
              "                                                text  \n",
              "0  [юбка, детский, orby, новый, носить, реал, кра...  \n",
              "1  [ботильон, новыепривезти, чехия, указать, разм...  \n",
              "2  [брюки, размер, 4042, брюки, новый, знать, мер...  \n",
              "3  [продать, детский, шапка, продать, шапкикажда,...  \n",
              "4  [блузка, темносиний, 42, размерсостояние, отли...  "
            ]
          },
          "execution_count": 14,
          "metadata": {},
          "output_type": "execute_result"
        }
      ],
      "source": [
        "shop_data = pd.read_csv(\"ProductsDataset.csv\")\n",
        "\n",
        "\n",
        "shop_data['text'] = shop_data['title'] + \" \" + shop_data[\"descrirption\"]\n",
        "shop_data['text'] = shop_data['text'].apply(lambda x: preprocess_txt(str(x)))\n",
        "shop_data.head()"
      ]
    },
    {
      "cell_type": "code",
      "execution_count": null,
      "metadata": {
        "id": "gNATJbTVMrpP",
        "outputId": "8a22f8e4-9fe6-4042-f8d2-e50b77d63c7e"
      },
      "outputs": [
        {
          "data": {
            "text/plain": [
              "(35548, 8)"
            ]
          },
          "execution_count": 15,
          "metadata": {},
          "output_type": "execute_result"
        }
      ],
      "source": [
        "shop_data.shape"
      ]
    },
    {
      "cell_type": "code",
      "execution_count": null,
      "metadata": {
        "id": "wYhtDsiqMrpP"
      },
      "outputs": [],
      "source": [
        "from sklearn.feature_extraction.text import CountVectorizer\n",
        "from sklearn.linear_model import LogisticRegression\n",
        "\n",
        "vectorizer = CountVectorizer(ngram_range=(1, 2))"
      ]
    },
    {
      "cell_type": "code",
      "execution_count": null,
      "metadata": {
        "id": "7_ccNhXVMrpP",
        "outputId": "c81663fb-4a46-4a2e-f891-df0d0430570d"
      },
      "outputs": [
        {
          "name": "stdout",
          "output_type": "stream",
          "text": [
            "Echobotv20.ipynb\r\n",
            "Otvety.txt\r\n",
            "ProductsDataset.csv\r\n",
            "\u001b[34mTelegramBot\u001b[m\u001b[m\r\n",
            "Telegram_bot_tutorial.ipynb\r\n",
            "Untitled.ipynb\r\n",
            "Untitled1.ipynb\r\n",
            "chat-bot_imgs.ipynb\r\n",
            "chat_bot.ipynb\r\n",
            "ft_model\r\n",
            "ft_model.wv.vectors_ngrams.npy\r\n",
            "gbnlp-afdu-aac18209b96f (1).json\r\n",
            "\u001b[31mhw15.txt\u001b[m\u001b[m\r\n",
            "\u001b[31mhw16.txt\u001b[m\u001b[m\r\n",
            "index_shop.pkl\r\n",
            "index_speaker.pkl\r\n",
            "\u001b[31mlesson_15.ipynb\u001b[m\u001b[m\r\n",
            "lesson_15_2.ipynb\r\n",
            "prepared_answers.txt\r\n",
            "shop.ann\r\n",
            "speaker.ann\r\n",
            "Пример_разбора_ДЗ_NLP_14_1 (1).ipynb\r\n",
            "Пример_разбора_ДЗ_NLP_14_3.ipynb\r\n"
          ]
        }
      ],
      "source": [
        "!ls"
      ]
    },
    {
      "cell_type": "code",
      "execution_count": null,
      "metadata": {
        "id": "FHOKiR6xMrpQ"
      },
      "outputs": [],
      "source": [
        "import os\n",
        "filepath = './index_speaker.pkl'\n",
        "if os.path.exists(filepath):\n",
        "    file = open('./index_speaker.pkl', 'rb') as f\n",
        "    codedata = pickle.load(f)\n",
        "    file.close()\n",
        "else:\n",
        "    print(\"File not present at desired location\")"
      ]
    },
    {
      "cell_type": "code",
      "execution_count": null,
      "metadata": {
        "id": "ZLXeDrZRMrpQ"
      },
      "outputs": [],
      "source": [
        "with open('./index_speaker.pkl', 'rb') as f:\n",
        "    index_map = pickle.load(f)"
      ]
    },
    {
      "cell_type": "code",
      "execution_count": null,
      "metadata": {
        "id": "VQsjtV_CMrpQ"
      },
      "outputs": [],
      "source": [
        "idxs = set(np.random.randint(0, len(index_map), len(shop_data)))"
      ]
    },
    {
      "cell_type": "code",
      "execution_count": null,
      "metadata": {
        "id": "hafa_0vxMrpR"
      },
      "outputs": [],
      "source": [
        "negative_texts = [\" \".join(preprocess_txt(index_map[i])) for i in idxs]"
      ]
    },
    {
      "cell_type": "code",
      "execution_count": null,
      "metadata": {
        "id": "QdWwA9SwMrpR"
      },
      "outputs": [],
      "source": [
        "positive_texts = [\" \".join(val) for val in shop_data['text'].values]"
      ]
    },
    {
      "cell_type": "code",
      "execution_count": null,
      "metadata": {
        "id": "dlebyRGAMrpS",
        "outputId": "9638af58-e9f2-4335-f592-ad5140137898"
      },
      "outputs": [
        {
          "data": {
            "text/plain": [
              "'usermessage strinputtextlower'"
            ]
          },
          "execution_count": 23,
          "metadata": {},
          "output_type": "execute_result"
        }
      ],
      "source": [
        "negative_texts[3]"
      ]
    },
    {
      "cell_type": "code",
      "execution_count": null,
      "metadata": {
        "id": "1h6hYS-VMrpS"
      },
      "outputs": [],
      "source": [
        "idxs = set(np.random.randint(0, len(index_map), len(shop_data)))\n",
        "negative_texts = [\" \".join(preprocess_txt(index_map[i])) for i in idxs]\n",
        "positive_texts = [\" \".join(val) for val in shop_data['text'].values]"
      ]
    },
    {
      "cell_type": "code",
      "execution_count": null,
      "metadata": {
        "id": "su6_UXYbMrpS"
      },
      "outputs": [],
      "source": [
        "dataset = negative_texts + positive_texts\n",
        "labels = np.zeros(len(dataset))\n",
        "labels[len(negative_texts):] = np.ones(len(positive_texts))"
      ]
    },
    {
      "cell_type": "code",
      "execution_count": null,
      "metadata": {
        "id": "7DninDs4MrpS"
      },
      "outputs": [],
      "source": [
        "from sklearn.model_selection import train_test_split\n",
        "\n",
        "X_train, X_test, y_train, y_test = train_test_split(dataset, labels, test_size=0.2, stratify=labels,\n",
        "                                                    random_state=13)"
      ]
    },
    {
      "cell_type": "code",
      "execution_count": null,
      "metadata": {
        "id": "vq3FhdCqMrpS"
      },
      "outputs": [],
      "source": [
        "x_train_vec = vectorizer.fit_transform(X_train)\n",
        "x_test_vec = vectorizer.transform(X_test)\n",
        "\n",
        "lr = LogisticRegression().fit(x_train_vec, y_train)"
      ]
    },
    {
      "cell_type": "code",
      "execution_count": null,
      "metadata": {
        "id": "toCAL2zoMrpT",
        "outputId": "83c7322f-7954-4f19-ba69-428a97335cc6"
      },
      "outputs": [
        {
          "data": {
            "text/plain": [
              "0.9995782370307887"
            ]
          },
          "execution_count": 28,
          "metadata": {},
          "output_type": "execute_result"
        }
      ],
      "source": [
        "from sklearn.metrics import accuracy_score\n",
        "accuracy_score(y_true=y_test, y_pred=lr.predict(x_test_vec))"
      ]
    },
    {
      "cell_type": "code",
      "execution_count": null,
      "metadata": {
        "id": "pzcANwRWMrpT"
      },
      "outputs": [],
      "source": [
        "import pickle"
      ]
    },
    {
      "cell_type": "code",
      "execution_count": null,
      "metadata": {
        "id": "Stjd02pAMrpT"
      },
      "outputs": [],
      "source": [
        "# assert\n",
        "import pickle\n",
        "\n",
        "with open(\"index_speaker.pkl\", \"wb\") as f:\n",
        "    pickle.dump(index_map, f)"
      ]
    },
    {
      "cell_type": "code",
      "execution_count": null,
      "metadata": {
        "id": "st4FYE-dMrpU"
      },
      "outputs": [],
      "source": [
        "from sklearn.feature_extraction.text import TfidfVectorizer\n",
        "\n",
        "tfidf_vect = TfidfVectorizer().fit(X_train)"
      ]
    },
    {
      "cell_type": "code",
      "execution_count": null,
      "metadata": {
        "id": "N6ZyvwUHMrpU",
        "outputId": "d85c18bc-9fe2-4545-f107-af344bcf28eb"
      },
      "outputs": [
        {
          "data": {
            "text/plain": [
              "10.16859539453302"
            ]
          },
          "execution_count": 32,
          "metadata": {},
          "output_type": "execute_result"
        }
      ],
      "source": [
        "np.mean(tfidf_vect.idf_)"
      ]
    },
    {
      "cell_type": "code",
      "execution_count": null,
      "metadata": {
        "id": "Ez0Wb-H2MrpU",
        "outputId": "a61c5174-25e0-4af2-e979-93d100a7ec90"
      },
      "outputs": [
        {
          "data": {
            "text/plain": [
              "{'пальто': 9.646500675887538,\n",
              " 'женский': 7.7295780637054765,\n",
              " 'продать': 10.562791407761692,\n",
              " 'состояние': 10.562791407761692,\n",
              " 'хороший': 10.562791407761692,\n",
              " 'наличие': 10.562791407761692,\n",
              " 'разный': 10.562791407761692,\n",
              " 'вещь': 10.562791407761692,\n",
              " 'размер': 10.562791407761692,\n",
              " '5456': 10.562791407761692,\n",
              " 'сапог': 10.562791407761692,\n",
              " 'кожаныеосень': 10.562791407761692,\n",
              " 'состоянииить': 10.562791407761692,\n",
              " '3738': 10.562791407761692,\n",
              " 'набор': 8.953353495327592,\n",
              " 'стильно': 10.562791407761692,\n",
              " 'чемодан': 10.562791407761692,\n",
              " 'раскладной': 10.562791407761692,\n",
              " 'произвый': 9.464179119093583,\n",
              " 'корея': 10.562791407761692,\n",
              " 'разм': 10.562791407761692,\n",
              " 'аысота': 10.157326299653528,\n",
              " '60': 10.562791407761692,\n",
              " 'смотреть': 10.562791407761692,\n",
              " 'ширина': 10.562791407761692,\n",
              " '40': 10.562791407761692,\n",
              " 'глубина': 10.562791407761692,\n",
              " '23': 9.869644227201746,\n",
              " 'смв': 10.562791407761692,\n",
              " 'разложа': 10.562791407761692,\n",
              " 'вид': 10.562791407761692,\n",
              " '31': 10.562791407761692,\n",
              " 'легко': 8.953353495327592,\n",
              " 'найти': 10.562791407761692,\n",
              " 'лента': 10.562791407761692,\n",
              " 'транспортёр': 10.562791407761692,\n",
              " 'аэропорт': 10.562791407761692,\n",
              " 'заметный': 10.562791407761692,\n",
              " 'яркий': 10.562791407761692,\n",
              " 'надёжный': 10.562791407761692,\n",
              " 'помощник': 8.120444372392488,\n",
              " 'поездка': 10.562791407761692,\n",
              " 'атласный': 10.562791407761692,\n",
              " 'топ': 10.562791407761692,\n",
              " 'спрашивать': 10.157326299653528,\n",
              " 'лямочка': 10.562791407761692,\n",
              " 'интересный': 10.562791407761692,\n",
              " 'сделать': 10.562791407761692,\n",
              " 'девушка': 9.869644227201746,\n",
              " 'например': 10.562791407761692,\n",
              " 'атласастрейч': 10.562791407761692,\n",
              " 'перекрещиваться': 8.953353495327592,\n",
              " 'спинка': 10.562791407761692,\n",
              " 'лямка': 10.562791407761692,\n",
              " 'благородный': 10.157326299653528,\n",
              " 'стальной': 8.547888387219427,\n",
              " 'цвет': 10.562791407761692,\n",
              " 'кружево': 10.562791407761692,\n",
              " 'слоновый': 10.562791407761692,\n",
              " 'кость': 10.562791407761692,\n",
              " 'нижний': 10.562791407761692,\n",
              " 'бельё': 7.9978420503001555,\n",
              " 'одежда': 10.562791407761692,\n",
              " 'дом': 10.562791407761692,\n",
              " 'заказ': 10.562791407761692,\n",
              " 'мерка': 10.562791407761692,\n",
              " 'вопрос': 10.562791407761692,\n",
              " 'писать': 10.157326299653528,\n",
              " 'лс': 10.562791407761692,\n",
              " 'детский': 9.869644227201746,\n",
              " 'комбинезон': 10.562791407761692,\n",
              " 'идеальный': 10.562791407761692,\n",
              " 'красивый': 10.562791407761692,\n",
              " 'тёплый': 10.562791407761692,\n",
              " 'мягкий': 10.562791407761692,\n",
              " 'зимний': 10.562791407761692,\n",
              " '1525': 10.562791407761692,\n",
              " 'шаговый33смрукать': 10.562791407761692,\n",
              " 'плеча33смот': 9.869644227201746,\n",
              " 'плечо': 10.562791407761692,\n",
              " 'спина': 10.562791407761692,\n",
              " '3132смота': 10.562791407761692,\n",
              " 'ворота': 10.562791407761692,\n",
              " 'низ': 10.157326299653528,\n",
              " 'куртки44см': 10.562791407761692,\n",
              " 'теплыйный': 10.562791407761692,\n",
              " 'новый': 10.562791407761692,\n",
              " 'цена': 10.562791407761692,\n",
              " 'такаявнутри': 10.562791407761692,\n",
              " 'пухможный': 9.869644227201746,\n",
              " 'стирать': 10.562791407761692,\n",
              " '30': 10.562791407761692,\n",
              " 'возможный': 9.869644227201746,\n",
              " 'встреча': 10.562791407761692,\n",
              " 'мпионерский': 10.562791407761692,\n",
              " 'ботинок': 10.562791407761692,\n",
              " 'натуральный': 5.509735397781484,\n",
              " 'кожа': 4.450216034904653,\n",
              " 'раз39': 6.44375423294922,\n",
              " 'удобный': 8.422725244265422,\n",
              " 'каблук': 10.562791407761692,\n",
              " 'пакет': 10.157326299653528,\n",
              " 'мальчикасрочный': 10.562791407761692,\n",
              " '743костюмчик': 10.562791407761692,\n",
              " 'отличный': 10.562791407761692,\n",
              " 'дублёнка': 10.562791407761692,\n",
              " 'мех': 10.562791407761692,\n",
              " 'шапка': 7.8886427583351635,\n",
              " 'подарок': 10.562791407761692,\n",
              " 'джинсовый': 10.562791407761692,\n",
              " '1218': 10.157326299653528,\n",
              " 'месяц': 10.562791407761692,\n",
              " 'рост': 10.562791407761692,\n",
              " '86': 10.562791407761692,\n",
              " 'внутренний': 10.562791407761692,\n",
              " 'поверхность': 10.562791407761692,\n",
              " 'бедро': 10.562791407761692,\n",
              " 'заклёпка': 10.562791407761692,\n",
              " 'большой': 9.869644227201746,\n",
              " 'профиль': 10.562791407761692,\n",
              " 'тик': 10.562791407761692,\n",
              " 'голова': 10.562791407761692,\n",
              " 'самовывоз': 10.157326299653528,\n",
              " 'толстой': 9.869644227201746,\n",
              " '38': 10.562791407761692,\n",
              " 'джемпер': 10.157326299653528,\n",
              " 'глория': 10.157326299653528,\n",
              " 'джинс': 9.646500675887538,\n",
              " 'кроссовок': 10.562791407761692,\n",
              " 'туфля': 10.157326299653528,\n",
              " 'оказаться': 10.562791407761692,\n",
              " 'больший': 10.562791407761692,\n",
              " '375': 10.562791407761692,\n",
              " 'платье': 10.562791407761692,\n",
              " 'фирма': 10.157326299653528,\n",
              " 'fasola': 10.562791407761692,\n",
              " 'маленький': 10.562791407761692,\n",
              " 'леди': 10.562791407761692,\n",
              " 'продаваться': 10.562791407761692,\n",
              " 'маленькая': 10.562791407761692,\n",
              " '56': 10.562791407761692,\n",
              " 'одетый': 10.562791407761692,\n",
              " 'ожерелье': 10.562791407761692,\n",
              " '300': 10.562791407761692,\n",
              " 'рубль': 10.157326299653528,\n",
              " '500': 10.562791407761692,\n",
              " 'тапочки': 10.562791407761692,\n",
              " 'тапка': 10.562791407761692,\n",
              " 'ребенкацена': 10.562791407761692,\n",
              " '100р': 10.562791407761692,\n",
              " '19': 10.562791407761692,\n",
              " 'лапша': 10.157326299653528,\n",
              " 'модно': 10.562791407761692,\n",
              " 'качество': 10.157326299653528,\n",
              " 'цветбордовый': 10.562791407761692,\n",
              " 'бежевый': 10.157326299653528,\n",
              " 'серый': 10.562791407761692,\n",
              " 'единый': 10.562791407761692,\n",
              " 'длина': 9.869644227201746,\n",
              " '94': 10.562791407761692,\n",
              " 'бесплатный': 10.562791407761692,\n",
              " 'доставка': 6.80159129206813,\n",
              " 'калининград': 10.562791407761692,\n",
              " 'рф': 10.562791407761692,\n",
              " '350': 10.562791407761692,\n",
              " 'руб': 10.562791407761692,\n",
              " 'остальной': 10.562791407761692,\n",
              " 'ассортимент': 10.562791407761692,\n",
              " 'ознакомиться': 10.562791407761692,\n",
              " 'подписаться': 10.562791407761692,\n",
              " 'komod': 8.547888387219427,\n",
              " '39': 10.157326299653528,\n",
              " 'инст': 10.562791407761692,\n",
              " 'звонить': 10.562791407761692,\n",
              " 'мужской': 8.260206314767647,\n",
              " 'костюм': 10.562791407761692,\n",
              " 'светлый': 10.562791407761692,\n",
              " 'свадьбусостояние': 10.562791407761692,\n",
              " 'новогогалстук': 10.562791407761692,\n",
              " 'покупка': 10.157326299653528,\n",
              " 'товар': 10.157326299653528,\n",
              " 'профиляскидкавозмозить': 10.562791407761692,\n",
              " 'обменвариант': 10.157326299653528,\n",
              " 'предлагать': 10.562791407761692,\n",
              " 'полукомбинезон': 10.562791407761692,\n",
              " 'велосипед': 10.562791407761692,\n",
              " 'ручка': 10.562791407761692,\n",
              " 'хорошеепользоваться': 10.562791407761692,\n",
              " 'лето': 10.562791407761692,\n",
              " 'подойти': 10.562791407761692,\n",
              " 'мальчик': 8.037062763453438,\n",
              " 'девочка': 10.562791407761692,\n",
              " 'рюкзак': 10.562791407761692,\n",
              " 'игрушекнадувной': 10.562791407761692,\n",
              " 'колесаподстаканник': 10.562791407761692,\n",
              " 'жёлтый': 10.562791407761692,\n",
              " 'сумка': 9.869644227201746,\n",
              " 'подарить': 10.562791407761692,\n",
              " 'кофта': 10.562791407761692,\n",
              " 'туника': 9.058714010985419,\n",
              " 'универсальный': 10.562791407761692,\n",
              " 'удлинённый': 10.562791407761692,\n",
              " 'примерно': 8.771031938533637,\n",
              " 'лосиный': 10.562791407761692,\n",
              " '4042': 10.157326299653528,\n",
              " 'river': 10.562791407761692,\n",
              " 'island': 7.7295780637054765,\n",
              " 'бандаж': 10.562791407761692,\n",
              " 'дородовойпослеродов': 10.562791407761692,\n",
              " 'предназначить': 10.562791407761692,\n",
              " 'специально': 9.058714010985419,\n",
              " 'будущий': 10.562791407761692,\n",
              " 'мама': 10.562791407761692,\n",
              " 'использование': 9.869644227201746,\n",
              " 'послеродовой': 9.869644227201746,\n",
              " 'период': 10.562791407761692,\n",
              " 'надёжно': 10.562791407761692,\n",
              " 'фиксировать': 10.562791407761692,\n",
              " 'правильный': 9.464179119093583,\n",
              " 'физиологический': 10.157326299653528,\n",
              " 'положение': 10.562791407761692,\n",
              " 'орган': 8.077884757973692,\n",
              " 'брюшной': 10.157326299653528,\n",
              " 'полость': 10.157326299653528,\n",
              " 'малое': 10.562791407761692,\n",
              " 'тазаа': 10.562791407761692,\n",
              " 'осуществлять': 10.562791407761692,\n",
              " 'поддержка': 10.562791407761692,\n",
              " 'живот': 10.562791407761692,\n",
              " 'применение': 10.562791407761692,\n",
              " 'способствовать': 10.562791407761692,\n",
              " 'нормализация': 9.310028439266324,\n",
              " 'плодаснижение': 10.562791407761692,\n",
              " 'развитие': 8.690989230860101,\n",
              " 'гипертонус': 10.562791407761692,\n",
              " 'маткипредупреждение': 10.562791407761692,\n",
              " 'лишний': 10.562791407761692,\n",
              " 'растяжение': 10.157326299653528,\n",
              " 'мышца': 10.562791407761692,\n",
              " 'регулируетсялипучка': 6.511006459958388,\n",
              " 'состояниеотличный': 10.562791407761692,\n",
              " 'метро': 10.157326299653528,\n",
              " 'бабушкинский': 7.7295780637054765,\n",
              " 'отправка': 10.562791407761692,\n",
              " 'регион': 10.562791407761692,\n",
              " '100': 10.562791407761692,\n",
              " 'оплата': 10.562791407761692,\n",
              " 'хлопок': 10.562791407761692,\n",
              " 'заказать': 9.869644227201746,\n",
              " 'интернет': 9.869644227201746,\n",
              " 'ошибиться': 10.562791407761692,\n",
              " 'обсалютный': 10.157326299653528,\n",
              " 'отдавать': 10.562791407761692,\n",
              " 'дешёвый': 10.562791407761692,\n",
              " 'брать': 10.562791407761692,\n",
              " 'возраст': 10.562791407761692,\n",
              " '69': 10.562791407761692,\n",
              " 'стёрка': 10.562791407761692,\n",
              " 'пятёрочка': 10.562791407761692,\n",
              " 'темно': 9.869644227201746,\n",
              " 'van': 9.310028439266324,\n",
              " 'cliff': 10.562791407761692,\n",
              " 'одеваться': 10.562791407761692,\n",
              " 'роспись': 10.157326299653528,\n",
              " 'пара': 10.562791407761692,\n",
              " 'час': 10.562791407761692,\n",
              " 'длинный': 7.54236652161733,\n",
              " 'брюки': 9.869644227201746,\n",
              " 'остаться': 9.869644227201746,\n",
              " 'прежний': 10.562791407761692,\n",
              " '110': 10.562791407761692,\n",
              " 'подшиваться': 10.562791407761692,\n",
              " '46': 10.562791407761692,\n",
              " '182': 10.562791407761692,\n",
              " 'покупать': 10.562791407761692,\n",
              " '12000': 10.562791407761692,\n",
              " 'повседневный': 10.562791407761692,\n",
              " 'носка': 9.464179119093583,\n",
              " 'реальный': 10.562791407761692,\n",
              " 'покупатель': 10.562791407761692,\n",
              " 'отдать': 10.562791407761692,\n",
              " 'рубашка': 8.211416150598215,\n",
              " 'шампаня': 10.157326299653528,\n",
              " '3940': 10.562791407761692,\n",
              " 'шорты': 10.562791407761692,\n",
              " '34': 10.562791407761692,\n",
              " 'cостояние': 9.869644227201746,\n",
              " 'изначально': 8.690989230860101,\n",
              " 'практически': 10.562791407761692,\n",
              " 'носить': 10.562791407761692,\n",
              " 'летний': 10.562791407761692,\n",
              " 'тонкий': 10.562791407761692,\n",
              " 'объём': 10.562791407761692,\n",
              " 'пояс': 8.077884757973692,\n",
              " '93': 10.562791407761692,\n",
              " '66': 10.562791407761692,\n",
              " 'развивать': 10.562791407761692,\n",
              " 'каталка': 10.562791407761692,\n",
              " 'ходунки': 10.562791407761692,\n",
              " 'kiddieland': 9.869644227201746,\n",
              " 'игровой': 10.562791407761692,\n",
              " 'панель': 9.464179119093583,\n",
              " 'обладать': 10.562791407761692,\n",
              " 'свет': 10.562791407761692,\n",
              " 'звук': 10.562791407761692,\n",
              " 'мире': 10.562791407761692,\n",
              " '4500': 10.562791407761692,\n",
              " 'обувь': 10.562791407761692,\n",
              " 'коробка': 9.869644227201746,\n",
              " 'блузка': 10.562791407761692,\n",
              " 'concept': 10.562791407761692,\n",
              " 'club': 10.562791407761692,\n",
              " '44': 10.562791407761692,\n",
              " 'рр': 10.562791407761692,\n",
              " 'надевать': 10.562791407761692,\n",
              " 'близкий': 10.562791407761692,\n",
              " 'получиться': 10.157326299653528,\n",
              " 'последний': 10.562791407761692,\n",
              " 'фото': 10.562791407761692,\n",
              " 'передать': 10.157326299653528,\n",
              " 'рцр': 10.562791407761692,\n",
              " 'punto': 10.562791407761692,\n",
              " 'внутри': 10.562791407761692,\n",
              " 'капюшон': 10.562791407761692,\n",
              " '22': 10.562791407761692,\n",
              " 'производитель': 10.157326299653528,\n",
              " 'турция': 7.960101722317308,\n",
              " '80': 10.562791407761692,\n",
              " 'рукав': 10.562791407761692,\n",
              " 'сумочка': 10.157326299653528,\n",
              " 'harrods': 9.646500675887538,\n",
              " 'абсолютно': 10.562791407761692,\n",
              " 'небольшой': 10.562791407761692,\n",
              " 'купить': 10.562791407761692,\n",
              " 'лондон': 9.869644227201746,\n",
              " 'подклад': 10.562791407761692,\n",
              " 'кармашек': 10.562791407761692,\n",
              " 'молния': 6.611547689180265,\n",
              " 'закрываться': 6.343283702585586,\n",
              " 'кнопка': 8.858043315523268,\n",
              " 'симпатичный': 9.310028439266324,\n",
              " 'актуально': 10.562791407761692,\n",
              " 'красноярск': 10.562791407761692,\n",
              " 'железногорск': 9.869644227201746,\n",
              " 'отправить': 10.562791407761692,\n",
              " 'почта': 10.562791407761692,\n",
              " 'футболка': 10.562791407761692,\n",
              " 'нбаnba': 9.869644227201746,\n",
              " 'оригинальный': 10.562791407761692,\n",
              " 'всемирно': 7.8886427583351635,\n",
              " 'известный': 10.562791407761692,\n",
              " 'спортивный': 10.562791407761692,\n",
              " 'бренд': 10.562791407761692,\n",
              " 'вечный': 10.562791407761692,\n",
              " 'принт': 10.562791407761692,\n",
              " 'сша': 10.157326299653528,\n",
              " 'предложение': 10.562791407761692,\n",
              " 'работать': 10.562791407761692,\n",
              " 'тренажёр': 10.157326299653528,\n",
              " 'складный': 10.157326299653528,\n",
              " 'выдерживать': 9.646500675887538,\n",
              " 'любой': 10.562791407761692,\n",
              " 'вес': 10.562791407761692,\n",
              " 'подходить': 10.562791407761692,\n",
              " 'мужчина': 10.562791407761692,\n",
              " 'женщина': 10.562791407761692,\n",
              " 'килограмм': 10.562791407761692,\n",
              " 'задействовать': 9.646500675887538,\n",
              " 'тело': 10.562791407761692,\n",
              " 'подтягиваться': 10.157326299653528,\n",
              " 'любимый': 10.562791407761692,\n",
              " 'пример': 10.562791407761692,\n",
              " 'первомайский': 10.562791407761692,\n",
              " 'первоклассник': 10.562791407761692,\n",
              " 'рассмотреть': 10.562791407761692,\n",
              " 'продажа': 10.562791407761692,\n",
              " 'отдельность': 10.562791407761692,\n",
              " 'игрушка': 10.562791407761692,\n",
              " 'деревянный': 10.157326299653528,\n",
              " 'доска': 10.562791407761692,\n",
              " 'обитатель': 10.157326299653528,\n",
              " 'пруд': 10.562791407761692,\n",
              " 'мелкий': 8.483349866081856,\n",
              " 'моторика': 10.562791407761692,\n",
              " 'внимание': 10.562791407761692,\n",
              " 'усидчивость': 10.562791407761692,\n",
              " 'воображение': 10.562791407761692,\n",
              " 'малыш': 10.562791407761692,\n",
              " 'помощь': 10.562791407761692,\n",
              " 'ребёнок': 10.562791407761692,\n",
              " 'узнать': 10.562791407761692,\n",
              " 'животное': 10.157326299653528,\n",
              " 'птица': 10.157326299653528,\n",
              " 'насекомое': 8.422725244265422,\n",
              " 'рыба': 10.562791407761692,\n",
              " 'земноводное': 10.157326299653528,\n",
              " 'членистоногий': 10.562791407761692,\n",
              " 'жить': 10.562791407761692,\n",
              " 'озеро': 10.562791407761692,\n",
              " '375х305х12': 10.562791407761692,\n",
              " 'вкладыш': 10.562791407761692,\n",
              " 'минимальный': 10.562791407761692,\n",
              " '22х22': 10.562791407761692,\n",
              " 'комплект': 8.164896134963321,\n",
              " 'деталь': 10.562791407761692,\n",
              " 'фигурка': 9.869644227201746,\n",
              " 'подставка': 10.562791407761692,\n",
              " 'картинкивкладышать': 10.562791407761692,\n",
              " 'материал': 9.869644227201746,\n",
              " 'дерево': 10.562791407761692,\n",
              " 'звонок': 10.562791407761692,\n",
              " 'отвечать': 8.858043315523268,\n",
              " 'пайетка': 10.562791407761692,\n",
              " 'дорожеплатье': 10.562791407761692,\n",
              " 'биркойфирма': 9.176497046641801,\n",
              " 'tfnsлондонна': 10.562791407761692,\n",
              " 'ростовкаплатья': 10.562791407761692,\n",
              " 'высокий': 10.562791407761692,\n",
              " 'девушекоблегающее1фотографиявид': 10.562791407761692,\n",
              " 'сзадипо': 10.157326299653528,\n",
              " 'бок': 10.562791407761692,\n",
              " 'разрезыдлин': 7.066283846295212,\n",
              " '117': 10.157326299653528,\n",
              " 'зима': 10.562791407761692,\n",
              " 'чёрный': 10.562791407761692,\n",
              " 'стареть': 10.562791407761692,\n",
              " 'классика': 10.562791407761692,\n",
              " 'сезон': 10.562791407761692,\n",
              " 'отстёгиваться': 10.562791407761692,\n",
              " 'бу': 10.157326299653528,\n",
              " 'выходно': 10.562791407761692,\n",
              " '150170': 10.562791407761692,\n",
              " '4244': 10.157326299653528,\n",
              " 'причина': 10.562791407761692,\n",
              " 'прибавка': 9.464179119093583,\n",
              " 'влезть': 10.562791407761692,\n",
              " 'зря': 10.562791407761692,\n",
              " 'висеть': 6.573807361197418,\n",
              " 'шкаф': 10.562791407761692,\n",
              " 'приличный': 10.562791407761692,\n",
              " 'торг': 8.365566830425472,\n",
              " 'уместный': 10.562791407761692,\n",
              " 'беременная': 10.562791407761692,\n",
              " 'штанишки': 8.858043315523268,\n",
              " 'акула': 10.562791407761692,\n",
              " '104110': 10.562791407761692,\n",
              " '250': 10.562791407761692,\n",
              " 'штаны': 10.157326299653528,\n",
              " 'превращаться': 10.562791407761692,\n",
              " 'шортыбридж': 10.562791407761692,\n",
              " 'утяжка': 10.562791407761692,\n",
              " 'коляска': 10.562791407761692,\n",
              " 'stokke': 9.646500675887538,\n",
              " 'xplory': 10.562791407761692,\n",
              " 'v4': 10.562791407761692,\n",
              " 'продавать': 10.562791407761692,\n",
              " 'синий': 10.562791407761692,\n",
              " 'blue': 10.562791407761692,\n",
              " 'deep': 9.310028439266324,\n",
              " 'люлька': 10.562791407761692,\n",
              " 'вообще': 10.157326299653528,\n",
              " 'срок': 9.176497046641801,\n",
              " 'эксплуатация': 10.562791407761692,\n",
              " 'мес': 10.562791407761692,\n",
              " 'кататься': 10.562791407761692,\n",
              " 'двор': 10.562791407761692,\n",
              " 'плитка': 10.562791407761692,\n",
              " 'сохраниться': 10.562791407761692,\n",
              " 'комплектация': 10.562791407761692,\n",
              " 'входить': 10.562791407761692,\n",
              " 'прогулочный': 10.562791407761692,\n",
              " 'блок': 10.562791407761692,\n",
              " 'младенцадождевик': 10.562791407761692,\n",
              " 'шт': 10.562791407761692,\n",
              " 'прогулка': 10.562791407761692,\n",
              " 'пользоваться': 10.562791407761692,\n",
              " 'москитный': 8.311499609155197,\n",
              " 'сетка': 10.562791407761692,\n",
              " 'дополнительно': 10.562791407761692,\n",
              " 'подстаканник': 10.562791407761692,\n",
              " '1500': 10.562791407761692,\n",
              " 'чехол': 10.562791407761692,\n",
              " 'экокожа': 10.157326299653528,\n",
              " '2000': 5.450803619405149,\n",
              " 'довольный': 6.993258711280323,\n",
              " 'помимо': 7.161594026099537,\n",
              " 'стильный': 8.422725244265422,\n",
              " 'дизайн': 10.562791407761692,\n",
              " 'плюс': 10.562791407761692,\n",
              " 'позволять': 10.562791407761692,\n",
              " 'располагать': 10.562791407761692,\n",
              " 'сидение': 8.771031938533637,\n",
              " 'высоко': 10.562791407761692,\n",
              " 'земля': 10.562791407761692,\n",
              " 'давать': 10.562791407761692,\n",
              " 'отличие': 10.562791407761692,\n",
              " 'обычный': 10.562791407761692,\n",
              " 'наблюдать': 10.157326299653528,\n",
              " 'нога': 10.562791407761692,\n",
              " 'прохожий': 10.562791407761692,\n",
              " 'панорамный': 10.562791407761692,\n",
              " 'обзор': 10.562791407761692,\n",
              " 'зимой': 10.562791407761692,\n",
              " 'находиться': 10.157326299653528,\n",
              " 'снег': 10.562791407761692,\n",
              " 'промёрзнуть': 10.562791407761692,\n",
              " 'одолевать': 10.562791407761692,\n",
              " 'пыль': 10.562791407761692,\n",
              " 'грязь': 10.562791407761692,\n",
              " 'отсутствие': 9.464179119093583,\n",
              " 'перекладина': 10.157326299653528,\n",
              " 'задний': 8.858043315523268,\n",
              " 'колесо': 10.562791407761692,\n",
              " 'стеснять': 10.562791407761692,\n",
              " 'движение': 10.157326299653528,\n",
              " 'родитель': 10.562791407761692,\n",
              " 'папа': 10.562791407761692,\n",
              " 'размашистый': 10.562791407761692,\n",
              " 'шаг': 10.562791407761692,\n",
              " 'задевать': 10.562791407761692,\n",
              " 'колёсный': 10.562791407761692,\n",
              " 'ось': 8.547888387219427,\n",
              " 'являться': 10.562791407761692,\n",
              " 'недостаток': 8.365566830425472,\n",
              " 'многий': 9.869644227201746,\n",
              " 'модель': 10.562791407761692,\n",
              " 'юмр': 10.562791407761692,\n",
              " '44000': 10.562791407761692,\n",
              " 'ботильон': 10.562791407761692,\n",
              " 'полусапог': 8.120444372392488,\n",
              " 'распродажа': 10.562791407761692,\n",
              " 'стелька': 10.157326299653528,\n",
              " '2526см': 9.464179119093583,\n",
              " 'ощущать': 10.562791407761692,\n",
              " 'заменитель': 10.562791407761692,\n",
              " 'замша': 6.8992297616320455,\n",
              " '7см': 10.562791407761692,\n",
              " 'устойчивый': 10.562791407761692,\n",
              " 'самостоятельно': 7.821951383836491,\n",
              " 'забрать': 10.562791407761692,\n",
              " 'славянский': 10.562791407761692,\n",
              " 'бульвар': 10.562791407761692,\n",
              " 'мишка': 10.562791407761692,\n",
              " 'тедди': 10.562791407761692,\n",
              " 'teddy': 9.310028439266324,\n",
              " 'оригинал': 10.562791407761692,\n",
              " '12': 10.562791407761692,\n",
              " 'р52': 10.562791407761692,\n",
              " 'указать': 9.869644227201746,\n",
              " 'шуба': 10.562791407761692,\n",
              " 'мутоновый': 10.562791407761692,\n",
              " 'nan': 10.562791407761692,\n",
              " 'блуза': 9.176497046641801,\n",
              " 'р4446': 10.562791407761692,\n",
              " 'отличсостояниинехватать': 10.562791407761692,\n",
              " 'тролько': 10.562791407761692,\n",
              " 'пуговица': 10.562791407761692,\n",
              " 'джинсы': 10.562791407761692,\n",
              " 'diezel': 10.157326299653528,\n",
              " '26состояние': 10.562791407761692,\n",
              " 'хорошеен': 10.562791407761692,\n",
              " 'клёш': 9.176497046641801,\n",
              " 'коленана': 10.562791407761692,\n",
              " 'казаться': 8.547888387219427,\n",
              " 'вытягивать': 10.562791407761692,\n",
              " 'силуэт': 10.562791407761692,\n",
              " 'классно': 10.562791407761692,\n",
              " 'смотреться': 10.157326299653528,\n",
              " 'ортопедический': 9.310028439266324,\n",
              " 'сандали': 10.562791407761692,\n",
              " 'ддевочка': 10.562791407761692,\n",
              " '195': 10.562791407761692,\n",
              " 'ценник': 7.592376942191991,\n",
              " 'отправлять': 9.646500675887538,\n",
              " 'одевать': 10.157326299653528,\n",
              " '85': 10.157326299653528,\n",
              " 'крещение': 10.562791407761692,\n",
              " 'буцвета': 9.646500675887538,\n",
              " 'молочныйразмер': 10.562791407761692,\n",
              " 'юбка': 10.562791407761692,\n",
              " 'выход': 10.562791407761692,\n",
              " '50': 10.562791407761692,\n",
              " 'магазин': 10.157326299653528,\n",
              " 'адрес': 10.562791407761692,\n",
              " 'королёв': 10.562791407761692,\n",
              " '10а': 10.562791407761692,\n",
              " 'кв': 9.646500675887538,\n",
              " '109': 10.562791407761692,\n",
              " 'сарафан': 10.562791407761692,\n",
              " 'street': 10.157326299653528,\n",
              " 'one': 10.562791407761692,\n",
              " 'качественный': 10.562791407761692,\n",
              " 'водолазкадлин': 10.562791407761692,\n",
              " '1метрочень': 10.562791407761692,\n",
              " 'красиво': 10.157326299653528,\n",
              " 'водолазкамис': 10.562791407761692,\n",
              " 'рубашкамибоди': 10.562791407761692,\n",
              " 'приглашать': 6.670971109651066,\n",
              " 'купальник': 10.562791407761692,\n",
              " 'рs': 10.562791407761692,\n",
              " 'примеряться': 10.562791407761692,\n",
              " 'трус': 8.260206314767647,\n",
              " 'лиф': 10.562791407761692,\n",
              " 'чашка': 10.562791407761692,\n",
              " '75в': 10.562791407761692,\n",
              " 'привезти': 10.562791407761692,\n",
              " 'штат': 10.562791407761692,\n",
              " 'нужность': 10.562791407761692,\n",
              " 'скидка': 10.562791407761692,\n",
              " 'колва': 10.157326299653528,\n",
              " 'почтойбоксберрисдек': 10.562791407761692,\n",
              " 'незаношенный': 10.562791407761692,\n",
              " 'вельветовый': 10.562791407761692,\n",
              " 'zara': 10.562791407761692,\n",
              " '1218мес86см': 10.157326299653528,\n",
              " 'benetton': 10.562791407761692,\n",
              " 'benettonтонкаяхбба': 10.562791407761692,\n",
              " 'разсостояние': 10.562791407761692,\n",
              " 'идеальноеразмер': 10.157326299653528,\n",
              " '156164ть': 10.562791407761692,\n",
              " 'рашгарда': 9.310028439266324,\n",
              " 'упаковка': 10.562791407761692,\n",
              " 'вечерний': 10.562791407761692,\n",
              " 'выпускной': 10.562791407761692,\n",
              " '6000': 10.562791407761692,\n",
              " 'шляпа': 10.562791407761692,\n",
              " 'норка': 10.157326299653528,\n",
              " 'щипаннный': 10.562791407761692,\n",
              " '57': 10.562791407761692,\n",
              " 'босоножка': 10.562791407761692,\n",
              " 'massimo': 10.562791407761692,\n",
              " 'dutti': 10.562791407761692,\n",
              " 'басоножка': 10.562791407761692,\n",
              " 'кожаный': 10.562791407761692,\n",
              " 'стильненькиесексуальный': 10.562791407761692,\n",
              " 'оригинально': 10.562791407761692,\n",
              " 'бу3839рра': 10.562791407761692,\n",
              " 'поясной': 9.176497046641801,\n",
              " 'якорь': 10.562791407761692,\n",
              " 'кнорра': 10.562791407761692,\n",
              " 'оксфорд': 10.562791407761692,\n",
              " '600': 10.562791407761692,\n",
              " 'pvc': 10.562791407761692,\n",
              " 'искусственный': 10.562791407761692,\n",
              " 'дно': 10.157326299653528,\n",
              " 'выполнить': 10.562791407761692,\n",
              " 'основный': 10.562791407761692,\n",
              " 'отделение': 10.562791407761692,\n",
              " 'бегунок': 10.562791407761692,\n",
              " 'основное': 10.157326299653528,\n",
              " 'плоский': 9.869644227201746,\n",
              " 'мелочь': 10.562791407761692,\n",
              " 'второе': 10.562791407761692,\n",
              " 'паспорт': 8.260206314767647,\n",
              " 'спокойно': 10.562791407761692,\n",
              " 'поместиться': 10.562791407761692,\n",
              " 'подкладка': 10.562791407761692,\n",
              " 'водонепроницаемый': 10.562791407761692,\n",
              " 'корпус': 10.562791407761692,\n",
              " 'ремешок': 10.562791407761692,\n",
              " 'золотой': 10.562791407761692,\n",
              " 'dolce': 10.562791407761692,\n",
              " 'vita': 10.562791407761692,\n",
              " 'весна': 6.343283702585586,\n",
              " 'прохладный': 7.672419649865527,\n",
              " '6268': 7.8886427583351635,\n",
              " 'беж': 10.157326299653528,\n",
              " 'oasis': 10.562791407761692,\n",
              " 'отл': 10.562791407761692,\n",
              " 'сост': 9.646500675887538,\n",
              " 'длинаширинарукать': 10.562791407761692,\n",
              " '654560': 10.562791407761692,\n",
              " 'ездить': 10.562791407761692,\n",
              " 'проблема': 10.157326299653528,\n",
              " 'встретиться': 10.562791407761692,\n",
              " 'часть': 10.562791407761692,\n",
              " 'город': 10.562791407761692,\n",
              " 'путь': 9.869644227201746,\n",
              " 'вельвет': 10.562791407761692,\n",
              " 'orby': 10.562791407761692,\n",
              " 'полный': 10.157326299653528,\n",
              " '74': 9.869644227201746,\n",
              " 'кофточка': 8.547888387219427,\n",
              " 'кроватка': 10.562791407761692,\n",
              " 'постельный': 10.562791407761692,\n",
              " 'новорождённый': 10.562791407761692,\n",
              " 'ткань': 10.562791407761692,\n",
              " 'поплин': 9.464179119093583,\n",
              " 'розничный': 10.562791407761692,\n",
              " 'пододеяльник': 10.562791407761692,\n",
              " '112148': 10.562791407761692,\n",
              " 'простыня': 10.562791407761692,\n",
              " '100150': 10.157326299653528,\n",
              " 'наволочка': 7.128804203276546,\n",
              " '4060': 7.923734078146434,\n",
              " 'ангелочек': 10.562791407761692,\n",
              " 'расцветка': 10.157326299653528,\n",
              " 'осеньвесна': 10.562791407761692,\n",
              " '42': 10.562791407761692,\n",
              " 'срочноторгодевать': 10.562791407761692,\n",
              " 'развый': 10.562791407761692,\n",
              " 'ретро': 10.562791407761692,\n",
              " 'свердловский': 9.646500675887538,\n",
              " 'обувной': 9.869644227201746,\n",
              " 'фабрика': 10.562791407761692,\n",
              " 'уралобувь': 7.672419649865527,\n",
              " 'куртка': 9.869644227201746,\n",
              " 'acasta': 10.562791407761692,\n",
              " 'испания': 10.157326299653528,\n",
              " 'снежный': 10.562791407761692,\n",
              " 'королева': 10.157326299653528,\n",
              " 'тёмнозелёный': 9.464179119093583,\n",
              " 'бридж': 9.176497046641801,\n",
              " 'штджинса': 10.562791407761692,\n",
              " '200': 9.869644227201746,\n",
              " 'рубразмер': 10.562791407761692,\n",
              " '48ный': 10.562791407761692,\n",
              " 'мерить': 10.562791407761692,\n",
              " 'сзрон': 10.562791407761692,\n",
              " 'фокусать': 10.157326299653528,\n",
              " 'трикотажный': 10.562791407761692,\n",
              " 'молочнобелый': 10.562791407761692,\n",
              " 'российский': 10.562791407761692,\n",
              " 'состав': 10.562791407761692,\n",
              " 'смфото': 9.646500675887538,\n",
              " 'коврик': 10.562791407761692,\n",
              " 'городской': 10.562791407761692,\n",
              " 'дорога': 10.562791407761692,\n",
              " '200х160см': 10.562791407761692,\n",
              " 'толщина': 10.562791407761692,\n",
              " '05': 10.562791407761692,\n",
              " '1600': 10.157326299653528,\n",
              " 'односторонний': 10.562791407761692,\n",
              " 'отлично': 10.562791407761692,\n",
              " 'увлекательный': 10.562791407761692,\n",
              " 'игра': 10.562791407761692,\n",
              " 'улица': 10.157326299653528,\n",
              " 'понравиться': 10.562791407761692,\n",
              " 'любитель': 10.562791407761692,\n",
              " 'транспортный': 8.311499609155197,\n",
              " 'средство': 10.562791407761692,\n",
              " 'непромокаемый': 10.562791407761692,\n",
              " 'изготовить': 10.562791407761692,\n",
              " 'безопасный': 10.562791407761692,\n",
              " 'изолятор': 6.419656681370159,\n",
              " 'тепло': 6.601978238164114,\n",
              " 'твёрдый': 8.164896134963321,\n",
              " 'шов': 10.562791407761692,\n",
              " 'обратный': 10.562791407761692,\n",
              " 'сторона': 10.562791407761692,\n",
              " 'фольгировать': 10.157326299653528,\n",
              " 'пункт': 10.562791407761692,\n",
              " 'группа': 10.562791407761692,\n",
              " 'вк': 10.562791407761692,\n",
              " 'запрос': 10.157326299653528,\n",
              " 'колумбия': 10.562791407761692,\n",
              " 'энерджи': 10.562791407761692,\n",
              " 'диета': 8.365566830425472,\n",
              " 'ассорти': 10.562791407761692,\n",
              " 'коктейль': 10.562791407761692,\n",
              " 'дынялаттеягодный': 9.869644227201746,\n",
              " 'миксшоколадный': 10.562791407761692,\n",
              " 'мусслимонный': 9.646500675887538,\n",
              " 'печение': 10.562791407761692,\n",
              " 'умный': 10.562791407761692,\n",
              " 'еда': 10.562791407761692,\n",
              " 'прекрасный': 10.562791407761692,\n",
              " 'альтернатива': 10.562791407761692,\n",
              " 'перекус': 10.562791407761692,\n",
              " 'техкто': 10.562791407761692,\n",
              " 'похудетьразводиться': 10.562791407761692,\n",
              " 'молоко': 10.562791407761692,\n",
              " 'правда': 10.562791407761692,\n",
              " 'вкусно': 10.562791407761692,\n",
              " 'вариант': 9.464179119093583,\n",
              " 'сладкогомня': 10.562791407761692,\n",
              " 'сладко': 10.562791407761692,\n",
              " 'оказалосьнадо': 10.562791407761692,\n",
              " 'выбрать': 10.562791407761692,\n",
              " 'вкус': 10.562791407761692,\n",
              " '15': 10.562791407761692,\n",
              " 'саша': 10.562791407761692,\n",
              " 'грамм': 10.562791407761692,\n",
              " '9покупать': 9.869644227201746,\n",
              " '2050': 10.562791407761692,\n",
              " 'сайт': 10.562791407761692,\n",
              " 'nl': 9.869644227201746,\n",
              " 'нарядный': 10.562791407761692,\n",
              " 'шлейф': 10.562791407761692,\n",
              " 'вязаный': 10.562791407761692,\n",
              " '62': 9.646500675887538,\n",
              " 'забирать': 10.562791407761692,\n",
              " 'район': 10.562791407761692,\n",
              " 'просечь': 9.310028439266324,\n",
              " 'солнечный': 10.157326299653528,\n",
              " 'дышать': 9.646500675887538,\n",
              " 'демисезонный': 10.562791407761692,\n",
              " '1214': 10.562791407761692,\n",
              " 'темносиний': 10.562791407761692,\n",
              " 'рваный': 7.645020675677413,\n",
              " 'исправный': 10.562791407761692,\n",
              " 'резинка': 10.562791407761692,\n",
              " '65': 10.157326299653528,\n",
              " '67': 10.157326299653528,\n",
              " '45': 10.562791407761692,\n",
              " 'эльза': 10.562791407761692,\n",
              " 'ножка': 10.562791407761692,\n",
              " '2122': 9.646500675887538,\n",
              " 'мокасин': 10.562791407761692,\n",
              " '22размер': 10.157326299653528,\n",
              " 'выйти': 10.562791407761692,\n",
              " 'прошлый': 7.097055504961966,\n",
              " 'осеньюмалыстелька': 10.562791407761692,\n",
              " '135смматериал': 10.562791407761692,\n",
              " 'стелькинатуральный': 7.8886427583351635,\n",
              " 'осень': 10.562791407761692,\n",
              " 'утеплить': 10.562791407761692,\n",
              " 'байка': 10.562791407761692,\n",
              " 'fila': 10.562791407761692,\n",
              " '146': 10.562791407761692,\n",
              " 'пластмассовый': 10.157326299653528,\n",
              " 'шарик': 10.562791407761692,\n",
              " 'шаров': 10.562791407761692,\n",
              " '2030': 10.562791407761692,\n",
              " 'лежать': 10.562791407761692,\n",
              " 'надувной': 10.562791407761692,\n",
              " 'машинка': 10.562791407761692,\n",
              " 'облизывать': 10.562791407761692,\n",
              " 'слюни': 10.562791407761692,\n",
              " 'пускать': 10.157326299653528,\n",
              " 'кардиган': 9.869644227201746,\n",
              " 'слегка': 10.562791407761692,\n",
              " 'пушистый': 10.562791407761692,\n",
              " 'выше': 10.562791407761692,\n",
              " '162': 9.464179119093583,\n",
              " 'подчёркивать': 10.562791407761692,\n",
              " 'фигура': 9.869644227201746,\n",
              " 'мероприятие': 9.310028439266324,\n",
              " '18': 10.562791407761692,\n",
              " 'котофей': 10.562791407761692,\n",
              " 'новыеносить': 10.562791407761692,\n",
              " 'раздлить': 10.562791407761692,\n",
              " 'ветровка': 10.562791407761692,\n",
              " '128': 10.562791407761692,\n",
              " 'изящный': 10.562791407761692,\n",
              " 'плотный': 10.562791407761692,\n",
              " 'сидеть': 10.157326299653528,\n",
              " 'покупаться': 8.483349866081856,\n",
              " 'фирменный': 10.562791407761692,\n",
              " 'бутик': 10.562791407761692,\n",
              " 'bershka': 10.562791407761692,\n",
              " 'должный': 10.562791407761692,\n",
              " 'гардероб': 10.562791407761692,\n",
              " '5662': 10.157326299653528,\n",
              " 'sun': 5.599946777501785,\n",
              " 'city': 6.057441557055812,\n",
              " 'застёжка': 6.650768402333546,\n",
              " 'оперативно': 8.422725244265422,\n",
              " 'ответить': 10.562791407761692,\n",
              " 'книга': 10.562791407761692,\n",
              " 'трафарет': 10.562791407761692,\n",
              " 'собственный': 10.562791407761692,\n",
              " 'картина': 10.562791407761692,\n",
              " 'кошкасобачкапетушоклошадка': 10.562791407761692,\n",
              " 'коровамедведьзайкаслоникобезьянатигр': 10.562791407761692,\n",
              " 'рыбка': 10.562791407761692,\n",
              " 'new': 10.562791407761692,\n",
              " 'balance': 8.365566830425472,\n",
              " '520': 10.562791407761692,\n",
              " 'wl520cb': 9.058714010985419,\n",
              " '85us': 10.562791407761692,\n",
              " '255': 10.562791407761692,\n",
              " 'текстиль': 10.562791407761692,\n",
              " 'волк': 10.562791407761692,\n",
              " 'утренник': 9.464179119093583,\n",
              " 'тёмносиний': 10.562791407761692,\n",
              " 'насыщенный': 10.562791407761692,\n",
              " 'коттонстрейч': 9.869644227201746,\n",
              " 'швовзолотой': 10.562791407761692,\n",
              " '27': 10.157326299653528,\n",
              " 'окружность': 10.562791407761692,\n",
              " 'талия': 10.562791407761692,\n",
              " '76см': 10.562791407761692,\n",
              " 'штанина': 10.562791407761692,\n",
              " '101см': 10.562791407761692,\n",
              " 'диаметр': 10.562791407761692,\n",
              " 'вдоль': 10.562791407761692,\n",
              " '34см': 10.562791407761692,\n",
              " '150руб': 7.248605403089167,\n",
              " 'игрушкаповторюшка': 10.562791407761692,\n",
              " 'двигаться': 10.562791407761692,\n",
              " 'повторять': 10.562791407761692,\n",
              " 'слово': 10.562791407761692,\n",
              " 'пальчиковый': 10.562791407761692,\n",
              " 'батарейка': 10.562791407761692,\n",
              " 'philipp': 10.562791407761692,\n",
              " 'plainnorthland': 10.562791407761692,\n",
              " 'идти': 10.562791407761692,\n",
              " 'smотличный': 8.690989230860101,\n",
              " 'клатч': 10.157326299653528,\n",
              " 'ремень': 10.562791407761692,\n",
              " '21111': 10.562791407761692,\n",
              " 'отдел': 9.464179119093583,\n",
              " 'заходить': 10.562791407761692,\n",
              " 'жакет': 10.562791407761692,\n",
              " '52': 10.562791407761692,\n",
              " 'плетение': 10.157326299653528,\n",
              " 'лошадка': 10.562791407761692,\n",
              " 'делать': 10.562791407761692,\n",
              " 'грива': 10.562791407761692,\n",
              " 'хвостик': 9.869644227201746,\n",
              " 'резиночка': 10.562791407761692,\n",
              " 'песок': 6.861489433649199,\n",
              " 'кинетический': 10.157326299653528,\n",
              " 'космический': 10.157326299653528,\n",
              " '490': 10.562791407761692,\n",
              " 'кг': 10.562791407761692,\n",
              " 'крестик': 8.616881258706378,\n",
              " 'нолик': 10.562791407761692,\n",
              " 'друг': 10.562791407761692,\n",
              " 'утюг': 10.562791407761692,\n",
              " '14': 10.562791407761692,\n",
              " 'верх': 10.562791407761692,\n",
              " 'бантикиутерять': 10.562791407761692,\n",
              " 'дефект': 10.562791407761692,\n",
              " 'мешокконверт': 9.176497046641801,\n",
              " 'конвертмешок': 10.562791407761692,\n",
              " 'центр': 9.310028439266324,\n",
              " 'турникет': 10.562791407761692,\n",
              " 'крылатский': 10.562791407761692,\n",
              " 'коричневый': 10.562791407761692,\n",
              " 'двубортный': 10.562791407761692,\n",
              " '3435': 9.176497046641801,\n",
              " 'отделать': 10.562791407761692,\n",
              " 'бисер': 10.157326299653528,\n",
              " 'свадьба': 9.310028439266324,\n",
              " 'шерстяной': 10.562791407761692,\n",
              " 'ручной': 10.562791407761692,\n",
              " 'работыиз': 10.562791407761692,\n",
              " 'настоящий': 10.562791407761692,\n",
              " 'овечий': 10.562791407761692,\n",
              " 'шерсть': 9.646500675887538,\n",
              " 'прясть': 10.562791407761692,\n",
              " 'электропрялка': 8.164896134963321,\n",
              " 'толстый': 9.869644227201746,\n",
              " 'связать': 10.562791407761692,\n",
              " 'ролик': 10.562791407761692,\n",
              " 'concord': 10.562791407761692,\n",
              " 'германия': 10.562791407761692,\n",
              " 'роликовый': 10.562791407761692,\n",
              " 'конёк': 10.562791407761692,\n",
              " 'крепкий': 10.562791407761692,\n",
              " 'крепление': 10.562791407761692,\n",
              " 'рабочий': 8.858043315523268,\n",
              " 'начинающий': 10.562791407761692,\n",
              " 'крага': 9.058714010985419,\n",
              " 'сварочный': 10.562791407761692,\n",
              " '300перчатка': 9.869644227201746,\n",
              " 'перчатка': 10.562791407761692,\n",
              " 'качественно': 10.562791407761692,\n",
              " 'зделаноессабтолстый': 10.562791407761692,\n",
              " 'спилка': 9.646500675887538,\n",
              " 'подшлемник': 10.562791407761692,\n",
              " '700фартук1000': 10.562791407761692,\n",
              " 'синтепон': 7.471748954403377,\n",
              " 'calipso': 10.562791407761692,\n",
              " 'материалзамша': 10.562791407761692,\n",
              " 'тоненький': 8.858043315523268,\n",
              " 'подъём': 10.562791407761692,\n",
              " 'велюровый': 10.562791407761692,\n",
              " 'carters': 10.562791407761692,\n",
              " 'месмн': 10.562791407761692,\n",
              " 'маломерка': 10.562791407761692,\n",
              " 'чистый': 10.562791407761692,\n",
              " 'пятно': 10.562791407761692,\n",
              " 'кооссовка': 10.562791407761692,\n",
              " '24': 10.562791407761692,\n",
              " 'розовый': 10.562791407761692,\n",
              " 'улицытонкий': 10.562791407761692,\n",
              " 'флис': 10.562791407761692,\n",
              " '65см': 10.562791407761692,\n",
              " '55см': 9.869644227201746,\n",
              " '35год': 10.157326299653528,\n",
              " 'конструктор': 10.562791407761692,\n",
              " 'информация': 10.562791407761692,\n",
              " 'телефон': 10.562791407761692,\n",
              " 'успеть': 10.157326299653528,\n",
              " 'атлас': 10.157326299653528,\n",
              " 'голубой': 10.562791407761692,\n",
              " 'палантин': 9.310028439266324,\n",
              " 'оптом': 10.562791407761692,\n",
              " 'снеговик': 10.562791407761692,\n",
              " 'снеговикарр116': 10.562791407761692,\n",
              " '152': 9.869644227201746,\n",
              " 'плащпальто': 10.562791407761692,\n",
              " '98104': 10.157326299653528,\n",
              " 'пальтишко': 10.562791407761692,\n",
              " 'аккуратно': 10.562791407761692,\n",
              " 'сшить': 10.562791407761692,\n",
              " 'шапочка': 10.562791407761692,\n",
              " ...}"
            ]
          },
          "execution_count": 33,
          "metadata": {},
          "output_type": "execute_result"
        }
      ],
      "source": [
        "idfs = {v[0]: v[1] for v in zip(tfidf_vect.vocabulary_, tfidf_vect.idf_)}\n",
        "idfs"
      ]
    },
    {
      "cell_type": "code",
      "execution_count": null,
      "metadata": {
        "id": "jM7rx0EnMrpV",
        "outputId": "0973e620-5c3d-4843-972e-7960b5a5c2a6",
        "colab": {
          "referenced_widgets": [
            "d7e53fbde1d94a70986a791806f22e9c"
          ]
        }
      },
      "outputs": [
        {
          "name": "stderr",
          "output_type": "stream",
          "text": [
            "/var/folders/g_/9v3q8zfn4dj84j48wgjpsd7c0000gn/T/ipykernel_33158/3283345512.py:8: TqdmDeprecationWarning: This function will be removed in tqdm==5.0.0\n",
            "Please use `tqdm.notebook.tqdm` instead of `tqdm.tqdm_notebook`\n",
            "  for i in tqdm_notebook(range(len(shop_data))):\n"
          ]
        },
        {
          "data": {
            "application/vnd.jupyter.widget-view+json": {
              "model_id": "d7e53fbde1d94a70986a791806f22e9c",
              "version_major": 2,
              "version_minor": 0
            },
            "text/plain": [
              "  0%|          | 0/35548 [00:00<?, ?it/s]"
            ]
          },
          "metadata": {},
          "output_type": "display_data"
        },
        {
          "data": {
            "text/plain": [
              "True"
            ]
          },
          "execution_count": 34,
          "metadata": {},
          "output_type": "execute_result"
        }
      ],
      "source": [
        "ft_index_shop = annoy.AnnoyIndex(100 ,'angular')\n",
        "\n",
        "midf = np.mean(tfidf_vect.idf_)\n",
        "\n",
        "index_map_shop = {}\n",
        "counter = 0\n",
        "\n",
        "for i in tqdm_notebook(range(len(shop_data))):\n",
        "    n_ft = 0\n",
        "    index_map_shop[counter] = (shop_data.loc[i, \"title\"], shop_data.loc[i, \"image_links\"])\n",
        "    vector_ft = np.zeros(100)\n",
        "    for word in shop_data.loc[i, \"text\"]:\n",
        "        if word in modelFT.wv:\n",
        "            vector_ft += modelFT.wv[word] * 1 # idfs.get(word, midf)\n",
        "            n_ft += 1 # idfs.get(word, midf)\n",
        "    if n_ft > 0:\n",
        "        vector_ft = vector_ft / n_ft\n",
        "    ft_index_shop.add_item(counter, vector_ft)\n",
        "    counter += 1\n",
        "\n",
        "ft_index_shop.build(10)\n",
        "ft_index_shop.save('shop.ann')"
      ]
    },
    {
      "cell_type": "code",
      "execution_count": null,
      "metadata": {
        "id": "v6sqU9UFMrpV"
      },
      "outputs": [],
      "source": [
        "ft_index_shop = annoy.AnnoyIndex(100, 'angular')\n",
        "ft_index_shop.load('shop.ann')\n",
        "\n",
        "midf = np.mean(tfidf_vect.idf_)"
      ]
    },
    {
      "cell_type": "code",
      "execution_count": null,
      "metadata": {
        "id": "PMYTrzBxMrpV"
      },
      "outputs": [],
      "source": [
        "assert True\n",
        "import pickle\n",
        "\n",
        "with open(\"index_shop.pkl\", \"wb\") as f:\n",
        "    pickle.dump(index_map, f)"
      ]
    },
    {
      "cell_type": "code",
      "execution_count": null,
      "metadata": {
        "id": "ge-PER_oMrpV",
        "outputId": "b28abea3-eff6-48ec-9c77-3caa63627999"
      },
      "outputs": [
        {
          "data": {
            "text/plain": [
              "True"
            ]
          },
          "execution_count": 37,
          "metadata": {},
          "output_type": "execute_result"
        }
      ],
      "source": [
        "'бегать' in modelFT.wv"
      ]
    },
    {
      "cell_type": "code",
      "execution_count": null,
      "metadata": {
        "id": "LQoxysDRMrpV"
      },
      "outputs": [],
      "source": [
        "def embed_txt(txt, idfs, midf):\n",
        "    n_ft = 0\n",
        "    vector_ft = np.zeros(100)\n",
        "    for word in txt:\n",
        "        if word in modelFT.wv:\n",
        "            vector_ft += modelFT.wv[word] * 1 # idfs.get(word, midf)\n",
        "            n_ft += 1 # idfs.get(word, midf)\n",
        "    return vector_ft / n_ft"
      ]
    },
    {
      "cell_type": "code",
      "execution_count": null,
      "metadata": {
        "id": "g-_vsuRCMrpV",
        "outputId": "7cbea724-796e-4288-9bed-cf11119ae033"
      },
      "outputs": [
        {
          "data": {
            "text/plain": [
              "([315, 730, 761, 2624, 2681],\n",
              " [1.4142135381698608,\n",
              "  1.4142135381698608,\n",
              "  1.4142135381698608,\n",
              "  1.4142135381698608,\n",
              "  1.4142135381698608])"
            ]
          },
          "execution_count": 39,
          "metadata": {},
          "output_type": "execute_result"
        }
      ],
      "source": [
        "ft_index_shop.get_nns_by_vector(np.zeros(100), 5, include_distances=True)"
      ]
    },
    {
      "cell_type": "code",
      "execution_count": null,
      "metadata": {
        "id": "1Jwm-5ASMrpW"
      },
      "outputs": [],
      "source": [
        "import os\n",
        "import logging\n",
        "from telegram import Update\n",
        "from telegram.ext import Updater, CommandHandler, MessageHandler, Filters, CallbackContext"
      ]
    },
    {
      "cell_type": "code",
      "execution_count": null,
      "metadata": {
        "id": "rcLwUcFcMrpW"
      },
      "outputs": [],
      "source": [
        "updater = Updater(\"6094279951:AAH19NaLLeiCO0CfIBwFSKOXUOGkAQAkQo0\", use_context=True)  # Токен API к Telegram\n",
        "dispatcher = updater.dispatcher"
      ]
    },
    {
      "cell_type": "code",
      "execution_count": null,
      "metadata": {
        "id": "LvgeAxz-MrpW"
      },
      "outputs": [],
      "source": [
        "def startCommand(update: Update, context: CallbackContext):\n",
        "    update.message.reply_text('Добрый день!')\n",
        "\n",
        "def textMessage(update: Update, context: CallbackContext):\n",
        "    input_txt = preprocess_txt(update.message.text)\n",
        "    vect = vectorizer.transform([\" \".join(input_txt)])\n",
        "    prediction = lr.predict(vect)\n",
        "\n",
        "    if prediction[0] == 1:\n",
        "        vect_ft = embed_txt(input_txt, idfs, midf)\n",
        "        ft_index_shop_val = ft_index_shop.get_nns_by_vector(vect_ft, 5)\n",
        "        for item in ft_index_shop_val:\n",
        "            title, image = index_map_shop[item]\n",
        "            update.message.reply_text(\"title: {} image: {}\".format(title, image))\n",
        "            # bot.send_message(chat_id=update.message.chat_id, text=\"title: {} image: {}\".format(title, image))\n",
        "        return\n",
        "    vect_ft = embed_txt(input_txt, {}, 1)\n",
        "    ft_index_val, distances = ft_index.get_nns_by_vector(vect_ft, 1, include_distances=True)\n",
        "    if distances[0] > 0.35:\n",
        "        print(distances[0])\n",
        "        update.message.reply_text(\"Моя твоя не понимать\")\n",
        "        return\n",
        "    update.message.reply_text(index_map[ft_index_val[0]])"
      ]
    },
    {
      "cell_type": "code",
      "execution_count": null,
      "metadata": {
        "id": "Cz3-fnNiMrpW"
      },
      "outputs": [],
      "source": [
        "# on different commands - answer in Telegram\n",
        "dispatcher.add_handler(CommandHandler(\"start\", startCommand))\n",
        "dispatcher.add_handler(MessageHandler(Filters.text & ~Filters.command, textMessage))\n",
        "\n",
        "# Start the Bot\n",
        "updater.start_polling()\n",
        "updater.idle()"
      ]
    },
    {
      "cell_type": "code",
      "execution_count": null,
      "metadata": {
        "id": "bQbKcSsuMrpW"
      },
      "outputs": [],
      "source": []
    },
    {
      "cell_type": "code",
      "execution_count": null,
      "metadata": {
        "id": "LoF224geMrpW"
      },
      "outputs": [],
      "source": []
    },
    {
      "cell_type": "code",
      "execution_count": null,
      "metadata": {
        "id": "gq4VTcAJMrpW"
      },
      "outputs": [],
      "source": []
    }
  ],
  "metadata": {
    "kernelspec": {
      "display_name": "Python 3 (ipykernel)",
      "language": "python",
      "name": "python3"
    },
    "language_info": {
      "codemirror_mode": {
        "name": "ipython",
        "version": 3
      },
      "file_extension": ".py",
      "mimetype": "text/x-python",
      "name": "python",
      "nbconvert_exporter": "python",
      "pygments_lexer": "ipython3",
      "version": "3.10.10"
    },
    "colab": {
      "provenance": [],
      "include_colab_link": true
    }
  },
  "nbformat": 4,
  "nbformat_minor": 0
}